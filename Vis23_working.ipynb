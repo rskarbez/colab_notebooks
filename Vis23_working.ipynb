{
  "nbformat": 4,
  "nbformat_minor": 0,
  "metadata": {
    "colab": {
      "provenance": [],
      "authorship_tag": "ABX9TyPfizqhIy6sb69L+q9XcmYa",
      "include_colab_link": true
    },
    "kernelspec": {
      "name": "python3",
      "display_name": "Python 3"
    },
    "language_info": {
      "name": "python"
    }
  },
  "cells": [
    {
      "cell_type": "markdown",
      "metadata": {
        "id": "view-in-github",
        "colab_type": "text"
      },
      "source": [
        "<a href=\"https://colab.research.google.com/github/rskarbez/colab_notebooks/blob/main/Vis23_working.ipynb\" target=\"_parent\"><img src=\"https://colab.research.google.com/assets/colab-badge.svg\" alt=\"Open In Colab\"/></a>"
      ]
    },
    {
      "cell_type": "code",
      "execution_count": 1,
      "metadata": {
        "colab": {
          "base_uri": "https://localhost:8080/"
        },
        "id": "HlNVPZqDcHNH",
        "outputId": "19f9f4c2-7145-44c1-ac2a-9f2f3e203819"
      },
      "outputs": [
        {
          "output_type": "stream",
          "name": "stdout",
          "text": [
            "--2022-10-11 05:08:17--  http://fryziggafl.net/static/fryziggafl.zip\n",
            "Resolving fryziggafl.net (fryziggafl.net)... 162.255.119.230\n",
            "Connecting to fryziggafl.net (fryziggafl.net)|162.255.119.230|:80... connected.\n",
            "HTTP request sent, awaiting response... 302 Found\n",
            "Location: http://www.fryziggafl.net/static/fryziggafl.zip [following]\n",
            "--2022-10-11 05:08:17--  http://www.fryziggafl.net/static/fryziggafl.zip\n",
            "Resolving www.fryziggafl.net (www.fryziggafl.net)... 35.173.69.207\n",
            "Connecting to www.fryziggafl.net (www.fryziggafl.net)|35.173.69.207|:80... connected.\n",
            "HTTP request sent, awaiting response... 200 OK\n",
            "Length: 21454369 (20M) [application/zip]\n",
            "Saving to: ‘fryziggafl.zip’\n",
            "\n",
            "fryziggafl.zip      100%[===================>]  20.46M  68.8MB/s    in 0.3s    \n",
            "\n",
            "2022-10-11 05:08:18 (68.8 MB/s) - ‘fryziggafl.zip’ saved [21454369/21454369]\n",
            "\n"
          ]
        },
        {
          "output_type": "stream",
          "name": "stderr",
          "text": [
            "/usr/local/lib/python3.7/dist-packages/IPython/core/interactiveshell.py:3326: DtypeWarning: Columns (8,18,24,79,80) have mixed types.Specify dtype option on import or set low_memory=False.\n",
            "  exec(code_obj, self.user_global_ns, self.user_ns)\n"
          ]
        }
      ],
      "source": [
        "# Relevant imports\n",
        "import shutil\n",
        "import seaborn as sns\n",
        "import pandas as pd\n",
        "import numpy as np\n",
        "\n",
        "# Download and extract the .csv file\n",
        "!wget http://fryziggafl.net/static/fryziggafl.zip\n",
        "shutil.unpack_archive('fryziggafl.zip')\n",
        "\n",
        "# Load the .csv file into a pandas dataframe named afl\n",
        "afl = pd.read_csv('fryziggafl.csv')\n",
        "\n",
        "# Filter to just use matches post 2000, because there is A LOT of data\n",
        "# You can adjust this to use even less of the data while you are \n",
        "#   prototyping\n",
        "afl_post_2000 = afl[(afl['match_date'] > '2000-01-01')]\n"
      ]
    },
    {
      "cell_type": "code",
      "source": [
        "afl['score_difference'] = afl['match_home_team_score'] - afl['match_away_team_score']\n",
        "afl['result'] = np.sign(afl['score_difference'])"
      ],
      "metadata": {
        "id": "VSeRGpA2cjkb"
      },
      "execution_count": 7,
      "outputs": []
    },
    {
      "cell_type": "code",
      "source": [
        "import seaborn as sns"
      ],
      "metadata": {
        "id": "zr44inEAc7e6"
      },
      "execution_count": 3,
      "outputs": []
    },
    {
      "cell_type": "code",
      "source": [
        "sns.displot(afl, x='result')"
      ],
      "metadata": {
        "colab": {
          "base_uri": "https://localhost:8080/",
          "height": 386
        },
        "id": "VK_D4j5zdCZ3",
        "outputId": "c36337b4-b3f0-4b51-a71d-0ae50f9b339f"
      },
      "execution_count": 8,
      "outputs": [
        {
          "output_type": "execute_result",
          "data": {
            "text/plain": [
              "<seaborn.axisgrid.FacetGrid at 0x7f33cc58e4d0>"
            ]
          },
          "metadata": {},
          "execution_count": 8
        },
        {
          "output_type": "display_data",
          "data": {
            "text/plain": [
              "<Figure size 360x360 with 1 Axes>"
            ],
            "image/png": "[encoded data removed]"
          },
          "metadata": {
            "needs_background": "light"
          }
        }
      ]
    },
    {
      "cell_type": "code",
      "source": [
        "afl['year'] = pd.DatetimeIndex(afl['match_date']).year"
      ],
      "metadata": {
        "id": "gkiTVXMehh6K"
      },
      "execution_count": 12,
      "outputs": []
    },
    {
      "cell_type": "code",
      "source": [
        "afl.head()"
      ],
      "metadata": {
        "colab": {
          "base_uri": "https://localhost:8080/",
          "height": 404
        },
        "id": "h1VjvV-WhuE2",
        "outputId": "b38a0978-ae64-4676-bdbb-03e57a3f8a45"
      },
      "execution_count": 15,
      "outputs": [
        {
          "output_type": "execute_result",
          "data": {
            "text/plain": [
              "   Unnamed: 0    venue_name  match_id match_home_team match_away_team  \\\n",
              "0           1  Brunswick St         1         Fitzroy         Carlton   \n",
              "1           2  Brunswick St         1         Fitzroy         Carlton   \n",
              "2           3  Brunswick St         1         Fitzroy         Carlton   \n",
              "3           4  Brunswick St         1         Fitzroy         Carlton   \n",
              "4           5  Brunswick St         1         Fitzroy         Carlton   \n",
              "\n",
              "   match_date match_local_time  match_attendance match_round  \\\n",
              "0  1897-05-08         15:00:00              3000           1   \n",
              "1  1897-05-08         15:00:00              3000           1   \n",
              "2  1897-05-08         15:00:00              3000           1   \n",
              "3  1897-05-08         15:00:00              3000           1   \n",
              "4  1897-05-08         15:00:00              3000           1   \n",
              "\n",
              "   match_home_team_goals  ...  rating_points  ruck_contests  score_launches  \\\n",
              "0                      6  ...            NaN            NaN             NaN   \n",
              "1                      6  ...            NaN            NaN             NaN   \n",
              "2                      6  ...            NaN            NaN             NaN   \n",
              "3                      6  ...            NaN            NaN             NaN   \n",
              "4                      6  ...            NaN            NaN             NaN   \n",
              "\n",
              "   shots_at_goal  spoils      subbed player_position  score_difference result  \\\n",
              "0            NaN     NaN  Not Subbed             NaN                33      1   \n",
              "1            NaN     NaN  Not Subbed             NaN                33      1   \n",
              "2            NaN     NaN  Not Subbed             NaN                33      1   \n",
              "3            NaN     NaN  Not Subbed             NaN                33      1   \n",
              "4            NaN     NaN  Not Subbed             NaN                33      1   \n",
              "\n",
              "   year  \n",
              "0  1897  \n",
              "1  1897  \n",
              "2  1897  \n",
              "3  1897  \n",
              "4  1897  \n",
              "\n",
              "[5 rows x 84 columns]"
            ],
            "text/html": [
              "\n",
              "  <div id=\"df-57b19773-5b18-4ad4-87a4-95aa8e34bb26\">\n",
              "    <div class=\"colab-df-container\">\n",
              "      <div>\n",
              "<style scoped>\n",
              "    .dataframe tbody tr th:only-of-type {\n",
              "        vertical-align: middle;\n",
              "    }\n",
              "\n",
              "    .dataframe tbody tr th {\n",
              "        vertical-align: top;\n",
              "    }\n",
              "\n",
              "    .dataframe thead th {\n",
              "        text-align: right;\n",
              "    }\n",
              "</style>\n",
              "<table border=\"1\" class=\"dataframe\">\n",
              "  <thead>\n",
              "    <tr style=\"text-align: right;\">\n",
              "      <th></th>\n",
              "      <th>Unnamed: 0</th>\n",
              "      <th>venue_name</th>\n",
              "      <th>match_id</th>\n",
              "      <th>match_home_team</th>\n",
              "      <th>match_away_team</th>\n",
              "      <th>match_date</th>\n",
              "      <th>match_local_time</th>\n",
              "      <th>match_attendance</th>\n",
              "      <th>match_round</th>\n",
              "      <th>match_home_team_goals</th>\n",
              "      <th>...</th>\n",
              "      <th>rating_points</th>\n",
              "      <th>ruck_contests</th>\n",
              "      <th>score_launches</th>\n",
              "      <th>shots_at_goal</th>\n",
              "      <th>spoils</th>\n",
              "      <th>subbed</th>\n",
              "      <th>player_position</th>\n",
              "      <th>score_difference</th>\n",
              "      <th>result</th>\n",
              "      <th>year</th>\n",
              "    </tr>\n",
              "  </thead>\n",
              "  <tbody>\n",
              "    <tr>\n",
              "      <th>0</th>\n",
              "      <td>1</td>\n",
              "      <td>Brunswick St</td>\n",
              "      <td>1</td>\n",
              "      <td>Fitzroy</td>\n",
              "      <td>Carlton</td>\n",
              "      <td>1897-05-08</td>\n",
              "      <td>15:00:00</td>\n",
              "      <td>3000</td>\n",
              "      <td>1</td>\n",
              "      <td>6</td>\n",
              "      <td>...</td>\n",
              "      <td>NaN</td>\n",
              "      <td>NaN</td>\n",
              "      <td>NaN</td>\n",
              "      <td>NaN</td>\n",
              "      <td>NaN</td>\n",
              "      <td>Not Subbed</td>\n",
              "      <td>NaN</td>\n",
              "      <td>33</td>\n",
              "      <td>1</td>\n",
              "      <td>1897</td>\n",
              "    </tr>\n",
              "    <tr>\n",
              "      <th>1</th>\n",
              "      <td>2</td>\n",
              "      <td>Brunswick St</td>\n",
              "      <td>1</td>\n",
              "      <td>Fitzroy</td>\n",
              "      <td>Carlton</td>\n",
              "      <td>1897-05-08</td>\n",
              "      <td>15:00:00</td>\n",
              "      <td>3000</td>\n",
              "      <td>1</td>\n",
              "      <td>6</td>\n",
              "      <td>...</td>\n",
              "      <td>NaN</td>\n",
              "      <td>NaN</td>\n",
              "      <td>NaN</td>\n",
              "      <td>NaN</td>\n",
              "      <td>NaN</td>\n",
              "      <td>Not Subbed</td>\n",
              "      <td>NaN</td>\n",
              "      <td>33</td>\n",
              "      <td>1</td>\n",
              "      <td>1897</td>\n",
              "    </tr>\n",
              "    <tr>\n",
              "      <th>2</th>\n",
              "      <td>3</td>\n",
              "      <td>Brunswick St</td>\n",
              "      <td>1</td>\n",
              "      <td>Fitzroy</td>\n",
              "      <td>Carlton</td>\n",
              "      <td>1897-05-08</td>\n",
              "      <td>15:00:00</td>\n",
              "      <td>3000</td>\n",
              "      <td>1</td>\n",
              "      <td>6</td>\n",
              "      <td>...</td>\n",
              "      <td>NaN</td>\n",
              "      <td>NaN</td>\n",
              "      <td>NaN</td>\n",
              "      <td>NaN</td>\n",
              "      <td>NaN</td>\n",
              "      <td>Not Subbed</td>\n",
              "      <td>NaN</td>\n",
              "      <td>33</td>\n",
              "      <td>1</td>\n",
              "      <td>1897</td>\n",
              "    </tr>\n",
              "    <tr>\n",
              "      <th>3</th>\n",
              "      <td>4</td>\n",
              "      <td>Brunswick St</td>\n",
              "      <td>1</td>\n",
              "      <td>Fitzroy</td>\n",
              "      <td>Carlton</td>\n",
              "      <td>1897-05-08</td>\n",
              "      <td>15:00:00</td>\n",
              "      <td>3000</td>\n",
              "      <td>1</td>\n",
              "      <td>6</td>\n",
              "      <td>...</td>\n",
              "      <td>NaN</td>\n",
              "      <td>NaN</td>\n",
              "      <td>NaN</td>\n",
              "      <td>NaN</td>\n",
              "      <td>NaN</td>\n",
              "      <td>Not Subbed</td>\n",
              "      <td>NaN</td>\n",
              "      <td>33</td>\n",
              "      <td>1</td>\n",
              "      <td>1897</td>\n",
              "    </tr>\n",
              "    <tr>\n",
              "      <th>4</th>\n",
              "      <td>5</td>\n",
              "      <td>Brunswick St</td>\n",
              "      <td>1</td>\n",
              "      <td>Fitzroy</td>\n",
              "      <td>Carlton</td>\n",
              "      <td>1897-05-08</td>\n",
              "      <td>15:00:00</td>\n",
              "      <td>3000</td>\n",
              "      <td>1</td>\n",
              "      <td>6</td>\n",
              "      <td>...</td>\n",
              "      <td>NaN</td>\n",
              "      <td>NaN</td>\n",
              "      <td>NaN</td>\n",
              "      <td>NaN</td>\n",
              "      <td>NaN</td>\n",
              "      <td>Not Subbed</td>\n",
              "      <td>NaN</td>\n",
              "      <td>33</td>\n",
              "      <td>1</td>\n",
              "      <td>1897</td>\n",
              "    </tr>\n",
              "  </tbody>\n",
              "</table>\n",
              "<p>5 rows × 84 columns</p>\n",
              "</div>\n",
              "      <button class=\"colab-df-convert\" onclick=\"convertToInteractive('df-57b19773-5b18-4ad4-87a4-95aa8e34bb26')\"\n",
              "              title=\"Convert this dataframe to an interactive table.\"\n",
              "              style=\"display:none;\">\n",
              "        \n",
              "  <svg xmlns=\"http://www.w3.org/2000/svg\" height=\"24px\"viewBox=\"0 0 24 24\"\n",
              "       width=\"24px\">\n",
              "    <path d=\"M0 0h24v24H0V0z\" fill=\"none\"/>\n",
              "    <path d=\"M18.56 5.44l.94 2.06.94-2.06 2.06-.94-2.06-.94-.94-2.06-.94 2.06-2.06.94zm-11 1L8.5 8.5l.94-2.06 2.06-.94-2.06-.94L8.5 2.5l-.94 2.06-2.06.94zm10 10l.94 2.06.94-2.06 2.06-.94-2.06-.94-.94-2.06-.94 2.06-2.06.94z\"/><path d=\"M17.41 7.96l-1.37-1.37c-.4-.4-.92-.59-1.43-.59-.52 0-1.04.2-1.43.59L10.3 9.45l-7.72 7.72c-.78.78-.78 2.05 0 2.83L4 21.41c.39.39.9.59 1.41.59.51 0 1.02-.2 1.41-.59l7.78-7.78 2.81-2.81c.8-.78.8-2.07 0-2.86zM5.41 20L4 18.59l7.72-7.72 1.47 1.35L5.41 20z\"/>\n",
              "  </svg>\n",
              "      </button>\n",
              "      \n",
              "  <style>\n",
              "    .colab-df-container {\n",
              "      display:flex;\n",
              "      flex-wrap:wrap;\n",
              "      gap: 12px;\n",
              "    }\n",
              "\n",
              "    .colab-df-convert {\n",
              "      background-color: #E8F0FE;\n",
              "      border: none;\n",
              "      border-radius: 50%;\n",
              "      cursor: pointer;\n",
              "      display: none;\n",
              "      fill: #1967D2;\n",
              "      height: 32px;\n",
              "      padding: 0 0 0 0;\n",
              "      width: 32px;\n",
              "    }\n",
              "\n",
              "    .colab-df-convert:hover {\n",
              "      background-color: #E2EBFA;\n",
              "      box-shadow: 0px 1px 2px rgba(60, 64, 67, 0.3), 0px 1px 3px 1px rgba(60, 64, 67, 0.15);\n",
              "      fill: #174EA6;\n",
              "    }\n",
              "\n",
              "    [theme=dark] .colab-df-convert {\n",
              "      background-color: #3B4455;\n",
              "      fill: #D2E3FC;\n",
              "    }\n",
              "\n",
              "    [theme=dark] .colab-df-convert:hover {\n",
              "      background-color: #434B5C;\n",
              "      box-shadow: 0px 1px 3px 1px rgba(0, 0, 0, 0.15);\n",
              "      filter: drop-shadow(0px 1px 2px rgba(0, 0, 0, 0.3));\n",
              "      fill: #FFFFFF;\n",
              "    }\n",
              "  </style>\n",
              "\n",
              "      <script>\n",
              "        const buttonEl =\n",
              "          document.querySelector('#df-57b19773-5b18-4ad4-87a4-95aa8e34bb26 button.colab-df-convert');\n",
              "        buttonEl.style.display =\n",
              "          google.colab.kernel.accessAllowed ? 'block' : 'none';\n",
              "\n",
              "        async function convertToInteractive(key) {\n",
              "          const element = document.querySelector('#df-57b19773-5b18-4ad4-87a4-95aa8e34bb26');\n",
              "          const dataTable =\n",
              "            await google.colab.kernel.invokeFunction('convertToInteractive',\n",
              "                                                     [key], {});\n",
              "          if (!dataTable) return;\n",
              "\n",
              "          const docLinkHtml = 'Like what you see? Visit the ' +\n",
              "            '<a target=\"_blank\" href=https://colab.research.google.com/notebooks/data_table.ipynb>data table notebook</a>'\n",
              "            + ' to learn more about interactive tables.';\n",
              "          element.innerHTML = '';\n",
              "          dataTable['output_type'] = 'display_data';\n",
              "          await google.colab.output.renderOutput(dataTable, element);\n",
              "          const docLink = document.createElement('div');\n",
              "          docLink.innerHTML = docLinkHtml;\n",
              "          element.appendChild(docLink);\n",
              "        }\n",
              "      </script>\n",
              "    </div>\n",
              "  </div>\n",
              "  "
            ]
          },
          "metadata": {},
          "execution_count": 15
        }
      ]
    },
    {
      "cell_type": "code",
      "source": [
        "sns.relplot(data=afl, x='year', y='match_attendance')"
      ],
      "metadata": {
        "colab": {
          "base_uri": "https://localhost:8080/",
          "height": 386
        },
        "id": "1uANeGjGilM1",
        "outputId": "0cf24550-144c-45ff-d030-8c42cc779fc7"
      },
      "execution_count": 16,
      "outputs": [
        {
          "output_type": "execute_result",
          "data": {
            "text/plain": [
              "<seaborn.axisgrid.FacetGrid at 0x7f33cbee3810>"
            ]
          },
          "metadata": {},
          "execution_count": 16
        },
        {
          "output_type": "display_data",
          "data": {
            "text/plain": [
              "<Figure size 360x360 with 1 Axes>"
            ],
            "image/png": "[encoded data removed]"
          },
          "metadata": {
            "needs_background": "light"
          }
        }
      ]
    }
  ]
}