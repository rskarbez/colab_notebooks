{
  "nbformat": 4,
  "nbformat_minor": 0,
  "metadata": {
    "colab": {
      "provenance": [],
      "authorship_tag": "ABX9TyOuoItQdDiQGpmLg9FrjE1e",
      "include_colab_link": true
    },
    "kernelspec": {
      "name": "python3",
      "display_name": "Python 3"
    },
    "language_info": {
      "name": "python"
    }
  },
  "cells": [
    {
      "cell_type": "markdown",
      "metadata": {
        "id": "view-in-github",
        "colab_type": "text"
      },
      "source": [
        "<a href=\"https://colab.research.google.com/github/rskarbez/colab_notebooks/blob/main/27March2023.ipynb\" target=\"_parent\"><img src=\"https://colab.research.google.com/assets/colab-badge.svg\" alt=\"Open In Colab\"/></a>"
      ]
    },
    {
      "cell_type": "code",
      "execution_count": null,
      "metadata": {
        "id": "Yc9DNqGCrrSy"
      },
      "outputs": [],
      "source": [
        "try:\n",
        "  open_online_resource()\n",
        "except OnlineResourceNotAvailableError as e:\n",
        "  # Runs ONLY if open_online_resource() raises the named exception\n",
        "  print(e)\n",
        "else:\n",
        "  # Runs ONLY if open_online_resource runs successfully\n",
        "  process_online_resource()\n",
        "  save_online_resource()\n",
        "finally:\n",
        "  # Runs ALWAYS\n",
        "  release_online_resource()"
      ]
    },
    {
      "cell_type": "code",
      "source": [
        "import sys"
      ],
      "metadata": {
        "id": "e8OMVZb4zrhH"
      },
      "execution_count": 1,
      "outputs": []
    },
    {
      "cell_type": "code",
      "source": [
        "print(sys.argv)"
      ],
      "metadata": {
        "colab": {
          "base_uri": "https://localhost:8080/"
        },
        "id": "bImnQDnlzx2n",
        "outputId": "7a74ab81-1dd8-4e5c-f2e0-59e2ed9326dc"
      },
      "execution_count": 2,
      "outputs": [
        {
          "output_type": "stream",
          "name": "stdout",
          "text": [
            "['/usr/local/lib/python3.9/dist-packages/ipykernel_launcher.py', '-f', '/root/.local/share/jupyter/runtime/kernel-2a7c1be0-3ff2-4c6f-ab90-ede4b1d0a913.json']\n"
          ]
        }
      ]
    },
    {
      "cell_type": "code",
      "source": [
        "class Animal:\n",
        "  def __init__(self, name, weight, contact_info):\n",
        "    self.name = name\n",
        "    self.weight = weight\n",
        "    self.contact_info = contact_info\n",
        "    self.sound = 'Hello'\n",
        "\n",
        "  def speak(self):\n",
        "    print(self.sound)\n",
        "  \n",
        "  def __str__(self):\n",
        "    return '{}, {} kilos, parent = {}'.format(self.name, self.weight, self.contact_info)"
      ],
      "metadata": {
        "id": "Q9Ie4pJxOZQx"
      },
      "execution_count": 7,
      "outputs": []
    },
    {
      "cell_type": "code",
      "source": [
        "rick = Animal('Rick', 120, ['Laura', 'ADDRESS', 'PHONE', 'EMAIL'])"
      ],
      "metadata": {
        "id": "HMuzjDDQPAK_"
      },
      "execution_count": 9,
      "outputs": []
    },
    {
      "cell_type": "code",
      "source": [
        "rick.speak()"
      ],
      "metadata": {
        "colab": {
          "base_uri": "https://localhost:8080/"
        },
        "id": "naEV-COMPNKG",
        "outputId": "5c92f238-aba4-4d81-fd33-204b089a57e6"
      },
      "execution_count": 5,
      "outputs": [
        {
          "output_type": "stream",
          "name": "stdout",
          "text": [
            "Hello\n"
          ]
        }
      ]
    },
    {
      "cell_type": "code",
      "source": [
        "print(rick)"
      ],
      "metadata": {
        "colab": {
          "base_uri": "https://localhost:8080/"
        },
        "id": "o-u55UeUPQnC",
        "outputId": "0ad760f0-ce02-4870-e76d-f6558b19d6c9"
      },
      "execution_count": 10,
      "outputs": [
        {
          "output_type": "stream",
          "name": "stdout",
          "text": [
            "Rick, 120 kilos, parent = ['Laura', 'ADDRESS', 'PHONE', 'EMAIL']\n"
          ]
        }
      ]
    },
    {
      "cell_type": "code",
      "source": [
        "class Mammal(Animal):\n",
        "  def setSound(self, sound='Grunt'):\n",
        "    self.sound = sound"
      ],
      "metadata": {
        "id": "X4zJK4QfPeXu"
      },
      "execution_count": 11,
      "outputs": []
    },
    {
      "cell_type": "code",
      "source": [
        "jeff = Mammal('Jeff', 84, 'CONTACT_INFO')"
      ],
      "metadata": {
        "id": "leGK6hEPPr7S"
      },
      "execution_count": 12,
      "outputs": []
    },
    {
      "cell_type": "code",
      "source": [
        "jeff.setSound()\n",
        "jeff.speak()"
      ],
      "metadata": {
        "colab": {
          "base_uri": "https://localhost:8080/"
        },
        "id": "Yvvm3Y-7Pz1s",
        "outputId": "8709ca00-769c-4a42-cd78-e41615b8f2a2"
      },
      "execution_count": 13,
      "outputs": [
        {
          "output_type": "stream",
          "name": "stdout",
          "text": [
            "Grunt\n"
          ]
        }
      ]
    },
    {
      "cell_type": "code",
      "source": [
        "rick.setSound()"
      ],
      "metadata": {
        "colab": {
          "base_uri": "https://localhost:8080/",
          "height": 166
        },
        "id": "u25vBjksP34L",
        "outputId": "e46bc376-0e3a-4dd4-ab79-f8b30fdcf795"
      },
      "execution_count": 14,
      "outputs": [
        {
          "output_type": "error",
          "ename": "AttributeError",
          "evalue": "ignored",
          "traceback": [
            "\u001b[0;31m---------------------------------------------------------------------------\u001b[0m",
            "\u001b[0;31mAttributeError\u001b[0m                            Traceback (most recent call last)",
            "\u001b[0;32m<ipython-input-14-1454bd3c3faf>\u001b[0m in \u001b[0;36m<module>\u001b[0;34m\u001b[0m\n\u001b[0;32m----> 1\u001b[0;31m \u001b[0mrick\u001b[0m\u001b[0;34m.\u001b[0m\u001b[0msetSound\u001b[0m\u001b[0;34m(\u001b[0m\u001b[0;34m)\u001b[0m\u001b[0;34m\u001b[0m\u001b[0;34m\u001b[0m\u001b[0m\n\u001b[0m",
            "\u001b[0;31mAttributeError\u001b[0m: 'Animal' object has no attribute 'setSound'"
          ]
        }
      ]
    },
    {
      "cell_type": "code",
      "source": [
        "class Cat(Mammal):\n",
        "  def __init__(self, name, weight, contact_info, breed):\n",
        "    self.name = name\n",
        "    self.weight = weight\n",
        "    self.contact_info = contact_info\n",
        "    self.breed = breed\n",
        "    self.sound = 'Meow'"
      ],
      "metadata": {
        "id": "2kKBajWJQAZB"
      },
      "execution_count": 15,
      "outputs": []
    },
    {
      "cell_type": "code",
      "source": [
        "lily = Cat('Lily', 3.5, 'Me', 'ragdoll')"
      ],
      "metadata": {
        "id": "-AvQqGnuQWxG"
      },
      "execution_count": 16,
      "outputs": []
    },
    {
      "cell_type": "code",
      "source": [
        "lily.speak()"
      ],
      "metadata": {
        "colab": {
          "base_uri": "https://localhost:8080/"
        },
        "id": "DuTfkSjHQcBT",
        "outputId": "1138e451-2b1b-42e9-a554-1f8b41f59b00"
      },
      "execution_count": 17,
      "outputs": [
        {
          "output_type": "stream",
          "name": "stdout",
          "text": [
            "Meow\n"
          ]
        }
      ]
    },
    {
      "cell_type": "code",
      "source": [
        "print(isinstance(lily, Animal))"
      ],
      "metadata": {
        "colab": {
          "base_uri": "https://localhost:8080/"
        },
        "id": "fBbwYGHaQgOC",
        "outputId": "866c5bdd-bd64-4531-8625-18df98296dab"
      },
      "execution_count": 20,
      "outputs": [
        {
          "output_type": "stream",
          "name": "stdout",
          "text": [
            "True\n"
          ]
        }
      ]
    },
    {
      "cell_type": "code",
      "source": [
        "print(isinstance(lily, Cat))"
      ],
      "metadata": {
        "colab": {
          "base_uri": "https://localhost:8080/"
        },
        "id": "VQdNCrCwQ4gE",
        "outputId": "634493da-1aa1-4da8-f0e0-ef2619ec902e"
      },
      "execution_count": 21,
      "outputs": [
        {
          "output_type": "stream",
          "name": "stdout",
          "text": [
            "True\n"
          ]
        }
      ]
    },
    {
      "cell_type": "code",
      "source": [
        "print(isinstance(rick, Animal))"
      ],
      "metadata": {
        "colab": {
          "base_uri": "https://localhost:8080/"
        },
        "id": "fKSbWsa8Q7OX",
        "outputId": "b871c9fb-2c3e-4c44-c13b-c9e6dce70755"
      },
      "execution_count": 22,
      "outputs": [
        {
          "output_type": "stream",
          "name": "stdout",
          "text": [
            "True\n"
          ]
        }
      ]
    },
    {
      "cell_type": "code",
      "source": [
        "print(isinstance(rick, Cat))"
      ],
      "metadata": {
        "colab": {
          "base_uri": "https://localhost:8080/"
        },
        "id": "FLBsDXYhQ_Fr",
        "outputId": "6fe279eb-503b-44b7-a168-f8ba6bb9f940"
      },
      "execution_count": 23,
      "outputs": [
        {
          "output_type": "stream",
          "name": "stdout",
          "text": [
            "False\n"
          ]
        }
      ]
    },
    {
      "cell_type": "code",
      "source": [
        "class Lecturer:\n",
        "  is_lecturer = True"
      ],
      "metadata": {
        "id": "E0kLhuHaRT66"
      },
      "execution_count": 24,
      "outputs": []
    },
    {
      "cell_type": "code",
      "source": [
        "class AnimalLecturer(Animal, Lecturer):\n",
        "  def __init__(self, name, weight, contact_info):\n",
        "    super().__init__(name, weight, contact_info)"
      ],
      "metadata": {
        "id": "ic31r18gRcn8"
      },
      "execution_count": 33,
      "outputs": []
    },
    {
      "cell_type": "code",
      "source": [
        "rick2 = AnimalLecturer('Rick', 120, 'Hi')"
      ],
      "metadata": {
        "id": "uJonyZWVRl6X"
      },
      "execution_count": 34,
      "outputs": []
    },
    {
      "cell_type": "code",
      "source": [
        "rick2.speak()"
      ],
      "metadata": {
        "colab": {
          "base_uri": "https://localhost:8080/"
        },
        "id": "72UEjOXHR80F",
        "outputId": "6a3a1b29-68b8-4552-abd2-031bec20b04d"
      },
      "execution_count": 35,
      "outputs": [
        {
          "output_type": "stream",
          "name": "stdout",
          "text": [
            "Hello\n"
          ]
        }
      ]
    },
    {
      "cell_type": "code",
      "source": [
        "print(rick2.is_lecturer)"
      ],
      "metadata": {
        "colab": {
          "base_uri": "https://localhost:8080/"
        },
        "id": "f0H5j0BCSZSA",
        "outputId": "8d28f994-0e73-4a69-a050-b6f11a62f4ab"
      },
      "execution_count": 36,
      "outputs": [
        {
          "output_type": "stream",
          "name": "stdout",
          "text": [
            "True\n"
          ]
        }
      ]
    }
  ]
}