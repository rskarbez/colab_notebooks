{
  "cells": [
    {
      "cell_type": "markdown",
      "metadata": {
        "id": "HwK_s6_9oo5c"
      },
      "source": [
        "# Lists and Arrays"
      ]
    },
    {
      "cell_type": "markdown",
      "metadata": {
        "tags": [],
        "id": "7Zb8M0D4oo5l"
      },
      "source": [
        "[Click here to run this notebook on Colab](https://colab.research.google.com/github/AllenDowney/ElementsOfDataScience/blob/master/03_arrays.ipynb) or\n",
        "[click here to download it](https://github.com/AllenDowney/ElementsOfDataScience/raw/master/03_arrays.ipynb)."
      ]
    },
    {
      "cell_type": "markdown",
      "metadata": {
        "id": "89Lf_l5Qoo5n"
      },
      "source": [
        "In the previous chapter we used tuples to represent latitude and longitude.  In this chapter, you'll see how to use tuples more generally to represent a sequence of values.  And we'll see two more ways to represent sequences: lists and arrays.\n",
        "\n",
        "You might wonder why we need three ways to represent the same thing.  Most of the time you don't, but each of them has different capabilities.  For work with data, we will use arrays most of the time.\n",
        "\n",
        "As an example, we will use a small dataset from an article in *The Economist* about the price of sandwiches.  It's a silly example, but I'll use it to introduce the idea of relative differences and different ways to summarize them."
      ]
    },
    {
      "cell_type": "markdown",
      "metadata": {
        "id": "Sm_xb1kEoo5q"
      },
      "source": [
        "## Tuples\n",
        "\n",
        "A tuple is a sequence of elements.  When we use a tuple to represent latitude and longitude, the sequence only contains two elements, and they are both floating-point numbers.\n",
        "But in general a tuple can contain any number of elements, and the elements can be values of any type.\n",
        "The following is a tuple of three integers:"
      ]
    },
    {
      "cell_type": "code",
      "execution_count": 1,
      "metadata": {
        "id": "CJMeJU4voo5v",
        "outputId": "ff6a6c13-a817-4dd0-fc0e-936928b9f348",
        "colab": {
          "base_uri": "https://localhost:8080/"
        }
      },
      "outputs": [
        {
          "output_type": "execute_result",
          "data": {
            "text/plain": [
              "(1, 2, 3)"
            ]
          },
          "metadata": {},
          "execution_count": 1
        }
      ],
      "source": [
        "1, 2, 3"
      ]
    },
    {
      "cell_type": "markdown",
      "metadata": {
        "id": "A-wtlyrVoo53"
      },
      "source": [
        "Notice that when Python displays a tuple, it puts the elements in parentheses.\n",
        "When you type a tuple, you can put it in parentheses if you think it is easier to read that way, but you don't have to."
      ]
    },
    {
      "cell_type": "code",
      "execution_count": 2,
      "metadata": {
        "tags": [],
        "id": "UbgZKgvroo57",
        "outputId": "84cf4951-4bbf-4340-8c7b-796b13de4ea3",
        "colab": {
          "base_uri": "https://localhost:8080/"
        }
      },
      "outputs": [
        {
          "output_type": "execute_result",
          "data": {
            "text/plain": [
              "(1, 2, 3)"
            ]
          },
          "metadata": {},
          "execution_count": 2
        }
      ],
      "source": [
        "(1, 2, 3)"
      ]
    },
    {
      "cell_type": "markdown",
      "metadata": {
        "id": "HB_pbxAkoo59"
      },
      "source": [
        "The elements can be any type.  Here's a tuple of strings:"
      ]
    },
    {
      "cell_type": "code",
      "execution_count": 3,
      "metadata": {
        "id": "n7iHKd0Coo59",
        "outputId": "229194f9-aef5-46eb-ad57-9e18f7dbd899",
        "colab": {
          "base_uri": "https://localhost:8080/"
        }
      },
      "outputs": [
        {
          "output_type": "execute_result",
          "data": {
            "text/plain": [
              "('Data', 'Science')"
            ]
          },
          "metadata": {},
          "execution_count": 3
        }
      ],
      "source": [
        "'Data', 'Science'"
      ]
    },
    {
      "cell_type": "markdown",
      "metadata": {
        "id": "LMmLg3Hboo6A"
      },
      "source": [
        "The elements don't have to be the same type.  Here's a tuple with a string, an integer, and a floating-point number."
      ]
    },
    {
      "cell_type": "code",
      "execution_count": 4,
      "metadata": {
        "id": "LPl0BvLhoo6A",
        "outputId": "e06bddea-262a-4a02-a2b7-11210018825e",
        "colab": {
          "base_uri": "https://localhost:8080/"
        }
      },
      "outputs": [
        {
          "output_type": "execute_result",
          "data": {
            "text/plain": [
              "('one', 2, 3.14159)"
            ]
          },
          "metadata": {},
          "execution_count": 4
        }
      ],
      "source": [
        "'one', 2, 3.14159 "
      ]
    },
    {
      "cell_type": "markdown",
      "metadata": {
        "id": "wkDd7PKpoo6B"
      },
      "source": [
        "If you have a string, you can convert it to a tuple using the `tuple` function:"
      ]
    },
    {
      "cell_type": "code",
      "execution_count": 5,
      "metadata": {
        "id": "qmNH0Ur-oo6C",
        "outputId": "503eeb38-dba5-4da7-eeb0-b57f33c681fc",
        "colab": {
          "base_uri": "https://localhost:8080/"
        }
      },
      "outputs": [
        {
          "output_type": "execute_result",
          "data": {
            "text/plain": [
              "('D', 'a', 't', 'a', 'S', 'c', 'i', 'e', 'n', 'c', 'e')"
            ]
          },
          "metadata": {},
          "execution_count": 5
        }
      ],
      "source": [
        "tuple('DataScience')"
      ]
    },
    {
      "cell_type": "markdown",
      "metadata": {
        "id": "7l6lYpGBoo6C"
      },
      "source": [
        "The result is a tuple of single-character strings.\n",
        "\n",
        "When you create a tuple, the parentheses are optional, but the commas are required.  So how do you think you create a tuple with a single element?  You might be tempted to write:"
      ]
    },
    {
      "cell_type": "code",
      "execution_count": 6,
      "metadata": {
        "id": "myPKu7asoo6F",
        "outputId": "46c54cf0-4df7-458b-b6bc-eb210f1694f9",
        "colab": {
          "base_uri": "https://localhost:8080/"
        }
      },
      "outputs": [
        {
          "output_type": "execute_result",
          "data": {
            "text/plain": [
              "5"
            ]
          },
          "metadata": {},
          "execution_count": 6
        }
      ],
      "source": [
        "x = (5)\n",
        "x"
      ]
    },
    {
      "cell_type": "code",
      "execution_count": 7,
      "metadata": {
        "tags": [],
        "id": "lnZNk3o3oo6H",
        "outputId": "d301bd2a-2343-4f38-e262-79b1c64a3f20",
        "colab": {
          "base_uri": "https://localhost:8080/"
        }
      },
      "outputs": [
        {
          "output_type": "execute_result",
          "data": {
            "text/plain": [
              "int"
            ]
          },
          "metadata": {},
          "execution_count": 7
        }
      ],
      "source": [
        "type(x)"
      ]
    },
    {
      "cell_type": "markdown",
      "metadata": {
        "id": "QQ0ARpdaoo6J"
      },
      "source": [
        "But you will find that the result is just a number, not a tuple.\n",
        "To make a tuple with a single element, you need a comma:"
      ]
    },
    {
      "cell_type": "code",
      "execution_count": 8,
      "metadata": {
        "id": "e8oxnyz0oo6P",
        "outputId": "d4779aac-962d-46cb-ed41-6df352d106e5",
        "colab": {
          "base_uri": "https://localhost:8080/"
        }
      },
      "outputs": [
        {
          "output_type": "execute_result",
          "data": {
            "text/plain": [
              "(5,)"
            ]
          },
          "metadata": {},
          "execution_count": 8
        }
      ],
      "source": [
        "t = 5,\n",
        "t"
      ]
    },
    {
      "cell_type": "markdown",
      "metadata": {
        "id": "KQaOzpj7oo6P"
      },
      "source": [
        "That might look funny, but it does the job."
      ]
    },
    {
      "cell_type": "code",
      "execution_count": 9,
      "metadata": {
        "tags": [],
        "id": "CgOCF8OToo6S",
        "outputId": "0ed9de91-f47f-4285-f6c0-4feeb56fa4e2",
        "colab": {
          "base_uri": "https://localhost:8080/"
        }
      },
      "outputs": [
        {
          "output_type": "execute_result",
          "data": {
            "text/plain": [
              "tuple"
            ]
          },
          "metadata": {},
          "execution_count": 9
        }
      ],
      "source": [
        "type(t)"
      ]
    },
    {
      "cell_type": "markdown",
      "metadata": {
        "id": "46c1kto0oo6S"
      },
      "source": [
        "## Lists\n",
        "\n",
        "Python provides another way to store a sequence of elements: a list.\n",
        "\n",
        "To create a list, you put a sequence of elements in square brackets."
      ]
    },
    {
      "cell_type": "code",
      "execution_count": 10,
      "metadata": {
        "id": "VQ_AIEMAoo6V",
        "outputId": "7d9f6ecc-0e2b-4b7e-e3d8-a3e33e02351b",
        "colab": {
          "base_uri": "https://localhost:8080/"
        }
      },
      "outputs": [
        {
          "output_type": "execute_result",
          "data": {
            "text/plain": [
              "[1, 2, 3]"
            ]
          },
          "metadata": {},
          "execution_count": 10
        }
      ],
      "source": [
        "[1, 2, 3]"
      ]
    },
    {
      "cell_type": "markdown",
      "metadata": {
        "id": "zLvFwYg3oo6X"
      },
      "source": [
        "Lists and tuples are very similar.\n",
        "They can contain any number of elements, the elements can be any type, and the elements don't have to be the same type.\n",
        "The difference is that you can modify a list; tuples are immutable (cannot be modified).  This difference will matter later, but for now we can ignore it.\n",
        "\n",
        "When you make a list, the brackets are required, but if there is a single element, you don't need a comma.  So you can make a list like this:"
      ]
    },
    {
      "cell_type": "code",
      "execution_count": 11,
      "metadata": {
        "id": "lYRK3r4xoo6d"
      },
      "outputs": [],
      "source": [
        "single = [5]"
      ]
    },
    {
      "cell_type": "code",
      "execution_count": 12,
      "metadata": {
        "tags": [],
        "id": "MMwVdhdboo6g",
        "outputId": "b7038d51-2b6c-48e5-e259-abb420e5f364",
        "colab": {
          "base_uri": "https://localhost:8080/"
        }
      },
      "outputs": [
        {
          "output_type": "execute_result",
          "data": {
            "text/plain": [
              "list"
            ]
          },
          "metadata": {},
          "execution_count": 12
        }
      ],
      "source": [
        "type(single)"
      ]
    },
    {
      "cell_type": "markdown",
      "metadata": {
        "id": "OoIfejwooo6k"
      },
      "source": [
        "It is also possible to make a list with no elements, like this:"
      ]
    },
    {
      "cell_type": "code",
      "execution_count": 13,
      "metadata": {
        "id": "dgvXupP4oo6n"
      },
      "outputs": [],
      "source": [
        "empty = []"
      ]
    },
    {
      "cell_type": "code",
      "execution_count": 14,
      "metadata": {
        "tags": [],
        "id": "DBiaAyzKoo6n",
        "outputId": "34d4da1e-3edb-4f2a-d533-390341be0423",
        "colab": {
          "base_uri": "https://localhost:8080/"
        }
      },
      "outputs": [
        {
          "output_type": "execute_result",
          "data": {
            "text/plain": [
              "list"
            ]
          },
          "metadata": {},
          "execution_count": 14
        }
      ],
      "source": [
        "type(empty)"
      ]
    },
    {
      "cell_type": "markdown",
      "metadata": {
        "id": "qQrBsQzxoo6n"
      },
      "source": [
        "The `len` function returns the length (number of elements) in a list or tuple."
      ]
    },
    {
      "cell_type": "code",
      "execution_count": 15,
      "metadata": {
        "id": "Er03pqKLoo6n",
        "outputId": "d7cec002-407a-4fbc-d65c-b7fe7868e0be",
        "colab": {
          "base_uri": "https://localhost:8080/"
        }
      },
      "outputs": [
        {
          "output_type": "execute_result",
          "data": {
            "text/plain": [
              "(3, 1, 0)"
            ]
          },
          "metadata": {},
          "execution_count": 15
        }
      ],
      "source": [
        "len([1, 2, 3]), len(single), len(empty)"
      ]
    },
    {
      "cell_type": "markdown",
      "metadata": {
        "id": "6X7F5TTXoo6p"
      },
      "source": [
        "**Exercise:** Create a list with 4 elements; then use `type` to confirm that it's a list, and `len` to confirm that it has 4 elements."
      ]
    },
    {
      "cell_type": "code",
      "execution_count": 16,
      "metadata": {
        "id": "QaFVRmGDoo6p"
      },
      "outputs": [],
      "source": [
        "my_list = [1, 2, 3, 4]"
      ]
    },
    {
      "cell_type": "code",
      "execution_count": 17,
      "metadata": {
        "id": "Bt8w1No3oo6p",
        "outputId": "d2081e2e-a960-4b7b-9bd2-a767949b57e9",
        "colab": {
          "base_uri": "https://localhost:8080/"
        }
      },
      "outputs": [
        {
          "output_type": "execute_result",
          "data": {
            "text/plain": [
              "list"
            ]
          },
          "metadata": {},
          "execution_count": 17
        }
      ],
      "source": [
        "type(my_list)"
      ]
    },
    {
      "cell_type": "code",
      "execution_count": 18,
      "metadata": {
        "id": "qpKtNR66oo6s",
        "outputId": "2049c359-e8e2-41e4-e2da-ae5bd727f4b8",
        "colab": {
          "base_uri": "https://localhost:8080/"
        }
      },
      "outputs": [
        {
          "output_type": "execute_result",
          "data": {
            "text/plain": [
              "4"
            ]
          },
          "metadata": {},
          "execution_count": 18
        }
      ],
      "source": [
        "len(my_list)"
      ]
    },
    {
      "cell_type": "markdown",
      "metadata": {
        "id": "z9Hl3Pv4oo6s"
      },
      "source": [
        "There's a lot more we could do with lists, but that's enough to get started.  In the next section, we'll use lists to store data about sandwich prices."
      ]
    },
    {
      "cell_type": "markdown",
      "metadata": {
        "id": "bfC9wzr8oo6u"
      },
      "source": [
        "## Sandwiches\n",
        "\n",
        "In September 2019, *The Economist* published an article comparing sandwich prices in Boston and London: \"[Why Americans pay more for lunch than Britons do](https://www.economist.com/finance-and-economics/2019/09/07/why-americans-pay-more-for-lunch-than-britons-do)\".\n",
        "It includes this graph showing prices of several sandwiches in the two cities:\n",
        "\n",
        "![](https://github.com/AllenDowney/ElementsOfDataScience/raw/master/figs/20190907_FNC941.png)"
      ]
    },
    {
      "cell_type": "markdown",
      "metadata": {
        "id": "v0Acq5jooo6v"
      },
      "source": [
        "Here are the sandwich names from the graph, as a list of strings."
      ]
    },
    {
      "cell_type": "code",
      "execution_count": 19,
      "metadata": {
        "id": "vL6B3O81oo6x"
      },
      "outputs": [],
      "source": [
        "name_list = [\n",
        "    'Lobster roll',\n",
        "    'Chicken caesar',\n",
        "    'Bang bang chicken',\n",
        "    'Ham and cheese',\n",
        "    'Tuna and cucumber',\n",
        "    'Egg'\n",
        "]"
      ]
    },
    {
      "cell_type": "markdown",
      "metadata": {
        "id": "wZZ5-9fcoo63"
      },
      "source": [
        "I contacted *The Economist* to ask for the data they used to create that graph, and they were kind enough to share it with me.\n",
        "Here are the sandwich prices in Boston:"
      ]
    },
    {
      "cell_type": "code",
      "execution_count": 20,
      "metadata": {
        "id": "aQX6NwwToo63"
      },
      "outputs": [],
      "source": [
        "boston_price_list = [9.99, 7.99, 7.49, 7.00, 6.29, 4.99]"
      ]
    },
    {
      "cell_type": "markdown",
      "metadata": {
        "id": "ziU6bxYnoo65"
      },
      "source": [
        "Here are the prices in London, converted to dollars at \\$1.25 / £1."
      ]
    },
    {
      "cell_type": "code",
      "execution_count": 21,
      "metadata": {
        "id": "pd1Lr7onoo66"
      },
      "outputs": [],
      "source": [
        "london_price_list = [7.5, 5, 4.4, 5, 3.75, 2.25]"
      ]
    },
    {
      "cell_type": "markdown",
      "metadata": {
        "id": "z_7IPMWioo66"
      },
      "source": [
        "Lists provide some arithmetic operators, but they might not do what you want.  For example, you can \"add\" two lists:"
      ]
    },
    {
      "cell_type": "code",
      "execution_count": 22,
      "metadata": {
        "id": "M4xb3SJGoo66",
        "outputId": "9273e65f-aad5-4b87-8ca3-9c71eaf9cb53",
        "colab": {
          "base_uri": "https://localhost:8080/"
        }
      },
      "outputs": [
        {
          "output_type": "execute_result",
          "data": {
            "text/plain": [
              "[9.99, 7.99, 7.49, 7.0, 6.29, 4.99, 7.5, 5, 4.4, 5, 3.75, 2.25]"
            ]
          },
          "metadata": {},
          "execution_count": 22
        }
      ],
      "source": [
        "boston_price_list + london_price_list"
      ]
    },
    {
      "cell_type": "markdown",
      "metadata": {
        "id": "ZwlqFxiFoo67"
      },
      "source": [
        "But it concatenates the two lists, which is not very useful in this example.\n",
        "To compute differences between prices, you might try subtracting lists, but you would get an error.  \n",
        "We can solve this problem with a NumPy array."
      ]
    },
    {
      "cell_type": "markdown",
      "metadata": {
        "tags": [],
        "id": "TzlD_EQvoo6_"
      },
      "source": [
        "Run this code in the following cell to see what the error message is.\n",
        "\n",
        "```\n",
        "boston_price_list - london_price_list\n",
        "```"
      ]
    },
    {
      "cell_type": "code",
      "execution_count": 24,
      "metadata": {
        "tags": [],
        "id": "B_hwpk2qoo6_",
        "outputId": "5179aa0e-4bb8-453e-e4a8-a9e55789c88f",
        "colab": {
          "base_uri": "https://localhost:8080/",
          "height": 166
        }
      },
      "outputs": [
        {
          "output_type": "error",
          "ename": "TypeError",
          "evalue": "ignored",
          "traceback": [
            "\u001b[0;31m---------------------------------------------------------------------------\u001b[0m",
            "\u001b[0;31mTypeError\u001b[0m                                 Traceback (most recent call last)",
            "\u001b[0;32m<ipython-input-24-1ff9739e4f5a>\u001b[0m in \u001b[0;36m<module>\u001b[0;34m()\u001b[0m\n\u001b[0;32m----> 1\u001b[0;31m \u001b[0mboston_price_list\u001b[0m \u001b[0;34m-\u001b[0m \u001b[0mlondon_price_list\u001b[0m\u001b[0;34m\u001b[0m\u001b[0;34m\u001b[0m\u001b[0m\n\u001b[0m",
            "\u001b[0;31mTypeError\u001b[0m: unsupported operand type(s) for -: 'list' and 'list'"
          ]
        }
      ],
      "source": [
        "boston_price_list - london_price_list"
      ]
    },
    {
      "cell_type": "markdown",
      "metadata": {
        "id": "qA2sLv6Goo6_"
      },
      "source": [
        "## NumPy Arrays\n",
        "\n",
        "We've already seen that the NumPy library provides math functions.  It also provides a type of sequence called an array.\n",
        "You can create a new array with the `np.array` function, starting with a list or tuple."
      ]
    },
    {
      "cell_type": "code",
      "execution_count": 25,
      "metadata": {
        "id": "QTtFB3pjoo6_"
      },
      "outputs": [],
      "source": [
        "import numpy as np\n",
        "\n",
        "boston_price_array = np.array(boston_price_list)\n",
        "london_price_array = np.array(london_price_list)"
      ]
    },
    {
      "cell_type": "markdown",
      "metadata": {
        "id": "abLfXnVRoo6_"
      },
      "source": [
        "The type of the result is `numpy.ndarray`."
      ]
    },
    {
      "cell_type": "code",
      "execution_count": 26,
      "metadata": {
        "id": "Fz4egZQ_oo6_",
        "outputId": "90e2b7ee-aba6-4db9-947d-d1fb10507223",
        "colab": {
          "base_uri": "https://localhost:8080/"
        }
      },
      "outputs": [
        {
          "output_type": "execute_result",
          "data": {
            "text/plain": [
              "numpy.ndarray"
            ]
          },
          "metadata": {},
          "execution_count": 26
        }
      ],
      "source": [
        "type(boston_price_array)"
      ]
    },
    {
      "cell_type": "markdown",
      "metadata": {
        "id": "b4bY8hpVoo6_"
      },
      "source": [
        "The \"nd\" stands for \"n-dimensional\", which indicates that NumPy arrays can have any number of dimensions.\n",
        "But for now we will work with one-dimensional sequences.\n",
        "If you display an array, Python displays the elements:"
      ]
    },
    {
      "cell_type": "code",
      "execution_count": 27,
      "metadata": {
        "id": "Ns_8JGuloo7C",
        "outputId": "04791260-5b17-41f0-de46-143cfa4ba861",
        "colab": {
          "base_uri": "https://localhost:8080/"
        }
      },
      "outputs": [
        {
          "output_type": "execute_result",
          "data": {
            "text/plain": [
              "array([9.99, 7.99, 7.49, 7.  , 6.29, 4.99])"
            ]
          },
          "metadata": {},
          "execution_count": 27
        }
      ],
      "source": [
        "boston_price_array"
      ]
    },
    {
      "cell_type": "markdown",
      "metadata": {
        "id": "XmXhNw9noo7E"
      },
      "source": [
        "You can also display the \"data type\" of the array, which is the type of the elements:"
      ]
    },
    {
      "cell_type": "code",
      "execution_count": 28,
      "metadata": {
        "id": "c_cR-CdKoo7E",
        "outputId": "c4be1e02-d333-4ec3-b582-27bc2e58c0c4",
        "colab": {
          "base_uri": "https://localhost:8080/"
        }
      },
      "outputs": [
        {
          "output_type": "execute_result",
          "data": {
            "text/plain": [
              "dtype('float64')"
            ]
          },
          "metadata": {},
          "execution_count": 28
        }
      ],
      "source": [
        "boston_price_array.dtype"
      ]
    },
    {
      "cell_type": "markdown",
      "metadata": {
        "id": "6ipGLHrAoo7H"
      },
      "source": [
        "`float64` means that the elements are floating-point numbers that take up 64 bits each.  You don't need to know about the storage format of these numbers, but if you are curious, you can read about it at <https://en.wikipedia.org/wiki/Floating-point_arithmetic#Internal_representation>.\n",
        "\n",
        "The elements of a NumPy array can be any type, but they all have to be the same type.\n",
        "Most often the elements are numbers, but you can also make an array of strings."
      ]
    },
    {
      "cell_type": "code",
      "execution_count": 29,
      "metadata": {
        "id": "Xl6w_NDtoo7M",
        "outputId": "9add14b6-da4a-401b-d668-cd9cd9c22097",
        "colab": {
          "base_uri": "https://localhost:8080/"
        }
      },
      "outputs": [
        {
          "output_type": "execute_result",
          "data": {
            "text/plain": [
              "array(['Lobster roll', 'Chicken caesar', 'Bang bang chicken',\n",
              "       'Ham and cheese', 'Tuna and cucumber', 'Egg'], dtype='<U17')"
            ]
          },
          "metadata": {},
          "execution_count": 29
        }
      ],
      "source": [
        "name_array = np.array(name_list)\n",
        "name_array"
      ]
    },
    {
      "cell_type": "markdown",
      "metadata": {
        "id": "wp6zk_Pboo7M"
      },
      "source": [
        "In this example, the `dtype` is `<U17`.  The `U` indicates that the elements are Unicode strings; Unicode is the standard Python uses to represent strings.\n",
        "\n",
        "Now, here's why NumPy arrays are useful: they can do arithmetic.  For example, to compute the differences between Boston and London prices, we can write: "
      ]
    },
    {
      "cell_type": "code",
      "execution_count": 30,
      "metadata": {
        "id": "za8_xzQEoo7M",
        "outputId": "fd829446-feda-4ad6-a513-b49c5f6ce5ab",
        "colab": {
          "base_uri": "https://localhost:8080/"
        }
      },
      "outputs": [
        {
          "output_type": "execute_result",
          "data": {
            "text/plain": [
              "array([2.49, 2.99, 3.09, 2.  , 2.54, 2.74])"
            ]
          },
          "metadata": {},
          "execution_count": 30
        }
      ],
      "source": [
        "differences = boston_price_array - london_price_array\n",
        "differences"
      ]
    },
    {
      "cell_type": "markdown",
      "metadata": {
        "id": "74VWOX7hoo7O"
      },
      "source": [
        "Subtraction is done \"elementwise\"; that is, NumPy lines up the two arrays and subtracts corresponding elements.  The result is a new array."
      ]
    },
    {
      "cell_type": "markdown",
      "metadata": {
        "id": "SAsowxHBoo7Q"
      },
      "source": [
        "## Mean and standard deviation\n",
        "\n",
        "NumPy provides functions that compute statistical summaries like the mean: "
      ]
    },
    {
      "cell_type": "code",
      "execution_count": 31,
      "metadata": {
        "id": "ufpeQm_qoo7R",
        "outputId": "c62e5fca-9103-49e1-e856-e860b53c3a40",
        "colab": {
          "base_uri": "https://localhost:8080/"
        }
      },
      "outputs": [
        {
          "output_type": "execute_result",
          "data": {
            "text/plain": [
              "2.6416666666666666"
            ]
          },
          "metadata": {},
          "execution_count": 31
        }
      ],
      "source": [
        "np.mean(differences)"
      ]
    },
    {
      "cell_type": "markdown",
      "metadata": {
        "id": "0nsbSrE8oo7R"
      },
      "source": [
        "So we could describe the difference in prices like this: \"Sandwiches in Boston are more expensive by \\$2.64, on average\".\n",
        "We could also compute the means first, and then compute their difference:"
      ]
    },
    {
      "cell_type": "code",
      "execution_count": 32,
      "metadata": {
        "id": "k08iEL0Doo7S",
        "outputId": "1678a9b2-2f71-4a9e-a7f3-05ef67e00c37",
        "colab": {
          "base_uri": "https://localhost:8080/"
        }
      },
      "outputs": [
        {
          "output_type": "execute_result",
          "data": {
            "text/plain": [
              "2.6416666666666675"
            ]
          },
          "metadata": {},
          "execution_count": 32
        }
      ],
      "source": [
        "np.mean(boston_price_array) - np.mean(london_price_array)"
      ]
    },
    {
      "cell_type": "markdown",
      "metadata": {
        "id": "LFrLwjQyoo7S"
      },
      "source": [
        "And that turns out to be the same thing: the difference in means is the same as the mean of the differences.\n",
        "As an aside, many of the NumPy functions also work with lists, so we could also do this:"
      ]
    },
    {
      "cell_type": "code",
      "execution_count": 33,
      "metadata": {
        "id": "-9RkoFuHoo7S",
        "outputId": "bb80fca7-a2a9-44bc-a289-1b4f6edf04a7",
        "colab": {
          "base_uri": "https://localhost:8080/"
        }
      },
      "outputs": [
        {
          "output_type": "execute_result",
          "data": {
            "text/plain": [
              "2.6416666666666675"
            ]
          },
          "metadata": {},
          "execution_count": 33
        }
      ],
      "source": [
        "np.mean(boston_price_list) - np.mean(london_price_list)"
      ]
    },
    {
      "cell_type": "markdown",
      "metadata": {
        "id": "I7_DxW4Too7T"
      },
      "source": [
        "**Exercise:** Standard deviation is way to quantify the variability in a set of numbers.  The NumPy function that computes standard deviation is `np.std`.\n",
        "\n",
        "Compute the standard deviation of sandwich prices in Boston and London.  By this measure, which set of prices is more variable?"
      ]
    },
    {
      "cell_type": "code",
      "execution_count": 34,
      "metadata": {
        "id": "iNyT9MCToo7T",
        "outputId": "713dfd26-b497-4c68-bd39-4c5512b2fbe4",
        "colab": {
          "base_uri": "https://localhost:8080/"
        }
      },
      "outputs": [
        {
          "output_type": "stream",
          "name": "stdout",
          "text": [
            "1.5380769017040583 1.5811388300841898\n"
          ]
        }
      ],
      "source": [
        "boston_std = np.std(boston_price_array)\n",
        "london_std = np.std(london_price_array)\n",
        "print(boston_std, london_std)"
      ]
    },
    {
      "cell_type": "markdown",
      "metadata": {
        "id": "DIxsjPdWoo7U"
      },
      "source": [
        "**Exercise:** The definition of the mean, in math notation, is\n",
        "\n",
        "$\\mu = \\frac{1}{N} \\sum_i x_i$\n",
        "\n",
        "where $x$ is a sequence of elements, $x_i$ is the element with index $i$, and $N$ is the number of elements.\n",
        "The definition of standard deviation is\n",
        "\n",
        "$\\sigma = \\sqrt{\\frac{1}{N} \\sum_i (x_i - \\mu)^2}$\n",
        "\n",
        "Compute the standard deviation of `boston_price_list` using NumPy functions `np.mean` and `np.sqrt` and see if you get the same result as `np.std`.\n",
        "\n",
        "Note: You can (and should) do this exercise using only features we have discussed so far."
      ]
    },
    {
      "cell_type": "code",
      "execution_count": 35,
      "metadata": {
        "id": "jhUYsAGOoo7V",
        "outputId": "2cbb5c3b-28b2-41ab-afd5-c9c9cd40ae62",
        "colab": {
          "base_uri": "https://localhost:8080/"
        }
      },
      "outputs": [
        {
          "output_type": "stream",
          "name": "stdout",
          "text": [
            "1.5380769017040583\n"
          ]
        }
      ],
      "source": [
        "differences_from_mean = boston_price_array - np.mean(boston_price_array)\n",
        "squared_differences = differences_from_mean * differences_from_mean\n",
        "sum_of_squared_differences = sum(squared_differences)\n",
        "sigma = np.sqrt((1.0/len(boston_price_array)) * sum_of_squared_differences)\n",
        "print(sigma)"
      ]
    },
    {
      "cell_type": "markdown",
      "metadata": {
        "id": "V9meTVlQoo7V"
      },
      "source": [
        "Note: This definition of standard deviation is sometimes called the \"population standard deviation\".  You might have seen another definition with $N-1$ in the denominator; that's the \"sample standard deviation\".  We'll use the population standard deviation for now and come back to this issue later."
      ]
    },
    {
      "cell_type": "markdown",
      "metadata": {
        "id": "g3RhiPfsoo7W"
      },
      "source": [
        "## Relative Difference\n",
        "\n",
        "In the previous section we computed differences between prices.\n",
        "But often when we make this kind of comparison, we are interested in **relative difference**, which are differences expressed as a fraction or percentage of a quantity.\n",
        "\n",
        "Taking the lobster roll as an example, the difference in price is:"
      ]
    },
    {
      "cell_type": "code",
      "execution_count": 36,
      "metadata": {
        "id": "QkLms0d-oo7W",
        "outputId": "99897ce7-6f92-4888-fe4a-1f5f003f5c68",
        "colab": {
          "base_uri": "https://localhost:8080/"
        }
      },
      "outputs": [
        {
          "output_type": "execute_result",
          "data": {
            "text/plain": [
              "2.49"
            ]
          },
          "metadata": {},
          "execution_count": 36
        }
      ],
      "source": [
        "9.99 - 7.5"
      ]
    },
    {
      "cell_type": "markdown",
      "metadata": {
        "id": "94M4rHwQoo7X"
      },
      "source": [
        "We can express that difference as a fraction of the London price, like this:"
      ]
    },
    {
      "cell_type": "code",
      "execution_count": 37,
      "metadata": {
        "id": "Jj79gsPNoo7X",
        "outputId": "53181448-8175-47f9-e2a3-e923a15af0f2",
        "colab": {
          "base_uri": "https://localhost:8080/"
        }
      },
      "outputs": [
        {
          "output_type": "execute_result",
          "data": {
            "text/plain": [
              "0.332"
            ]
          },
          "metadata": {},
          "execution_count": 37
        }
      ],
      "source": [
        "(9.99 - 7.5) / 7.5"
      ]
    },
    {
      "cell_type": "markdown",
      "metadata": {
        "id": "NYOo5HZSoo7a"
      },
      "source": [
        "Or as a *percentage* of the London price, like this:"
      ]
    },
    {
      "cell_type": "code",
      "execution_count": 38,
      "metadata": {
        "id": "0nZk74Hqoo7a",
        "outputId": "eee7dbbe-6d44-4ca5-c21f-719006c662ea",
        "colab": {
          "base_uri": "https://localhost:8080/"
        }
      },
      "outputs": [
        {
          "output_type": "execute_result",
          "data": {
            "text/plain": [
              "33.2"
            ]
          },
          "metadata": {},
          "execution_count": 38
        }
      ],
      "source": [
        "(9.99 - 7.5) / 7.5 * 100"
      ]
    },
    {
      "cell_type": "markdown",
      "metadata": {
        "id": "kolfwlDNoo7a"
      },
      "source": [
        "So we might say that the lobster roll is 33% more expensive in Boston.\n",
        "But putting London in the denominator was an arbitrary choice.  We could also compute the difference as a percentage of the Boston price:"
      ]
    },
    {
      "cell_type": "code",
      "execution_count": 39,
      "metadata": {
        "id": "ed6nv5uHoo7b",
        "outputId": "c712f74c-8c9e-4739-8945-793fef45effc",
        "colab": {
          "base_uri": "https://localhost:8080/"
        }
      },
      "outputs": [
        {
          "output_type": "execute_result",
          "data": {
            "text/plain": [
              "24.924924924924927"
            ]
          },
          "metadata": {},
          "execution_count": 39
        }
      ],
      "source": [
        "(9.99 - 7.5) / 9.99 * 100"
      ]
    },
    {
      "cell_type": "markdown",
      "metadata": {
        "id": "qTdnHmidoo7b"
      },
      "source": [
        "If we do that calculation, we might say the lobster roll is 25% cheaper in London.\n",
        "When you read this kind of comparison, you should make sure you understand which quantity is in the denominator, and you might want to think about why that choice was made.\n",
        "In this example, if you want to make the difference seem bigger, you might put London prices in the denominator.\n",
        "\n",
        "If we do the same calculation with the arrays `boston_price_array` and `boston_price_array`, we can compute the relative differences for all sandwiches:"
      ]
    },
    {
      "cell_type": "code",
      "execution_count": 40,
      "metadata": {
        "id": "zVG-Ez6poo7b",
        "outputId": "036713a5-169b-4b2f-9a43-9692f5dc6411",
        "colab": {
          "base_uri": "https://localhost:8080/"
        }
      },
      "outputs": [
        {
          "output_type": "execute_result",
          "data": {
            "text/plain": [
              "array([0.332     , 0.598     , 0.70227273, 0.4       , 0.67733333,\n",
              "       1.21777778])"
            ]
          },
          "metadata": {},
          "execution_count": 40
        }
      ],
      "source": [
        "differences = boston_price_array - london_price_array\n",
        "relative_differences = differences / london_price_array\n",
        "relative_differences"
      ]
    },
    {
      "cell_type": "markdown",
      "metadata": {
        "id": "GW0BDusPoo7b"
      },
      "source": [
        "And the percent differences."
      ]
    },
    {
      "cell_type": "code",
      "execution_count": 41,
      "metadata": {
        "id": "0AjUoE0Foo7b",
        "outputId": "4d2a9ad5-ad2c-45df-96c0-e37b79b755a7",
        "colab": {
          "base_uri": "https://localhost:8080/"
        }
      },
      "outputs": [
        {
          "output_type": "execute_result",
          "data": {
            "text/plain": [
              "array([ 33.2       ,  59.8       ,  70.22727273,  40.        ,\n",
              "        67.73333333, 121.77777778])"
            ]
          },
          "metadata": {},
          "execution_count": 41
        }
      ],
      "source": [
        "percent_differences = relative_differences * 100\n",
        "percent_differences"
      ]
    },
    {
      "cell_type": "markdown",
      "metadata": {
        "id": "JeARWKjxoo7b"
      },
      "source": [
        "## Summarizing Relative Differences\n",
        "\n",
        "Now let's think about how to summarize an array of percentage differences.\n",
        "One option is to report the range, which we can compute with `np.min` and `np.max`."
      ]
    },
    {
      "cell_type": "code",
      "execution_count": 42,
      "metadata": {
        "id": "j9uClbO0oo7b",
        "outputId": "bd97df61-7ab9-4784-8c25-4c2f460653f1",
        "colab": {
          "base_uri": "https://localhost:8080/"
        }
      },
      "outputs": [
        {
          "output_type": "execute_result",
          "data": {
            "text/plain": [
              "(33.2, 121.77777777777779)"
            ]
          },
          "metadata": {},
          "execution_count": 42
        }
      ],
      "source": [
        "np.min(percent_differences), np.max(percent_differences)"
      ]
    },
    {
      "cell_type": "markdown",
      "metadata": {
        "id": "HLREjUTaoo7b"
      },
      "source": [
        "The lobster roll is only 33% more expensive in Boston; the egg sandwich is 121% percent more (that is, more than twice the price)."
      ]
    },
    {
      "cell_type": "markdown",
      "metadata": {
        "id": "U0SXnvMDoo7b"
      },
      "source": [
        "**Exercise:** What are the percent differences if we put the Boston prices in the denominator?  What is the range of those differences?  Write a sentence that summarizes the results."
      ]
    },
    {
      "cell_type": "code",
      "execution_count": 43,
      "metadata": {
        "id": "WXEz-e6Coo7c",
        "outputId": "7e7e910b-8849-4eca-da17-0635464d05e4",
        "colab": {
          "base_uri": "https://localhost:8080/"
        }
      },
      "outputs": [
        {
          "output_type": "execute_result",
          "data": {
            "text/plain": [
              "array([0.24924925, 0.37421777, 0.41255007, 0.28571429, 0.40381558,\n",
              "       0.5490982 ])"
            ]
          },
          "metadata": {},
          "execution_count": 43
        }
      ],
      "source": [
        "b_differences = boston_price_array - boston_price_array\n",
        "b_relative_differences = differences / boston_price_array\n",
        "b_relative_differences"
      ]
    },
    {
      "cell_type": "code",
      "execution_count": 45,
      "metadata": {
        "id": "R11W4HwHoo7c",
        "outputId": "4fa8606c-f15b-40f9-9019-f2f2494bc47a",
        "colab": {
          "base_uri": "https://localhost:8080/"
        }
      },
      "outputs": [
        {
          "output_type": "execute_result",
          "data": {
            "text/plain": [
              "(0.24924924924924927, 0.5490981963927856)"
            ]
          },
          "metadata": {},
          "execution_count": 45
        }
      ],
      "source": [
        "np.min(b_relative_differences), np.max(b_relative_differences)"
      ]
    },
    {
      "cell_type": "code",
      "execution_count": null,
      "metadata": {
        "id": "yXaurcYRoo7c"
      },
      "outputs": [],
      "source": [
        "# Solution goes here"
      ]
    },
    {
      "cell_type": "markdown",
      "metadata": {
        "id": "DHBW5Ofeoo7c"
      },
      "source": [
        "Another way to summarize percentage differences is to report the mean."
      ]
    },
    {
      "cell_type": "code",
      "execution_count": 46,
      "metadata": {
        "id": "SH9fV_xXoo7c",
        "outputId": "875735e8-a2c6-44da-e285-2e5f0d357a7d",
        "colab": {
          "base_uri": "https://localhost:8080/"
        }
      },
      "outputs": [
        {
          "output_type": "execute_result",
          "data": {
            "text/plain": [
              "65.4563973063973"
            ]
          },
          "metadata": {},
          "execution_count": 46
        }
      ],
      "source": [
        "np.mean(percent_differences)"
      ]
    },
    {
      "cell_type": "markdown",
      "metadata": {
        "id": "Ele5rKHxoo7c"
      },
      "source": [
        "So we might say, on average, sandwiches are 65% more expensive in Boston.\n",
        "But another way to summarize the data is to compute the mean price in each city, and then compute the percentage difference of the means:"
      ]
    },
    {
      "cell_type": "code",
      "execution_count": 47,
      "metadata": {
        "id": "OBcr7fMjoo7c",
        "outputId": "c4b0e95f-db01-4e5c-fd74-bd58d44fea14",
        "colab": {
          "base_uri": "https://localhost:8080/"
        }
      },
      "outputs": [
        {
          "output_type": "execute_result",
          "data": {
            "text/plain": [
              "56.81003584229393"
            ]
          },
          "metadata": {},
          "execution_count": 47
        }
      ],
      "source": [
        "boston_mean = np.mean(boston_price_array)\n",
        "london_mean = np.mean(london_price_array)\n",
        "\n",
        "(boston_mean - london_mean) / london_mean * 100"
      ]
    },
    {
      "cell_type": "markdown",
      "metadata": {
        "id": "lS8aCKmJoo7d"
      },
      "source": [
        "So we might say that the average sandwich price is 56% higher in Boston.\n",
        "As this example demonstrates:\n",
        "\n",
        "* With relative and percentage differences, the mean of the differences is not the same as the difference of the means.\n",
        "\n",
        "* When you report data like this, you should think about different ways to summarize the data.\n",
        "\n",
        "* When you read a summary of data like this, make sure you understand what summary was chosen and what it means.\n",
        "\n",
        "In this example, I think the second option (the relative difference in the means) is more meaningful, because it reflects the difference in price between \"baskets of goods\" that include one of each sandwich."
      ]
    },
    {
      "cell_type": "markdown",
      "metadata": {
        "id": "Kd6wxurUoo7d"
      },
      "source": [
        "## Debugging\n",
        "\n",
        "So far, most of the exercises have only required a few lines of code.  If you made errors along the way, you probably found them quickly.\n",
        "\n",
        "As we go along, the exercises will be more substantial, and you may find yourself spending more time debugging.  Here are a couple of suggestions to help you find errors quickly -- and avoid them in the first place.\n",
        "\n",
        "* Most importantly, you should develop code incrementally; that is, you should write a small amount of code and test it.  If it works, add more code; otherwise, debug what you have.\n",
        "\n",
        "* Conversely, if you have written too much code, and you are having a hard time debugging it, split it into smaller chunks and debug them separately.\n",
        "\n",
        "For example, suppose you want to compute, for each sandwich in the sandwich list, the midpoint of the Boston and London prices.  As a first draft, you might write something like this:"
      ]
    },
    {
      "cell_type": "code",
      "execution_count": 48,
      "metadata": {
        "id": "xVIXNtMuoo7d",
        "outputId": "65692bf2-8cdd-4f75-a7da-f64abac95af5",
        "colab": {
          "base_uri": "https://localhost:8080/"
        }
      },
      "outputs": [
        {
          "output_type": "execute_result",
          "data": {
            "text/plain": [
              "5.970833333333334"
            ]
          },
          "metadata": {},
          "execution_count": 48
        }
      ],
      "source": [
        "boston_price_list = [9.99, 7.99, 7.49, 7, 6.29, 4.99]\n",
        "london_price_list = [7.5, 5, 4.4, 5, 3.75, 2.25]\n",
        "\n",
        "midpoint_price = np.mean(boston_price_list + london_price_list)\n",
        "midpoint_price"
      ]
    },
    {
      "cell_type": "markdown",
      "metadata": {
        "id": "OMRAK9ZDoo7d"
      },
      "source": [
        "This code runs, and it produces an answer, but the answer is a single number rather than the list we were expecting.\n",
        "\n",
        "You might have already spotted the error, but let's suppose you did not.\n",
        "To debug this code, I would start by splitting the computation into smaller steps and displaying the intermediate results.  For example, we might add the two lists and display the result, like this."
      ]
    },
    {
      "cell_type": "code",
      "execution_count": 49,
      "metadata": {
        "id": "thxmb3keoo7d",
        "outputId": "01454236-6561-429f-f571-fd34bb8e1a17",
        "colab": {
          "base_uri": "https://localhost:8080/"
        }
      },
      "outputs": [
        {
          "output_type": "execute_result",
          "data": {
            "text/plain": [
              "[9.99, 7.99, 7.49, 7, 6.29, 4.99, 7.5, 5, 4.4, 5, 3.75, 2.25]"
            ]
          },
          "metadata": {},
          "execution_count": 49
        }
      ],
      "source": [
        "total_price = boston_price_list + london_price_list\n",
        "total_price"
      ]
    },
    {
      "cell_type": "markdown",
      "metadata": {
        "id": "0qdnecTZoo7e"
      },
      "source": [
        "Looking at the result, we see that it did not add the sandwich prices elementwise, as we intended.  Because the arguments are lists, the `+` operator concatenates them rather than adding the elements.\n",
        "\n",
        "We can solve this problem by converting the lists to arrays."
      ]
    },
    {
      "cell_type": "code",
      "execution_count": 50,
      "metadata": {
        "id": "aT_lN0fOoo7e",
        "outputId": "566c2f4f-cb9e-4037-9eea-840fc5538b7f",
        "colab": {
          "base_uri": "https://localhost:8080/"
        }
      },
      "outputs": [
        {
          "output_type": "execute_result",
          "data": {
            "text/plain": [
              "array([17.49, 12.99, 11.89, 12.  , 10.04,  7.24])"
            ]
          },
          "metadata": {},
          "execution_count": 50
        }
      ],
      "source": [
        "boston_price_array = np.array(boston_price_list)\n",
        "london_price_array = np.array(london_price_list)\n",
        "\n",
        "total_price_array = boston_price_array + london_price_array\n",
        "total_price_array"
      ]
    },
    {
      "cell_type": "markdown",
      "metadata": {
        "id": "ESN6b0C7oo7e"
      },
      "source": [
        "And then computing the midpoint of each pair of prices, like this:"
      ]
    },
    {
      "cell_type": "code",
      "execution_count": 51,
      "metadata": {
        "id": "AHJde6SJoo7e",
        "outputId": "f3b920b4-a2e9-499d-d753-33548f866e66",
        "colab": {
          "base_uri": "https://localhost:8080/"
        }
      },
      "outputs": [
        {
          "output_type": "execute_result",
          "data": {
            "text/plain": [
              "array([8.745, 6.495, 5.945, 6.   , 5.02 , 3.62 ])"
            ]
          },
          "metadata": {},
          "execution_count": 51
        }
      ],
      "source": [
        "midpoint_price_array = total_price_array / 2\n",
        "midpoint_price_array"
      ]
    },
    {
      "cell_type": "markdown",
      "metadata": {
        "id": "2zugLSOLoo7e"
      },
      "source": [
        "As you gain experience, you will be able to write bigger chunks of code before testing.  But while you are getting started, keep it simple!\n",
        "As a general rule, each line of code should perform a small number of operations, and each cell should contain a small number of statements.  When you are getting started, this number should be one."
      ]
    },
    {
      "cell_type": "markdown",
      "metadata": {
        "id": "j0qWxSh9oo7e"
      },
      "source": [
        "## Summary\n",
        "\n",
        "This chapter presents three ways to represent a sequence of values: tuples, list, and Numpy arrays. Working with data, we will primarily use arrays.\n",
        "\n",
        "It also introduces three ways to represent differences: absolute, relative, and percentage; and several ways to summarize a set of values: minimum, maximum, mean, and standard deviation.\n",
        "\n",
        "In the next chapter we'll start working with data files, and we'll use loops to process letters and words."
      ]
    },
    {
      "cell_type": "markdown",
      "metadata": {
        "tags": [],
        "id": "RIZlQoXOoo7f"
      },
      "source": [
        "*Elements of Data Science*\n",
        "\n",
        "Copyright 2021 [Allen B. Downey](https://allendowney.com)\n",
        "\n",
        "License: [Creative Commons Attribution-NonCommercial-ShareAlike 4.0 International](https://creativecommons.org/licenses/by-nc-sa/4.0/)"
      ]
    }
  ],
  "metadata": {
    "celltoolbar": "Tags",
    "kernelspec": {
      "display_name": "Python 3",
      "language": "python",
      "name": "python3"
    },
    "language_info": {
      "codemirror_mode": {
        "name": "ipython",
        "version": 3
      },
      "file_extension": ".py",
      "mimetype": "text/x-python",
      "name": "python",
      "nbconvert_exporter": "python",
      "pygments_lexer": "ipython3",
      "version": "3.7.7"
    },
    "colab": {
      "name": "03_arrays.ipynb",
      "provenance": []
    }
  },
  "nbformat": 4,
  "nbformat_minor": 0
}