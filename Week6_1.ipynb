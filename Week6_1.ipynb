{
  "nbformat": 4,
  "nbformat_minor": 0,
  "metadata": {
    "colab": {
      "provenance": [],
      "authorship_tag": "ABX9TyOk42T1iqJ3JekQL8GhWDYn",
      "include_colab_link": true
    },
    "kernelspec": {
      "name": "python3",
      "display_name": "Python 3"
    },
    "language_info": {
      "name": "python"
    }
  },
  "cells": [
    {
      "cell_type": "markdown",
      "metadata": {
        "id": "view-in-github",
        "colab_type": "text"
      },
      "source": [
        "<a href=\"https://colab.research.google.com/github/rskarbez/colab_notebooks/blob/main/Week6_1.ipynb\" target=\"_parent\"><img src=\"https://colab.research.google.com/assets/colab-badge.svg\" alt=\"Open In Colab\"/></a>"
      ]
    },
    {
      "cell_type": "code",
      "execution_count": 1,
      "metadata": {
        "colab": {
          "base_uri": "https://localhost:8080/"
        },
        "id": "Ze_12o-53Q5R",
        "outputId": "c1865cfa-3d11-4976-c812-9e37bea28a1a"
      },
      "outputs": [
        {
          "output_type": "stream",
          "name": "stdout",
          "text": [
            "<function f1 at 0x7fca5c61e320>\n"
          ]
        }
      ],
      "source": [
        "def f1():\n",
        "  return 1\n",
        "print(f1)"
      ]
    },
    {
      "cell_type": "code",
      "source": [
        "function_dictionary = {}\n",
        "function_dictionary['f1'] = f1\n",
        "print(function_dictionary)"
      ],
      "metadata": {
        "colab": {
          "base_uri": "https://localhost:8080/"
        },
        "id": "fs5KMjCS_p9z",
        "outputId": "607c6c5f-a04a-4046-caec-3785c1be9ed5"
      },
      "execution_count": 3,
      "outputs": [
        {
          "output_type": "stream",
          "name": "stdout",
          "text": [
            "{'f1': <function f1 at 0x7fca5c61e320>}\n"
          ]
        }
      ]
    },
    {
      "cell_type": "code",
      "source": [
        "dict_func = {}\n",
        "dict_func[f1] = 'f1'\n",
        "print(dict_func)"
      ],
      "metadata": {
        "colab": {
          "base_uri": "https://localhost:8080/"
        },
        "id": "S9f4gp7bAJfV",
        "outputId": "0229a35f-c153-47cf-ac2f-27014052e7e8"
      },
      "execution_count": 5,
      "outputs": [
        {
          "output_type": "stream",
          "name": "stdout",
          "text": [
            "{<function f1 at 0x7fca5c61e320>: 'f1'}\n"
          ]
        }
      ]
    },
    {
      "cell_type": "code",
      "source": [
        "dict_func['my_list'] = [1, 2, 3]"
      ],
      "metadata": {
        "id": "cr8m1mTnAyrA"
      },
      "execution_count": 6,
      "outputs": []
    },
    {
      "cell_type": "code",
      "source": [
        "print(dict_func)"
      ],
      "metadata": {
        "colab": {
          "base_uri": "https://localhost:8080/"
        },
        "id": "vynBcBmIA4wi",
        "outputId": "9fbd2db2-cd58-477f-b2d1-cbaaba332723"
      },
      "execution_count": 7,
      "outputs": [
        {
          "output_type": "stream",
          "name": "stdout",
          "text": [
            "{<function f1 at 0x7fca5c61e320>: 'f1', 'my_list': [1, 2, 3]}\n"
          ]
        }
      ]
    },
    {
      "cell_type": "code",
      "source": [
        "def get_keys_from_value(d, v):\n",
        "  return_list = []\n",
        "  for (k, v1) in d.items():\n",
        "    if v1 == v:\n",
        "      return_list.append(k)\n",
        "  return return_list"
      ],
      "metadata": {
        "id": "t_s5vY-CCosu"
      },
      "execution_count": 10,
      "outputs": []
    },
    {
      "cell_type": "code",
      "source": [
        "d = {1: 1, 2: 2, 3:3, 4:4, 5:1}\n",
        "print(get_keys_from_value(d, 1))"
      ],
      "metadata": {
        "colab": {
          "base_uri": "https://localhost:8080/"
        },
        "id": "xk0VTyqvDQkt",
        "outputId": "5ad29a6c-418f-46ca-8445-945bebda10bf"
      },
      "execution_count": 11,
      "outputs": [
        {
          "output_type": "stream",
          "name": "stdout",
          "text": [
            "[1, 5]\n"
          ]
        }
      ]
    },
    {
      "cell_type": "code",
      "source": [
        "print(get_keys_from_value(d, 23))"
      ],
      "metadata": {
        "colab": {
          "base_uri": "https://localhost:8080/"
        },
        "id": "uzXUxBvGDyas",
        "outputId": "0be5c07f-ea97-4835-b54a-6963b4e113f2"
      },
      "execution_count": 12,
      "outputs": [
        {
          "output_type": "stream",
          "name": "stdout",
          "text": [
            "[]\n"
          ]
        }
      ]
    },
    {
      "cell_type": "code",
      "source": [
        "works = {1: '1', 2: '2', 3: '3'}\n",
        "print(works)"
      ],
      "metadata": {
        "colab": {
          "base_uri": "https://localhost:8080/"
        },
        "id": "jqrzNkzED54E",
        "outputId": "670e20e0-8e3d-4670-ba35-7a47b0f0ff92"
      },
      "execution_count": 13,
      "outputs": [
        {
          "output_type": "stream",
          "name": "stdout",
          "text": [
            "{1: '1', 2: '2', 3: '3'}\n"
          ]
        }
      ]
    },
    {
      "cell_type": "code",
      "source": [
        "does_not_work = dict(one=1, two=1, three=1)\n",
        "print(does_not_work)"
      ],
      "metadata": {
        "colab": {
          "base_uri": "https://localhost:8080/"
        },
        "id": "_NQeStUkEI_z",
        "outputId": "cb2c5972-15e2-4c47-a729-6a8fbcce8b68"
      },
      "execution_count": 15,
      "outputs": [
        {
          "output_type": "stream",
          "name": "stdout",
          "text": [
            "{'one': 1, 'two': 1, 'three': 1}\n"
          ]
        }
      ]
    },
    {
      "cell_type": "code",
      "source": [
        "help(dict)"
      ],
      "metadata": {
        "colab": {
          "base_uri": "https://localhost:8080/"
        },
        "id": "rJL7SlLMEle_",
        "outputId": "38bf6920-88f4-42e4-aa46-3533e45fe42e"
      },
      "execution_count": 16,
      "outputs": [
        {
          "output_type": "stream",
          "name": "stdout",
          "text": [
            "Help on class dict in module builtins:\n",
            "\n",
            "class dict(object)\n",
            " |  dict() -> new empty dictionary\n",
            " |  dict(mapping) -> new dictionary initialized from a mapping object's\n",
            " |      (key, value) pairs\n",
            " |  dict(iterable) -> new dictionary initialized as if via:\n",
            " |      d = {}\n",
            " |      for k, v in iterable:\n",
            " |          d[k] = v\n",
            " |  dict(**kwargs) -> new dictionary initialized with the name=value pairs\n",
            " |      in the keyword argument list.  For example:  dict(one=1, two=2)\n",
            " |  \n",
            " |  Methods defined here:\n",
            " |  \n",
            " |  __contains__(self, key, /)\n",
            " |      True if the dictionary has the specified key, else False.\n",
            " |  \n",
            " |  __delitem__(self, key, /)\n",
            " |      Delete self[key].\n",
            " |  \n",
            " |  __eq__(self, value, /)\n",
            " |      Return self==value.\n",
            " |  \n",
            " |  __ge__(self, value, /)\n",
            " |      Return self>=value.\n",
            " |  \n",
            " |  __getattribute__(self, name, /)\n",
            " |      Return getattr(self, name).\n",
            " |  \n",
            " |  __getitem__(...)\n",
            " |      x.__getitem__(y) <==> x[y]\n",
            " |  \n",
            " |  __gt__(self, value, /)\n",
            " |      Return self>value.\n",
            " |  \n",
            " |  __init__(self, /, *args, **kwargs)\n",
            " |      Initialize self.  See help(type(self)) for accurate signature.\n",
            " |  \n",
            " |  __iter__(self, /)\n",
            " |      Implement iter(self).\n",
            " |  \n",
            " |  __le__(self, value, /)\n",
            " |      Return self<=value.\n",
            " |  \n",
            " |  __len__(self, /)\n",
            " |      Return len(self).\n",
            " |  \n",
            " |  __lt__(self, value, /)\n",
            " |      Return self<value.\n",
            " |  \n",
            " |  __ne__(self, value, /)\n",
            " |      Return self!=value.\n",
            " |  \n",
            " |  __repr__(self, /)\n",
            " |      Return repr(self).\n",
            " |  \n",
            " |  __setitem__(self, key, value, /)\n",
            " |      Set self[key] to value.\n",
            " |  \n",
            " |  __sizeof__(...)\n",
            " |      D.__sizeof__() -> size of D in memory, in bytes\n",
            " |  \n",
            " |  clear(...)\n",
            " |      D.clear() -> None.  Remove all items from D.\n",
            " |  \n",
            " |  copy(...)\n",
            " |      D.copy() -> a shallow copy of D\n",
            " |  \n",
            " |  get(self, key, default=None, /)\n",
            " |      Return the value for key if key is in the dictionary, else default.\n",
            " |  \n",
            " |  items(...)\n",
            " |      D.items() -> a set-like object providing a view on D's items\n",
            " |  \n",
            " |  keys(...)\n",
            " |      D.keys() -> a set-like object providing a view on D's keys\n",
            " |  \n",
            " |  pop(...)\n",
            " |      D.pop(k[,d]) -> v, remove specified key and return the corresponding value.\n",
            " |      If key is not found, d is returned if given, otherwise KeyError is raised\n",
            " |  \n",
            " |  popitem(...)\n",
            " |      D.popitem() -> (k, v), remove and return some (key, value) pair as a\n",
            " |      2-tuple; but raise KeyError if D is empty.\n",
            " |  \n",
            " |  setdefault(self, key, default=None, /)\n",
            " |      Insert key with a value of default if key is not in the dictionary.\n",
            " |      \n",
            " |      Return the value for key if key is in the dictionary, else default.\n",
            " |  \n",
            " |  update(...)\n",
            " |      D.update([E, ]**F) -> None.  Update D from dict/iterable E and F.\n",
            " |      If E is present and has a .keys() method, then does:  for k in E: D[k] = E[k]\n",
            " |      If E is present and lacks a .keys() method, then does:  for k, v in E: D[k] = v\n",
            " |      In either case, this is followed by: for k in F:  D[k] = F[k]\n",
            " |  \n",
            " |  values(...)\n",
            " |      D.values() -> an object providing a view on D's values\n",
            " |  \n",
            " |  ----------------------------------------------------------------------\n",
            " |  Class methods defined here:\n",
            " |  \n",
            " |  fromkeys(iterable, value=None, /) from builtins.type\n",
            " |      Create a new dictionary with keys from iterable and values set to value.\n",
            " |  \n",
            " |  ----------------------------------------------------------------------\n",
            " |  Static methods defined here:\n",
            " |  \n",
            " |  __new__(*args, **kwargs) from builtins.type\n",
            " |      Create and return a new object.  See help(type) for accurate signature.\n",
            " |  \n",
            " |  ----------------------------------------------------------------------\n",
            " |  Data and other attributes defined here:\n",
            " |  \n",
            " |  __hash__ = None\n",
            "\n"
          ]
        }
      ]
    },
    {
      "cell_type": "code",
      "source": [
        "new_dict = dict([(1, 2), (3, 4), (5, 6)])\n",
        "print(new_dict)"
      ],
      "metadata": {
        "colab": {
          "base_uri": "https://localhost:8080/"
        },
        "id": "NV12SPyeE2Pq",
        "outputId": "58436155-5484-4aad-8649-d98df7fdb181"
      },
      "execution_count": 17,
      "outputs": [
        {
          "output_type": "stream",
          "name": "stdout",
          "text": [
            "{1: 2, 3: 4, 5: 6}\n"
          ]
        }
      ]
    },
    {
      "cell_type": "code",
      "source": [
        "special_numbers = dict()\n",
        "special_numbers['pi'] = [3, 1, 4, 1, 5, 9, 2, 6, 5]\n",
        "special_numbers['e'] = [2, 7, 1, 8, 2, 8, 1, 8, 2, 8]\n",
        "special_numbers['phi'] = [1, 6, 1, 8]\n",
        "special_numbers['the_answer'] = [42]\n",
        "special_numbers['fibonacci'] = [0, 1, 1, 2, 3, 5, 8, 13]"
      ],
      "metadata": {
        "id": "UVEBnqqkG6vv"
      },
      "execution_count": 18,
      "outputs": []
    },
    {
      "cell_type": "code",
      "source": [
        "print(special_numbers)"
      ],
      "metadata": {
        "colab": {
          "base_uri": "https://localhost:8080/"
        },
        "id": "7wr2rOx1Hfu_",
        "outputId": "a563d035-8412-47c3-fdf6-5059da287c5b"
      },
      "execution_count": 19,
      "outputs": [
        {
          "output_type": "stream",
          "name": "stdout",
          "text": [
            "{'pi': [3, 1, 4, 1, 5, 9, 2, 6, 5], 'e': [2, 7, 1, 8, 2, 8, 1, 8, 2, 8], 'phi': [1, 6, 1, 8], 'the_answer': [42], 'fibonacci': [0, 1, 1, 2, 3, 5, 8, 13]}\n"
          ]
        }
      ]
    },
    {
      "cell_type": "code",
      "source": [
        "for (k, v) in special_numbers.items():\n",
        "  print(k, '=>', v)"
      ],
      "metadata": {
        "colab": {
          "base_uri": "https://localhost:8080/"
        },
        "id": "QKSWUeqIHjkb",
        "outputId": "0a752e06-6189-43c0-a2ac-90cf3d9e2e5b"
      },
      "execution_count": 21,
      "outputs": [
        {
          "output_type": "stream",
          "name": "stdout",
          "text": [
            "pi => [3, 1, 4, 1, 5, 9, 2, 6, 5]\n",
            "e => [2, 7, 1, 8, 2, 8, 1, 8, 2, 8]\n",
            "phi => [1, 6, 1, 8]\n",
            "the_answer => [42]\n",
            "fibonacci => [0, 1, 1, 2, 3, 5, 8, 13]\n"
          ]
        }
      ]
    },
    {
      "cell_type": "markdown",
      "source": [],
      "metadata": {
        "id": "MXSPNcRzJAX_"
      }
    },
    {
      "cell_type": "code",
      "source": [
        "for (k, v) in special_numbers.items():\n",
        "  print('===', k, '===')\n",
        "  for digit in v:\n",
        "    print(digit)"
      ],
      "metadata": {
        "colab": {
          "base_uri": "https://localhost:8080/"
        },
        "id": "dOgOj7a7H0Q1",
        "outputId": "5c86af80-b863-4d0e-d263-255373ae7783"
      },
      "execution_count": 22,
      "outputs": [
        {
          "output_type": "stream",
          "name": "stdout",
          "text": [
            "=== pi ===\n",
            "3\n",
            "1\n",
            "4\n",
            "1\n",
            "5\n",
            "9\n",
            "2\n",
            "6\n",
            "5\n",
            "=== e ===\n",
            "2\n",
            "7\n",
            "1\n",
            "8\n",
            "2\n",
            "8\n",
            "1\n",
            "8\n",
            "2\n",
            "8\n",
            "=== phi ===\n",
            "1\n",
            "6\n",
            "1\n",
            "8\n",
            "=== the_answer ===\n",
            "42\n",
            "=== fibonacci ===\n",
            "0\n",
            "1\n",
            "1\n",
            "2\n",
            "3\n",
            "5\n",
            "8\n",
            "13\n"
          ]
        }
      ]
    },
    {
      "cell_type": "code",
      "source": [
        "for (i1, i2) in special_numbers.items():\n",
        "  print('===', i1, '===')\n",
        "  for digit in i2:\n",
        "    print(digit)"
      ],
      "metadata": {
        "colab": {
          "base_uri": "https://localhost:8080/"
        },
        "id": "FkVlDpolIZr-",
        "outputId": "53d8b10f-46e2-46d8-e526-780fa31f079c"
      },
      "execution_count": 24,
      "outputs": [
        {
          "output_type": "stream",
          "name": "stdout",
          "text": [
            "=== pi ===\n",
            "3\n",
            "1\n",
            "4\n",
            "1\n",
            "5\n",
            "9\n",
            "2\n",
            "6\n",
            "5\n",
            "=== e ===\n",
            "2\n",
            "7\n",
            "1\n",
            "8\n",
            "2\n",
            "8\n",
            "1\n",
            "8\n",
            "2\n",
            "8\n",
            "=== phi ===\n",
            "1\n",
            "6\n",
            "1\n",
            "8\n",
            "=== the_answer ===\n",
            "42\n",
            "=== fibonacci ===\n",
            "0\n",
            "1\n",
            "1\n",
            "2\n",
            "3\n",
            "5\n",
            "8\n",
            "13\n"
          ]
        }
      ]
    },
    {
      "cell_type": "code",
      "source": [
        "for k in special_numbers:\n",
        "   print(k, special_numbers[k])"
      ],
      "metadata": {
        "colab": {
          "base_uri": "https://localhost:8080/"
        },
        "id": "H3Kaotb4IxE_",
        "outputId": "4d9717a4-0a10-4d8b-b583-bade8c75905d"
      },
      "execution_count": 25,
      "outputs": [
        {
          "output_type": "stream",
          "name": "stdout",
          "text": [
            "pi [3, 1, 4, 1, 5, 9, 2, 6, 5]\n",
            "e [2, 7, 1, 8, 2, 8, 1, 8, 2, 8]\n",
            "phi [1, 6, 1, 8]\n",
            "the_answer [42]\n",
            "fibonacci [0, 1, 1, 2, 3, 5, 8, 13]\n"
          ]
        }
      ]
    },
    {
      "cell_type": "code",
      "source": [
        "special_numbers.update({'approximate_pi': [22, 7]})"
      ],
      "metadata": {
        "id": "dBz60dmKJfv9"
      },
      "execution_count": 31,
      "outputs": []
    },
    {
      "cell_type": "code",
      "source": [
        "print(special_numbers)"
      ],
      "metadata": {
        "colab": {
          "base_uri": "https://localhost:8080/"
        },
        "id": "S2EI3kgXJq0l",
        "outputId": "0b66380b-d658-47f3-9a50-450e4dd97361"
      },
      "execution_count": 32,
      "outputs": [
        {
          "output_type": "stream",
          "name": "stdout",
          "text": [
            "{'pi': [3, 1, 4, 1, 5, 9, 2, 6, 5], 'e': [2, 7, 1, 8, 2, 8, 1, 8, 2, 8], 'phi': [1, 6, 1, 8], 'the_answer': [42], 'fibonacci': [0, 1, 1, 2, 3, 5, 8, 13], 'approximate_pi': [22, 7]}\n"
          ]
        }
      ]
    },
    {
      "cell_type": "code",
      "source": [
        "special_numbers |= {'approximate_phi': [13, 8]}"
      ],
      "metadata": {
        "colab": {
          "base_uri": "https://localhost:8080/",
          "height": 166
        },
        "id": "hISP7guyKg8p",
        "outputId": "f801d2d4-5efb-4017-c767-51f7c2ee1057"
      },
      "execution_count": 33,
      "outputs": [
        {
          "output_type": "error",
          "ename": "TypeError",
          "evalue": "ignored",
          "traceback": [
            "\u001b[0;31m---------------------------------------------------------------------------\u001b[0m",
            "\u001b[0;31mTypeError\u001b[0m                                 Traceback (most recent call last)",
            "\u001b[0;32m<ipython-input-33-db6fcb2aa492>\u001b[0m in \u001b[0;36m<module>\u001b[0;34m\u001b[0m\n\u001b[0;32m----> 1\u001b[0;31m \u001b[0mspecial_numbers\u001b[0m \u001b[0;34m|=\u001b[0m \u001b[0;34m{\u001b[0m\u001b[0;34m'approximate_phi'\u001b[0m\u001b[0;34m:\u001b[0m \u001b[0;34m[\u001b[0m\u001b[0;36m13\u001b[0m\u001b[0;34m,\u001b[0m \u001b[0;36m8\u001b[0m\u001b[0;34m]\u001b[0m\u001b[0;34m}\u001b[0m\u001b[0;34m\u001b[0m\u001b[0;34m\u001b[0m\u001b[0m\n\u001b[0m",
            "\u001b[0;31mTypeError\u001b[0m: unsupported operand type(s) for |=: 'dict' and 'dict'"
          ]
        }
      ]
    },
    {
      "cell_type": "code",
      "source": [
        "import sys\n",
        "print(sys.version)"
      ],
      "metadata": {
        "colab": {
          "base_uri": "https://localhost:8080/"
        },
        "id": "7WMbMjqiLFb6",
        "outputId": "10f2634c-7033-40be-df8f-fa92b922da9f"
      },
      "execution_count": 35,
      "outputs": [
        {
          "output_type": "stream",
          "name": "stdout",
          "text": [
            "3.7.15 (default, Oct 12 2022, 19:14:55) \n",
            "[GCC 7.5.0]\n"
          ]
        }
      ]
    },
    {
      "cell_type": "code",
      "source": [
        "nums = [1, 2,3, 5,6 ,6, 78,8 ,4, 2,2 ,1, 132, 246,7,8 , 34, 23,4512, 46, 42, 53,23, 6 ,1,1,1, 36,45, 75, 8, 9 ,99,6, 5, 43, 34, 35]\n",
        "print(nums)"
      ],
      "metadata": {
        "colab": {
          "base_uri": "https://localhost:8080/"
        },
        "id": "No2jVoy3O5Ib",
        "outputId": "62ba9b2c-7ba9-4e3c-c3a3-55c0d5615a1c"
      },
      "execution_count": 36,
      "outputs": [
        {
          "output_type": "stream",
          "name": "stdout",
          "text": [
            "[1, 2, 3, 5, 6, 6, 78, 8, 4, 2, 2, 1, 132, 246, 7, 8, 34, 23, 4512, 46, 42, 53, 23, 6, 1, 1, 1, 36, 45, 75, 8, 9, 99, 6, 5, 43, 34, 35]\n"
          ]
        }
      ]
    },
    {
      "cell_type": "code",
      "source": [
        "def centered_average_2(nums):\n",
        "  min_nums = min(nums)\n",
        "  max_nums = max(nums)\n",
        "  sum_nums = 0\n",
        "  ignored_nums_count = 0\n",
        "  for i in nums:\n",
        "    if i == min_nums or i == max_nums:\n",
        "      ignored_nums_count += 1\n",
        "    else:\n",
        "      sum_nums += i\n",
        "  return sum_nums // (len(nums) - ignored_nums_count)"
      ],
      "metadata": {
        "id": "Ew5d4CFPPOz2"
      },
      "execution_count": 38,
      "outputs": []
    }
  ]
}