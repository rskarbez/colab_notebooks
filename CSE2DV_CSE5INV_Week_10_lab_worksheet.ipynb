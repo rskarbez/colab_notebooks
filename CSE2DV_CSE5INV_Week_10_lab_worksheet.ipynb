{
  "nbformat": 4,
  "nbformat_minor": 0,
  "metadata": {
    "colab": {
      "provenance": [],
      "authorship_tag": "ABX9TyOTLzC3kRjWCF2t5MMxb9rU",
      "include_colab_link": true
    },
    "kernelspec": {
      "name": "python3",
      "display_name": "Python 3"
    },
    "language_info": {
      "name": "python"
    }
  },
  "cells": [
    {
      "cell_type": "markdown",
      "metadata": {
        "id": "view-in-github",
        "colab_type": "text"
      },
      "source": [
        "<a href=\"https://colab.research.google.com/github/rskarbez/colab_notebooks/blob/main/CSE2DV_CSE5INV_Week_10_lab_worksheet.ipynb\" target=\"_parent\"><img src=\"https://colab.research.google.com/assets/colab-badge.svg\" alt=\"Open In Colab\"/></a>"
      ]
    },
    {
      "cell_type": "markdown",
      "source": [
        "# CSE2DV/CSE5INV - Week 10 lab notebook\n",
        "\n",
        "In this week's lab, we're going to learn to work with and to visualize network data. We're going to make use of the `pandas` package to load datasets, the `networkx` package to create and manipulate networks, and the `pyvis` package to visualize them.\n",
        "\n",
        "From the `networkx` documentation:\n",
        "\n",
        "> NetworkX is a Python package for the creation, manipulation, and study of the structure, dynamics, and functions of complex networks.\n",
        "\n",
        "From the `pyvis` documentation:\n",
        "\n",
        "> The goal of this project is to build a python based approach to constructing and visualizing network graphs in the same space. A pyvis network can be customized on a per node or per edge basis. Nodes can be given colors, sizes, labels, and other metadata. Each graph can be interacted with, allowing the dragging, hovering, and selection of nodes and edges. Each graph’s layout algorithm can be tweaked as well to allow experimentation with rendering of larger graphs.\n",
        "\n"
      ],
      "metadata": {
        "id": "-_Viwmhp45g5"
      }
    },
    {
      "cell_type": "code",
      "execution_count": 109,
      "metadata": {
        "colab": {
          "base_uri": "https://localhost:8080/"
        },
        "id": "aNnggKmV4zil",
        "outputId": "b3de27ca-01eb-48b9-9fec-ae4daf759129"
      },
      "outputs": [
        {
          "output_type": "stream",
          "name": "stdout",
          "text": [
            "\u001b[33mWARNING: Running pip as the 'root' user can result in broken permissions and conflicting behaviour with the system package manager. It is recommended to use a virtual environment instead: https://pip.pypa.io/warnings/venv\u001b[0m\u001b[33m\n",
            "\u001b[0m✨🍰✨ Everything looks OK!\n",
            "\n",
            "                  __    __    __    __\n",
            "                 /  \\  /  \\  /  \\  /  \\\n",
            "                /    \\/    \\/    \\/    \\\n",
            "███████████████/  /██/  /██/  /██/  /████████████████████████\n",
            "              /  / \\   / \\   / \\   / \\  \\____\n",
            "             /  /   \\_/   \\_/   \\_/   \\    o \\__,\n",
            "            / _/                       \\_____/  `\n",
            "            |/\n",
            "        ███╗   ███╗ █████╗ ███╗   ███╗██████╗  █████╗\n",
            "        ████╗ ████║██╔══██╗████╗ ████║██╔══██╗██╔══██╗\n",
            "        ██╔████╔██║███████║██╔████╔██║██████╔╝███████║\n",
            "        ██║╚██╔╝██║██╔══██║██║╚██╔╝██║██╔══██╗██╔══██║\n",
            "        ██║ ╚═╝ ██║██║  ██║██║ ╚═╝ ██║██████╔╝██║  ██║\n",
            "        ╚═╝     ╚═╝╚═╝  ╚═╝╚═╝     ╚═╝╚═════╝ ╚═╝  ╚═╝\n",
            "\n",
            "        mamba (0.25.0) supported by @QuantStack\n",
            "\n",
            "        GitHub:  https://github.com/mamba-org/mamba\n",
            "        Twitter: https://twitter.com/QuantStack\n",
            "\n",
            "█████████████████████████████████████████████████████████████\n",
            "\n",
            "\n",
            "Looking for: ['pyvis']\n",
            "\n",
            "\u001b[?25l\u001b[2K\u001b[0G[+] 0.0s\n",
            "\u001b[2K\u001b[1A\u001b[2K\u001b[0G[+] 0.1s\n",
            "conda-forge/linux-64  ⣾  \n",
            "conda-forge/noarch    ⣾  \u001b[2K\u001b[1A\u001b[2K\u001b[1A\u001b[2K\u001b[0G[+] 0.2s\n",
            "conda-forge/linux-64  ⣾  \n",
            "conda-forge/noarch    ⣾  \u001b[2K\u001b[1A\u001b[2K\u001b[1A\u001b[2K\u001b[0G[+] 0.3s\n",
            "conda-forge/linux-64  ⣾  \n",
            "conda-forge/noarch    ⣾  \u001b[2K\u001b[1A\u001b[2K\u001b[1A\u001b[2K\u001b[0G[+] 0.4s\n",
            "conda-forge/linux-64  ⣾  \n",
            "conda-forge/noarch    ⣾  \u001b[2K\u001b[1A\u001b[2K\u001b[1A\u001b[2K\u001b[0G[+] 0.5s\n",
            "conda-forge/linux-64  ⣾  \n",
            "conda-forge/noarch    ⣾  \u001b[2K\u001b[1A\u001b[2K\u001b[1A\u001b[2K\u001b[0G[+] 0.6s\n",
            "conda-forge/linux-64  ⣾  \n",
            "conda-forge/noarch    ⣾  \u001b[2K\u001b[1A\u001b[2K\u001b[1A\u001b[2K\u001b[0G[+] 0.7s\n",
            "conda-forge/linux-64  ⣾  \n",
            "conda-forge/noarch    ⣾  \u001b[2K\u001b[1A\u001b[2K\u001b[1A\u001b[2K\u001b[0G[+] 0.8s\n",
            "conda-forge/linux-64  ⣾  \n",
            "conda-forge/noarch    ⣾  \u001b[2K\u001b[1A\u001b[2K\u001b[1A\u001b[2K\u001b[0G[+] 0.9s\n",
            "conda-forge/linux-64  ⣾  \n",
            "conda-forge/noarch    ⣾  \u001b[2K\u001b[1A\u001b[2K\u001b[1A\u001b[2K\u001b[0G[+] 1.0s\n",
            "conda-forge/linux-64  ⣾  \n",
            "conda-forge/noarch    ⣾  \u001b[2K\u001b[1A\u001b[2K\u001b[1A\u001b[2K\u001b[0G[+] 1.1s\n",
            "conda-forge/linux-64  ⣾  \n",
            "conda-forge/noarch    ⣾  \u001b[2K\u001b[1A\u001b[2K\u001b[1A\u001b[2K\u001b[0G[+] 1.2s\n",
            "conda-forge/linux-64  ⣾  \n",
            "conda-forge/noarch    ⣾  \u001b[2K\u001b[1A\u001b[2K\u001b[1A\u001b[2K\u001b[0G[+] 1.3s\n",
            "conda-forge/linux-64  ⣾  \n",
            "conda-forge/noarch    ⣾  \u001b[2K\u001b[1A\u001b[2K\u001b[1A\u001b[2K\u001b[0G[+] 1.4s\n",
            "conda-forge/linux-64  ⣾  \n",
            "conda-forge/noarch    ⣾  \u001b[2K\u001b[1A\u001b[2K\u001b[1A\u001b[2K\u001b[0G[+] 1.5s\n",
            "conda-forge/linux-64  ⣾  \n",
            "conda-forge/noarch    ⣾  \u001b[2K\u001b[1A\u001b[2K\u001b[1A\u001b[2K\u001b[0G[+] 1.6s\n",
            "conda-forge/linux-64  ⣾  \n",
            "conda-forge/noarch    ⣾  \u001b[2K\u001b[1A\u001b[2K\u001b[1A\u001b[2K\u001b[0G[+] 1.7s\n",
            "conda-forge/linux-64  ⣾  \n",
            "conda-forge/noarch    ⣾  \u001b[2K\u001b[1A\u001b[2K\u001b[1A\u001b[2K\u001b[0G[+] 1.8s\n",
            "conda-forge/linux-64  ⣾  \n",
            "conda-forge/noarch    ⣾  \u001b[2K\u001b[1A\u001b[2K\u001b[1A\u001b[2K\u001b[0G[+] 1.9s\n",
            "conda-forge/linux-64  ⣾  \n",
            "conda-forge/noarch    ⣾  \u001b[2K\u001b[1A\u001b[2K\u001b[1A\u001b[2K\u001b[0G[+] 2.0s\n",
            "conda-forge/linux-64  ⣾  \n",
            "conda-forge/noarch    ⣾  \u001b[2K\u001b[1A\u001b[2K\u001b[1A\u001b[2K\u001b[0G[+] 2.1s\n",
            "conda-forge/linux-64  ⣾  \n",
            "conda-forge/noarch    ⣾  \u001b[2K\u001b[1A\u001b[2K\u001b[1A\u001b[2K\u001b[0G[+] 2.2s\n",
            "conda-forge/linux-64  ⣾  \n",
            "conda-forge/noarch    ⣾  \u001b[2K\u001b[1A\u001b[2K\u001b[1A\u001b[2K\u001b[0G[+] 2.3s\n",
            "conda-forge/linux-64  ⣾  \n",
            "conda-forge/noarch    ⣾  \u001b[2K\u001b[1A\u001b[2K\u001b[1A\u001b[2K\u001b[0G[+] 2.4s\n",
            "conda-forge/linux-64  ⣾  \n",
            "conda-forge/noarch    ⣾  \u001b[2K\u001b[1A\u001b[2K\u001b[1A\u001b[2K\u001b[0G[+] 2.5s\n",
            "conda-forge/linux-64  ⣾  \n",
            "conda-forge/noarch    ⣾  \u001b[2K\u001b[1A\u001b[2K\u001b[1A\u001b[2K\u001b[0G[+] 2.6s\n",
            "conda-forge/linux-64  ⣾  \n",
            "conda-forge/noarch    ⣾  \u001b[2K\u001b[1A\u001b[2K\u001b[1A\u001b[2K\u001b[0G[+] 2.7s\n",
            "conda-forge/linux-64  ⣾  \n",
            "conda-forge/noarch    ⣾  \u001b[2K\u001b[1A\u001b[2K\u001b[1A\u001b[2K\u001b[0G[+] 2.8s\n",
            "conda-forge/linux-64  ⣾  \n",
            "conda-forge/noarch    ⣾  \u001b[2K\u001b[1A\u001b[2K\u001b[1A\u001b[2K\u001b[0G[+] 2.9s\n",
            "conda-forge/linux-64  ⣾  \n",
            "conda-forge/noarch    ⣾  \u001b[2K\u001b[1A\u001b[2K\u001b[1A\u001b[2K\u001b[0G[+] 3.0s\n",
            "conda-forge/linux-64  ⣾  \n",
            "conda-forge/noarch    ⣾  \u001b[2K\u001b[1A\u001b[2K\u001b[1A\u001b[2K\u001b[0G[+] 3.1s\n",
            "conda-forge/linux-64  ⣾  \n",
            "conda-forge/noarch    ⣾  \u001b[2K\u001b[1A\u001b[2K\u001b[1A\u001b[2K\u001b[0G[+] 3.2s\n",
            "conda-forge/linux-64  ⣾  \n",
            "conda-forge/noarch    ⣾  \u001b[2K\u001b[1A\u001b[2K\u001b[1A\u001b[2K\u001b[0G[+] 3.3s\n",
            "conda-forge/linux-64  ⣾  \n",
            "conda-forge/noarch    ⣾  \u001b[2K\u001b[1A\u001b[2K\u001b[1A\u001b[2K\u001b[0G[+] 3.4s\n",
            "conda-forge/linux-64  ⣾  \n",
            "conda-forge/noarch    ⣾  \u001b[2K\u001b[1A\u001b[2K\u001b[1A\u001b[2K\u001b[0G[+] 3.5s\n",
            "conda-forge/linux-64  ⣾  \n",
            "conda-forge/noarch   100%\u001b[2K\u001b[1A\u001b[2K\u001b[1A\u001b[2K\u001b[0G[+] 3.6s\n",
            "conda-forge/linux-64  ⣾  \n",
            "conda-forge/noarch   100%\u001b[2K\u001b[1A\u001b[2K\u001b[1A\u001b[2K\u001b[0G[+] 3.7s\n",
            "conda-forge/linux-64  ⣾  \n",
            "conda-forge/noarch   100%\u001b[2K\u001b[1A\u001b[2K\u001b[1A\u001b[2K\u001b[0G[+] 3.8s\n",
            "conda-forge/linux-64  ⣾  \n",
            "conda-forge/noarch   100%\u001b[2K\u001b[1A\u001b[2K\u001b[1A\u001b[2K\u001b[0Gconda-forge/noarch                                \n",
            "[+] 3.9s\n",
            "conda-forge/linux-64  ⣾  \u001b[2K\u001b[1A\u001b[2K\u001b[0G[+] 4.0s\n",
            "conda-forge/linux-64  ⣾  \u001b[2K\u001b[1A\u001b[2K\u001b[0G[+] 4.1s\n",
            "conda-forge/linux-64  ⣾  \u001b[2K\u001b[1A\u001b[2K\u001b[0G[+] 4.2s\n",
            "conda-forge/linux-64  ⣾  \u001b[2K\u001b[1A\u001b[2K\u001b[0G[+] 4.3s\n",
            "conda-forge/linux-64  ⣾  \u001b[2K\u001b[1A\u001b[2K\u001b[0G[+] 4.4s\n",
            "conda-forge/linux-64  ⣾  \u001b[2K\u001b[1A\u001b[2K\u001b[0G[+] 4.5s\n",
            "conda-forge/linux-64  ⣾  \u001b[2K\u001b[1A\u001b[2K\u001b[0G[+] 4.6s\n",
            "conda-forge/linux-64  ⣾  \u001b[2K\u001b[1A\u001b[2K\u001b[0G[+] 4.7s\n",
            "conda-forge/linux-64  ⣾  \u001b[2K\u001b[1A\u001b[2K\u001b[0G[+] 4.8s\n",
            "conda-forge/linux-64  ⣾  \u001b[2K\u001b[1A\u001b[2K\u001b[0G[+] 4.9s\n",
            "conda-forge/linux-64  ⣾  \u001b[2K\u001b[1A\u001b[2K\u001b[0G[+] 5.0s\n",
            "conda-forge/linux-64 100%\u001b[2K\u001b[1A\u001b[2K\u001b[0G[+] 5.1s\n",
            "conda-forge/linux-64 100%\u001b[2K\u001b[1A\u001b[2K\u001b[0G[+] 5.2s\n",
            "conda-forge/linux-64 100%\u001b[2K\u001b[1A\u001b[2K\u001b[0G[+] 5.3s\n",
            "conda-forge/linux-64 100%\u001b[2K\u001b[1A\u001b[2K\u001b[0G[+] 5.4s\n",
            "conda-forge/linux-64 100%\u001b[2K\u001b[1A\u001b[2K\u001b[0G[+] 5.5s\n",
            "conda-forge/linux-64 100%\u001b[2K\u001b[1A\u001b[2K\u001b[0G[+] 5.6s\n",
            "conda-forge/linux-64 100%\u001b[2K\u001b[1A\u001b[2K\u001b[0G[+] 5.7s\n",
            "conda-forge/linux-64 100%\u001b[2K\u001b[1A\u001b[2K\u001b[0G[+] 5.8s\n",
            "conda-forge/linux-64 100%\u001b[2K\u001b[1A\u001b[2K\u001b[0G[+] 5.9s\n",
            "\u001b[2K\u001b[1A\u001b[2K\u001b[0Gconda-forge/linux-64                              \n",
            "\u001b[?25h\n",
            "Pinned packages:\n",
            "  - python 3.7.*\n",
            "  - python 3.7.*\n",
            "  - python_abi 3.7.* *cp37*\n",
            "  - cudatoolkit 11.1.*\n",
            "\n",
            "\n",
            "Transaction\n",
            "\n",
            "  Prefix: /usr/local\n",
            "\n",
            "  All requested packages already installed\n",
            "\n",
            "\u001b[?25l\u001b[2K\u001b[0G\u001b[?25h"
          ]
        }
      ],
      "source": [
        "# pyvis is not available on Google Colab by default,\n",
        "#   so we need to bring it in using conda\n",
        "# NOTE: This should only take a minute, but please be patient!\n",
        "!pip install -q condacolab\n",
        "import condacolab\n",
        "condacolab.install()\n",
        "!mamba install pyvis\n",
        "\n",
        "# Do the imports of pyvis, networkx, and pandas\n",
        "from pyvis.network import Network\n",
        "import networkx as nx\n",
        "import pandas as pd\n",
        "\n",
        "# Import IPython which is needed to display outputs in colab\n",
        "import IPython\n",
        "\n",
        "# Import shutil which is needed to unzip the pandas dataset\n",
        "import shutil"
      ]
    },
    {
      "cell_type": "markdown",
      "source": [
        "# Manually editing Network() objects in pyvis.network\n",
        "\n",
        "One way to bring in network data to visualize with `pyvis` is to manually edit a `pyvis.network.Network` object. We'll start off doing things that way. It's a bit tedious, but educational. First step is to instantiate a `Network` object:\n",
        "\n",
        "`net = Network()`\n",
        "\n",
        "Once your basic network has been created, you can add nodes to the network with the `Network.add_node()` function, either one at a time:\n",
        "\n",
        "`net.add_node(1, label=\"Node 1\") # node id = 1 and label = Node 1`\n",
        "\n",
        "`net.add_node(2) # node id and label = 2`\n",
        "\n",
        "or as a list:\n",
        "\n",
        "`nodes = [\"a\", \"b\", \"c\", \"d\"]`\n",
        "\n",
        "`net.add_nodes(nodes) # node ids and labels = [\"a\", \"b\", \"c\", \"d\"]`\n",
        "\n",
        "`net.add_nodes(\"hello\") # node ids and labels = [\"h\", \"e\", \"l\", \"o\"]`\n",
        "\n",
        "With `add_node()` or `add_nodes()`, you can also add one or more keyword arguments associated with each node. The valid keywords (which are relatively few and hopefully self-explanatory) are \n",
        "\n",
        "`size, value, title, x, y, label, color`\n",
        "\n",
        "This example employs all of them:\n",
        "\n",
        "`g = Network()`\n",
        "\n",
        "`g.add_nodes([1,2,3],`\n",
        "\n",
        "`            value=[10, 100, 400],`\n",
        "\n",
        "`            title=['I am node 1', 'node 2 here', 'and im node 3'],`\n",
        "\n",
        "`            x=[21.4, 54.2, 11.2],`\n",
        "\n",
        "`            y=[100.2, 23.54, 32.1],`\n",
        "\n",
        "`            label=['NODE 1', 'NODE 2', 'NODE 3'],`\n",
        "\n",
        "`            color=['#00ff1e', '#162347', '#dd4b39'])`\n",
        "\n",
        "\n",
        "Once you have created nodes in your network, you can also add edges:\n",
        "\n",
        "`net = Network()`\n",
        "\n",
        "`net.add_node(0, label='a')`\n",
        "\n",
        "`net.add_node(1, label='b')`\n",
        "\n",
        "`net.add_edge(0, 1)`\n",
        "\n",
        "Edges can have one keyword argument, `weight`, associated with them, as in:\n",
        "\n",
        "`net.add_edge(0, 1, weight=.87)`"
      ],
      "metadata": {
        "id": "uycBKhj29_qR"
      }
    },
    {
      "cell_type": "markdown",
      "source": [
        "# Problem with interactive vis in Colab\n",
        "\n",
        "So, now's the time where I tell you that this isn't as slick as it should be. If you were running this in a  Jupyter Notebook on your local computer, all you'd have to do is add `notebook=True` to the `Network()` call on the first line of these cells, and it would pop up an interactive visualization.\n",
        "\n",
        "However, because of, like, \"security\" and \"well-behaved webpages\", that doesn't work in Colab. Here's what you do instead.\n",
        "\n",
        "\n",
        "1.   Click the folder icon in the left-hand side of the window to bring up the file browser.\n",
        "2.   Right-click on the html file that you want to run. The name of the file is the string argument that was passed to the `show()` function: For the first cell below, the corresponding HTML file is `3nodes.html`.\n",
        "3.   Select `Download`.\n",
        "4.   Once that file has downloaded, open the local copy in a web browser of your choice.\n",
        "\n",
        "Voila! Interactive network visualization."
      ],
      "metadata": {
        "id": "yLiU6BlMo9Qm"
      }
    },
    {
      "cell_type": "code",
      "source": [
        "g = Network('500px', '500px')\n",
        "g.add_nodes([1,2,3], value=[10, 100, 400],\n",
        "                         title=['I am node 1', 'node 2 here', 'and im node 3'],\n",
        "                         #x=[21.4, 54.2, 11.2],\n",
        "                         #y=[100.2, 23.54, 32.1],\n",
        "                         label=['NODE 1', 'NODE 2', 'NODE 3'],\n",
        "                         color=['#00ff1e', '#162347', '#dd4b39'])\n",
        "g.show('3nodes.html')"
      ],
      "metadata": {
        "id": "sRtRmlcQUHC2"
      },
      "execution_count": 121,
      "outputs": []
    },
    {
      "cell_type": "markdown",
      "source": [
        "# Using the `networkx` package to create networks\n",
        "\n",
        "For creating and editing networks, the `networkx` package is easier and more fully-featured than the `pyvis.Network` module. Luckily, it is possible to use the `networkx` package to create your network and use the handy pyvis helper function `.from_nx()` to convert the `networkx` graph to a `pyvis Network`. See the below example, which generates the output visualization in the `nx.html` file."
      ],
      "metadata": {
        "id": "tdRrY_LyqDGw"
      }
    },
    {
      "cell_type": "code",
      "source": [
        "nx_graph = nx.cycle_graph(10)\n",
        "nx_graph.nodes[1]['title'] = 'Number 1'\n",
        "nx_graph.nodes[1]['group'] = 1\n",
        "nx_graph.nodes[3]['title'] = 'I belong to a different group!'\n",
        "nx_graph.nodes[3]['group'] = 10\n",
        "nx_graph.add_node(20, size=20, title='couple', group=2)\n",
        "nx_graph.add_node(21, size=15, title='couple', group=2)\n",
        "nx_graph.add_edge(20, 21, weight=5)\n",
        "nx_graph.add_node(25, size=25, label='lonely', title='lonely node', group=3)\n",
        "nt = Network('500px', '500px')\n",
        "# populates the nodes and edges data structures\n",
        "nt.from_nx(nx_graph)\n",
        "nt.show('nx.html')"
      ],
      "metadata": {
        "id": "rSbugTeQbZUl"
      },
      "execution_count": 107,
      "outputs": []
    },
    {
      "cell_type": "markdown",
      "source": [
        "# Importing network data using pandas"
      ],
      "metadata": {
        "id": "wfUuw12kq3P6"
      }
    },
    {
      "cell_type": "code",
      "source": [
        "# Download and extract the dataset\n",
        "!wget https://melaniewalsh.github.io/Intro-Cultural-Analytics/_downloads/1d4d9192fd40b1204b4d790892ce8d5a/game-of-thrones-characters.zip\n",
        "shutil.unpack_archive('game-of-thrones-characters.zip')"
      ],
      "metadata": {
        "id": "ExAK4Cpus8-z"
      },
      "execution_count": null,
      "outputs": []
    },
    {
      "cell_type": "code",
      "source": [
        "got_net = Network(height=\"750px\", width=\"100%\")\n",
        "\n",
        "# set the physics layout of the network\n",
        "got_net.barnes_hut()\n",
        "got_data = pd.read_csv('/content/game-of-thrones/got-edges.csv')\n",
        "\n",
        "got_nx = nx.from_pandas_edgelist(got_data, 'Source', 'Target', 'Weight')\n",
        "got_net.from_nx(got_nx)\n",
        "\n",
        "got_net.show('got-1.html')"
      ],
      "metadata": {
        "id": "YLNXCL0PrEPr"
      },
      "execution_count": 114,
      "outputs": []
    },
    {
      "cell_type": "markdown",
      "source": [
        "# Alternative Network Visualizations with Bokeh\n",
        "\n",
        "[Melanie Walsh](https://melaniewalsh.org/) has created an e-book on [Introduction to Cultural Analytics & Python](https://melaniewalsh.github.io/Intro-Cultural-Analytics/welcome.html). In it, she uses this same Game of Thrones dataset for an extensive discussion of [network visualization using Bokeh](https://melaniewalsh.github.io/Intro-Cultural-Analytics/06-Network-Analysis/02-Making-Network-Viz-with-Bokeh.html). I encourage you to walk through that notebook. Then, once you've taken a look at it, try to replicate some of the same visualization techniques in our `pyvis.Network` framework."
      ],
      "metadata": {
        "id": "EtmzSVmyvQEj"
      }
    }
  ]
}