{
  "nbformat": 4,
  "nbformat_minor": 0,
  "metadata": {
    "colab": {
      "provenance": [],
      "authorship_tag": "ABX9TyOgDEMKccCIiD+028/v/ywR",
      "include_colab_link": true
    },
    "kernelspec": {
      "name": "python3",
      "display_name": "Python 3"
    },
    "language_info": {
      "name": "python"
    }
  },
  "cells": [
    {
      "cell_type": "markdown",
      "metadata": {
        "id": "view-in-github",
        "colab_type": "text"
      },
      "source": [
        "<a href=\"https://colab.research.google.com/github/rskarbez/colab_notebooks/blob/main/5April2023_Consultation.ipynb\" target=\"_parent\"><img src=\"https://colab.research.google.com/assets/colab-badge.svg\" alt=\"Open In Colab\"/></a>"
      ]
    },
    {
      "cell_type": "code",
      "execution_count": 5,
      "metadata": {
        "colab": {
          "base_uri": "https://localhost:8080/"
        },
        "id": "6dhlmewMTjFb",
        "outputId": "14ea9350-a38b-4404-8177-5aea56ccee04"
      },
      "outputs": [
        {
          "output_type": "stream",
          "name": "stdout",
          "text": [
            "0 a 0 b 0 c 0 d 0 e Done with inner loop\n",
            "1 a 1 b 1 c 1 d 1 e Done with inner loop\n",
            "2 a 2 b 2 c 2 d 2 e Done with inner loop\n",
            "3 a 3 b 3 c 3 d 3 e Done with inner loop\n",
            "4 a 4 b 4 c 4 d 4 e Done with inner loop\n",
            "Done with outer loop\n"
          ]
        }
      ],
      "source": [
        "for i in range(5):\n",
        "  for j in 'abcde':\n",
        "    print(i, j, end = '')\n",
        "  print('Done with inner loop')\n",
        "print('Done with outer loop')"
      ]
    },
    {
      "cell_type": "code",
      "source": [
        "for i in range(5):\n",
        "  for j in 'abcde':\n",
        "    print(i, j, sep = '')\n",
        "  print('Done with inner loop')\n",
        "print('Done with outer loop')"
      ],
      "metadata": {
        "colab": {
          "base_uri": "https://localhost:8080/"
        },
        "id": "ZNz8KzO0T9ru",
        "outputId": "1d4740b6-a91f-4784-bea2-997cc00f4b23"
      },
      "execution_count": 3,
      "outputs": [
        {
          "output_type": "stream",
          "name": "stdout",
          "text": [
            "0a\n",
            "0b\n",
            "0c\n",
            "0d\n",
            "0e\n",
            "Done with inner loop\n",
            "1a\n",
            "1b\n",
            "1c\n",
            "1d\n",
            "1e\n",
            "Done with inner loop\n",
            "2a\n",
            "2b\n",
            "2c\n",
            "2d\n",
            "2e\n",
            "Done with inner loop\n",
            "3a\n",
            "3b\n",
            "3c\n",
            "3d\n",
            "3e\n",
            "Done with inner loop\n",
            "4a\n",
            "4b\n",
            "4c\n",
            "4d\n",
            "4e\n",
            "Done with inner loop\n",
            "Done with outer loop\n"
          ]
        }
      ]
    },
    {
      "cell_type": "code",
      "source": [
        "for i in range(5):\n",
        "  for j in 'abcde':\n",
        "    print(i, j, sep = '', end = ' ')\n",
        "  print('Done with inner loop')\n",
        "print('Done with outer loop')"
      ],
      "metadata": {
        "colab": {
          "base_uri": "https://localhost:8080/"
        },
        "id": "4hqtYf_cUZIQ",
        "outputId": "8623a07d-9c67-4d04-98ea-35a16fed3677"
      },
      "execution_count": 4,
      "outputs": [
        {
          "output_type": "stream",
          "name": "stdout",
          "text": [
            "0a 0b 0c 0d 0e Done with inner loop\n",
            "1a 1b 1c 1d 1e Done with inner loop\n",
            "2a 2b 2c 2d 2e Done with inner loop\n",
            "3a 3b 3c 3d 3e Done with inner loop\n",
            "4a 4b 4c 4d 4e Done with inner loop\n",
            "Done with outer loop\n"
          ]
        }
      ]
    },
    {
      "cell_type": "code",
      "source": [
        "for i in range(10):\n",
        "  for j in range(i):\n",
        "    print(j, end=' ')\n",
        "  print('Done with inner loop')\n",
        "print('Done with outer loop)')"
      ],
      "metadata": {
        "colab": {
          "base_uri": "https://localhost:8080/"
        },
        "id": "02OHaAdlVB4G",
        "outputId": "4ba6a049-0df5-4864-d78e-d72e68c82776"
      },
      "execution_count": 6,
      "outputs": [
        {
          "output_type": "stream",
          "name": "stdout",
          "text": [
            "Done with inner loop\n",
            "0 Done with inner loop\n",
            "0 1 Done with inner loop\n",
            "0 1 2 Done with inner loop\n",
            "0 1 2 3 Done with inner loop\n",
            "0 1 2 3 4 Done with inner loop\n",
            "0 1 2 3 4 5 Done with inner loop\n",
            "0 1 2 3 4 5 6 Done with inner loop\n",
            "0 1 2 3 4 5 6 7 Done with inner loop\n",
            "0 1 2 3 4 5 6 7 8 Done with inner loop\n",
            "Done with outer loop)\n"
          ]
        }
      ]
    },
    {
      "cell_type": "code",
      "source": [
        "print(list(range(1)))"
      ],
      "metadata": {
        "colab": {
          "base_uri": "https://localhost:8080/"
        },
        "id": "N1mZKZNLVRDG",
        "outputId": "bcf332df-26f2-4613-f9a1-e7b5fbc5d9b0"
      },
      "execution_count": 7,
      "outputs": [
        {
          "output_type": "stream",
          "name": "stdout",
          "text": [
            "[0]\n"
          ]
        }
      ]
    },
    {
      "cell_type": "code",
      "source": [
        "print(list(range(0)))"
      ],
      "metadata": {
        "colab": {
          "base_uri": "https://localhost:8080/"
        },
        "id": "uAX056dHVV6P",
        "outputId": "c460c25a-5e69-4e17-d4e2-671506ddd743"
      },
      "execution_count": 8,
      "outputs": [
        {
          "output_type": "stream",
          "name": "stdout",
          "text": [
            "[]\n"
          ]
        }
      ]
    },
    {
      "cell_type": "code",
      "source": [
        "class Square:\n",
        "  def __init__(self, side):\n",
        "    self.side = side\n",
        "\n",
        "  def perimeter(self):\n",
        "    return self.side * 4\n",
        "\n",
        "  def area(self):\n",
        "    return self.side * self.side"
      ],
      "metadata": {
        "id": "UqC6RHxnWTPr"
      },
      "execution_count": 11,
      "outputs": []
    },
    {
      "cell_type": "code",
      "source": [
        "s = Square(13)\n",
        "print(s.perimeter())\n",
        "print(s.area())"
      ],
      "metadata": {
        "colab": {
          "base_uri": "https://localhost:8080/"
        },
        "id": "HwhvWqG0W0FS",
        "outputId": "831f9e1a-1604-498c-8bc0-6060e4b025ca"
      },
      "execution_count": 12,
      "outputs": [
        {
          "output_type": "stream",
          "name": "stdout",
          "text": [
            "52\n",
            "169\n"
          ]
        }
      ]
    },
    {
      "cell_type": "code",
      "source": [
        "class ColouredSquare(Square):\n",
        "  def __init__(self, side, colour):\n",
        "    super().__init__(side)\n",
        "    self.colour = colour"
      ],
      "metadata": {
        "id": "tDzJHzabXA4Z"
      },
      "execution_count": 21,
      "outputs": []
    },
    {
      "cell_type": "code",
      "source": [
        "cs = ColouredSquare(7, 'purple')\n",
        "print(cs.perimeter())\n",
        "print(cs.area())"
      ],
      "metadata": {
        "colab": {
          "base_uri": "https://localhost:8080/"
        },
        "id": "P8XQApJNXgtr",
        "outputId": "e5011d07-5cc9-4f4e-b2e7-fc9e2ff7aad7"
      },
      "execution_count": 22,
      "outputs": [
        {
          "output_type": "stream",
          "name": "stdout",
          "text": [
            "28\n",
            "49\n"
          ]
        }
      ]
    },
    {
      "cell_type": "code",
      "source": [
        "help(super)"
      ],
      "metadata": {
        "colab": {
          "base_uri": "https://localhost:8080/"
        },
        "id": "bg7npGzxYc5m",
        "outputId": "4cdc9d22-ba8f-4fed-fbf9-7940eb9379e9"
      },
      "execution_count": 18,
      "outputs": [
        {
          "output_type": "stream",
          "name": "stdout",
          "text": [
            "Help on class super in module builtins:\n",
            "\n",
            "class super(object)\n",
            " |  super() -> same as super(__class__, <first argument>)\n",
            " |  super(type) -> unbound super object\n",
            " |  super(type, obj) -> bound super object; requires isinstance(obj, type)\n",
            " |  super(type, type2) -> bound super object; requires issubclass(type2, type)\n",
            " |  Typical use to call a cooperative superclass method:\n",
            " |  class C(B):\n",
            " |      def meth(self, arg):\n",
            " |          super().meth(arg)\n",
            " |  This works for class methods too:\n",
            " |  class C(B):\n",
            " |      @classmethod\n",
            " |      def cmeth(cls, arg):\n",
            " |          super().cmeth(arg)\n",
            " |  \n",
            " |  Methods defined here:\n",
            " |  \n",
            " |  __get__(self, instance, owner, /)\n",
            " |      Return an attribute of instance, which is of type owner.\n",
            " |  \n",
            " |  __getattribute__(self, name, /)\n",
            " |      Return getattr(self, name).\n",
            " |  \n",
            " |  __init__(self, /, *args, **kwargs)\n",
            " |      Initialize self.  See help(type(self)) for accurate signature.\n",
            " |  \n",
            " |  __repr__(self, /)\n",
            " |      Return repr(self).\n",
            " |  \n",
            " |  ----------------------------------------------------------------------\n",
            " |  Static methods defined here:\n",
            " |  \n",
            " |  __new__(*args, **kwargs) from builtins.type\n",
            " |      Create and return a new object.  See help(type) for accurate signature.\n",
            " |  \n",
            " |  ----------------------------------------------------------------------\n",
            " |  Data descriptors defined here:\n",
            " |  \n",
            " |  __self__\n",
            " |      the instance invoking super(); may be None\n",
            " |  \n",
            " |  __self_class__\n",
            " |      the type of the instance invoking super(); may be None\n",
            " |  \n",
            " |  __thisclass__\n",
            " |      the class invoking super()\n",
            "\n"
          ]
        }
      ]
    },
    {
      "cell_type": "code",
      "source": [
        "x, y, z = 5, 10, 8\n",
        "x, y, z = z, y, x"
      ],
      "metadata": {
        "id": "G3BiGmN-ZfV1"
      },
      "execution_count": 23,
      "outputs": []
    },
    {
      "cell_type": "code",
      "source": [
        "print('x =', x)\n",
        "print('y =', y)\n",
        "print('z =', z)"
      ],
      "metadata": {
        "colab": {
          "base_uri": "https://localhost:8080/"
        },
        "id": "WZzYaJZsZp_J",
        "outputId": "a396b3f9-d9a1-4fe2-a585-c9c820438af6"
      },
      "execution_count": 24,
      "outputs": [
        {
          "output_type": "stream",
          "name": "stdout",
          "text": [
            "x = 8\n",
            "y = 10\n",
            "z = 5\n"
          ]
        }
      ]
    },
    {
      "cell_type": "code",
      "source": [
        "print(x > z)"
      ],
      "metadata": {
        "colab": {
          "base_uri": "https://localhost:8080/"
        },
        "id": "gTHgkpsQZxhP",
        "outputId": "9e3aff65-3942-4516-f7fb-2a700f7ab9f7"
      },
      "execution_count": 25,
      "outputs": [
        {
          "output_type": "stream",
          "name": "stdout",
          "text": [
            "True\n"
          ]
        }
      ]
    },
    {
      "cell_type": "code",
      "source": [
        "print((y - 5) == x)"
      ],
      "metadata": {
        "colab": {
          "base_uri": "https://localhost:8080/"
        },
        "id": "yfM8Thn0Z1iL",
        "outputId": "8c12abf3-2d59-44f6-bb52-c5d1d03e0a46"
      },
      "execution_count": 26,
      "outputs": [
        {
          "output_type": "stream",
          "name": "stdout",
          "text": [
            "False\n"
          ]
        }
      ]
    }
  ]
}