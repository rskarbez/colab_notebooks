{
  "cells": [
    {
      "cell_type": "markdown",
      "metadata": {
        "id": "8EClpMDaxNQe"
      },
      "source": [
        "# Loops and Files"
      ]
    },
    {
      "cell_type": "markdown",
      "metadata": {
        "tags": [],
        "id": "aWGE7ABXxNQg"
      },
      "source": [
        "[Click here to run this notebook on Colab](https://colab.research.google.com/github/AllenDowney/ElementsOfDataScience/blob/master/04_loops.ipynb) or\n",
        "[click here to download it](https://github.com/AllenDowney/ElementsOfDataScience/raw/master/04_loops.ipynb)."
      ]
    },
    {
      "cell_type": "markdown",
      "metadata": {
        "id": "2NQgOdkexNQh"
      },
      "source": [
        "This chapter presents loops, which are used to express repeated computation, and files, which are used to store data.  As an example, we will download the famous book *War and Peace* from Project Gutenberg and write a loop that reads the book and counts the words.\n",
        "\n",
        "In the next chapter, we'll extend this example to count the number of unique words and the number of times each word appears.\n",
        "This example presents some computational tools you will need; it is also an introduction to working with textual data."
      ]
    },
    {
      "cell_type": "markdown",
      "metadata": {
        "id": "yT2PtfRCxNQi"
      },
      "source": [
        "## Loops\n",
        "\n",
        "One of the most important elements of computation is repetition, and the most common way to express repetition is a `for` loop.\n",
        "As a simple example, suppose we want to display the elements of a tuple.  Here's a tuple of three integers:"
      ]
    },
    {
      "cell_type": "code",
      "execution_count": 1,
      "metadata": {
        "id": "n5RRF1NWxNQi"
      },
      "outputs": [],
      "source": [
        "t = 1, 2, 3"
      ]
    },
    {
      "cell_type": "markdown",
      "metadata": {
        "id": "Wcpz6m9jxNQj"
      },
      "source": [
        "And here's a `for` loop that prints the elements."
      ]
    },
    {
      "cell_type": "code",
      "execution_count": 2,
      "metadata": {
        "id": "-EAPcy8qxNQj",
        "outputId": "41481596-51cc-4772-c18e-415e9cb387b7",
        "colab": {
          "base_uri": "https://localhost:8080/"
        }
      },
      "outputs": [
        {
          "output_type": "stream",
          "name": "stdout",
          "text": [
            "1\n",
            "2\n",
            "3\n"
          ]
        }
      ],
      "source": [
        "for x in t:\n",
        "    print(x)"
      ]
    },
    {
      "cell_type": "markdown",
      "metadata": {
        "id": "XVMI8l2TxNQk"
      },
      "source": [
        "The first line of the loop is a **header** that specifies the tuple, `t`, and a variable name `x`.  The tuple already exists, but `x` does not; the loop will create it.  The header has to end with a colon, `:`.\n",
        "\n",
        "Inside the loop is a `print` statement, which displays the value of `x`.\n",
        "\n",
        "So here's what happens:\n",
        "\n",
        "1. When the loop starts, it gets the first element of `t`, which is `1`, and assigns it to `x`.  It executes the `print` statement, which displays the value `1`.\n",
        "\n",
        "2. Then it gets the second element of `t`, which is `2`, and displays it.\n",
        "\n",
        "3. Then it gets the third element of `t`, which is `3`, and displays it.\n",
        "\n",
        "After printing the last element of the tuple, the loop ends.\n",
        "\n",
        "We can also loop through the letters in a string:"
      ]
    },
    {
      "cell_type": "code",
      "execution_count": 3,
      "metadata": {
        "id": "qeE9AyKyxNQl",
        "outputId": "0ea8960b-93c4-414a-eb91-a08e15df4bc9",
        "colab": {
          "base_uri": "https://localhost:8080/"
        }
      },
      "outputs": [
        {
          "output_type": "stream",
          "name": "stdout",
          "text": [
            "D\n",
            "a\n",
            "t\n",
            "a\n"
          ]
        }
      ],
      "source": [
        "word = 'Data'\n",
        "\n",
        "for letter in word:\n",
        "    print(letter)"
      ]
    },
    {
      "cell_type": "markdown",
      "metadata": {
        "id": "_eNNJ5VDxNQm"
      },
      "source": [
        "When the loop begins, `word` already exists, but `letter` does not.  Again, the loop creates `letter` and assign values to it.\n",
        "\n",
        "The variable created by the loop is called the \"loop variable\".  You can give it any name you like; in this example, I chose `letter` to remind me what kind of value it contains.\n",
        "\n",
        "After the loop ends, the loop variable contains the last value."
      ]
    },
    {
      "cell_type": "code",
      "execution_count": 4,
      "metadata": {
        "id": "F2amGppbxNQm",
        "outputId": "153351e2-c6e3-456f-e03c-c1e3d41b9428",
        "colab": {
          "base_uri": "https://localhost:8080/",
          "height": 35
        }
      },
      "outputs": [
        {
          "output_type": "execute_result",
          "data": {
            "text/plain": [
              "'a'"
            ],
            "application/vnd.google.colaboratory.intrinsic+json": {
              "type": "string"
            }
          },
          "metadata": {},
          "execution_count": 4
        }
      ],
      "source": [
        "letter"
      ]
    },
    {
      "cell_type": "markdown",
      "metadata": {
        "id": "3JcCIMotxNQm"
      },
      "source": [
        "**Exercise:** Create a list, called `sequence` with four elements of any type. Write a `for` loop that prints the elements.  Call the loop variable `element`."
      ]
    },
    {
      "cell_type": "code",
      "execution_count": 5,
      "metadata": {
        "id": "rUdEEL9vxNQn",
        "outputId": "a021d09b-bd12-4ca8-ec0c-4726b347f185",
        "colab": {
          "base_uri": "https://localhost:8080/"
        }
      },
      "outputs": [
        {
          "output_type": "stream",
          "name": "stdout",
          "text": [
            "1\n",
            "2\n",
            "3\n",
            "4\n"
          ]
        }
      ],
      "source": [
        "sequence = [1, 2, 3, 4]\n",
        "\n",
        "for element in sequence:\n",
        "  print(element)"
      ]
    },
    {
      "cell_type": "markdown",
      "metadata": {
        "id": "ZkqFY28cxNQn"
      },
      "source": [
        "You might wonder why I didn't call the list `list`.  I avoided it because Python has a function named `list` that makes new lists.  For example, if you have a string, you can make a list of letters, like this:"
      ]
    },
    {
      "cell_type": "code",
      "execution_count": 6,
      "metadata": {
        "id": "xOCdT9bSxNQn",
        "outputId": "b320cd45-4374-48a0-b2c0-55efaebfc970",
        "colab": {
          "base_uri": "https://localhost:8080/"
        }
      },
      "outputs": [
        {
          "output_type": "execute_result",
          "data": {
            "text/plain": [
              "['s', 't', 'r', 'i', 'n', 'g']"
            ]
          },
          "metadata": {},
          "execution_count": 6
        }
      ],
      "source": [
        "list('string')"
      ]
    },
    {
      "cell_type": "markdown",
      "metadata": {
        "id": "qMfFfhH1xNQn"
      },
      "source": [
        "If you create a variable named `list`, you can't use the function any more."
      ]
    },
    {
      "cell_type": "markdown",
      "metadata": {
        "id": "Bg0ozrZoxNQn"
      },
      "source": [
        "## Looping and Counting\n",
        "\n",
        "*War and Peace* is a famously long book; let's see how long it is.  To count the words in a book, we need to\n",
        "\n",
        "1. Loop through a book and \n",
        "\n",
        "2. Count.\n",
        "\n",
        "We'll start with counting.\n",
        "We've already seen that you can create a variable and give it a value, like this:"
      ]
    },
    {
      "cell_type": "code",
      "execution_count": 7,
      "metadata": {
        "id": "YVZF16O1xNQo",
        "outputId": "5946918a-c80c-4bf1-ecfe-3ffd683262a3",
        "colab": {
          "base_uri": "https://localhost:8080/"
        }
      },
      "outputs": [
        {
          "output_type": "execute_result",
          "data": {
            "text/plain": [
              "0"
            ]
          },
          "metadata": {},
          "execution_count": 7
        }
      ],
      "source": [
        "count = 0\n",
        "count"
      ]
    },
    {
      "cell_type": "markdown",
      "metadata": {
        "id": "WUvCG7FSxNQo"
      },
      "source": [
        "If you assign a different value to the same variable, the new value replaces the old one."
      ]
    },
    {
      "cell_type": "code",
      "execution_count": 8,
      "metadata": {
        "id": "OGEG6xE5xNQo",
        "outputId": "3c4a6e6e-01e4-4638-f626-9f9d6422eb7c",
        "colab": {
          "base_uri": "https://localhost:8080/"
        }
      },
      "outputs": [
        {
          "output_type": "execute_result",
          "data": {
            "text/plain": [
              "1"
            ]
          },
          "metadata": {},
          "execution_count": 8
        }
      ],
      "source": [
        "count = 1\n",
        "count"
      ]
    },
    {
      "cell_type": "markdown",
      "metadata": {
        "id": "zOrLos0AxNQo"
      },
      "source": [
        "You can increase the value of a variable by reading the old value, adding `1`, and assigning the result back to the original variable."
      ]
    },
    {
      "cell_type": "code",
      "execution_count": 9,
      "metadata": {
        "id": "xMaZPRcFxNQo",
        "outputId": "bcedbcc0-274f-4ec9-8306-4a87858dc105",
        "colab": {
          "base_uri": "https://localhost:8080/"
        }
      },
      "outputs": [
        {
          "output_type": "execute_result",
          "data": {
            "text/plain": [
              "2"
            ]
          },
          "metadata": {},
          "execution_count": 9
        }
      ],
      "source": [
        "count = count + 1\n",
        "count"
      ]
    },
    {
      "cell_type": "markdown",
      "metadata": {
        "id": "JSDpjUNMxNQo"
      },
      "source": [
        "Increasing the value of a variable is called an **increment**; decreasing the value is called a **decrement**.  These operations are so common that there are special operators for them."
      ]
    },
    {
      "cell_type": "code",
      "execution_count": 10,
      "metadata": {
        "id": "Nrd_-PndxNQp",
        "outputId": "0cf4f967-92e5-4789-ff53-8fefa80e594f",
        "colab": {
          "base_uri": "https://localhost:8080/"
        }
      },
      "outputs": [
        {
          "output_type": "execute_result",
          "data": {
            "text/plain": [
              "3"
            ]
          },
          "metadata": {},
          "execution_count": 10
        }
      ],
      "source": [
        "count += 1\n",
        "count"
      ]
    },
    {
      "cell_type": "markdown",
      "metadata": {
        "id": "_dMUUXw4xNQp"
      },
      "source": [
        "In this example, the `+=` operator reads the value of `count`, adds `1`, and assigns the result back to `count`.\n",
        "Python also provides `-=` and other update operators like `*=` and `/=`."
      ]
    },
    {
      "cell_type": "markdown",
      "metadata": {
        "id": "0loLTngdxNQp"
      },
      "source": [
        "**Exercise:** The following is a number trick from *Learn With Math Games* at <https://www.learn-with-math-games.com/math-number-tricks.html>:\n",
        "\n",
        "> *Finding Someone's Age*\n",
        ">\n",
        "> * Ask the person to multiply the first number of their age by 5.\n",
        ">\n",
        "> * Tell them to add 3.\n",
        ">\n",
        "> * Now tell them to double this figure.\n",
        ">\n",
        "> * Finally, have the person add the second number of their age to the figure and have them tell you the answer.\n",
        ">\n",
        "> * Deduct 6 and you will have their age.\"\n",
        "\n",
        "Test this algorithm using your age.  Use a single variable and update it using `+=` and other update operators."
      ]
    },
    {
      "cell_type": "code",
      "execution_count": 11,
      "metadata": {
        "id": "CqnVHAGGxNQp",
        "outputId": "3180768b-b61e-493c-ac47-c72a8521c5ac",
        "colab": {
          "base_uri": "https://localhost:8080/"
        }
      },
      "outputs": [
        {
          "output_type": "stream",
          "name": "stdout",
          "text": [
            "40\n"
          ]
        }
      ],
      "source": [
        "age = 4\n",
        "age *= 5\n",
        "age += 3\n",
        "age *= 2\n",
        "age += 0\n",
        "age -= 6\n",
        "print(age)"
      ]
    },
    {
      "cell_type": "markdown",
      "metadata": {
        "id": "UORCn9UgxNQp"
      },
      "source": [
        "## Files\n",
        "\n",
        "Now that we know how to count, let's see how we can read words from a file.\n",
        "We can download *War and Peace* from Project Gutenberg, which is a repository of free books at <https://www.gutenberg.org>."
      ]
    },
    {
      "cell_type": "markdown",
      "metadata": {
        "tags": [],
        "id": "FNtcxmoAxNQp"
      },
      "source": [
        "When you run the following cell, it checks to see whether you already have a file named `2600-0.txt`, which is the name of the file that contains the text of *War and Peace*.\n",
        "If not, it copies the file from Project Gutenberg to your computer.  "
      ]
    },
    {
      "cell_type": "code",
      "execution_count": 12,
      "metadata": {
        "tags": [],
        "id": "O92d6w_IxNQp",
        "outputId": "28caa24e-c712-4086-c0f8-1f6f9cfa18da",
        "colab": {
          "base_uri": "https://localhost:8080/"
        }
      },
      "outputs": [
        {
          "output_type": "stream",
          "name": "stdout",
          "text": [
            "Downloaded 2600-0.txt\n"
          ]
        }
      ],
      "source": [
        "from os.path import basename, exists\n",
        "\n",
        "def download(url):\n",
        "    filename = basename(url)\n",
        "    if not exists(filename):\n",
        "        from urllib.request import urlretrieve\n",
        "        local, _ = urlretrieve(url, filename)\n",
        "        print('Downloaded ' + local)\n",
        "    \n",
        "download('https://www.gutenberg.org/files/2600/2600-0.txt')"
      ]
    },
    {
      "cell_type": "markdown",
      "metadata": {
        "tags": [],
        "id": "2ZXh-t3sxNQq"
      },
      "source": [
        "If you are running this notebook on Colab, it will copy the file to a \"virtual file system\" on Colab, which means it will disappear if you leave the notebook idle for a while.  In that case, you can download it again later."
      ]
    },
    {
      "cell_type": "markdown",
      "metadata": {
        "id": "FBy9sOelxNQq"
      },
      "source": [
        "In order to read the contents of the file, you have to \"open\" it, which you can do with the `open` function."
      ]
    },
    {
      "cell_type": "code",
      "execution_count": 13,
      "metadata": {
        "id": "57P-ToSCxNQq",
        "outputId": "b90e0de5-6070-4076-c77e-aac97e3f803d",
        "colab": {
          "base_uri": "https://localhost:8080/"
        }
      },
      "outputs": [
        {
          "output_type": "execute_result",
          "data": {
            "text/plain": [
              "<_io.TextIOWrapper name='2600-0.txt' mode='r' encoding='UTF-8'>"
            ]
          },
          "metadata": {},
          "execution_count": 13
        }
      ],
      "source": [
        "fp = open('2600-0.txt')\n",
        "fp"
      ]
    },
    {
      "cell_type": "markdown",
      "metadata": {
        "id": "teg29vg9xNQq"
      },
      "source": [
        "The result is a `TextIOWrapper`, which is a type of **file pointer**.\n",
        "The file pointer contains the name of the file, the mode (which is `r` for \"reading\") and the encoding (which is `UTF` for \"Unicode Transformation Format\").\n",
        "A file pointer is like a bookmark; it keeps track of which parts of the file you have read.\n",
        "\n",
        "If you use a file pointer in a `for` loop, it loops through the lines in the file.\n",
        "So we can count the number of lines like this:"
      ]
    },
    {
      "cell_type": "code",
      "execution_count": 14,
      "metadata": {
        "id": "U_iJf5LjxNQq"
      },
      "outputs": [],
      "source": [
        "fp = open('2600-0.txt')\n",
        "count = 0\n",
        "for line in fp:\n",
        "    count += 1"
      ]
    },
    {
      "cell_type": "markdown",
      "metadata": {
        "id": "wRVvkE6BxNQq"
      },
      "source": [
        "And then display the result."
      ]
    },
    {
      "cell_type": "code",
      "execution_count": 15,
      "metadata": {
        "id": "CkFM5C0oxNQq",
        "outputId": "1dd3b9e1-ff8e-46ed-eed7-0c8ec67896f9",
        "colab": {
          "base_uri": "https://localhost:8080/"
        }
      },
      "outputs": [
        {
          "output_type": "execute_result",
          "data": {
            "text/plain": [
              "66032"
            ]
          },
          "metadata": {},
          "execution_count": 15
        }
      ],
      "source": [
        "count"
      ]
    },
    {
      "cell_type": "markdown",
      "metadata": {
        "id": "hAGtB-C-xNQr"
      },
      "source": [
        "There are about 66,000 lines in this file."
      ]
    },
    {
      "cell_type": "markdown",
      "metadata": {
        "id": "1MnZ8ZTVxNQr"
      },
      "source": [
        "## if Statements\n",
        "\n",
        "We've already see comparison operators, like `>` and `<`, which compare values and produce a Boolean result, `True` or `False`.\n",
        "For example, we can compare the final value of `count` to a number:"
      ]
    },
    {
      "cell_type": "code",
      "execution_count": 16,
      "metadata": {
        "id": "5U5nCVnhxNQr",
        "outputId": "b08844bd-bdb7-40a0-ef79-606f6e9ab145",
        "colab": {
          "base_uri": "https://localhost:8080/"
        }
      },
      "outputs": [
        {
          "output_type": "execute_result",
          "data": {
            "text/plain": [
              "True"
            ]
          },
          "metadata": {},
          "execution_count": 16
        }
      ],
      "source": [
        "count > 60000"
      ]
    },
    {
      "cell_type": "markdown",
      "metadata": {
        "id": "grnyXjkixNQr"
      },
      "source": [
        "We can use a comparison operator in an `if` statement to check for a condition and take action accordingly."
      ]
    },
    {
      "cell_type": "code",
      "execution_count": 17,
      "metadata": {
        "id": "QWcBIVY4xNQr",
        "outputId": "0e4171d7-b441-4449-c1ef-f066096ef912",
        "colab": {
          "base_uri": "https://localhost:8080/"
        }
      },
      "outputs": [
        {
          "output_type": "stream",
          "name": "stdout",
          "text": [
            "Long book!\n"
          ]
        }
      ],
      "source": [
        "if count > 60000:\n",
        "    print('Long book!')"
      ]
    },
    {
      "cell_type": "markdown",
      "metadata": {
        "id": "Ru3O32kfxNQr"
      },
      "source": [
        "The first line of the `if` statement specifies the condition we're checking for. Like the header of a `for` statement, the first line of an `if` statement has to end with a colon.\n",
        "\n",
        "If the condition is true, the indented statement runs; otherwise, it doesn't.\n",
        "In the previous example, the condition is true, so the `print` statement runs.\n",
        "In the following example, the condition is false, so the `print` statement doesn't run."
      ]
    },
    {
      "cell_type": "code",
      "execution_count": 18,
      "metadata": {
        "id": "fd84MLQYxNQr"
      },
      "outputs": [],
      "source": [
        "if count < 1000:\n",
        "    print('Novella!')"
      ]
    },
    {
      "cell_type": "markdown",
      "metadata": {
        "id": "ZFf2hDAhxNQr"
      },
      "source": [
        "We can put a `print` statement inside a `for` loop.  In this example, we only print a line from the book when `count` is `1`.\n",
        "The other lines are read, but not displayed."
      ]
    },
    {
      "cell_type": "code",
      "execution_count": 20,
      "metadata": {
        "id": "DovsqdzBxNQr",
        "outputId": "4154b92b-8919-4271-bbd7-4e5ccbcaabed",
        "colab": {
          "base_uri": "https://localhost:8080/"
        }
      },
      "outputs": [
        {
          "output_type": "stream",
          "name": "stdout",
          "text": [
            "﻿The Project Gutenberg eBook of War and Peace, by Leo Tolstoy\n",
            "\n"
          ]
        }
      ],
      "source": [
        "fp = open('2600-0.txt')\n",
        "count = 0\n",
        "for line in fp:\n",
        "    if count == 0:\n",
        "        print(line)\n",
        "    count += 1"
      ]
    },
    {
      "cell_type": "markdown",
      "metadata": {
        "id": "hP3l__1xxNQr"
      },
      "source": [
        "Notice the indentation in this example:\n",
        "\n",
        "* Statements inside the `for` loop are indented.\n",
        "\n",
        "* The statement inside the `if` statement is indented.\n",
        "\n",
        "* The statement `count += 1` is **outdented** from the previous line, so it ends the `if` statement.  But it is still inside the `for` loop.\n",
        "\n",
        "It is legal in Python to use spaces or tabs for indentation, but the most common convention is to use four spaces, never tabs.  That's what I'll do in my code and I strongly suggest you follow the convention."
      ]
    },
    {
      "cell_type": "markdown",
      "metadata": {
        "id": "0rM2Z-2exNQr"
      },
      "source": [
        "## The break Statement\n",
        "\n",
        "If we display the final value of `count`, we see that the loop reads the entire file, but only prints one line:"
      ]
    },
    {
      "cell_type": "code",
      "execution_count": 21,
      "metadata": {
        "id": "uwk_j486xNQs",
        "outputId": "7b59f463-9849-4c09-b43e-0e779087e806",
        "colab": {
          "base_uri": "https://localhost:8080/"
        }
      },
      "outputs": [
        {
          "output_type": "execute_result",
          "data": {
            "text/plain": [
              "66032"
            ]
          },
          "metadata": {},
          "execution_count": 21
        }
      ],
      "source": [
        "count"
      ]
    },
    {
      "cell_type": "markdown",
      "metadata": {
        "id": "EsrhgAu2xNQs"
      },
      "source": [
        "We can avoid reading the whole file by using a `break` statement, like this:"
      ]
    },
    {
      "cell_type": "code",
      "execution_count": 22,
      "metadata": {
        "id": "FRKeWlO6xNQs",
        "outputId": "1536d43d-ec4a-4805-f8ec-de725870945a",
        "colab": {
          "base_uri": "https://localhost:8080/"
        }
      },
      "outputs": [
        {
          "output_type": "stream",
          "name": "stdout",
          "text": [
            "\n",
            "\n"
          ]
        }
      ],
      "source": [
        "fp = open('2600-0.txt')\n",
        "count = 0\n",
        "for line in fp:\n",
        "    if count == 1:\n",
        "        print(line)\n",
        "        break\n",
        "    count += 1"
      ]
    },
    {
      "cell_type": "markdown",
      "metadata": {
        "id": "L14Q689-xNQs"
      },
      "source": [
        "The `break` statement ends the loop immediately, skipping the rest of the file.  We can confirm that by checking the last value of `count`: "
      ]
    },
    {
      "cell_type": "code",
      "execution_count": 23,
      "metadata": {
        "id": "lMmLRvevxNQs",
        "outputId": "fad23769-04bd-4010-cf26-30ed60ce8cb4",
        "colab": {
          "base_uri": "https://localhost:8080/"
        }
      },
      "outputs": [
        {
          "output_type": "execute_result",
          "data": {
            "text/plain": [
              "1"
            ]
          },
          "metadata": {},
          "execution_count": 23
        }
      ],
      "source": [
        "count"
      ]
    },
    {
      "cell_type": "markdown",
      "metadata": {
        "id": "XE3NGnanxNQs"
      },
      "source": [
        "**Exercise:** Write a loop that prints the first 5 lines of the file and then breaks out of the loop."
      ]
    },
    {
      "cell_type": "code",
      "execution_count": 29,
      "metadata": {
        "id": "BwauiFSmxNQs",
        "outputId": "adece082-4926-4ee9-fd20-c3011a1d9a3f",
        "colab": {
          "base_uri": "https://localhost:8080/"
        }
      },
      "outputs": [
        {
          "output_type": "stream",
          "name": "stdout",
          "text": [
            "﻿The Project Gutenberg eBook of War and Peace, by Leo Tolstoy\n",
            "\n",
            "\n",
            "\n",
            "This eBook is for the use of anyone anywhere in the United States and\n",
            "\n",
            "most other parts of the world at no cost and with almost no restrictions\n",
            "\n",
            "whatsoever. You may copy it, give it away or re-use it under the terms\n",
            "\n",
            "of the Project Gutenberg License included with this eBook or online at\n",
            "\n",
            "www.gutenberg.org. If you are not located in the United States, you\n",
            "\n",
            "will have to check the laws of the country where you are located before\n",
            "\n",
            "using this eBook.\n",
            "\n",
            "\n",
            "\n",
            "Title: War and Peace\n",
            "\n",
            "\n",
            "\n",
            "Author: Leo Tolstoy\n",
            "\n",
            "\n",
            "\n",
            "Translators: Louise and Aylmer Maude\n",
            "\n",
            "\n",
            "\n",
            "Release Date: April, 2001 [eBook #2600]\n",
            "\n",
            "[Most recently updated: June 14, 2022]\n",
            "\n",
            "\n",
            "\n",
            "Language: English\n",
            "\n",
            "\n",
            "\n",
            "Character set encoding: UTF-8\n",
            "\n",
            "\n",
            "\n",
            "Produced by: An Anonymous Volunteer and David Widger\n",
            "\n",
            "\n",
            "\n",
            "*** START OF THE PROJECT GUTENBERG EBOOK WAR AND PEACE ***\n",
            "\n",
            "\n",
            "\n",
            "\n",
            "\n",
            "\n",
            "\n",
            "\n",
            "\n",
            "WAR AND PEACE\n",
            "\n",
            "\n",
            "\n",
            "\n",
            "\n",
            "By Leo Tolstoy/Tolstoi\n",
            "\n",
            "\n",
            "\n",
            "\n",
            "\n",
            "    Contents\n",
            "\n",
            "\n",
            "\n",
            "    BOOK ONE: 1805\n",
            "\n",
            "\n",
            "\n",
            "    CHAPTER I\n",
            "\n",
            "\n",
            "\n",
            "    CHAPTER II\n",
            "\n",
            "\n",
            "\n",
            "    CHAPTER III\n",
            "\n",
            "\n",
            "\n",
            "    CHAPTER IV\n",
            "\n",
            "\n",
            "\n",
            "    CHAPTER V\n",
            "\n",
            "\n",
            "\n",
            "    CHAPTER VI\n",
            "\n",
            "\n",
            "\n",
            "    CHAPTER VII\n",
            "\n",
            "\n",
            "\n",
            "    CHAPTER VIII\n",
            "\n",
            "\n",
            "\n",
            "    CHAPTER IX\n",
            "\n",
            "\n",
            "\n",
            "    CHAPTER X\n",
            "\n",
            "\n",
            "\n",
            "    CHAPTER XI\n",
            "\n",
            "\n",
            "\n",
            "    CHAPTER XII\n",
            "\n",
            "\n",
            "\n",
            "    CHAPTER XIII\n",
            "\n",
            "\n",
            "\n",
            "    CHAPTER XIV\n",
            "\n",
            "\n",
            "\n",
            "    CHAPTER XV\n",
            "\n",
            "\n",
            "\n",
            "    CHAPTER XVI\n",
            "\n",
            "\n",
            "\n",
            "    CHAPTER XVII\n",
            "\n",
            "\n",
            "\n",
            "    CHAPTER XVIII\n",
            "\n",
            "\n",
            "\n",
            "    CHAPTER XIX\n",
            "\n",
            "\n",
            "\n",
            "    CHAPTER XX\n",
            "\n",
            "\n",
            "\n",
            "    CHAPTER XXI\n",
            "\n",
            "\n",
            "\n",
            "    CHAPTER XXII\n",
            "\n",
            "\n",
            "\n",
            "    CHAPTER XXIII\n",
            "\n",
            "\n",
            "\n",
            "    CHAPTER XXIV\n",
            "\n",
            "\n",
            "\n",
            "    CHAPTER XXV\n",
            "\n",
            "\n",
            "\n",
            "    CHAPTER XXVI\n",
            "\n",
            "\n",
            "\n",
            "    CHAPTER XXVII\n",
            "\n",
            "\n",
            "\n",
            "    CHAPTER XXVIII\n",
            "\n",
            "\n",
            "\n",
            "\n",
            "\n",
            "    BOOK TWO: 1805\n",
            "\n",
            "\n",
            "\n",
            "    CHAPTER I\n",
            "\n",
            "\n",
            "\n",
            "    CHAPTER II\n",
            "\n",
            "\n",
            "\n",
            "    CHAPTER III\n",
            "\n",
            "\n",
            "\n",
            "    CHAPTER IV\n",
            "\n",
            "\n",
            "\n",
            "    CHAPTER V\n",
            "\n",
            "\n",
            "\n",
            "    CHAPTER VI\n",
            "\n",
            "\n",
            "\n",
            "    CHAPTER VII\n",
            "\n",
            "\n",
            "\n",
            "    CHAPTER VIII\n",
            "\n",
            "\n",
            "\n",
            "    CHAPTER IX\n",
            "\n",
            "\n",
            "\n",
            "    CHAPTER X\n",
            "\n",
            "\n",
            "\n",
            "    CHAPTER XI\n",
            "\n",
            "\n",
            "\n",
            "    CHAPTER XII\n",
            "\n",
            "\n",
            "\n",
            "    CHAPTER XIII\n",
            "\n",
            "\n",
            "\n",
            "    CHAPTER XIV\n",
            "\n",
            "\n",
            "\n",
            "    CHAPTER XV\n",
            "\n",
            "\n",
            "\n",
            "    CHAPTER XVI\n",
            "\n",
            "\n",
            "\n",
            "    CHAPTER XVII\n",
            "\n",
            "\n",
            "\n",
            "    CHAPTER XVIII\n",
            "\n",
            "\n",
            "\n",
            "    CHAPTER XIX\n",
            "\n",
            "\n",
            "\n",
            "    CHAPTER XX\n",
            "\n",
            "\n",
            "\n",
            "    CHAPTER XXI\n",
            "\n",
            "\n",
            "\n",
            "\n",
            "\n",
            "    BOOK THREE: 1805\n",
            "\n",
            "\n",
            "\n",
            "    CHAPTER I\n",
            "\n",
            "\n",
            "\n",
            "    CHAPTER II\n",
            "\n",
            "\n",
            "\n",
            "    CHAPTER III\n",
            "\n",
            "\n",
            "\n",
            "    CHAPTER IV\n",
            "\n",
            "\n",
            "\n",
            "    CHAPTER V\n",
            "\n",
            "\n",
            "\n",
            "    CHAPTER VI\n",
            "\n",
            "\n",
            "\n",
            "    CHAPTER VII\n",
            "\n",
            "\n",
            "\n",
            "    CHAPTER VIII\n",
            "\n",
            "\n",
            "\n",
            "    CHAPTER IX\n",
            "\n",
            "\n",
            "\n",
            "    CHAPTER X\n",
            "\n",
            "\n",
            "\n",
            "    CHAPTER XI\n",
            "\n",
            "\n",
            "\n",
            "    CHAPTER XII\n",
            "\n",
            "\n",
            "\n",
            "    CHAPTER XIII\n",
            "\n",
            "\n",
            "\n",
            "    CHAPTER XIV\n",
            "\n",
            "\n",
            "\n",
            "    CHAPTER XV\n",
            "\n",
            "\n",
            "\n",
            "    CHAPTER XVI\n",
            "\n",
            "\n",
            "\n",
            "    CHAPTER XVII\n",
            "\n",
            "\n",
            "\n",
            "    CHAPTER XVIII\n",
            "\n",
            "\n",
            "\n",
            "    CHAPTER XIX\n",
            "\n",
            "\n",
            "\n",
            "\n",
            "\n",
            "    BOOK FOUR: 1806\n",
            "\n",
            "\n",
            "\n",
            "    CHAPTER I\n",
            "\n",
            "\n",
            "\n",
            "    CHAPTER II\n",
            "\n",
            "\n",
            "\n",
            "    CHAPTER III\n",
            "\n",
            "\n",
            "\n",
            "    CHAPTER IV\n",
            "\n",
            "\n",
            "\n",
            "    CHAPTER V\n",
            "\n",
            "\n",
            "\n",
            "    CHAPTER VI\n",
            "\n",
            "\n",
            "\n",
            "    CHAPTER VII\n",
            "\n",
            "\n",
            "\n",
            "    CHAPTER VIII\n",
            "\n"
          ]
        }
      ],
      "source": [
        "with open('2600-0.txt') as f:\n",
        "  count = 0\n",
        "  for line in f:\n",
        "    if count < 100:\n",
        "      print(line)\n",
        "    if len(line.split()) != 0:\n",
        "      count += 1"
      ]
    },
    {
      "cell_type": "markdown",
      "metadata": {
        "id": "iH41j8xGxNQs"
      },
      "source": [
        "## Whitespace\n",
        "\n",
        "If we run the loop again and display the final value of `line`, we see the special sequence `\\n` at the end."
      ]
    },
    {
      "cell_type": "code",
      "execution_count": 25,
      "metadata": {
        "id": "RntjWd8-xNQs",
        "outputId": "d7665131-0612-4c70-fbfa-91b7c319193f",
        "colab": {
          "base_uri": "https://localhost:8080/",
          "height": 35
        }
      },
      "outputs": [
        {
          "output_type": "execute_result",
          "data": {
            "text/plain": [
              "'\\n'"
            ],
            "application/vnd.google.colaboratory.intrinsic+json": {
              "type": "string"
            }
          },
          "metadata": {},
          "execution_count": 25
        }
      ],
      "source": [
        "fp = open('2600-0.txt')\n",
        "count = 0\n",
        "for line in fp:\n",
        "    if count == 1:\n",
        "        break\n",
        "    count += 1\n",
        "\n",
        "line"
      ]
    },
    {
      "cell_type": "markdown",
      "metadata": {
        "id": "qNXKcy9uxNQs"
      },
      "source": [
        "This sequence represents a single character, called a **newline**, that puts vertical space between lines.\n",
        "If we use a `print` statement to display `line`, we don't see the special sequence, but we do see extra space after the line."
      ]
    },
    {
      "cell_type": "code",
      "execution_count": 26,
      "metadata": {
        "id": "UtnjCYvIxNQt",
        "outputId": "05156d7e-bfc9-460f-af50-c144835edf5c",
        "colab": {
          "base_uri": "https://localhost:8080/"
        }
      },
      "outputs": [
        {
          "output_type": "stream",
          "name": "stdout",
          "text": [
            "\n",
            "\n"
          ]
        }
      ],
      "source": [
        "print(line)"
      ]
    },
    {
      "cell_type": "markdown",
      "metadata": {
        "id": "E8NOPH1_xNQt"
      },
      "source": [
        "In other strings, you might see the sequence `\\t`, which represents a \"tab\" character.\n",
        "When you print a tab character, it adds enough space to make the next character appear in a column that is a multiple of 8."
      ]
    },
    {
      "cell_type": "code",
      "execution_count": 27,
      "metadata": {
        "id": "YABC1A6SxNQu",
        "outputId": "900b5aa3-c853-4142-b61d-e1000b76df07",
        "colab": {
          "base_uri": "https://localhost:8080/"
        }
      },
      "outputs": [
        {
          "output_type": "stream",
          "name": "stdout",
          "text": [
            "012345670123456701234567012345670123456701234567\n",
            "a\tbc\tdef\tghij\tklmno\tpqrstu\n"
          ]
        }
      ],
      "source": [
        "print('01234567' * 6)\n",
        "print('a\\tbc\\tdef\\tghij\\tklmno\\tpqrstu')"
      ]
    },
    {
      "cell_type": "markdown",
      "metadata": {
        "id": "EuosFyftxNQu"
      },
      "source": [
        "Newline characters, tabs, and spaces are called **whitespace** because when they are printed they leave white space on the page (assuming that the background color is white)."
      ]
    },
    {
      "cell_type": "markdown",
      "metadata": {
        "id": "9_UKKyHrxNQv"
      },
      "source": [
        "## Counting Words\n",
        "\n",
        "So far we've managed to count the lines in a file, but each line contains several words.\n",
        "To split a line into words, we can use a function called `split` that returns a list of words.\n",
        "To be more precise, `split` doesn't actually know what a word is; it just splits the line wherever there's a space or other whitespace character."
      ]
    },
    {
      "cell_type": "code",
      "execution_count": 30,
      "metadata": {
        "id": "oO1uQ5KOxNQv",
        "outputId": "863c204e-c6a3-4eea-cccb-7cbae6f6f9e3",
        "colab": {
          "base_uri": "https://localhost:8080/"
        }
      },
      "outputs": [
        {
          "output_type": "execute_result",
          "data": {
            "text/plain": [
              "[]"
            ]
          },
          "metadata": {},
          "execution_count": 30
        }
      ],
      "source": [
        "line.split()"
      ]
    },
    {
      "cell_type": "markdown",
      "metadata": {
        "id": "SfuY-QpoxNQv"
      },
      "source": [
        "Notice that the syntax for `split` is different from other functions we have seen.  Normally when we call a function, we name the function and provide values in parentheses.  So you might have expected to write `split(line)`.  Sadly, that doesn't work."
      ]
    },
    {
      "cell_type": "markdown",
      "metadata": {
        "tags": [],
        "id": "EB8lkQ72xNQw"
      },
      "source": [
        "Run this line of code in the next cell to see what happens.\n",
        "\n",
        "```\n",
        "split(line)\n",
        "```"
      ]
    },
    {
      "cell_type": "code",
      "execution_count": null,
      "metadata": {
        "tags": [],
        "id": "QuhRYfRhxNQw"
      },
      "outputs": [],
      "source": [
        ""
      ]
    },
    {
      "cell_type": "markdown",
      "metadata": {
        "id": "AwPTnArQxNQw"
      },
      "source": [
        "The problem is that the `split` function belongs to the string `line`; in a sense, the function is attached to the string, so we can only refer to it using the string and the dot operator (the period between `line` and `split`).\n",
        "For historical reasons, functions like this are called **methods**.\n",
        "\n",
        "Now that we can split a line into a list of words, we can use `len` to get the number of words in each list, and increment `count` accordingly."
      ]
    },
    {
      "cell_type": "code",
      "execution_count": 31,
      "metadata": {
        "id": "jQMHhDR8xNQw"
      },
      "outputs": [],
      "source": [
        "fp = open('2600-0.txt')\n",
        "count = 0\n",
        "for line in fp:\n",
        "    count += len(line.split())"
      ]
    },
    {
      "cell_type": "code",
      "execution_count": 32,
      "metadata": {
        "id": "sLENS7gQxNQx",
        "outputId": "f8b524d7-601a-4485-9ad3-73fc65c83288",
        "colab": {
          "base_uri": "https://localhost:8080/"
        }
      },
      "outputs": [
        {
          "output_type": "execute_result",
          "data": {
            "text/plain": [
              "566334"
            ]
          },
          "metadata": {},
          "execution_count": 32
        }
      ],
      "source": [
        "count"
      ]
    },
    {
      "cell_type": "markdown",
      "metadata": {
        "id": "qlCoDBUYxNQx"
      },
      "source": [
        "By this count, there are more than half a million words in *War and Peace*.\n",
        "\n",
        "Actually, there aren't quite that many, because the file we got from Project Gutenberg has some introductory text and a table of contents before the text.  And it has some license information at the end.\n",
        "To skip this \"front matter\", we can use one loop to read lines until we get to `CHAPTER I`, and then a second loop to count the words in the remaining lines.\n",
        "\n",
        "The file pointer, `fp`, keeps track of where it is in the file, so the second loop picks up where the first loop leaves off.\n",
        "In the second loop, we check for the end of the book and stop, so we ignore the \"end matter\" at the end of the file."
      ]
    },
    {
      "cell_type": "code",
      "execution_count": 33,
      "metadata": {
        "id": "jIqlv0dwxNQx"
      },
      "outputs": [],
      "source": [
        "first_line = \"CHAPTER I\\n\"\n",
        "last_line = \"End of the Project Gutenberg EBook of War and Peace, by Leo Tolstoy\\n\"\n",
        "\n",
        "fp = open('2600-0.txt')\n",
        "for line in fp:\n",
        "    if line == first_line:\n",
        "        break\n",
        "\n",
        "count = 0\n",
        "for line in fp:\n",
        "    if line == last_line:\n",
        "        print(line)\n",
        "        break\n",
        "    count += len(line.split())"
      ]
    },
    {
      "cell_type": "code",
      "execution_count": 34,
      "metadata": {
        "id": "73ohy0akxNQy",
        "outputId": "4fa31bfb-feb1-487c-e56f-21dc32fdd965",
        "colab": {
          "base_uri": "https://localhost:8080/"
        }
      },
      "outputs": [
        {
          "output_type": "execute_result",
          "data": {
            "text/plain": [
              "565388"
            ]
          },
          "metadata": {},
          "execution_count": 34
        }
      ],
      "source": [
        "count"
      ]
    },
    {
      "cell_type": "markdown",
      "metadata": {
        "id": "S83e4UmSxNQy"
      },
      "source": [
        "Two things to notice about this program:\n",
        "\n",
        "* When we compare two values to see if they are equal, we use the `==` operator, not to be confused with `=`, which is the assignment operator.\n",
        "\n",
        "* The string we compare `line` to has a newline at the end.  If we leave that out, it doesn't work."
      ]
    },
    {
      "cell_type": "markdown",
      "metadata": {
        "id": "eTyUWZF3xNQy"
      },
      "source": [
        "**Exercise:** \n",
        "\n",
        "1. In the previous program, replace `==` with `=` and see what happens.  This is a common error, so it is good to see what the error message looks like.  \n",
        "\n",
        "2. Correct the previous error, then remove the newline character after `CHAPTER I`, and see what happens.\n",
        "\n",
        "The first error is a \"syntax error\", which means that the program violates the rules of Python.  If your program has a syntax error, the Python interpreter prints an error message, and the program never runs.\n",
        "\n",
        "The second error is a \"logic error\", which means that there is something wrong with the logic of the program.  The syntax is legal, and the program runs, but it doesn't do what we wanted.  Logic errors can be hard to find because we don't get any error messages.  \n",
        "\n",
        "If you have a logic error, here are two strategies for debugging:\n",
        "\n",
        "1. Add print statements so the program displays additional information while it runs.\n",
        "\n",
        "2. Simplify the program until it does what you expect, and then gradually add more code, testing as you go."
      ]
    },
    {
      "cell_type": "markdown",
      "metadata": {
        "id": "uFx44Ms3xNQz"
      },
      "source": [
        "## Summary\n",
        "\n",
        "This chapter presents loops, `if` statements, and the `break` statement.\n",
        "It also introduces tools for working with letters and words, and a simple kind of textual analysis, word counting.\n",
        "\n",
        "In the next chapter we'll continue this example, counting the number of unique words in a text and the number of times each word appears.\n",
        "And we'll see one more way to represent a collection of values, a Python dictionary."
      ]
    },
    {
      "cell_type": "markdown",
      "metadata": {
        "tags": [],
        "id": "il2-F2wUxNQ0"
      },
      "source": [
        "*Elements of Data Science*\n",
        "\n",
        "Copyright 2021 [Allen B. Downey](https://allendowney.com)\n",
        "\n",
        "License: [Creative Commons Attribution-NonCommercial-ShareAlike 4.0 International](https://creativecommons.org/licenses/by-nc-sa/4.0/)"
      ]
    }
  ],
  "metadata": {
    "celltoolbar": "Tags",
    "kernelspec": {
      "display_name": "Python 3",
      "language": "python",
      "name": "python3"
    },
    "language_info": {
      "codemirror_mode": {
        "name": "ipython",
        "version": 3
      },
      "file_extension": ".py",
      "mimetype": "text/x-python",
      "name": "python",
      "nbconvert_exporter": "python",
      "pygments_lexer": "ipython3",
      "version": "3.7.7"
    },
    "colab": {
      "name": "04_loops.ipynb",
      "provenance": []
    }
  },
  "nbformat": 4,
  "nbformat_minor": 0
}