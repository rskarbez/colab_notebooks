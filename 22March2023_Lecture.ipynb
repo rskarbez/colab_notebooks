{
  "nbformat": 4,
  "nbformat_minor": 0,
  "metadata": {
    "colab": {
      "provenance": [],
      "authorship_tag": "ABX9TyOLHyQe0ALbYxzrZw9rSUa9",
      "include_colab_link": true
    },
    "kernelspec": {
      "name": "python3",
      "display_name": "Python 3"
    },
    "language_info": {
      "name": "python"
    }
  },
  "cells": [
    {
      "cell_type": "markdown",
      "metadata": {
        "id": "view-in-github",
        "colab_type": "text"
      },
      "source": [
        "<a href=\"https://colab.research.google.com/github/rskarbez/colab_notebooks/blob/main/22March2023_Lecture.ipynb\" target=\"_parent\"><img src=\"https://colab.research.google.com/assets/colab-badge.svg\" alt=\"Open In Colab\"/></a>"
      ]
    },
    {
      "cell_type": "code",
      "execution_count": null,
      "metadata": {
        "colab": {
          "base_uri": "https://localhost:8080/"
        },
        "id": "rwO75GGIHxQR",
        "outputId": "10a96170-0508-44d8-9eb4-33b8b3c54753"
      },
      "outputs": [
        {
          "output_type": "stream",
          "name": "stdout",
          "text": [
            "Help on built-in module sys:\n",
            "\n",
            "NAME\n",
            "    sys\n",
            "\n",
            "MODULE REFERENCE\n",
            "    https://docs.python.org/3.9/library/sys\n",
            "    \n",
            "    The following documentation is automatically generated from the Python\n",
            "    source files.  It may be incomplete, incorrect or include features that\n",
            "    are considered implementation detail and may vary between Python\n",
            "    implementations.  When in doubt, consult the module reference at the\n",
            "    location listed above.\n",
            "\n",
            "DESCRIPTION\n",
            "    This module provides access to some objects used or maintained by the\n",
            "    interpreter and to functions that interact strongly with the interpreter.\n",
            "    \n",
            "    Dynamic objects:\n",
            "    \n",
            "    argv -- command line arguments; argv[0] is the script pathname if known\n",
            "    path -- module search path; path[0] is the script directory, else ''\n",
            "    modules -- dictionary of loaded modules\n",
            "    \n",
            "    displayhook -- called to show results in an interactive session\n",
            "    excepthook -- called to handle any uncaught exception other than SystemExit\n",
            "      To customize printing in an interactive session or to install a custom\n",
            "      top-level exception handler, assign other functions to replace these.\n",
            "    \n",
            "    stdin -- standard input file object; used by input()\n",
            "    stdout -- standard output file object; used by print()\n",
            "    stderr -- standard error object; used for error messages\n",
            "      By assigning other file objects (or objects that behave like files)\n",
            "      to these, it is possible to redirect all of the interpreter's I/O.\n",
            "    \n",
            "    last_type -- type of last uncaught exception\n",
            "    last_value -- value of last uncaught exception\n",
            "    last_traceback -- traceback of last uncaught exception\n",
            "      These three are only available in an interactive session after a\n",
            "      traceback has been printed.\n",
            "    \n",
            "    Static objects:\n",
            "    \n",
            "    builtin_module_names -- tuple of module names built into this interpreter\n",
            "    copyright -- copyright notice pertaining to this interpreter\n",
            "    exec_prefix -- prefix used to find the machine-specific Python library\n",
            "    executable -- absolute path of the executable binary of the Python interpreter\n",
            "    float_info -- a named tuple with information about the float implementation.\n",
            "    float_repr_style -- string indicating the style of repr() output for floats\n",
            "    hash_info -- a named tuple with information about the hash algorithm.\n",
            "    hexversion -- version information encoded as a single integer\n",
            "    implementation -- Python implementation information.\n",
            "    int_info -- a named tuple with information about the int implementation.\n",
            "    maxsize -- the largest supported length of containers.\n",
            "    maxunicode -- the value of the largest Unicode code point\n",
            "    platform -- platform identifier\n",
            "    prefix -- prefix used to find the Python library\n",
            "    thread_info -- a named tuple with information about the thread implementation.\n",
            "    version -- the version of this interpreter as a string\n",
            "    version_info -- version information as a named tuple\n",
            "    __stdin__ -- the original stdin; don't touch!\n",
            "    __stdout__ -- the original stdout; don't touch!\n",
            "    __stderr__ -- the original stderr; don't touch!\n",
            "    __displayhook__ -- the original displayhook; don't touch!\n",
            "    __excepthook__ -- the original excepthook; don't touch!\n",
            "    \n",
            "    Functions:\n",
            "    \n",
            "    displayhook() -- print an object to the screen, and save it in builtins._\n",
            "    excepthook() -- print an exception and its traceback to sys.stderr\n",
            "    exc_info() -- return thread-safe information about the current exception\n",
            "    exit() -- exit the interpreter by raising SystemExit\n",
            "    getdlopenflags() -- returns flags to be used for dlopen() calls\n",
            "    getprofile() -- get the global profiling function\n",
            "    getrefcount() -- return the reference count for an object (plus one :-)\n",
            "    getrecursionlimit() -- return the max recursion depth for the interpreter\n",
            "    getsizeof() -- return the size of an object in bytes\n",
            "    gettrace() -- get the global debug tracing function\n",
            "    setdlopenflags() -- set the flags to be used for dlopen() calls\n",
            "    setprofile() -- set the global profiling function\n",
            "    setrecursionlimit() -- set the max recursion depth for the interpreter\n",
            "    settrace() -- set the global debug tracing function\n",
            "\n",
            "FUNCTIONS\n",
            "    __breakpointhook__ = breakpointhook(...)\n",
            "        breakpointhook(*args, **kws)\n",
            "        \n",
            "        This hook function is called by built-in breakpoint().\n",
            "    \n",
            "    __displayhook__ = displayhook(object, /)\n",
            "        Print an object to sys.stdout and also save it in builtins._\n",
            "    \n",
            "    __excepthook__ = excepthook(exctype, value, traceback, /)\n",
            "        Handle an exception by displaying it with a traceback on sys.stderr.\n",
            "    \n",
            "    __unraisablehook__ = unraisablehook(unraisable, /)\n",
            "        Handle an unraisable exception.\n",
            "        \n",
            "        The unraisable argument has the following attributes:\n",
            "        \n",
            "        * exc_type: Exception type.\n",
            "        * exc_value: Exception value, can be None.\n",
            "        * exc_traceback: Exception traceback, can be None.\n",
            "        * err_msg: Error message, can be None.\n",
            "        * object: Object causing the exception, can be None.\n",
            "    \n",
            "    addaudithook(hook)\n",
            "        Adds a new audit hook callback.\n",
            "    \n",
            "    audit(...)\n",
            "        audit(event, *args)\n",
            "        \n",
            "        Passes the event to any audit hooks that are attached.\n",
            "    \n",
            "    breakpointhook(...)\n",
            "        breakpointhook(*args, **kws)\n",
            "        \n",
            "        This hook function is called by built-in breakpoint().\n",
            "    \n",
            "    call_tracing(func, args, /)\n",
            "        Call func(*args), while tracing is enabled.\n",
            "        \n",
            "        The tracing state is saved, and restored afterwards.  This is intended\n",
            "        to be called from a debugger from a checkpoint, to recursively debug\n",
            "        some other code.\n",
            "    \n",
            "    exc_info()\n",
            "        Return current exception information: (type, value, traceback).\n",
            "        \n",
            "        Return information about the most recent exception caught by an except\n",
            "        clause in the current stack frame or in an older stack frame.\n",
            "    \n",
            "    exit(status=None, /)\n",
            "        Exit the interpreter by raising SystemExit(status).\n",
            "        \n",
            "        If the status is omitted or None, it defaults to zero (i.e., success).\n",
            "        If the status is an integer, it will be used as the system exit status.\n",
            "        If it is another kind of object, it will be printed and the system\n",
            "        exit status will be one (i.e., failure).\n",
            "    \n",
            "    get_asyncgen_hooks()\n",
            "        Return the installed asynchronous generators hooks.\n",
            "        \n",
            "        This returns a namedtuple of the form (firstiter, finalizer).\n",
            "    \n",
            "    get_coroutine_origin_tracking_depth()\n",
            "        Check status of origin tracking for coroutine objects in this thread.\n",
            "    \n",
            "    get_int_max_str_digits()\n",
            "        Set the maximum string digits limit for non-binary int<->str conversions.\n",
            "    \n",
            "    getallocatedblocks()\n",
            "        Return the number of memory blocks currently allocated.\n",
            "    \n",
            "    getdefaultencoding()\n",
            "        Return the current default encoding used by the Unicode implementation.\n",
            "    \n",
            "    getdlopenflags()\n",
            "        Return the current value of the flags that are used for dlopen calls.\n",
            "        \n",
            "        The flag constants are defined in the os module.\n",
            "    \n",
            "    getfilesystemencodeerrors()\n",
            "        Return the error mode used Unicode to OS filename conversion.\n",
            "    \n",
            "    getfilesystemencoding()\n",
            "        Return the encoding used to convert Unicode filenames to OS filenames.\n",
            "    \n",
            "    getprofile()\n",
            "        Return the profiling function set with sys.setprofile.\n",
            "        \n",
            "        See the profiler chapter in the library manual.\n",
            "    \n",
            "    getrecursionlimit()\n",
            "        Return the current value of the recursion limit.\n",
            "        \n",
            "        The recursion limit is the maximum depth of the Python interpreter\n",
            "        stack.  This limit prevents infinite recursion from causing an overflow\n",
            "        of the C stack and crashing Python.\n",
            "    \n",
            "    getrefcount(object, /)\n",
            "        Return the reference count of object.\n",
            "        \n",
            "        The count returned is generally one higher than you might expect,\n",
            "        because it includes the (temporary) reference as an argument to\n",
            "        getrefcount().\n",
            "    \n",
            "    getsizeof(...)\n",
            "        getsizeof(object [, default]) -> int\n",
            "        \n",
            "        Return the size of object in bytes.\n",
            "    \n",
            "    getswitchinterval()\n",
            "        Return the current thread switch interval; see sys.setswitchinterval().\n",
            "    \n",
            "    gettrace()\n",
            "        Return the global debug tracing function set with sys.settrace.\n",
            "        \n",
            "        See the debugger chapter in the library manual.\n",
            "    \n",
            "    intern(string, /)\n",
            "        ``Intern'' the given string.\n",
            "        \n",
            "        This enters the string in the (global) table of interned strings whose\n",
            "        purpose is to speed up dictionary lookups. Return the string itself or\n",
            "        the previously interned string object with the same value.\n",
            "    \n",
            "    is_finalizing()\n",
            "        Return True if Python is exiting.\n",
            "    \n",
            "    set_asyncgen_hooks(...)\n",
            "        set_asyncgen_hooks(* [, firstiter] [, finalizer])\n",
            "        \n",
            "        Set a finalizer for async generators objects.\n",
            "    \n",
            "    set_coroutine_origin_tracking_depth(depth)\n",
            "        Enable or disable origin tracking for coroutine objects in this thread.\n",
            "        \n",
            "        Coroutine objects will track 'depth' frames of traceback information\n",
            "        about where they came from, available in their cr_origin attribute.\n",
            "        \n",
            "        Set a depth of 0 to disable.\n",
            "    \n",
            "    set_int_max_str_digits(maxdigits)\n",
            "        Set the maximum string digits limit for non-binary int<->str conversions.\n",
            "    \n",
            "    setdlopenflags(flags, /)\n",
            "        Set the flags used by the interpreter for dlopen calls.\n",
            "        \n",
            "        This is used, for example, when the interpreter loads extension\n",
            "        modules. Among other things, this will enable a lazy resolving of\n",
            "        symbols when importing a module, if called as sys.setdlopenflags(0).\n",
            "        To share symbols across extension modules, call as\n",
            "        sys.setdlopenflags(os.RTLD_GLOBAL).  Symbolic names for the flag\n",
            "        modules can be found in the os module (RTLD_xxx constants, e.g.\n",
            "        os.RTLD_LAZY).\n",
            "    \n",
            "    setprofile(...)\n",
            "        setprofile(function)\n",
            "        \n",
            "        Set the profiling function.  It will be called on each function call\n",
            "        and return.  See the profiler chapter in the library manual.\n",
            "    \n",
            "    setrecursionlimit(limit, /)\n",
            "        Set the maximum depth of the Python interpreter stack to n.\n",
            "        \n",
            "        This limit prevents infinite recursion from causing an overflow of the C\n",
            "        stack and crashing Python.  The highest possible limit is platform-\n",
            "        dependent.\n",
            "    \n",
            "    setswitchinterval(interval, /)\n",
            "        Set the ideal thread switching delay inside the Python interpreter.\n",
            "        \n",
            "        The actual frequency of switching threads can be lower if the\n",
            "        interpreter executes long sequences of uninterruptible code\n",
            "        (this is implementation-specific and workload-dependent).\n",
            "        \n",
            "        The parameter must represent the desired switching delay in seconds\n",
            "        A typical value is 0.005 (5 milliseconds).\n",
            "    \n",
            "    unraisablehook(unraisable, /)\n",
            "        Handle an unraisable exception.\n",
            "        \n",
            "        The unraisable argument has the following attributes:\n",
            "        \n",
            "        * exc_type: Exception type.\n",
            "        * exc_value: Exception value, can be None.\n",
            "        * exc_traceback: Exception traceback, can be None.\n",
            "        * err_msg: Error message, can be None.\n",
            "        * object: Object causing the exception, can be None.\n",
            "\n",
            "DATA\n",
            "    __stderr__ = <_io.TextIOWrapper name='<stderr>' mode='w' encoding='utf...\n",
            "    __stdin__ = <_io.TextIOWrapper name='<stdin>' mode='r' encoding='utf-8...\n",
            "    __stdout__ = <_io.TextIOWrapper name='<stdout>' mode='w' encoding='utf...\n",
            "    abiflags = ''\n",
            "    api_version = 1013\n",
            "    argv = ['/usr/local/lib/python3.9/dist-packages/ipykernel_launcher.py'...\n",
            "    base_exec_prefix = '/usr'\n",
            "    base_prefix = '/usr'\n",
            "    builtin_module_names = ('_abc', '_ast', '_bisect', '_blake2', '_codecs...\n",
            "    byteorder = 'little'\n",
            "    copyright = 'Copyright (c) 2001-2022 Python Software Foundati...ematis...\n",
            "    displayhook = <ipykernel.displayhook.ZMQShellDisplayHook object>\n",
            "    dont_write_bytecode = False\n",
            "    exec_prefix = '/usr'\n",
            "    executable = '/usr/bin/python3'\n",
            "    flags = sys.flags(debug=0, inspect=0, interactive=0, opt...v_mode=Fals...\n",
            "    float_info = sys.float_info(max=1.7976931348623157e+308, max_...epsilo...\n",
            "    float_repr_style = 'short'\n",
            "    hash_info = sys.hash_info(width=64, modulus=2305843009213693...iphash2...\n",
            "    hexversion = 50925808\n",
            "    implementation = namespace(name='cpython', cache_tag='cpython-39'...xv...\n",
            "    int_info = sys.int_info(bits_per_digit=30, sizeof_digit=4, ..._str_dig...\n",
            "    last_value = NameError(\"name 'sys' is not defined\")\n",
            "    maxsize = 9223372036854775807\n",
            "    maxunicode = 1114111\n",
            "    meta_path = [<google.colab._import_hooks._client_info.APICoreClientInf...\n",
            "    modules = {'IPython': <module 'IPython' from '/usr/local/lib/python3.9...\n",
            "    path = ['/content', '/env/python', '/usr/lib/python39.zip', '/usr/lib/...\n",
            "    path_hooks = [<class 'zipimport.zipimporter'>, <function FileFinder.pa...\n",
            "    path_importer_cache = {'': FileFinder('/content/.'), '/content': FileF...\n",
            "    platform = 'linux'\n",
            "    platlibdir = 'lib'\n",
            "    prefix = '/usr'\n",
            "    ps1 = 'In : '\n",
            "    ps2 = '...: '\n",
            "    ps3 = 'Out: '\n",
            "    pycache_prefix = None\n",
            "    stderr = <ipykernel.iostream.OutStream object>\n",
            "    stdin = <_io.TextIOWrapper name='<stdin>' mode='r' encoding='utf-8'>\n",
            "    stdout = <ipykernel.iostream.OutStream object>\n",
            "    thread_info = sys.thread_info(name='pthread', lock='semaphore', versio...\n",
            "    version = '3.9.16 (main, Dec  7 2022, 01:11:51) \\n[GCC 9.4.0]'\n",
            "    version_info = sys.version_info(major=3, minor=9, micro=16, releaselev...\n",
            "    warnoptions = ['ignore:::pip._internal.cli.base_command']\n",
            "\n",
            "FILE\n",
            "    (built-in)\n",
            "\n",
            "\n"
          ]
        }
      ],
      "source": [
        "import sys\n",
        "help(sys)"
      ]
    },
    {
      "cell_type": "code",
      "source": [
        "print(sys.version)"
      ],
      "metadata": {
        "colab": {
          "base_uri": "https://localhost:8080/"
        },
        "id": "YF6nUbfRRIx3",
        "outputId": "84686d89-2eba-4567-b6a7-5c942c7a363c"
      },
      "execution_count": null,
      "outputs": [
        {
          "output_type": "stream",
          "name": "stdout",
          "text": [
            "3.9.16 (main, Dec  7 2022, 01:11:51) \n",
            "[GCC 9.4.0]\n"
          ]
        }
      ]
    },
    {
      "cell_type": "code",
      "source": [
        "print(sys.platform)"
      ],
      "metadata": {
        "colab": {
          "base_uri": "https://localhost:8080/"
        },
        "id": "86HQ6i6gROpS",
        "outputId": "aa53ed0c-316e-4ec1-febc-5227e5e4907c"
      },
      "execution_count": null,
      "outputs": [
        {
          "output_type": "stream",
          "name": "stdout",
          "text": [
            "linux\n"
          ]
        }
      ]
    },
    {
      "cell_type": "code",
      "source": [
        "def crash_maker(i):\n",
        "  print(i)\n",
        "  crash_maker(i+1)"
      ],
      "metadata": {
        "id": "IVrgmCicRjDr"
      },
      "execution_count": null,
      "outputs": []
    },
    {
      "cell_type": "code",
      "source": [
        "crash_maker(1)"
      ],
      "metadata": {
        "id": "_1qTqWDVRoip"
      },
      "execution_count": null,
      "outputs": []
    },
    {
      "cell_type": "code",
      "source": [
        "sys.setrecursionlimit(10000)"
      ],
      "metadata": {
        "id": "u5i8UBb6R6aZ"
      },
      "execution_count": null,
      "outputs": []
    },
    {
      "cell_type": "code",
      "source": [
        "crash_maker(1)"
      ],
      "metadata": {
        "id": "GO4BftprR9p7"
      },
      "execution_count": null,
      "outputs": []
    },
    {
      "cell_type": "code",
      "source": [
        "for (k, v) in sys.modules.items():\n",
        "  print(k, ':', v)"
      ],
      "metadata": {
        "id": "YJK36YJzUB50"
      },
      "execution_count": null,
      "outputs": []
    },
    {
      "cell_type": "code",
      "source": [
        "def net_sales():\n",
        "  print('Enter the net sales for')\n",
        "  previous = float(input(' - Prior period : '))\n",
        "  current = float(input(' - Current period : '))\n",
        "  change = (current - previous) * 100 / previous\n",
        "\n",
        "  if change > 0:\n",
        "    result = f'Sales increase {abs(change)}%'\n",
        "  else:\n",
        "    result = f'Sales decrease {abs(change)}%'\n",
        "\n",
        "  print(result)"
      ],
      "metadata": {
        "id": "NHCbcP-MZe-Z"
      },
      "execution_count": null,
      "outputs": []
    },
    {
      "cell_type": "code",
      "source": [
        "net_sales()"
      ],
      "metadata": {
        "colab": {
          "base_uri": "https://localhost:8080/"
        },
        "id": "4ej1nSfxZ6KG",
        "outputId": "9c897ffa-c74a-4f77-9b8d-ae90394ac213"
      },
      "execution_count": null,
      "outputs": [
        {
          "output_type": "stream",
          "name": "stdout",
          "text": [
            "Enter the net sales for\n",
            " - Prior period : 100000\n",
            " - Current period : 500000\n",
            "Sales increase 400.0%\n"
          ]
        }
      ]
    },
    {
      "cell_type": "code",
      "source": [
        "net_sales()"
      ],
      "metadata": {
        "colab": {
          "base_uri": "https://localhost:8080/",
          "height": 346
        },
        "id": "5hvMSAXnZ_WU",
        "outputId": "8d905461-4520-4f04-c317-630d1944a2ea"
      },
      "execution_count": null,
      "outputs": [
        {
          "name": "stdout",
          "output_type": "stream",
          "text": [
            "Enter the net sales for\n",
            " - Prior period : 0\n",
            " - Current period : 575000\n"
          ]
        },
        {
          "output_type": "error",
          "ename": "ZeroDivisionError",
          "evalue": "ignored",
          "traceback": [
            "\u001b[0;31m---------------------------------------------------------------------------\u001b[0m",
            "\u001b[0;31mZeroDivisionError\u001b[0m                         Traceback (most recent call last)",
            "\u001b[0;32m<ipython-input-17-073b30675469>\u001b[0m in \u001b[0;36m<module>\u001b[0;34m\u001b[0m\n\u001b[0;32m----> 1\u001b[0;31m \u001b[0mnet_sales\u001b[0m\u001b[0;34m(\u001b[0m\u001b[0;34m)\u001b[0m\u001b[0;34m\u001b[0m\u001b[0;34m\u001b[0m\u001b[0m\n\u001b[0m",
            "\u001b[0;32m<ipython-input-14-6d090806c7a3>\u001b[0m in \u001b[0;36mnet_sales\u001b[0;34m()\u001b[0m\n\u001b[1;32m      3\u001b[0m   \u001b[0mprevious\u001b[0m \u001b[0;34m=\u001b[0m \u001b[0mfloat\u001b[0m\u001b[0;34m(\u001b[0m\u001b[0minput\u001b[0m\u001b[0;34m(\u001b[0m\u001b[0;34m' - Prior period : '\u001b[0m\u001b[0;34m)\u001b[0m\u001b[0;34m)\u001b[0m\u001b[0;34m\u001b[0m\u001b[0;34m\u001b[0m\u001b[0m\n\u001b[1;32m      4\u001b[0m   \u001b[0mcurrent\u001b[0m \u001b[0;34m=\u001b[0m \u001b[0mfloat\u001b[0m\u001b[0;34m(\u001b[0m\u001b[0minput\u001b[0m\u001b[0;34m(\u001b[0m\u001b[0;34m' - Current period : '\u001b[0m\u001b[0;34m)\u001b[0m\u001b[0;34m)\u001b[0m\u001b[0;34m\u001b[0m\u001b[0;34m\u001b[0m\u001b[0m\n\u001b[0;32m----> 5\u001b[0;31m   \u001b[0mchange\u001b[0m \u001b[0;34m=\u001b[0m \u001b[0;34m(\u001b[0m\u001b[0mcurrent\u001b[0m \u001b[0;34m-\u001b[0m \u001b[0mprevious\u001b[0m\u001b[0;34m)\u001b[0m \u001b[0;34m*\u001b[0m \u001b[0;36m100\u001b[0m \u001b[0;34m/\u001b[0m \u001b[0mprevious\u001b[0m\u001b[0;34m\u001b[0m\u001b[0;34m\u001b[0m\u001b[0m\n\u001b[0m\u001b[1;32m      6\u001b[0m \u001b[0;34m\u001b[0m\u001b[0m\n\u001b[1;32m      7\u001b[0m   \u001b[0;32mif\u001b[0m \u001b[0mchange\u001b[0m \u001b[0;34m>\u001b[0m \u001b[0;36m0\u001b[0m\u001b[0;34m:\u001b[0m\u001b[0;34m\u001b[0m\u001b[0;34m\u001b[0m\u001b[0m\n",
            "\u001b[0;31mZeroDivisionError\u001b[0m: float division by zero"
          ]
        }
      ]
    },
    {
      "cell_type": "code",
      "source": [
        "def net_sales2():\n",
        "  print('Enter the net sales for')\n",
        "  previous = float(input(' - Prior period : '))\n",
        "  current = float(input(' - Current period : '))\n",
        "\n",
        "  change = 1000000\n",
        "  try:\n",
        "    change = (current - previous) * 100 / previous\n",
        "  except ZeroDivisionError:\n",
        "    print('ERROR: Prior period sales cannot be zero')\n",
        "\n",
        "  if change > 0:\n",
        "    result = f'Sales increase {abs(change)}%'\n",
        "  else:\n",
        "    result = f'Sales decrease {abs(change)}%'\n",
        "\n",
        "  print(result)"
      ],
      "metadata": {
        "id": "MofXUClJaOaV"
      },
      "execution_count": null,
      "outputs": []
    },
    {
      "cell_type": "code",
      "source": [
        "net_sales2()"
      ],
      "metadata": {
        "colab": {
          "base_uri": "https://localhost:8080/"
        },
        "id": "wX9BA4ofadSw",
        "outputId": "03a042ec-f17a-4d35-e887-9f96ea55b7e4"
      },
      "execution_count": null,
      "outputs": [
        {
          "output_type": "stream",
          "name": "stdout",
          "text": [
            "Enter the net sales for\n",
            " - Prior period : 0\n",
            " - Current period : 34567\n",
            "ERROR: Prior period sales cannot be zero\n",
            "Sales increase 1000000%\n"
          ]
        }
      ]
    },
    {
      "cell_type": "code",
      "source": [
        "def net_sales3():\n",
        "  print('Enter the net sales for')\n",
        "  #previous = -1\n",
        "  validData = False\n",
        "  while not validData:\n",
        "    try:\n",
        "      previous = float(input(' - Prior period : '))\n",
        "      validData = True\n",
        "    except:\n",
        "      print('Invalid data entered, please type in a decimal number')\n",
        "  #current = -1\n",
        "  validData = False\n",
        "  while not validData:\n",
        "    try:\n",
        "      current = float(input(' - Current period : '))\n",
        "      validData = True\n",
        "    except:\n",
        "      print('Invalid data entered, please type in a decimal number')\n",
        "\n",
        "  change = 1000000\n",
        "  try:\n",
        "    change = (current - previous) * 100 / previous\n",
        "  except ZeroDivisionError:\n",
        "    print('ERROR: Prior period sales cannot be zero')\n",
        "\n",
        "  if change > 0:\n",
        "    result = f'Sales increase {abs(change)}%'\n",
        "  else:\n",
        "    result = f'Sales decrease {abs(change)}%'\n",
        "\n",
        "  print(result)"
      ],
      "metadata": {
        "id": "ZqX7XoXzbWQh"
      },
      "execution_count": null,
      "outputs": []
    },
    {
      "cell_type": "code",
      "source": [
        "net_sales3()"
      ],
      "metadata": {
        "colab": {
          "base_uri": "https://localhost:8080/"
        },
        "id": "oajo0fMrbw-A",
        "outputId": "f7f936e1-73e8-4d4e-f1bb-fcba0042c118"
      },
      "execution_count": null,
      "outputs": [
        {
          "output_type": "stream",
          "name": "stdout",
          "text": [
            "Enter the net sales for\n",
            " - Prior period : 0\n",
            " - Current period : 3245678\n",
            "ERROR: Prior period sales cannot be zero\n",
            "Sales increase 1000000%\n"
          ]
        }
      ]
    },
    {
      "cell_type": "code",
      "source": [
        "net_sales3()"
      ],
      "metadata": {
        "colab": {
          "base_uri": "https://localhost:8080/"
        },
        "id": "YdFmA7uAb3Wk",
        "outputId": "93cc003e-6e27-4178-8534-4568fe07a3ea"
      },
      "execution_count": null,
      "outputs": [
        {
          "output_type": "stream",
          "name": "stdout",
          "text": [
            "Enter the net sales for\n",
            " - Prior period : 100k\n",
            "Invalid data entered, please type in a decimal number:\n",
            " - Prior period : 100000\n",
            " - Current period : 750000\n",
            "Sales increase 650.0%\n"
          ]
        }
      ]
    },
    {
      "cell_type": "code",
      "source": [
        "net_sales3()"
      ],
      "metadata": {
        "colab": {
          "base_uri": "https://localhost:8080/",
          "height": 512
        },
        "id": "VL7dprx-cWOv",
        "outputId": "0faef534-f3b5-4e01-ff52-0c4ea0dd5811"
      },
      "execution_count": null,
      "outputs": [
        {
          "name": "stdout",
          "output_type": "stream",
          "text": [
            "Enter the net sales for\n",
            " - Prior period : 100K\n",
            "Invalid data entered, please type in a decimal number:\n",
            " - Prior period : 100K\n"
          ]
        },
        {
          "output_type": "error",
          "ename": "ValueError",
          "evalue": "ignored",
          "traceback": [
            "\u001b[0;31m---------------------------------------------------------------------------\u001b[0m",
            "\u001b[0;31mValueError\u001b[0m                                Traceback (most recent call last)",
            "\u001b[0;32m<ipython-input-27-c81eb7b8d787>\u001b[0m in \u001b[0;36mnet_sales3\u001b[0;34m()\u001b[0m\n\u001b[1;32m      3\u001b[0m   \u001b[0;32mtry\u001b[0m\u001b[0;34m:\u001b[0m\u001b[0;34m\u001b[0m\u001b[0;34m\u001b[0m\u001b[0m\n\u001b[0;32m----> 4\u001b[0;31m     \u001b[0mprevious\u001b[0m \u001b[0;34m=\u001b[0m \u001b[0mfloat\u001b[0m\u001b[0;34m(\u001b[0m\u001b[0minput\u001b[0m\u001b[0;34m(\u001b[0m\u001b[0;34m' - Prior period : '\u001b[0m\u001b[0;34m)\u001b[0m\u001b[0;34m)\u001b[0m\u001b[0;34m\u001b[0m\u001b[0;34m\u001b[0m\u001b[0m\n\u001b[0m\u001b[1;32m      5\u001b[0m   \u001b[0;32mexcept\u001b[0m \u001b[0mValueError\u001b[0m\u001b[0;34m:\u001b[0m\u001b[0;34m\u001b[0m\u001b[0;34m\u001b[0m\u001b[0m\n",
            "\u001b[0;31mValueError\u001b[0m: could not convert string to float: '100K'",
            "\nDuring handling of the above exception, another exception occurred:\n",
            "\u001b[0;31mValueError\u001b[0m                                Traceback (most recent call last)",
            "\u001b[0;32m<ipython-input-29-d522807f5aac>\u001b[0m in \u001b[0;36m<module>\u001b[0;34m\u001b[0m\n\u001b[0;32m----> 1\u001b[0;31m \u001b[0mnet_sales3\u001b[0m\u001b[0;34m(\u001b[0m\u001b[0;34m)\u001b[0m\u001b[0;34m\u001b[0m\u001b[0;34m\u001b[0m\u001b[0m\n\u001b[0m",
            "\u001b[0;32m<ipython-input-27-c81eb7b8d787>\u001b[0m in \u001b[0;36mnet_sales3\u001b[0;34m()\u001b[0m\n\u001b[1;32m      5\u001b[0m   \u001b[0;32mexcept\u001b[0m \u001b[0mValueError\u001b[0m\u001b[0;34m:\u001b[0m\u001b[0;34m\u001b[0m\u001b[0;34m\u001b[0m\u001b[0m\n\u001b[1;32m      6\u001b[0m     \u001b[0mprint\u001b[0m\u001b[0;34m(\u001b[0m\u001b[0;34m'Invalid data entered, please type in a decimal number:'\u001b[0m\u001b[0;34m)\u001b[0m\u001b[0;34m\u001b[0m\u001b[0;34m\u001b[0m\u001b[0m\n\u001b[0;32m----> 7\u001b[0;31m     \u001b[0mprevious\u001b[0m \u001b[0;34m=\u001b[0m \u001b[0mfloat\u001b[0m\u001b[0;34m(\u001b[0m\u001b[0minput\u001b[0m\u001b[0;34m(\u001b[0m\u001b[0;34m' - Prior period : '\u001b[0m\u001b[0;34m)\u001b[0m\u001b[0;34m)\u001b[0m\u001b[0;34m\u001b[0m\u001b[0;34m\u001b[0m\u001b[0m\n\u001b[0m\u001b[1;32m      8\u001b[0m   \u001b[0;32mtry\u001b[0m\u001b[0;34m:\u001b[0m\u001b[0;34m\u001b[0m\u001b[0;34m\u001b[0m\u001b[0m\n\u001b[1;32m      9\u001b[0m     \u001b[0mcurrent\u001b[0m \u001b[0;34m=\u001b[0m \u001b[0mfloat\u001b[0m\u001b[0;34m(\u001b[0m\u001b[0minput\u001b[0m\u001b[0;34m(\u001b[0m\u001b[0;34m' - Current period : '\u001b[0m\u001b[0;34m)\u001b[0m\u001b[0;34m)\u001b[0m\u001b[0;34m\u001b[0m\u001b[0;34m\u001b[0m\u001b[0m\n",
            "\u001b[0;31mValueError\u001b[0m: could not convert string to float: '100K'"
          ]
        }
      ]
    },
    {
      "cell_type": "code",
      "source": [
        "net_sales3()"
      ],
      "metadata": {
        "colab": {
          "base_uri": "https://localhost:8080/"
        },
        "id": "xP6m-foWdF1j",
        "outputId": "54e82d82-63ab-4dd1-e8c5-3451c8fe6366"
      },
      "execution_count": null,
      "outputs": [
        {
          "output_type": "stream",
          "name": "stdout",
          "text": [
            "Enter the net sales for\n",
            " - Prior period : 100K\n",
            "Invalid data entered, please type in a decimal number\n",
            " - Prior period : 100K\n",
            "Invalid data entered, please type in a decimal number\n",
            " - Prior period : 100K\n",
            "Invalid data entered, please type in a decimal number\n",
            " - Prior period : 581274\n",
            " - Current period : 12398457\n",
            "Sales increase 2032.9797995437607%\n"
          ]
        }
      ]
    },
    {
      "cell_type": "code",
      "source": [
        "net_sales3()"
      ],
      "metadata": {
        "colab": {
          "base_uri": "https://localhost:8080/"
        },
        "id": "oDyN9XrUdftS",
        "outputId": "6bce6bad-08a5-45a5-e6e8-44e533a4de6f"
      },
      "execution_count": null,
      "outputs": [
        {
          "output_type": "stream",
          "name": "stdout",
          "text": [
            "Enter the net sales for\n",
            " - Prior period : aksjdns\n",
            "Invalid data entered, please type in a decimal number\n",
            " - Prior period : o243itew\n",
            "Invalid data entered, please type in a decimal number\n",
            " - Prior period : 456\n",
            " - Current period : iu243hg\n",
            "Invalid data entered, please type in a decimal number\n",
            " - Current period : 230igj\n",
            "Invalid data entered, please type in a decimal number\n",
            " - Current period : 93428\n",
            "Sales increase 20388.59649122807%\n"
          ]
        }
      ]
    },
    {
      "cell_type": "code",
      "source": [
        "def net_sales4():\n",
        "  print('Enter the net sales for')\n",
        "  #previous = -1\n",
        "  validData = False\n",
        "  while not validData:\n",
        "    try:\n",
        "      previous = float(input(' - Prior period : '))\n",
        "      validData = True\n",
        "    except:\n",
        "      print('Invalid data entered, please type in a decimal number')\n",
        "    else:\n",
        "      print('Good job! You entered a number.')  \n",
        "    finally:\n",
        "      print('Well, you entered something at least.')          \n",
        "  #current = -1\n",
        "  validData = False\n",
        "  while not validData:\n",
        "    try:\n",
        "      current = float(input(' - Current period : '))\n",
        "      validData = True\n",
        "    except:\n",
        "      print('Invalid data entered, please type in a decimal number')\n",
        "    else:\n",
        "      print('Good job! You entered a number.')\n",
        "    finally:\n",
        "      print('Well, you entered something at least.')\n",
        "\n",
        "  change = 1000000\n",
        "  try:\n",
        "    change = (current - previous) * 100 / previous\n",
        "  except ZeroDivisionError:\n",
        "    print('ERROR: Prior period sales cannot be zero')\n",
        "\n",
        "  if change > 0:\n",
        "    result = f'Sales increase {abs(change)}%'\n",
        "  else:\n",
        "    result = f'Sales decrease {abs(change)}%'\n",
        "\n",
        "  print(result)"
      ],
      "metadata": {
        "id": "3oq0ofoYfN-w"
      },
      "execution_count": null,
      "outputs": []
    },
    {
      "cell_type": "code",
      "source": [
        "net_sales4()"
      ],
      "metadata": {
        "colab": {
          "base_uri": "https://localhost:8080/"
        },
        "id": "lZRbmG5XfYOv",
        "outputId": "9982f96e-0162-4a6f-f297-8d49d5f25b88"
      },
      "execution_count": null,
      "outputs": [
        {
          "output_type": "stream",
          "name": "stdout",
          "text": [
            "Enter the net sales for\n",
            " - Prior period : 100k\n",
            "Invalid data entered, please type in a decimal number\n",
            " - Prior period : 100000\n",
            "Good job! You entered a number.\n",
            " - Current period : 34567\n",
            "Good job! You entered a number.\n",
            "Sales decrease 65.433%\n"
          ]
        }
      ]
    },
    {
      "cell_type": "code",
      "source": [
        "net_sales4()"
      ],
      "metadata": {
        "colab": {
          "base_uri": "https://localhost:8080/"
        },
        "id": "CMeSKbdwfyj4",
        "outputId": "71ecfba9-c057-4687-b393-b0b277bc4f74"
      },
      "execution_count": null,
      "outputs": [
        {
          "output_type": "stream",
          "name": "stdout",
          "text": [
            "Enter the net sales for\n",
            " - Prior period : 12094ij\n",
            "Invalid data entered, please type in a decimal number\n",
            "Well, you entered something at least.\n",
            " - Prior period : 6532\n",
            "Good job! You entered a number.\n",
            "Well, you entered something at least.\n",
            " - Current period : 138257\n",
            "Good job! You entered a number.\n",
            "Well, you entered something at least.\n",
            "Sales increase 2016.6105327617881%\n"
          ]
        }
      ]
    },
    {
      "cell_type": "code",
      "source": [
        "def net_sales5():\n",
        "  print('Enter the net sales for')\n",
        "  #previous = -1\n",
        "  validData = False\n",
        "  while not validData:\n",
        "    inputString = input(' - Prior period : ')\n",
        "    c_index = -1\n",
        "    for (idx, c) in enumerate(inputString):\n",
        "      c_index = idx\n",
        "      if not c.isdecimal():\n",
        "        print(inputString, 'is not a valid floating point number, please try again')\n",
        "        break\n",
        "    if c_index == (len(inputString) - 1) and (inputString[c_index].isdecimal()):\n",
        "      validData = True\n",
        "      previous = float(inputString)\n",
        "  #  try:\n",
        "  #    previous = float(input(' - Prior period : '))\n",
        "  #    validData = True\n",
        "  #  except:\n",
        "  #    print('Invalid data entered, please type in a decimal number')\n",
        "  #  else:\n",
        "  #    print('Good job! You entered a number.')  \n",
        "  #  finally:\n",
        "  #    print('Well, you entered something at least.')          \n",
        "  #current = -1\n",
        "  validData = False\n",
        "  while not validData:\n",
        "    try:\n",
        "      current = float(input(' - Current period : '))\n",
        "      validData = True\n",
        "    except:\n",
        "      print('Invalid data entered, please type in a decimal number')\n",
        "    else:\n",
        "      print('Good job! You entered a number.')\n",
        "    finally:\n",
        "      print('Well, you entered something at least.')\n",
        "\n",
        "  change = 1000000\n",
        "  try:\n",
        "    change = (current - previous) * 100 / previous\n",
        "  except ZeroDivisionError:\n",
        "    print('ERROR: Prior period sales cannot be zero')\n",
        "\n",
        "  if change > 0:\n",
        "    result = f'Sales increase {abs(change)}%'\n",
        "  else:\n",
        "    result = f'Sales decrease {abs(change)}%'\n",
        "\n",
        "  print(result)"
      ],
      "metadata": {
        "id": "P0tYMlqyg6YM"
      },
      "execution_count": null,
      "outputs": []
    },
    {
      "cell_type": "code",
      "source": [
        "net_sales5()"
      ],
      "metadata": {
        "colab": {
          "base_uri": "https://localhost:8080/"
        },
        "id": "zmEwwV2-isBi",
        "outputId": "e9d6125c-4f28-48f6-f44f-37b179e96bb1"
      },
      "execution_count": null,
      "outputs": [
        {
          "output_type": "stream",
          "name": "stdout",
          "text": [
            "Enter the net sales for\n",
            " - Prior period : 100k\n",
            "100k is not a valid floating point number, please try again\n",
            " - Prior period : h\n",
            "h is not a valid floating point number, please try again\n",
            " - Prior period : 1188888\n",
            " - Current period : 02398\n",
            "Good job! You entered a number.\n",
            "Well, you entered something at least.\n",
            "Sales decrease 99.79829891461601%\n"
          ]
        }
      ]
    },
    {
      "cell_type": "code",
      "source": [
        "import re"
      ],
      "metadata": {
        "id": "V1iG1-oui7tk"
      },
      "execution_count": null,
      "outputs": []
    },
    {
      "cell_type": "code",
      "source": [
        "help(re) #regex"
      ],
      "metadata": {
        "colab": {
          "base_uri": "https://localhost:8080/"
        },
        "id": "KZjdAzGijAFv",
        "outputId": "b200d5df-beff-43b1-eed1-02189a785b3c"
      },
      "execution_count": null,
      "outputs": [
        {
          "output_type": "stream",
          "name": "stdout",
          "text": [
            "Help on module re:\n",
            "\n",
            "NAME\n",
            "    re - Support for regular expressions (RE).\n",
            "\n",
            "MODULE REFERENCE\n",
            "    https://docs.python.org/3.9/library/re\n",
            "    \n",
            "    The following documentation is automatically generated from the Python\n",
            "    source files.  It may be incomplete, incorrect or include features that\n",
            "    are considered implementation detail and may vary between Python\n",
            "    implementations.  When in doubt, consult the module reference at the\n",
            "    location listed above.\n",
            "\n",
            "DESCRIPTION\n",
            "    This module provides regular expression matching operations similar to\n",
            "    those found in Perl.  It supports both 8-bit and Unicode strings; both\n",
            "    the pattern and the strings being processed can contain null bytes and\n",
            "    characters outside the US ASCII range.\n",
            "    \n",
            "    Regular expressions can contain both special and ordinary characters.\n",
            "    Most ordinary characters, like \"A\", \"a\", or \"0\", are the simplest\n",
            "    regular expressions; they simply match themselves.  You can\n",
            "    concatenate ordinary characters, so last matches the string 'last'.\n",
            "    \n",
            "    The special characters are:\n",
            "        \".\"      Matches any character except a newline.\n",
            "        \"^\"      Matches the start of the string.\n",
            "        \"$\"      Matches the end of the string or just before the newline at\n",
            "                 the end of the string.\n",
            "        \"*\"      Matches 0 or more (greedy) repetitions of the preceding RE.\n",
            "                 Greedy means that it will match as many repetitions as possible.\n",
            "        \"+\"      Matches 1 or more (greedy) repetitions of the preceding RE.\n",
            "        \"?\"      Matches 0 or 1 (greedy) of the preceding RE.\n",
            "        *?,+?,?? Non-greedy versions of the previous three special characters.\n",
            "        {m,n}    Matches from m to n repetitions of the preceding RE.\n",
            "        {m,n}?   Non-greedy version of the above.\n",
            "        \"\\\\\"     Either escapes special characters or signals a special sequence.\n",
            "        []       Indicates a set of characters.\n",
            "                 A \"^\" as the first character indicates a complementing set.\n",
            "        \"|\"      A|B, creates an RE that will match either A or B.\n",
            "        (...)    Matches the RE inside the parentheses.\n",
            "                 The contents can be retrieved or matched later in the string.\n",
            "        (?aiLmsux) The letters set the corresponding flags defined below.\n",
            "        (?:...)  Non-grouping version of regular parentheses.\n",
            "        (?P<name>...) The substring matched by the group is accessible by name.\n",
            "        (?P=name)     Matches the text matched earlier by the group named name.\n",
            "        (?#...)  A comment; ignored.\n",
            "        (?=...)  Matches if ... matches next, but doesn't consume the string.\n",
            "        (?!...)  Matches if ... doesn't match next.\n",
            "        (?<=...) Matches if preceded by ... (must be fixed length).\n",
            "        (?<!...) Matches if not preceded by ... (must be fixed length).\n",
            "        (?(id/name)yes|no) Matches yes pattern if the group with id/name matched,\n",
            "                           the (optional) no pattern otherwise.\n",
            "    \n",
            "    The special sequences consist of \"\\\\\" and a character from the list\n",
            "    below.  If the ordinary character is not on the list, then the\n",
            "    resulting RE will match the second character.\n",
            "        \\number  Matches the contents of the group of the same number.\n",
            "        \\A       Matches only at the start of the string.\n",
            "        \\Z       Matches only at the end of the string.\n",
            "        \\b       Matches the empty string, but only at the start or end of a word.\n",
            "        \\B       Matches the empty string, but not at the start or end of a word.\n",
            "        \\d       Matches any decimal digit; equivalent to the set [0-9] in\n",
            "                 bytes patterns or string patterns with the ASCII flag.\n",
            "                 In string patterns without the ASCII flag, it will match the whole\n",
            "                 range of Unicode digits.\n",
            "        \\D       Matches any non-digit character; equivalent to [^\\d].\n",
            "        \\s       Matches any whitespace character; equivalent to [ \\t\\n\\r\\f\\v] in\n",
            "                 bytes patterns or string patterns with the ASCII flag.\n",
            "                 In string patterns without the ASCII flag, it will match the whole\n",
            "                 range of Unicode whitespace characters.\n",
            "        \\S       Matches any non-whitespace character; equivalent to [^\\s].\n",
            "        \\w       Matches any alphanumeric character; equivalent to [a-zA-Z0-9_]\n",
            "                 in bytes patterns or string patterns with the ASCII flag.\n",
            "                 In string patterns without the ASCII flag, it will match the\n",
            "                 range of Unicode alphanumeric characters (letters plus digits\n",
            "                 plus underscore).\n",
            "                 With LOCALE, it will match the set [0-9_] plus characters defined\n",
            "                 as letters for the current locale.\n",
            "        \\W       Matches the complement of \\w.\n",
            "        \\\\       Matches a literal backslash.\n",
            "    \n",
            "    This module exports the following functions:\n",
            "        match     Match a regular expression pattern to the beginning of a string.\n",
            "        fullmatch Match a regular expression pattern to all of a string.\n",
            "        search    Search a string for the presence of a pattern.\n",
            "        sub       Substitute occurrences of a pattern found in a string.\n",
            "        subn      Same as sub, but also return the number of substitutions made.\n",
            "        split     Split a string by the occurrences of a pattern.\n",
            "        findall   Find all occurrences of a pattern in a string.\n",
            "        finditer  Return an iterator yielding a Match object for each match.\n",
            "        compile   Compile a pattern into a Pattern object.\n",
            "        purge     Clear the regular expression cache.\n",
            "        escape    Backslash all non-alphanumerics in a string.\n",
            "    \n",
            "    Each function other than purge and escape can take an optional 'flags' argument\n",
            "    consisting of one or more of the following module constants, joined by \"|\".\n",
            "    A, L, and U are mutually exclusive.\n",
            "        A  ASCII       For string patterns, make \\w, \\W, \\b, \\B, \\d, \\D\n",
            "                       match the corresponding ASCII character categories\n",
            "                       (rather than the whole Unicode categories, which is the\n",
            "                       default).\n",
            "                       For bytes patterns, this flag is the only available\n",
            "                       behaviour and needn't be specified.\n",
            "        I  IGNORECASE  Perform case-insensitive matching.\n",
            "        L  LOCALE      Make \\w, \\W, \\b, \\B, dependent on the current locale.\n",
            "        M  MULTILINE   \"^\" matches the beginning of lines (after a newline)\n",
            "                       as well as the string.\n",
            "                       \"$\" matches the end of lines (before a newline) as well\n",
            "                       as the end of the string.\n",
            "        S  DOTALL      \".\" matches any character at all, including the newline.\n",
            "        X  VERBOSE     Ignore whitespace and comments for nicer looking RE's.\n",
            "        U  UNICODE     For compatibility only. Ignored for string patterns (it\n",
            "                       is the default), and forbidden for bytes patterns.\n",
            "    \n",
            "    This module also defines an exception 'error'.\n",
            "\n",
            "CLASSES\n",
            "    builtins.Exception(builtins.BaseException)\n",
            "        error\n",
            "    builtins.object\n",
            "        Match\n",
            "        Pattern\n",
            "    \n",
            "    class Match(builtins.object)\n",
            "     |  The result of re.match() and re.search().\n",
            "     |  Match objects always have a boolean value of True.\n",
            "     |  \n",
            "     |  Methods defined here:\n",
            "     |  \n",
            "     |  __copy__(self, /)\n",
            "     |  \n",
            "     |  __deepcopy__(self, memo, /)\n",
            "     |  \n",
            "     |  __getitem__(self, key, /)\n",
            "     |      Return self[key].\n",
            "     |  \n",
            "     |  __repr__(self, /)\n",
            "     |      Return repr(self).\n",
            "     |  \n",
            "     |  end(self, group=0, /)\n",
            "     |      Return index of the end of the substring matched by group.\n",
            "     |  \n",
            "     |  expand(self, /, template)\n",
            "     |      Return the string obtained by doing backslash substitution on the string template, as done by the sub() method.\n",
            "     |  \n",
            "     |  group(...)\n",
            "     |      group([group1, ...]) -> str or tuple.\n",
            "     |      Return subgroup(s) of the match by indices or names.\n",
            "     |      For 0 returns the entire match.\n",
            "     |  \n",
            "     |  groupdict(self, /, default=None)\n",
            "     |      Return a dictionary containing all the named subgroups of the match, keyed by the subgroup name.\n",
            "     |      \n",
            "     |      default\n",
            "     |        Is used for groups that did not participate in the match.\n",
            "     |  \n",
            "     |  groups(self, /, default=None)\n",
            "     |      Return a tuple containing all the subgroups of the match, from 1.\n",
            "     |      \n",
            "     |      default\n",
            "     |        Is used for groups that did not participate in the match.\n",
            "     |  \n",
            "     |  span(self, group=0, /)\n",
            "     |      For match object m, return the 2-tuple (m.start(group), m.end(group)).\n",
            "     |  \n",
            "     |  start(self, group=0, /)\n",
            "     |      Return index of the start of the substring matched by group.\n",
            "     |  \n",
            "     |  ----------------------------------------------------------------------\n",
            "     |  Class methods defined here:\n",
            "     |  \n",
            "     |  __class_getitem__(...) from builtins.type\n",
            "     |      See PEP 585\n",
            "     |  \n",
            "     |  ----------------------------------------------------------------------\n",
            "     |  Data descriptors defined here:\n",
            "     |  \n",
            "     |  endpos\n",
            "     |      The index into the string beyond which the RE engine will not go.\n",
            "     |  \n",
            "     |  lastgroup\n",
            "     |      The name of the last matched capturing group.\n",
            "     |  \n",
            "     |  lastindex\n",
            "     |      The integer index of the last matched capturing group.\n",
            "     |  \n",
            "     |  pos\n",
            "     |      The index into the string at which the RE engine started looking for a match.\n",
            "     |  \n",
            "     |  re\n",
            "     |      The regular expression object.\n",
            "     |  \n",
            "     |  regs\n",
            "     |  \n",
            "     |  string\n",
            "     |      The string passed to match() or search().\n",
            "    \n",
            "    class Pattern(builtins.object)\n",
            "     |  Compiled regular expression object.\n",
            "     |  \n",
            "     |  Methods defined here:\n",
            "     |  \n",
            "     |  __copy__(self, /)\n",
            "     |  \n",
            "     |  __deepcopy__(self, memo, /)\n",
            "     |  \n",
            "     |  __eq__(self, value, /)\n",
            "     |      Return self==value.\n",
            "     |  \n",
            "     |  __ge__(self, value, /)\n",
            "     |      Return self>=value.\n",
            "     |  \n",
            "     |  __gt__(self, value, /)\n",
            "     |      Return self>value.\n",
            "     |  \n",
            "     |  __hash__(self, /)\n",
            "     |      Return hash(self).\n",
            "     |  \n",
            "     |  __le__(self, value, /)\n",
            "     |      Return self<=value.\n",
            "     |  \n",
            "     |  __lt__(self, value, /)\n",
            "     |      Return self<value.\n",
            "     |  \n",
            "     |  __ne__(self, value, /)\n",
            "     |      Return self!=value.\n",
            "     |  \n",
            "     |  __repr__(self, /)\n",
            "     |      Return repr(self).\n",
            "     |  \n",
            "     |  findall(self, /, string, pos=0, endpos=9223372036854775807)\n",
            "     |      Return a list of all non-overlapping matches of pattern in string.\n",
            "     |  \n",
            "     |  finditer(self, /, string, pos=0, endpos=9223372036854775807)\n",
            "     |      Return an iterator over all non-overlapping matches for the RE pattern in string.\n",
            "     |      \n",
            "     |      For each match, the iterator returns a match object.\n",
            "     |  \n",
            "     |  fullmatch(self, /, string, pos=0, endpos=9223372036854775807)\n",
            "     |      Matches against all of the string.\n",
            "     |  \n",
            "     |  match(self, /, string, pos=0, endpos=9223372036854775807)\n",
            "     |      Matches zero or more characters at the beginning of the string.\n",
            "     |  \n",
            "     |  scanner(self, /, string, pos=0, endpos=9223372036854775807)\n",
            "     |  \n",
            "     |  search(self, /, string, pos=0, endpos=9223372036854775807)\n",
            "     |      Scan through string looking for a match, and return a corresponding match object instance.\n",
            "     |      \n",
            "     |      Return None if no position in the string matches.\n",
            "     |  \n",
            "     |  split(self, /, string, maxsplit=0)\n",
            "     |      Split string by the occurrences of pattern.\n",
            "     |  \n",
            "     |  sub(self, /, repl, string, count=0)\n",
            "     |      Return the string obtained by replacing the leftmost non-overlapping occurrences of pattern in string by the replacement repl.\n",
            "     |  \n",
            "     |  subn(self, /, repl, string, count=0)\n",
            "     |      Return the tuple (new_string, number_of_subs_made) found by replacing the leftmost non-overlapping occurrences of pattern with the replacement repl.\n",
            "     |  \n",
            "     |  ----------------------------------------------------------------------\n",
            "     |  Class methods defined here:\n",
            "     |  \n",
            "     |  __class_getitem__(...) from builtins.type\n",
            "     |      See PEP 585\n",
            "     |  \n",
            "     |  ----------------------------------------------------------------------\n",
            "     |  Data descriptors defined here:\n",
            "     |  \n",
            "     |  flags\n",
            "     |      The regex matching flags.\n",
            "     |  \n",
            "     |  groupindex\n",
            "     |      A dictionary mapping group names to group numbers.\n",
            "     |  \n",
            "     |  groups\n",
            "     |      The number of capturing groups in the pattern.\n",
            "     |  \n",
            "     |  pattern\n",
            "     |      The pattern string from which the RE object was compiled.\n",
            "    \n",
            "    class error(builtins.Exception)\n",
            "     |  error(msg, pattern=None, pos=None)\n",
            "     |  \n",
            "     |  Exception raised for invalid regular expressions.\n",
            "     |  \n",
            "     |  Attributes:\n",
            "     |  \n",
            "     |      msg: The unformatted error message\n",
            "     |      pattern: The regular expression pattern\n",
            "     |      pos: The index in the pattern where compilation failed (may be None)\n",
            "     |      lineno: The line corresponding to pos (may be None)\n",
            "     |      colno: The column corresponding to pos (may be None)\n",
            "     |  \n",
            "     |  Method resolution order:\n",
            "     |      error\n",
            "     |      builtins.Exception\n",
            "     |      builtins.BaseException\n",
            "     |      builtins.object\n",
            "     |  \n",
            "     |  Methods defined here:\n",
            "     |  \n",
            "     |  __init__(self, msg, pattern=None, pos=None)\n",
            "     |      Initialize self.  See help(type(self)) for accurate signature.\n",
            "     |  \n",
            "     |  ----------------------------------------------------------------------\n",
            "     |  Data descriptors defined here:\n",
            "     |  \n",
            "     |  __weakref__\n",
            "     |      list of weak references to the object (if defined)\n",
            "     |  \n",
            "     |  ----------------------------------------------------------------------\n",
            "     |  Static methods inherited from builtins.Exception:\n",
            "     |  \n",
            "     |  __new__(*args, **kwargs) from builtins.type\n",
            "     |      Create and return a new object.  See help(type) for accurate signature.\n",
            "     |  \n",
            "     |  ----------------------------------------------------------------------\n",
            "     |  Methods inherited from builtins.BaseException:\n",
            "     |  \n",
            "     |  __delattr__(self, name, /)\n",
            "     |      Implement delattr(self, name).\n",
            "     |  \n",
            "     |  __getattribute__(self, name, /)\n",
            "     |      Return getattr(self, name).\n",
            "     |  \n",
            "     |  __reduce__(...)\n",
            "     |      Helper for pickle.\n",
            "     |  \n",
            "     |  __repr__(self, /)\n",
            "     |      Return repr(self).\n",
            "     |  \n",
            "     |  __setattr__(self, name, value, /)\n",
            "     |      Implement setattr(self, name, value).\n",
            "     |  \n",
            "     |  __setstate__(...)\n",
            "     |  \n",
            "     |  __str__(self, /)\n",
            "     |      Return str(self).\n",
            "     |  \n",
            "     |  with_traceback(...)\n",
            "     |      Exception.with_traceback(tb) --\n",
            "     |      set self.__traceback__ to tb and return self.\n",
            "     |  \n",
            "     |  ----------------------------------------------------------------------\n",
            "     |  Data descriptors inherited from builtins.BaseException:\n",
            "     |  \n",
            "     |  __cause__\n",
            "     |      exception cause\n",
            "     |  \n",
            "     |  __context__\n",
            "     |      exception context\n",
            "     |  \n",
            "     |  __dict__\n",
            "     |  \n",
            "     |  __suppress_context__\n",
            "     |  \n",
            "     |  __traceback__\n",
            "     |  \n",
            "     |  args\n",
            "\n",
            "FUNCTIONS\n",
            "    compile(pattern, flags=0)\n",
            "        Compile a regular expression pattern, returning a Pattern object.\n",
            "    \n",
            "    escape(pattern)\n",
            "        Escape special characters in a string.\n",
            "    \n",
            "    findall(pattern, string, flags=0)\n",
            "        Return a list of all non-overlapping matches in the string.\n",
            "        \n",
            "        If one or more capturing groups are present in the pattern, return\n",
            "        a list of groups; this will be a list of tuples if the pattern\n",
            "        has more than one group.\n",
            "        \n",
            "        Empty matches are included in the result.\n",
            "    \n",
            "    finditer(pattern, string, flags=0)\n",
            "        Return an iterator over all non-overlapping matches in the\n",
            "        string.  For each match, the iterator returns a Match object.\n",
            "        \n",
            "        Empty matches are included in the result.\n",
            "    \n",
            "    fullmatch(pattern, string, flags=0)\n",
            "        Try to apply the pattern to all of the string, returning\n",
            "        a Match object, or None if no match was found.\n",
            "    \n",
            "    match(pattern, string, flags=0)\n",
            "        Try to apply the pattern at the start of the string, returning\n",
            "        a Match object, or None if no match was found.\n",
            "    \n",
            "    purge()\n",
            "        Clear the regular expression caches\n",
            "    \n",
            "    search(pattern, string, flags=0)\n",
            "        Scan through string looking for a match to the pattern, returning\n",
            "        a Match object, or None if no match was found.\n",
            "    \n",
            "    split(pattern, string, maxsplit=0, flags=0)\n",
            "        Split the source string by the occurrences of the pattern,\n",
            "        returning a list containing the resulting substrings.  If\n",
            "        capturing parentheses are used in pattern, then the text of all\n",
            "        groups in the pattern are also returned as part of the resulting\n",
            "        list.  If maxsplit is nonzero, at most maxsplit splits occur,\n",
            "        and the remainder of the string is returned as the final element\n",
            "        of the list.\n",
            "    \n",
            "    sub(pattern, repl, string, count=0, flags=0)\n",
            "        Return the string obtained by replacing the leftmost\n",
            "        non-overlapping occurrences of the pattern in string by the\n",
            "        replacement repl.  repl can be either a string or a callable;\n",
            "        if a string, backslash escapes in it are processed.  If it is\n",
            "        a callable, it's passed the Match object and must return\n",
            "        a replacement string to be used.\n",
            "    \n",
            "    subn(pattern, repl, string, count=0, flags=0)\n",
            "        Return a 2-tuple containing (new_string, number).\n",
            "        new_string is the string obtained by replacing the leftmost\n",
            "        non-overlapping occurrences of the pattern in the source\n",
            "        string by the replacement repl.  number is the number of\n",
            "        substitutions that were made. repl can be either a string or a\n",
            "        callable; if a string, backslash escapes in it are processed.\n",
            "        If it is a callable, it's passed the Match object and must\n",
            "        return a replacement string to be used.\n",
            "    \n",
            "    template(pattern, flags=0)\n",
            "        Compile a template pattern, returning a Pattern object\n",
            "\n",
            "DATA\n",
            "    A = re.ASCII\n",
            "    ASCII = re.ASCII\n",
            "    DOTALL = re.DOTALL\n",
            "    I = re.IGNORECASE\n",
            "    IGNORECASE = re.IGNORECASE\n",
            "    L = re.LOCALE\n",
            "    LOCALE = re.LOCALE\n",
            "    M = re.MULTILINE\n",
            "    MULTILINE = re.MULTILINE\n",
            "    S = re.DOTALL\n",
            "    U = re.UNICODE\n",
            "    UNICODE = re.UNICODE\n",
            "    VERBOSE = re.VERBOSE\n",
            "    X = re.VERBOSE\n",
            "    __all__ = ['match', 'fullmatch', 'search', 'sub', 'subn', 'split', 'fi...\n",
            "\n",
            "VERSION\n",
            "    2.2.1\n",
            "\n",
            "FILE\n",
            "    /usr/lib/python3.9/re.py\n",
            "\n",
            "\n"
          ]
        }
      ]
    }
  ]
}