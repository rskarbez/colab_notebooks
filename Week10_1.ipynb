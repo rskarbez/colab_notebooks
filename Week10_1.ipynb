{
  "nbformat": 4,
  "nbformat_minor": 0,
  "metadata": {
    "colab": {
      "provenance": [],
      "authorship_tag": "ABX9TyPQJhPFDn9b9Gk0EmXLbQVT",
      "include_colab_link": true
    },
    "kernelspec": {
      "name": "python3",
      "display_name": "Python 3"
    },
    "language_info": {
      "name": "python"
    }
  },
  "cells": [
    {
      "cell_type": "markdown",
      "metadata": {
        "id": "view-in-github",
        "colab_type": "text"
      },
      "source": [
        "<a href=\"https://colab.research.google.com/github/rskarbez/colab_notebooks/blob/main/Week10_1.ipynb\" target=\"_parent\"><img src=\"https://colab.research.google.com/assets/colab-badge.svg\" alt=\"Open In Colab\"/></a>"
      ]
    },
    {
      "cell_type": "code",
      "execution_count": 1,
      "metadata": {
        "colab": {
          "base_uri": "https://localhost:8080/"
        },
        "id": "EPbxNIkr_rOI",
        "outputId": "302b6a37-c341-4f37-ab96-8ce662a5042b"
      },
      "outputs": [
        {
          "output_type": "stream",
          "name": "stdout",
          "text": [
            "170\n"
          ]
        }
      ],
      "source": [
        "b_0 = 0b10101010\n",
        "print(b_0)"
      ]
    },
    {
      "cell_type": "code",
      "source": [
        "0*2**0 + 1*2**1 + 0*2**2 + 1*2**3 + 0*2**4 + 1*2**5 + 0*2**6 + 1*2**7"
      ],
      "metadata": {
        "colab": {
          "base_uri": "https://localhost:8080/"
        },
        "id": "jN1VZL5NCS_-",
        "outputId": "6d63e2ef-a6d1-4779-e0a9-ef939a305722"
      },
      "execution_count": 2,
      "outputs": [
        {
          "output_type": "execute_result",
          "data": {
            "text/plain": [
              "170"
            ]
          },
          "metadata": {},
          "execution_count": 2
        }
      ]
    },
    {
      "cell_type": "code",
      "source": [
        "b_1 = 0b00111100\n",
        "print(b_1)"
      ],
      "metadata": {
        "colab": {
          "base_uri": "https://localhost:8080/"
        },
        "id": "T6OWNyQNCqoY",
        "outputId": "fa8c8554-f6a7-4a5f-8e22-253f712d9772"
      },
      "execution_count": 3,
      "outputs": [
        {
          "output_type": "stream",
          "name": "stdout",
          "text": [
            "60\n"
          ]
        }
      ]
    },
    {
      "cell_type": "code",
      "source": [
        "b_0 & b_1"
      ],
      "metadata": {
        "colab": {
          "base_uri": "https://localhost:8080/"
        },
        "id": "egj0lAb5C4UY",
        "outputId": "b0853dab-b6cb-410b-c65f-babd437640a7"
      },
      "execution_count": 4,
      "outputs": [
        {
          "output_type": "execute_result",
          "data": {
            "text/plain": [
              "40"
            ]
          },
          "metadata": {},
          "execution_count": 4
        }
      ]
    },
    {
      "cell_type": "code",
      "source": [
        "def print_bits(x):\n",
        "  temp_str = ''\n",
        "  while x > 0:\n",
        "    temp_str += str(x % 2)\n",
        "    x = x // 2\n",
        "  print('0b' + temp_str[::-1])\n",
        "\n",
        "print_bits(b_0 & b_1)"
      ],
      "metadata": {
        "colab": {
          "base_uri": "https://localhost:8080/"
        },
        "id": "zN0KZoLIDNFo",
        "outputId": "eb49f2f2-53c6-449c-8e4c-619a6e054fef"
      },
      "execution_count": 10,
      "outputs": [
        {
          "output_type": "stream",
          "name": "stdout",
          "text": [
            "0b101000\n"
          ]
        }
      ]
    },
    {
      "cell_type": "code",
      "source": [
        "print(bin(b_0 & b_1))"
      ],
      "metadata": {
        "colab": {
          "base_uri": "https://localhost:8080/"
        },
        "id": "IGH29dLLEsIk",
        "outputId": "6719a4cb-d72b-410b-f9e8-59abd2e35d7b"
      },
      "execution_count": 11,
      "outputs": [
        {
          "output_type": "stream",
          "name": "stdout",
          "text": [
            "0b101000\n"
          ]
        }
      ]
    },
    {
      "cell_type": "code",
      "source": [
        "print_bits(b_0 & 42)"
      ],
      "metadata": {
        "colab": {
          "base_uri": "https://localhost:8080/"
        },
        "id": "xK2P4lMDE5fN",
        "outputId": "8a3fcd1e-9807-4adf-c3a6-ae20dcf914cd"
      },
      "execution_count": 13,
      "outputs": [
        {
          "output_type": "stream",
          "name": "stdout",
          "text": [
            "0b101010\n"
          ]
        }
      ]
    },
    {
      "cell_type": "code",
      "source": [
        "print(bin(b_0))\n",
        "print(bin(b_1))\n",
        "b_2 = b_0 & b_1\n",
        "b_3 = b_0 | b_1\n",
        "b_4 = b_0 ^ b_1\n",
        "print(bin(b_2))\n",
        "print(bin(b_3))\n",
        "print(bin(b_4))"
      ],
      "metadata": {
        "colab": {
          "base_uri": "https://localhost:8080/"
        },
        "id": "aehMqxBEFzFl",
        "outputId": "ae11675e-2cbf-468f-f6d1-2dea5964a2d0"
      },
      "execution_count": 15,
      "outputs": [
        {
          "output_type": "stream",
          "name": "stdout",
          "text": [
            "0b10101010\n",
            "0b111100\n",
            "0b101000\n",
            "0b10111110\n",
            "0b10010110\n"
          ]
        }
      ]
    },
    {
      "cell_type": "code",
      "source": [
        "print(b_0)\n",
        "print(b_1)\n",
        "print()\n",
        "print(b_2)\n",
        "print(b_3)\n",
        "print(b_4)"
      ],
      "metadata": {
        "colab": {
          "base_uri": "https://localhost:8080/"
        },
        "id": "uyyUguGPGizM",
        "outputId": "fbb8a10b-b53e-418d-881c-67d11b250e30"
      },
      "execution_count": 16,
      "outputs": [
        {
          "output_type": "stream",
          "name": "stdout",
          "text": [
            "170\n",
            "60\n",
            "\n",
            "40\n",
            "190\n",
            "150\n"
          ]
        }
      ]
    },
    {
      "cell_type": "code",
      "source": [
        "help(bin)"
      ],
      "metadata": {
        "colab": {
          "base_uri": "https://localhost:8080/"
        },
        "id": "A0vm-xzXFKqL",
        "outputId": "2390d591-55fa-431b-8217-65253bd9d17b"
      },
      "execution_count": 14,
      "outputs": [
        {
          "output_type": "stream",
          "name": "stdout",
          "text": [
            "Help on built-in function bin in module builtins:\n",
            "\n",
            "bin(number, /)\n",
            "    Return the binary representation of an integer.\n",
            "    \n",
            "    >>> bin(2796202)\n",
            "    '0b1010101010101010101010'\n",
            "\n"
          ]
        }
      ]
    },
    {
      "cell_type": "code",
      "source": [
        "a = 1\n",
        "b = 0\n",
        "c = a & b # 1 and 0 == 0\n",
        "d = a | b # 1 or 0 == 1\n",
        "e = a ^ b # 1 xor 0 == 1\n",
        "print(c + d + e)"
      ],
      "metadata": {
        "colab": {
          "base_uri": "https://localhost:8080/"
        },
        "id": "s6Nxjb5iHdP9",
        "outputId": "754e5960-34ad-4c94-c6f5-3fbc7d0c8a7b"
      },
      "execution_count": 17,
      "outputs": [
        {
          "output_type": "stream",
          "name": "stdout",
          "text": [
            "2\n"
          ]
        }
      ]
    },
    {
      "cell_type": "code",
      "source": [
        "var = 128\n",
        "while var > 10:\n",
        "  var >>= 1\n",
        "  print('# {}'.format(var))\n",
        "print(var)"
      ],
      "metadata": {
        "colab": {
          "base_uri": "https://localhost:8080/"
        },
        "id": "8RR6d_GTIeaX",
        "outputId": "9ce3d8a2-832a-4cb4-a16b-33c3b5df8350"
      },
      "execution_count": 21,
      "outputs": [
        {
          "output_type": "stream",
          "name": "stdout",
          "text": [
            "# 64\n",
            "# 32\n",
            "# 16\n",
            "# 8\n",
            "8\n"
          ]
        }
      ]
    },
    {
      "cell_type": "code",
      "source": [
        "var = 1\n",
        "while var < 10:\n",
        "  print('#')\n",
        "  var = var << 1"
      ],
      "metadata": {
        "colab": {
          "base_uri": "https://localhost:8080/"
        },
        "id": "O2AUITLJJYCi",
        "outputId": "a9bebadb-a743-4821-f99d-8bf0b2d8db13"
      },
      "execution_count": 22,
      "outputs": [
        {
          "output_type": "stream",
          "name": "stdout",
          "text": [
            "#\n",
            "#\n",
            "#\n",
            "#\n"
          ]
        }
      ]
    },
    {
      "cell_type": "code",
      "source": [
        "class Car:\n",
        "  self_propelled = True\n",
        "  number_of_cars = 0\n",
        "\n",
        "  def __init__(self, make='Ford', model='Falcon', year=2000):\n",
        "    Car.number_of_cars += 1\n",
        "    self.make = make\n",
        "    self.model = model\n",
        "    self.year = year\n",
        "    #print('Car created: {} {} {}'.format(year, make, model))\n",
        "\n",
        "  def __str__(self):\n",
        "    return '{} {} {}'.format(self.year, self.make, self.model)\n",
        "\n",
        "  \n",
        "ricks_volvo = Car('Volvo', 'S60', 2013)\n",
        "print(ricks_volvo)\n",
        "\n",
        "ricks_subaru = Car('Subaru', 'Impreza', 2005)\n",
        "print(ricks_subaru)\n",
        "\n",
        "print(Car.number_of_cars)\n",
        "\n",
        "ricks_old_subaru = Car('Subaru', 'Loyale', 1994)\n",
        "print(ricks_old_subaru)\n",
        "\n",
        "print(Car.number_of_cars)\n",
        "\n",
        "ff = Car()\n",
        "print(ff)\n",
        "\n",
        "print(Car.number_of_cars)"
      ],
      "metadata": {
        "colab": {
          "base_uri": "https://localhost:8080/"
        },
        "id": "VR9KxIDQiB7o",
        "outputId": "c552c27a-afb2-40d4-db6b-229deeef6710"
      },
      "execution_count": 31,
      "outputs": [
        {
          "output_type": "stream",
          "name": "stdout",
          "text": [
            "2013 Volvo S60\n",
            "2005 Subaru Impreza\n",
            "2\n",
            "1994 Subaru Loyale\n",
            "3\n",
            "2000 Ford Falcon\n",
            "4\n"
          ]
        }
      ]
    }
  ]
}