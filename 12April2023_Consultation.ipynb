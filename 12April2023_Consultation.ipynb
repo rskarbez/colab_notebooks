{
  "nbformat": 4,
  "nbformat_minor": 0,
  "metadata": {
    "colab": {
      "provenance": [],
      "authorship_tag": "ABX9TyNFF2bKzM+k7QrPLKObHsKB",
      "include_colab_link": true
    },
    "kernelspec": {
      "name": "python3",
      "display_name": "Python 3"
    },
    "language_info": {
      "name": "python"
    }
  },
  "cells": [
    {
      "cell_type": "markdown",
      "metadata": {
        "id": "view-in-github",
        "colab_type": "text"
      },
      "source": [
        "<a href=\"https://colab.research.google.com/github/rskarbez/colab_notebooks/blob/main/12April2023_Consultation.ipynb\" target=\"_parent\"><img src=\"https://colab.research.google.com/assets/colab-badge.svg\" alt=\"Open In Colab\"/></a>"
      ]
    },
    {
      "cell_type": "code",
      "execution_count": 7,
      "metadata": {
        "colab": {
          "base_uri": "https://localhost:8080/"
        },
        "id": "9IwopZ3uVVvU",
        "outputId": "9d2bb558-b9f0-4342-d29f-d20a1fe2543a"
      },
      "outputs": [
        {
          "output_type": "stream",
          "name": "stdout",
          "text": [
            "Do you want to play a game? Enter Y or N.y\n",
            "for snake press 1, for water press 2, for gun press 3: 1\n",
            "you:  snake\n",
            "comp:  snake\n",
            "its a Draw\n",
            "compScore: 0 \n",
            "userScore: 0\n",
            "Do you want to play a game? Enter Y or N.n\n",
            "it was a draw\n"
          ]
        }
      ],
      "source": [
        "import random\n",
        "\n",
        "snake = '1'\n",
        "water = '2'\n",
        "gun = '3'\n",
        "\n",
        "#valid_strings = [str(snake), str(water), str(gun)]\n",
        "\n",
        "move_dict = {'1': 'snake', '2': 'water', '3': 'gun'}\n",
        "\n",
        "comp_scores = 0\n",
        "user_scores = 0\n",
        "\n",
        "score_comp = []\n",
        "score_user = []\n",
        "\n",
        "def yes_or_no(in_string):\n",
        "  temp = in_string.lower()\n",
        "  if in_string == 'y':\n",
        "    return 1\n",
        "  elif in_string == 'n':\n",
        "    return -1\n",
        "  else:\n",
        "    return 0\n",
        "\n",
        "def check(comp, user):\n",
        "    if comp == user:\n",
        "        return 0\n",
        "    elif comp == snake and user == water:\n",
        "        return -1\n",
        "    elif comp == water and user == gun:\n",
        "        return -1\n",
        "    elif comp == gun and user == snake:\n",
        "        return -1\n",
        "    else:\n",
        "        return 1\n",
        "\n",
        "while True:\n",
        "    comp = random.randint(1,3)\n",
        "    comp_str = str(comp)\n",
        "    play_game = input(\"Do you want to play a game? Enter Y or N.\")\n",
        "\n",
        "    response = yes_or_no(play_game)\n",
        "\n",
        "    if response == 1:\n",
        "      pass\n",
        "    elif response == -1:\n",
        "      break\n",
        "    else:\n",
        "      print('ERROR: Illegal value entered')\n",
        "      continue\n",
        "\n",
        "    while True:\n",
        "      user_str = input(\"for snake press 1, for water press 2, for gun press 3: \")\n",
        "      if user_str in move_dict:\n",
        "        break\n",
        "      else:\n",
        "        print('ERROR: Illegal value entered')\n",
        "        continue\n",
        "\n",
        "#    user = int(user_str)\n",
        "\n",
        "    score = check(comp_str, user_str)\n",
        "\n",
        "    print(\"you: \", move_dict[user_str])\n",
        "    print(\"comp: \", move_dict[comp_str])\n",
        "\n",
        "    if score == 0:\n",
        "        print(\"its a Draw\")\n",
        "    elif score == 1:\n",
        "        print(\"user won\")\n",
        "        user_scores += 1\n",
        "        score_user.append(user_scores)\n",
        "    else:\n",
        "        print(\"comp won\")\n",
        "        comp_scores += 1\n",
        "        score_comp.append(comp_scores)\n",
        "\n",
        "    print(f\"compScore: {comp_scores} \\nuserScore: {user_scores}\")\n",
        "\n",
        "if user_scores > comp_scores:\n",
        "    print(\"user won with a score of\", user_scores)\n",
        "elif user_scores < comp_scores:\n",
        "    print(\"comp won with a score of\", comp_scores)\n",
        "else:\n",
        "    print('it was a draw')"
      ]
    },
    {
      "cell_type": "code",
      "source": [],
      "metadata": {
        "id": "dm7p7zqla2kY"
      },
      "execution_count": null,
      "outputs": []
    }
  ]
}