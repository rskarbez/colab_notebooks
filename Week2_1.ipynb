{
  "nbformat": 4,
  "nbformat_minor": 0,
  "metadata": {
    "colab": {
      "provenance": [],
      "authorship_tag": "ABX9TyNAz2xrnB9KTwqrwKSxOx6/",
      "include_colab_link": true
    },
    "kernelspec": {
      "name": "python3",
      "display_name": "Python 3"
    },
    "language_info": {
      "name": "python"
    }
  },
  "cells": [
    {
      "cell_type": "markdown",
      "metadata": {
        "id": "view-in-github",
        "colab_type": "text"
      },
      "source": [
        "<a href=\"https://colab.research.google.com/github/rskarbez/colab_notebooks/blob/main/Week2_1.ipynb\" target=\"_parent\"><img src=\"https://colab.research.google.com/assets/colab-badge.svg\" alt=\"Open In Colab\"/></a>"
      ]
    },
    {
      "cell_type": "code",
      "execution_count": 1,
      "metadata": {
        "colab": {
          "base_uri": "https://localhost:8080/"
        },
        "id": "qmaW-v2t_B-8",
        "outputId": "588bad9e-82ad-4316-b68b-1d2d45385178"
      },
      "outputs": [
        {
          "output_type": "stream",
          "name": "stdout",
          "text": [
            "12\n"
          ]
        }
      ],
      "source": [
        "fav_number = 12\n",
        "tony_number = 42\n",
        "rob_number = 28\n",
        "print(fav_number)"
      ]
    },
    {
      "cell_type": "code",
      "source": [
        "help(print)"
      ],
      "metadata": {
        "colab": {
          "base_uri": "https://localhost:8080/"
        },
        "id": "IU1S_XGz_rk_",
        "outputId": "0663133e-3e88-4d7f-89b1-3b6ab3a0bc62"
      },
      "execution_count": 2,
      "outputs": [
        {
          "output_type": "stream",
          "name": "stdout",
          "text": [
            "Help on built-in function print in module builtins:\n",
            "\n",
            "print(...)\n",
            "    print(value, ..., sep=' ', end='\\n', file=sys.stdout, flush=False)\n",
            "    \n",
            "    Prints the values to a stream, or to sys.stdout by default.\n",
            "    Optional keyword arguments:\n",
            "    file:  a file-like object (stream); defaults to the current sys.stdout.\n",
            "    sep:   string inserted between values, default a space.\n",
            "    end:   string appended after the last value, default a newline.\n",
            "    flush: whether to forcibly flush the stream.\n",
            "\n"
          ]
        }
      ]
    },
    {
      "cell_type": "code",
      "source": [
        "best_number = 0\n",
        "if fav_number > tony_number:\n",
        "  if fav_number > rob_number:\n",
        "    best_number = fav_number\n",
        "  else:\n",
        "    best_number = rob_number\n",
        "else:\n",
        "  if tony_number > rob_number:\n",
        "    best_number = tony_number\n",
        "  else:\n",
        "    best_number = rob_number\n",
        "\n",
        "print(best_number)"
      ],
      "metadata": {
        "colab": {
          "base_uri": "https://localhost:8080/"
        },
        "id": "nKxGYQHP_8eu",
        "outputId": "38b6b2b4-ca69-4746-b027-de82a68b8121"
      },
      "execution_count": 3,
      "outputs": [
        {
          "output_type": "stream",
          "name": "stdout",
          "text": [
            "42\n"
          ]
        }
      ]
    },
    {
      "cell_type": "code",
      "source": [
        "i = 0\n",
        "while i < best_number:\n",
        "  print(best_number, 'is the best number!')\n",
        "  i = i + 1"
      ],
      "metadata": {
        "colab": {
          "base_uri": "https://localhost:8080/"
        },
        "id": "OPkVKxvvAcME",
        "outputId": "cf19c712-b7ec-4bc1-fcb4-1c1208305cfd"
      },
      "execution_count": 8,
      "outputs": [
        {
          "output_type": "stream",
          "name": "stdout",
          "text": [
            "42 is the best number!\n",
            "42 is the best number!\n",
            "42 is the best number!\n",
            "42 is the best number!\n",
            "42 is the best number!\n",
            "42 is the best number!\n",
            "42 is the best number!\n",
            "42 is the best number!\n",
            "42 is the best number!\n",
            "42 is the best number!\n",
            "42 is the best number!\n",
            "42 is the best number!\n",
            "42 is the best number!\n",
            "42 is the best number!\n",
            "42 is the best number!\n",
            "42 is the best number!\n",
            "42 is the best number!\n",
            "42 is the best number!\n",
            "42 is the best number!\n",
            "42 is the best number!\n",
            "42 is the best number!\n",
            "42 is the best number!\n",
            "42 is the best number!\n",
            "42 is the best number!\n",
            "42 is the best number!\n",
            "42 is the best number!\n",
            "42 is the best number!\n",
            "42 is the best number!\n",
            "42 is the best number!\n",
            "42 is the best number!\n",
            "42 is the best number!\n",
            "42 is the best number!\n",
            "42 is the best number!\n",
            "42 is the best number!\n",
            "42 is the best number!\n",
            "42 is the best number!\n",
            "42 is the best number!\n",
            "42 is the best number!\n",
            "42 is the best number!\n",
            "42 is the best number!\n",
            "42 is the best number!\n",
            "42 is the best number!\n"
          ]
        }
      ]
    },
    {
      "cell_type": "code",
      "source": [
        "r = range(10)\n",
        "print(r)"
      ],
      "metadata": {
        "colab": {
          "base_uri": "https://localhost:8080/"
        },
        "id": "uruaMX1HBUSM",
        "outputId": "866c3a76-ee6a-40f6-a1a1-0fd9d4e44ae5"
      },
      "execution_count": 9,
      "outputs": [
        {
          "output_type": "stream",
          "name": "stdout",
          "text": [
            "range(0, 10)\n"
          ]
        }
      ]
    },
    {
      "cell_type": "code",
      "source": [
        "big_range = range(1234567876543234567865432345678)\n",
        "print(big_range)"
      ],
      "metadata": {
        "colab": {
          "base_uri": "https://localhost:8080/"
        },
        "id": "1jWgby1PBvYm",
        "outputId": "69f0804f-c3fd-4959-8840-9c218d81f1da"
      },
      "execution_count": 10,
      "outputs": [
        {
          "output_type": "stream",
          "name": "stdout",
          "text": [
            "range(0, 1234567876543234567865432345678)\n"
          ]
        }
      ]
    },
    {
      "cell_type": "code",
      "source": [
        "l = list(r)\n",
        "print(l)"
      ],
      "metadata": {
        "colab": {
          "base_uri": "https://localhost:8080/"
        },
        "id": "ipReyRvMB_iN",
        "outputId": "5696a0dd-4e7b-49dd-e5cd-6894451f9e8b"
      },
      "execution_count": 11,
      "outputs": [
        {
          "output_type": "stream",
          "name": "stdout",
          "text": [
            "[0, 1, 2, 3, 4, 5, 6, 7, 8, 9]\n"
          ]
        }
      ]
    },
    {
      "cell_type": "code",
      "source": [
        "help(range)"
      ],
      "metadata": {
        "colab": {
          "base_uri": "https://localhost:8080/"
        },
        "id": "PUqI8oeKCJQ9",
        "outputId": "b959433d-790b-40fe-e191-3b1f19a4e079"
      },
      "execution_count": 12,
      "outputs": [
        {
          "output_type": "stream",
          "name": "stdout",
          "text": [
            "Help on class range in module builtins:\n",
            "\n",
            "class range(object)\n",
            " |  range(stop) -> range object\n",
            " |  range(start, stop[, step]) -> range object\n",
            " |  \n",
            " |  Return an object that produces a sequence of integers from start (inclusive)\n",
            " |  to stop (exclusive) by step.  range(i, j) produces i, i+1, i+2, ..., j-1.\n",
            " |  start defaults to 0, and stop is omitted!  range(4) produces 0, 1, 2, 3.\n",
            " |  These are exactly the valid indices for a list of 4 elements.\n",
            " |  When step is given, it specifies the increment (or decrement).\n",
            " |  \n",
            " |  Methods defined here:\n",
            " |  \n",
            " |  __bool__(self, /)\n",
            " |      self != 0\n",
            " |  \n",
            " |  __contains__(self, key, /)\n",
            " |      Return key in self.\n",
            " |  \n",
            " |  __eq__(self, value, /)\n",
            " |      Return self==value.\n",
            " |  \n",
            " |  __ge__(self, value, /)\n",
            " |      Return self>=value.\n",
            " |  \n",
            " |  __getattribute__(self, name, /)\n",
            " |      Return getattr(self, name).\n",
            " |  \n",
            " |  __getitem__(self, key, /)\n",
            " |      Return self[key].\n",
            " |  \n",
            " |  __gt__(self, value, /)\n",
            " |      Return self>value.\n",
            " |  \n",
            " |  __hash__(self, /)\n",
            " |      Return hash(self).\n",
            " |  \n",
            " |  __iter__(self, /)\n",
            " |      Implement iter(self).\n",
            " |  \n",
            " |  __le__(self, value, /)\n",
            " |      Return self<=value.\n",
            " |  \n",
            " |  __len__(self, /)\n",
            " |      Return len(self).\n",
            " |  \n",
            " |  __lt__(self, value, /)\n",
            " |      Return self<value.\n",
            " |  \n",
            " |  __ne__(self, value, /)\n",
            " |      Return self!=value.\n",
            " |  \n",
            " |  __reduce__(...)\n",
            " |      Helper for pickle.\n",
            " |  \n",
            " |  __repr__(self, /)\n",
            " |      Return repr(self).\n",
            " |  \n",
            " |  __reversed__(...)\n",
            " |      Return a reverse iterator.\n",
            " |  \n",
            " |  count(...)\n",
            " |      rangeobject.count(value) -> integer -- return number of occurrences of value\n",
            " |  \n",
            " |  index(...)\n",
            " |      rangeobject.index(value) -> integer -- return index of value.\n",
            " |      Raise ValueError if the value is not present.\n",
            " |  \n",
            " |  ----------------------------------------------------------------------\n",
            " |  Static methods defined here:\n",
            " |  \n",
            " |  __new__(*args, **kwargs) from builtins.type\n",
            " |      Create and return a new object.  See help(type) for accurate signature.\n",
            " |  \n",
            " |  ----------------------------------------------------------------------\n",
            " |  Data descriptors defined here:\n",
            " |  \n",
            " |  start\n",
            " |  \n",
            " |  step\n",
            " |  \n",
            " |  stop\n",
            "\n"
          ]
        }
      ]
    },
    {
      "cell_type": "code",
      "source": [
        "for i in range(10):\n",
        "  print(i)"
      ],
      "metadata": {
        "colab": {
          "base_uri": "https://localhost:8080/"
        },
        "id": "i2kNRAx3CcDF",
        "outputId": "ef9b8821-fd27-4656-c7f8-184245acd582"
      },
      "execution_count": 13,
      "outputs": [
        {
          "output_type": "stream",
          "name": "stdout",
          "text": [
            "0\n",
            "1\n",
            "2\n",
            "3\n",
            "4\n",
            "5\n",
            "6\n",
            "7\n",
            "8\n",
            "9\n"
          ]
        }
      ]
    },
    {
      "cell_type": "code",
      "source": [
        "for i in range(0, 10):\n",
        "  print(i)"
      ],
      "metadata": {
        "colab": {
          "base_uri": "https://localhost:8080/"
        },
        "id": "s_ST4JLWCi1s",
        "outputId": "db5a4b3b-16ca-4d4f-f277-9373f94ba5dc"
      },
      "execution_count": 14,
      "outputs": [
        {
          "output_type": "stream",
          "name": "stdout",
          "text": [
            "0\n",
            "1\n",
            "2\n",
            "3\n",
            "4\n",
            "5\n",
            "6\n",
            "7\n",
            "8\n",
            "9\n"
          ]
        }
      ]
    },
    {
      "cell_type": "code",
      "source": [
        "for i in range(0, 10, 1):\n",
        "  print(i)"
      ],
      "metadata": {
        "colab": {
          "base_uri": "https://localhost:8080/"
        },
        "id": "5zwIHghcCp2m",
        "outputId": "283961d9-a4a9-4d6b-c58f-d15ee918d3e0"
      },
      "execution_count": 15,
      "outputs": [
        {
          "output_type": "stream",
          "name": "stdout",
          "text": [
            "0\n",
            "1\n",
            "2\n",
            "3\n",
            "4\n",
            "5\n",
            "6\n",
            "7\n",
            "8\n",
            "9\n"
          ]
        }
      ]
    },
    {
      "cell_type": "code",
      "source": [
        "for i in range(10):\n",
        "  print('*' * i)"
      ],
      "metadata": {
        "colab": {
          "base_uri": "https://localhost:8080/"
        },
        "id": "b94T4-4XDCz_",
        "outputId": "000fa41e-1ffe-49e8-87cb-56c5b1c2f276"
      },
      "execution_count": 16,
      "outputs": [
        {
          "output_type": "stream",
          "name": "stdout",
          "text": [
            "\n",
            "*\n",
            "**\n",
            "***\n",
            "****\n",
            "*****\n",
            "******\n",
            "*******\n",
            "********\n",
            "*********\n"
          ]
        }
      ]
    },
    {
      "cell_type": "code",
      "source": [
        "name = input('What\\'s your name?')"
      ],
      "metadata": {
        "colab": {
          "base_uri": "https://localhost:8080/"
        },
        "id": "EPbqxHb7EHHw",
        "outputId": "f4d2c6b5-a744-4e12-d823-da91dd8d11dd"
      },
      "execution_count": 18,
      "outputs": [
        {
          "name": "stdout",
          "output_type": "stream",
          "text": [
            "What's your name?Rick\n"
          ]
        }
      ]
    },
    {
      "cell_type": "code",
      "source": [
        "print(name)"
      ],
      "metadata": {
        "colab": {
          "base_uri": "https://localhost:8080/"
        },
        "id": "wFLOioOmER77",
        "outputId": "6eee9429-f04a-477a-b084-49f678a9cf6d"
      },
      "execution_count": 19,
      "outputs": [
        {
          "output_type": "stream",
          "name": "stdout",
          "text": [
            "Rick\n"
          ]
        }
      ]
    }
  ]
}