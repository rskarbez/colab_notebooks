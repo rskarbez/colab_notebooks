{
  "nbformat": 4,
  "nbformat_minor": 0,
  "metadata": {
    "colab": {
      "provenance": [],
      "authorship_tag": "ABX9TyPJlQhgcs91LxofoaiYeVuA",
      "include_colab_link": true
    },
    "kernelspec": {
      "name": "python3",
      "display_name": "Python 3"
    },
    "language_info": {
      "name": "python"
    }
  },
  "cells": [
    {
      "cell_type": "markdown",
      "metadata": {
        "id": "view-in-github",
        "colab_type": "text"
      },
      "source": [
        "<a href=\"https://colab.research.google.com/github/rskarbez/colab_notebooks/blob/main/12April2023_Lecture.ipynb\" target=\"_parent\"><img src=\"https://colab.research.google.com/assets/colab-badge.svg\" alt=\"Open In Colab\"/></a>"
      ]
    },
    {
      "cell_type": "code",
      "execution_count": 1,
      "metadata": {
        "colab": {
          "base_uri": "https://localhost:8080/"
        },
        "id": "XEyeCSkak8e4",
        "outputId": "7ee54f82-05dd-48a5-f3c5-d6e196962265"
      },
      "outputs": [
        {
          "output_type": "stream",
          "name": "stdout",
          "text": [
            "12/04/2023\n"
          ]
        }
      ],
      "source": [
        "import datetime\n",
        "\n",
        "now = datetime.datetime.now()\n",
        "\n",
        "print(now.strftime('%d/%m/%Y'))"
      ]
    },
    {
      "cell_type": "code",
      "source": [
        "print(now.strftime('%d/%m/%y'))"
      ],
      "metadata": {
        "colab": {
          "base_uri": "https://localhost:8080/"
        },
        "id": "s6sM6o9NljG7",
        "outputId": "fcc63e2d-4c0e-434a-a96b-2e3a96fe854b"
      },
      "execution_count": 2,
      "outputs": [
        {
          "output_type": "stream",
          "name": "stdout",
          "text": [
            "12/04/23\n"
          ]
        }
      ]
    },
    {
      "cell_type": "code",
      "source": [
        "print(now.strftime('%B %d %Y'))"
      ],
      "metadata": {
        "colab": {
          "base_uri": "https://localhost:8080/"
        },
        "id": "xyUkDcPmllrc",
        "outputId": "7fda1649-817c-4846-c8d8-a25f98161cad"
      },
      "execution_count": 3,
      "outputs": [
        {
          "output_type": "stream",
          "name": "stdout",
          "text": [
            "April 12 2023\n"
          ]
        }
      ]
    },
    {
      "cell_type": "code",
      "source": [
        "print(now)"
      ],
      "metadata": {
        "colab": {
          "base_uri": "https://localhost:8080/"
        },
        "id": "LBtxj6IJlzOR",
        "outputId": "7718bd4c-8132-436c-db57-0e7d692b3fb5"
      },
      "execution_count": 4,
      "outputs": [
        {
          "output_type": "stream",
          "name": "stdout",
          "text": [
            "2023-04-12 08:29:53.221601\n"
          ]
        }
      ]
    },
    {
      "cell_type": "code",
      "source": [
        "then = datetime.datetime.strptime('January 12 1982 01:23:34.56789', '%B %d %Y %H:%M:%S.%f')\n",
        "\n",
        "print(then)"
      ],
      "metadata": {
        "colab": {
          "base_uri": "https://localhost:8080/"
        },
        "id": "oJISxRDnl9sW",
        "outputId": "3c438440-a70e-48b2-a348-0a9f01ee3477"
      },
      "execution_count": 6,
      "outputs": [
        {
          "output_type": "stream",
          "name": "stdout",
          "text": [
            "1982-01-12 01:23:34.567890\n"
          ]
        }
      ]
    },
    {
      "cell_type": "code",
      "source": [
        "print(then.strftime('%d/%m/%Y'))"
      ],
      "metadata": {
        "colab": {
          "base_uri": "https://localhost:8080/"
        },
        "id": "zmui8L0rmi7q",
        "outputId": "74fd8487-ac33-4203-be9d-242da8a85e28"
      },
      "execution_count": 7,
      "outputs": [
        {
          "output_type": "stream",
          "name": "stdout",
          "text": [
            "12/01/1982\n"
          ]
        }
      ]
    },
    {
      "cell_type": "code",
      "source": [
        "age = now - then\n",
        "\n",
        "print(age)"
      ],
      "metadata": {
        "colab": {
          "base_uri": "https://localhost:8080/"
        },
        "id": "TKjLw4ntms_K",
        "outputId": "8c0f3992-bc34-4f29-bb2a-b46ebf550619"
      },
      "execution_count": 8,
      "outputs": [
        {
          "output_type": "stream",
          "name": "stdout",
          "text": [
            "15065 days, 7:06:18.653711\n"
          ]
        }
      ]
    },
    {
      "cell_type": "code",
      "source": [
        "import random\n",
        "import os"
      ],
      "metadata": {
        "id": "lbj0YX8JnvRb"
      },
      "execution_count": 9,
      "outputs": []
    },
    {
      "cell_type": "code",
      "source": [
        "print(os.getcwd())"
      ],
      "metadata": {
        "colab": {
          "base_uri": "https://localhost:8080/"
        },
        "id": "_E3At7A7qpbD",
        "outputId": "4b1bf37f-30d7-45b5-f0c4-635a45f77043"
      },
      "execution_count": 10,
      "outputs": [
        {
          "output_type": "stream",
          "name": "stdout",
          "text": [
            "/content\n"
          ]
        }
      ]
    },
    {
      "cell_type": "code",
      "source": [
        "os.mkdir('test_directory')\n",
        "print(os.listdir())"
      ],
      "metadata": {
        "colab": {
          "base_uri": "https://localhost:8080/"
        },
        "id": "v9aVYjXfqyyc",
        "outputId": "a314e81d-3be8-4436-c014-2ac797e3295d"
      },
      "execution_count": 11,
      "outputs": [
        {
          "output_type": "stream",
          "name": "stdout",
          "text": [
            "['.config', 'test_directory', 'sample_data']\n"
          ]
        }
      ]
    },
    {
      "cell_type": "code",
      "source": [
        "os.mkdir('parent_dir/child_dir/grandchild_dir/leaf')"
      ],
      "metadata": {
        "colab": {
          "base_uri": "https://localhost:8080/",
          "height": 183
        },
        "id": "luRbEwB7rUPh",
        "outputId": "65d65661-d488-4564-9a49-58a49decb544"
      },
      "execution_count": 12,
      "outputs": [
        {
          "output_type": "error",
          "ename": "FileNotFoundError",
          "evalue": "ignored",
          "traceback": [
            "\u001b[0;31m---------------------------------------------------------------------------\u001b[0m",
            "\u001b[0;31mFileNotFoundError\u001b[0m                         Traceback (most recent call last)",
            "\u001b[0;32m<ipython-input-12-7be680357d48>\u001b[0m in \u001b[0;36m<cell line: 1>\u001b[0;34m()\u001b[0m\n\u001b[0;32m----> 1\u001b[0;31m \u001b[0mos\u001b[0m\u001b[0;34m.\u001b[0m\u001b[0mmkdir\u001b[0m\u001b[0;34m(\u001b[0m\u001b[0;34m'parent_dir/child_dir/grandchild_dir/leaf'\u001b[0m\u001b[0;34m)\u001b[0m\u001b[0;34m\u001b[0m\u001b[0;34m\u001b[0m\u001b[0m\n\u001b[0m",
            "\u001b[0;31mFileNotFoundError\u001b[0m: [Errno 2] No such file or directory: 'parent_dir/child_dir/grandchild_dir/leaf'"
          ]
        }
      ]
    },
    {
      "cell_type": "code",
      "source": [
        "os.makedirs('parent_dir/child_dir/grandchild_dir/leaf')"
      ],
      "metadata": {
        "id": "3tEiMzFYreKI"
      },
      "execution_count": 13,
      "outputs": []
    },
    {
      "cell_type": "code",
      "source": [
        "path = os.getcwd()\n",
        "print(os.path.abspath(path))"
      ],
      "metadata": {
        "colab": {
          "base_uri": "https://localhost:8080/"
        },
        "id": "zZMoGqEisGT2",
        "outputId": "53ae2d17-0516-4bae-f0c4-c085fadfef72"
      },
      "execution_count": 14,
      "outputs": [
        {
          "output_type": "stream",
          "name": "stdout",
          "text": [
            "/content\n"
          ]
        }
      ]
    },
    {
      "cell_type": "code",
      "source": [
        "import webbrowser\n",
        "\n",
        "url = 'https://www.google.com'\n",
        "webbrowser.open(url)"
      ],
      "metadata": {
        "colab": {
          "base_uri": "https://localhost:8080/"
        },
        "id": "pr4FO7utsmvW",
        "outputId": "a7f2f348-8574-4b7c-b2ee-a87b9cb02984"
      },
      "execution_count": 15,
      "outputs": [
        {
          "output_type": "execute_result",
          "data": {
            "text/plain": [
              "False"
            ]
          },
          "metadata": {},
          "execution_count": 15
        }
      ]
    },
    {
      "cell_type": "code",
      "source": [
        "# Import seaborn\n",
        "import seaborn as sns\n",
        "\n",
        "# Apply the default theme \n",
        "# (context = 'notebook', style = 'darkgrid', palette = 'deep')\n",
        "sns.set_theme()\n",
        "\n",
        "# Load an example dataset\n",
        "tips = sns.load_dataset(\"tips\")\n",
        "\n",
        "# Create a visualization\n",
        "sns.relplot(\n",
        "    data=tips,\n",
        "    x=\"total_bill\", y=\"tip\", col=\"time\",\n",
        "    hue=\"smoker\", style=\"smoker\", size=\"size\",\n",
        ")"
      ],
      "metadata": {
        "colab": {
          "base_uri": "https://localhost:8080/",
          "height": 328
        },
        "id": "2CcztEibt6VR",
        "outputId": "50adfc46-fa91-4fb9-a389-39d0c36bcfaa"
      },
      "execution_count": 17,
      "outputs": [
        {
          "output_type": "execute_result",
          "data": {
            "text/plain": [
              "<seaborn.axisgrid.FacetGrid at 0x7f75f8a0a2e0>"
            ]
          },
          "metadata": {},
          "execution_count": 17
        },
        {
          "output_type": "display_data",
          "data": {
            "text/plain": [
              "<Figure size 1085.82x500 with 2 Axes>"
            ],
            "image/png": "[encoded data removed]"
          },
          "metadata": {}
        }
      ]
    },
    {
      "cell_type": "code",
      "source": [
        "import sys"
      ],
      "metadata": {
        "id": "Gv7rnidq240U"
      },
      "execution_count": 18,
      "outputs": []
    },
    {
      "cell_type": "code",
      "source": [
        "def make_repeated_list(*args):\n",
        "  print(*args)\n",
        "  return_list = []\n",
        "  for arg in args:\n",
        "    return_list.append(arg)\n",
        "    return_list.append(arg)\n",
        "  return return_list"
      ],
      "metadata": {
        "id": "DH8dei2V34du"
      },
      "execution_count": 22,
      "outputs": []
    },
    {
      "cell_type": "code",
      "source": [
        "repeated = make_repeated_list('a', 'b', 'c')\n",
        "print(repeated, sep='\\n')\n",
        "print(*repeated, sep='\\n')"
      ],
      "metadata": {
        "colab": {
          "base_uri": "https://localhost:8080/"
        },
        "id": "L8u52FnX4KiE",
        "outputId": "19b79b70-03cb-49a8-de35-fe94ec1961f1"
      },
      "execution_count": 27,
      "outputs": [
        {
          "output_type": "stream",
          "name": "stdout",
          "text": [
            "a b c\n",
            "['a', 'a', 'b', 'b', 'c', 'c']\n",
            "a\n",
            "a\n",
            "b\n",
            "b\n",
            "c\n",
            "c\n"
          ]
        }
      ]
    },
    {
      "cell_type": "code",
      "source": [
        "def rearrange_name(**kwargs):\n",
        "  print(kwargs)\n",
        "  print(kwargs['lastname'], ',', kwargs['firstname'], kwargs['middlename'])"
      ],
      "metadata": {
        "id": "HaymNiIV4WNq"
      },
      "execution_count": 34,
      "outputs": []
    },
    {
      "cell_type": "code",
      "source": [
        "rearrange_name(firstname='Rick', lastname='Skarbez', middlename='T')"
      ],
      "metadata": {
        "colab": {
          "base_uri": "https://localhost:8080/"
        },
        "id": "3oy0lxEh5i2U",
        "outputId": "32a85f8b-be12-4b74-d74f-f8e646bed8d0"
      },
      "execution_count": 35,
      "outputs": [
        {
          "output_type": "stream",
          "name": "stdout",
          "text": [
            "{'firstname': 'Rick', 'lastname': 'Skarbez', 'middlename': 'T'}\n",
            "Skarbez , Rick T\n"
          ]
        }
      ]
    }
  ]
}