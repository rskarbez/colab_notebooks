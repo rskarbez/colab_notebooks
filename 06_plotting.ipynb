{
  "cells": [
    {
      "cell_type": "markdown",
      "metadata": {
        "id": "YipOa1tn9tTE"
      },
      "source": [
        "# Plotting"
      ]
    },
    {
      "cell_type": "markdown",
      "metadata": {
        "tags": [],
        "id": "hDjAPpr49tTG"
      },
      "source": [
        "[Click here to run this notebook on Colab](https://colab.research.google.com/github/AllenDowney/ElementsOfDataScience/blob/master/06_plotting.ipynb) or\n",
        "[click here to download it](https://github.com/AllenDowney/ElementsOfDataScience/raw/master/06_plotting.ipynb)."
      ]
    },
    {
      "cell_type": "markdown",
      "metadata": {
        "id": "0acD88GS9tTH"
      },
      "source": [
        "This chapter presents ways to create figures and graphs, more generally called **data visualizations**.  As examples, we'll generate three figures:\n",
        "\n",
        "* We'll replicate a figure from the Pew Research Center that shows changes in religious affiliation in the U.S. over time.\n",
        "\n",
        "* We'll replicate the figure from *The Economist* that shows the prices of sandwiches in Boston and London (we saw this data back in Chapter 3).\n",
        "\n",
        "* We'll make a plot to test Zipf's law, which describes the relationship between word frequencies and their ranks.\n",
        "\n",
        "With the tools in this chapter, you can generate a variety of simple graphs.  We will see more visualization tools in later chapters.\n",
        "\n",
        "But before we get started with plotting, we need a new language feature: keyword arguments."
      ]
    },
    {
      "cell_type": "markdown",
      "metadata": {
        "id": "4NNkPO1D9tTH"
      },
      "source": [
        "## Keyword arguments\n",
        "\n",
        "When you call most functions, you have to provide values.  For example, when you call `np.exp`, the value you provide is a number: "
      ]
    },
    {
      "cell_type": "code",
      "execution_count": 6,
      "metadata": {
        "id": "JSJ0NE3G9tTI",
        "outputId": "cca9500e-9d00-49f4-b896-3d10cbefdf36",
        "colab": {
          "base_uri": "https://localhost:8080/"
        }
      },
      "outputs": [
        {
          "output_type": "execute_result",
          "data": {
            "text/plain": [
              "2.718281828459045"
            ]
          },
          "metadata": {},
          "execution_count": 6
        }
      ],
      "source": [
        "import numpy as np\n",
        "\n",
        "np.exp(1)"
      ]
    },
    {
      "cell_type": "markdown",
      "metadata": {
        "id": "1PuijBu79tTJ"
      },
      "source": [
        "When you call `np.power`, you have to provide two numbers:"
      ]
    },
    {
      "cell_type": "code",
      "execution_count": 7,
      "metadata": {
        "id": "k6Xmo6pW9tTJ",
        "outputId": "13486206-e720-4ba6-abc8-78e10711ee61",
        "colab": {
          "base_uri": "https://localhost:8080/"
        }
      },
      "outputs": [
        {
          "output_type": "execute_result",
          "data": {
            "text/plain": [
              "1000000"
            ]
          },
          "metadata": {},
          "execution_count": 7
        }
      ],
      "source": [
        "np.power(10, 6)"
      ]
    },
    {
      "cell_type": "markdown",
      "metadata": {
        "id": "F1fR8bqt9tTJ"
      },
      "source": [
        "The values you provide are called **arguments**.  Specifically, the values in these examples are **positional arguments** because their position determines how they are used.\n",
        "In the second example, `power` computes `10` to the sixth power, not `6` to the 10th power because of the order of the arguments.\n",
        "\n",
        "Many functions also take **keyword arguments**, which are optional.  For example, we have previously used `int` to convert a string to an integer."
      ]
    },
    {
      "cell_type": "code",
      "execution_count": 8,
      "metadata": {
        "id": "LyKt2hdM9tTK",
        "outputId": "712dc34a-61f9-4226-e86b-4fbb07a4f31a",
        "colab": {
          "base_uri": "https://localhost:8080/"
        }
      },
      "outputs": [
        {
          "output_type": "execute_result",
          "data": {
            "text/plain": [
              "21"
            ]
          },
          "metadata": {},
          "execution_count": 8
        }
      ],
      "source": [
        "int('21')"
      ]
    },
    {
      "cell_type": "markdown",
      "metadata": {
        "id": "WfLkDXT89tTK"
      },
      "source": [
        "By default, `int` assumes that the number is in base 10.  But you can provide a keyword argument that specifies a different base.\n",
        "For example, the string `'21'`, interpreted in base 8, represents the number `2 * 8 + 1 = 17`.  Here's how we do this conversion using `int`."
      ]
    },
    {
      "cell_type": "code",
      "execution_count": 9,
      "metadata": {
        "id": "k_yhw6yZ9tTL",
        "outputId": "b3994d35-8a51-402f-f8c8-007fa3dfd527",
        "colab": {
          "base_uri": "https://localhost:8080/"
        }
      },
      "outputs": [
        {
          "output_type": "execute_result",
          "data": {
            "text/plain": [
              "17"
            ]
          },
          "metadata": {},
          "execution_count": 9
        }
      ],
      "source": [
        "int('21', base=8)"
      ]
    },
    {
      "cell_type": "markdown",
      "metadata": {
        "id": "hFcsnjCL9tTL"
      },
      "source": [
        "The string `'21'` is a positional argument.  The integer value `8` is a keyword argument, with the keyword `base`.\n",
        "\n",
        "Specifying a keyword argument looks like an assignment statement, but it does not create a new variable.\n",
        "And when you specify a keyword argument, you don't choose the variable name.  In this example, the keyword name, `base`, is part of the definition of `int`.  If you specify another keyword name, you get an error."
      ]
    },
    {
      "cell_type": "markdown",
      "metadata": {
        "tags": [],
        "id": "UiP96Zpq9tTL"
      },
      "source": [
        "Run the following line in the next cell to see what happens.\n",
        "\n",
        "```\n",
        "int('123', bass=11)\n",
        "```"
      ]
    },
    {
      "cell_type": "code",
      "execution_count": 11,
      "metadata": {
        "tags": [],
        "id": "PCiSNqJb9tTL",
        "outputId": "312fbbda-93a7-4b3a-adc3-024d82aa1a58",
        "colab": {
          "base_uri": "https://localhost:8080/"
        }
      },
      "outputs": [
        {
          "output_type": "stream",
          "name": "stdout",
          "text": [
            "Help on class int in module builtins:\n",
            "\n",
            "class int(object)\n",
            " |  int([x]) -> integer\n",
            " |  int(x, base=10) -> integer\n",
            " |  \n",
            " |  Convert a number or string to an integer, or return 0 if no arguments\n",
            " |  are given.  If x is a number, return x.__int__().  For floating point\n",
            " |  numbers, this truncates towards zero.\n",
            " |  \n",
            " |  If x is not a number or if base is given, then x must be a string,\n",
            " |  bytes, or bytearray instance representing an integer literal in the\n",
            " |  given base.  The literal can be preceded by '+' or '-' and be surrounded\n",
            " |  by whitespace.  The base defaults to 10.  Valid bases are 0 and 2-36.\n",
            " |  Base 0 means to interpret the base from the string as an integer literal.\n",
            " |  >>> int('0b100', base=0)\n",
            " |  4\n",
            " |  \n",
            " |  Methods defined here:\n",
            " |  \n",
            " |  __abs__(self, /)\n",
            " |      abs(self)\n",
            " |  \n",
            " |  __add__(self, value, /)\n",
            " |      Return self+value.\n",
            " |  \n",
            " |  __and__(self, value, /)\n",
            " |      Return self&value.\n",
            " |  \n",
            " |  __bool__(self, /)\n",
            " |      self != 0\n",
            " |  \n",
            " |  __ceil__(...)\n",
            " |      Ceiling of an Integral returns itself.\n",
            " |  \n",
            " |  __divmod__(self, value, /)\n",
            " |      Return divmod(self, value).\n",
            " |  \n",
            " |  __eq__(self, value, /)\n",
            " |      Return self==value.\n",
            " |  \n",
            " |  __float__(self, /)\n",
            " |      float(self)\n",
            " |  \n",
            " |  __floor__(...)\n",
            " |      Flooring an Integral returns itself.\n",
            " |  \n",
            " |  __floordiv__(self, value, /)\n",
            " |      Return self//value.\n",
            " |  \n",
            " |  __format__(self, format_spec, /)\n",
            " |      Default object formatter.\n",
            " |  \n",
            " |  __ge__(self, value, /)\n",
            " |      Return self>=value.\n",
            " |  \n",
            " |  __getattribute__(self, name, /)\n",
            " |      Return getattr(self, name).\n",
            " |  \n",
            " |  __getnewargs__(self, /)\n",
            " |  \n",
            " |  __gt__(self, value, /)\n",
            " |      Return self>value.\n",
            " |  \n",
            " |  __hash__(self, /)\n",
            " |      Return hash(self).\n",
            " |  \n",
            " |  __index__(self, /)\n",
            " |      Return self converted to an integer, if self is suitable for use as an index into a list.\n",
            " |  \n",
            " |  __int__(self, /)\n",
            " |      int(self)\n",
            " |  \n",
            " |  __invert__(self, /)\n",
            " |      ~self\n",
            " |  \n",
            " |  __le__(self, value, /)\n",
            " |      Return self<=value.\n",
            " |  \n",
            " |  __lshift__(self, value, /)\n",
            " |      Return self<<value.\n",
            " |  \n",
            " |  __lt__(self, value, /)\n",
            " |      Return self<value.\n",
            " |  \n",
            " |  __mod__(self, value, /)\n",
            " |      Return self%value.\n",
            " |  \n",
            " |  __mul__(self, value, /)\n",
            " |      Return self*value.\n",
            " |  \n",
            " |  __ne__(self, value, /)\n",
            " |      Return self!=value.\n",
            " |  \n",
            " |  __neg__(self, /)\n",
            " |      -self\n",
            " |  \n",
            " |  __or__(self, value, /)\n",
            " |      Return self|value.\n",
            " |  \n",
            " |  __pos__(self, /)\n",
            " |      +self\n",
            " |  \n",
            " |  __pow__(self, value, mod=None, /)\n",
            " |      Return pow(self, value, mod).\n",
            " |  \n",
            " |  __radd__(self, value, /)\n",
            " |      Return value+self.\n",
            " |  \n",
            " |  __rand__(self, value, /)\n",
            " |      Return value&self.\n",
            " |  \n",
            " |  __rdivmod__(self, value, /)\n",
            " |      Return divmod(value, self).\n",
            " |  \n",
            " |  __repr__(self, /)\n",
            " |      Return repr(self).\n",
            " |  \n",
            " |  __rfloordiv__(self, value, /)\n",
            " |      Return value//self.\n",
            " |  \n",
            " |  __rlshift__(self, value, /)\n",
            " |      Return value<<self.\n",
            " |  \n",
            " |  __rmod__(self, value, /)\n",
            " |      Return value%self.\n",
            " |  \n",
            " |  __rmul__(self, value, /)\n",
            " |      Return value*self.\n",
            " |  \n",
            " |  __ror__(self, value, /)\n",
            " |      Return value|self.\n",
            " |  \n",
            " |  __round__(...)\n",
            " |      Rounding an Integral returns itself.\n",
            " |      Rounding with an ndigits argument also returns an integer.\n",
            " |  \n",
            " |  __rpow__(self, value, mod=None, /)\n",
            " |      Return pow(value, self, mod).\n",
            " |  \n",
            " |  __rrshift__(self, value, /)\n",
            " |      Return value>>self.\n",
            " |  \n",
            " |  __rshift__(self, value, /)\n",
            " |      Return self>>value.\n",
            " |  \n",
            " |  __rsub__(self, value, /)\n",
            " |      Return value-self.\n",
            " |  \n",
            " |  __rtruediv__(self, value, /)\n",
            " |      Return value/self.\n",
            " |  \n",
            " |  __rxor__(self, value, /)\n",
            " |      Return value^self.\n",
            " |  \n",
            " |  __sizeof__(self, /)\n",
            " |      Returns size in memory, in bytes.\n",
            " |  \n",
            " |  __str__(self, /)\n",
            " |      Return str(self).\n",
            " |  \n",
            " |  __sub__(self, value, /)\n",
            " |      Return self-value.\n",
            " |  \n",
            " |  __truediv__(self, value, /)\n",
            " |      Return self/value.\n",
            " |  \n",
            " |  __trunc__(...)\n",
            " |      Truncating an Integral returns itself.\n",
            " |  \n",
            " |  __xor__(self, value, /)\n",
            " |      Return self^value.\n",
            " |  \n",
            " |  bit_length(self, /)\n",
            " |      Number of bits necessary to represent self in binary.\n",
            " |      \n",
            " |      >>> bin(37)\n",
            " |      '0b100101'\n",
            " |      >>> (37).bit_length()\n",
            " |      6\n",
            " |  \n",
            " |  conjugate(...)\n",
            " |      Returns self, the complex conjugate of any int.\n",
            " |  \n",
            " |  to_bytes(self, /, length, byteorder, *, signed=False)\n",
            " |      Return an array of bytes representing an integer.\n",
            " |      \n",
            " |      length\n",
            " |        Length of bytes object to use.  An OverflowError is raised if the\n",
            " |        integer is not representable with the given number of bytes.\n",
            " |      byteorder\n",
            " |        The byte order used to represent the integer.  If byteorder is 'big',\n",
            " |        the most significant byte is at the beginning of the byte array.  If\n",
            " |        byteorder is 'little', the most significant byte is at the end of the\n",
            " |        byte array.  To request the native byte order of the host system, use\n",
            " |        `sys.byteorder' as the byte order value.\n",
            " |      signed\n",
            " |        Determines whether two's complement is used to represent the integer.\n",
            " |        If signed is False and a negative integer is given, an OverflowError\n",
            " |        is raised.\n",
            " |  \n",
            " |  ----------------------------------------------------------------------\n",
            " |  Class methods defined here:\n",
            " |  \n",
            " |  from_bytes(bytes, byteorder, *, signed=False) from builtins.type\n",
            " |      Return the integer represented by the given array of bytes.\n",
            " |      \n",
            " |      bytes\n",
            " |        Holds the array of bytes to convert.  The argument must either\n",
            " |        support the buffer protocol or be an iterable object producing bytes.\n",
            " |        Bytes and bytearray are examples of built-in objects that support the\n",
            " |        buffer protocol.\n",
            " |      byteorder\n",
            " |        The byte order used to represent the integer.  If byteorder is 'big',\n",
            " |        the most significant byte is at the beginning of the byte array.  If\n",
            " |        byteorder is 'little', the most significant byte is at the end of the\n",
            " |        byte array.  To request the native byte order of the host system, use\n",
            " |        `sys.byteorder' as the byte order value.\n",
            " |      signed\n",
            " |        Indicates whether two's complement is used to represent the integer.\n",
            " |  \n",
            " |  ----------------------------------------------------------------------\n",
            " |  Static methods defined here:\n",
            " |  \n",
            " |  __new__(*args, **kwargs) from builtins.type\n",
            " |      Create and return a new object.  See help(type) for accurate signature.\n",
            " |  \n",
            " |  ----------------------------------------------------------------------\n",
            " |  Data descriptors defined here:\n",
            " |  \n",
            " |  denominator\n",
            " |      the denominator of a rational number in lowest terms\n",
            " |  \n",
            " |  imag\n",
            " |      the imaginary part of a complex number\n",
            " |  \n",
            " |  numerator\n",
            " |      the numerator of a rational number in lowest terms\n",
            " |  \n",
            " |  real\n",
            " |      the real part of a complex number\n",
            "\n"
          ]
        }
      ],
      "source": [
        ""
      ]
    },
    {
      "cell_type": "markdown",
      "metadata": {
        "id": "HYjLGOHR9tTM"
      },
      "source": [
        "**Exercise:** The `print` function takes a keyword argument called `end` that specifies the character it prints at the end of the line.  By default, `end` is the newline character, `\\n`.  So if you call `print` more than once, the results normally appear on separate lines, like this:"
      ]
    },
    {
      "cell_type": "code",
      "execution_count": 12,
      "metadata": {
        "id": "NQH3sIWH9tTM",
        "outputId": "0aaa6520-32e9-469a-c9c7-6fdf3611026f",
        "colab": {
          "base_uri": "https://localhost:8080/"
        }
      },
      "outputs": [
        {
          "output_type": "stream",
          "name": "stdout",
          "text": [
            "1\n",
            "2\n",
            "3\n"
          ]
        }
      ],
      "source": [
        "for x in [1, 2, 3]:\n",
        "    print(x)"
      ]
    },
    {
      "cell_type": "markdown",
      "metadata": {
        "id": "MVYhFny-9tTM"
      },
      "source": [
        "Modify the previous example so it prints the elements of the list, all on one line, with spaces between them.\n",
        "Then modify it to print an open bracket at the beginning and a close bracket and newline at the end."
      ]
    },
    {
      "cell_type": "code",
      "execution_count": 18,
      "metadata": {
        "id": "1xDrAOC09tTM",
        "outputId": "b782604c-d7cf-4c16-d7ee-17093e72863c",
        "colab": {
          "base_uri": "https://localhost:8080/"
        }
      },
      "outputs": [
        {
          "output_type": "stream",
          "name": "stdout",
          "text": [
            "( 1 2 3 )\n"
          ]
        }
      ],
      "source": [
        "print('(', end=' ')\n",
        "for x in [1, 2, 3]: \n",
        "  print(x, end=' ')\n",
        "print(')')"
      ]
    },
    {
      "cell_type": "markdown",
      "metadata": {
        "id": "7wOvcnfA9tTM"
      },
      "source": [
        "## Religious affiliation\n",
        "\n",
        "Now we're ready to make some graphs.\n",
        "\n",
        "In October 2019 the Pew Research Center published \"In U.S., Decline of Christianity Continues at Rapid Pace\" at <https://www.pewforum.org/2019/10/17/in-u-s-decline-of-christianity-continues-at-rapid-pace>.\n",
        "It includes this figure, which shows changes in religious affiliation among adults in the U.S. over the previous 10 years.\n",
        "\n",
        "<img src=\"https://github.com/AllenDowney/ElementsOfDataScience/raw/master/figs/pew_religion_figure1.png\" width=\"400\">\n",
        "\n",
        "As an exercise, we'll replicate this figure.  It shows results from two sources, Religious Landscape Studies and Pew Research Political Surveys.  The political surveys provide data from more years, so we'll focus on that.\n",
        "\n",
        "The data from the figure are available from Pew Research at <https://www.pewforum.org/wp-content/uploads/sites/7/2019/10/Detailed-Tables-v1-FOR-WEB.pdf>, but they are in a PDF document.  It is sometimes possible to extract data from PDF documents, but for now we'll enter the data by hand."
      ]
    },
    {
      "cell_type": "code",
      "execution_count": 19,
      "metadata": {
        "id": "MzBOBVVl9tTN"
      },
      "outputs": [],
      "source": [
        "year = [2009, 2010, 2011, 2012, 2013, 2014, 2015, 2016, 2017, 2018]"
      ]
    },
    {
      "cell_type": "code",
      "execution_count": 26,
      "metadata": {
        "id": "ja3QR-2n9tTN"
      },
      "outputs": [],
      "source": [
        "christian = [77, 76, 75, 73, 73, 71, 69, 68, 67, 65]"
      ]
    },
    {
      "cell_type": "code",
      "execution_count": 21,
      "metadata": {
        "id": "DH2hUEL49tTN"
      },
      "outputs": [],
      "source": [
        "unaffiliated = [17, 17, 19, 19, 20, 21, 24, 23, 25, 26]"
      ]
    },
    {
      "cell_type": "markdown",
      "metadata": {
        "id": "0qcZaSD-9tTN"
      },
      "source": [
        "The library we'll use for plotting is Matplotlib; more specifically, we'll use a part of it called Pyplot, which we'll import with the nickname `plt`."
      ]
    },
    {
      "cell_type": "code",
      "execution_count": 22,
      "metadata": {
        "id": "VArCNL9h9tTO"
      },
      "outputs": [],
      "source": [
        "import matplotlib.pyplot as plt"
      ]
    },
    {
      "cell_type": "markdown",
      "metadata": {
        "id": "EFz4Fquf9tTO"
      },
      "source": [
        "Pyplot provides a function called `plot` that makes a line plot.  It takes two sequences as arguments, the `x` values and the `y` values.  The sequences can be tuples, lists, or arrays."
      ]
    },
    {
      "cell_type": "code",
      "execution_count": 29,
      "metadata": {
        "id": "NBmXfhpr9tTO",
        "outputId": "678e4596-96ad-4dfa-fcaa-8acb316bbfac",
        "colab": {
          "base_uri": "https://localhost:8080/",
          "height": 265
        }
      },
      "outputs": [
        {
          "output_type": "display_data",
          "data": {
            "text/plain": [
              "<Figure size 432x288 with 1 Axes>"
            ],
            "image/png": "[encoded data removed]"
          },
          "metadata": {
            "needs_background": "light"
          }
        }
      ],
      "source": [
        "plt.plot(year, christian);"
      ]
    },
    {
      "cell_type": "markdown",
      "metadata": {
        "id": "FLlzCxNl9tTO"
      },
      "source": [
        "The semi-colon at the end of the line cleans up the output; without it, the return value from `plot` would be displayed above the figure.\n",
        "\n",
        "If you plot multiple lines in a single cell, they appear on the same axes."
      ]
    },
    {
      "cell_type": "code",
      "execution_count": 30,
      "metadata": {
        "id": "onsk6Npc9tTO",
        "outputId": "a39bd4f1-59ec-4b3f-ca1d-612744946891",
        "colab": {
          "base_uri": "https://localhost:8080/",
          "height": 269
        }
      },
      "outputs": [
        {
          "output_type": "display_data",
          "data": {
            "text/plain": [
              "<Figure size 432x288 with 1 Axes>"
            ],
            "image/png": "[encoded data removed]"
          },
          "metadata": {
            "needs_background": "light"
          }
        }
      ],
      "source": [
        "plt.plot(year, christian)\n",
        "plt.plot(year, unaffiliated);"
      ]
    },
    {
      "cell_type": "markdown",
      "metadata": {
        "id": "X1bg0ufN9tTO"
      },
      "source": [
        "Plotting them on the same axes makes it possible to compare them directly.\n",
        "However, notice that Pyplot chooses the range for the axes automatically; in this example the `y` axis starts around 15, not zero.\n",
        "\n",
        "As a result, it provides a misleading picture, making the ratio of the two lines look bigger than it really is.\n",
        "We can set the limits of the `y` axis using the function `plt.ylim`.  The argument is a list with two values, the lower bound and the upper bound."
      ]
    },
    {
      "cell_type": "code",
      "execution_count": 32,
      "metadata": {
        "id": "F0qhbO5D9tTO",
        "outputId": "ab2344f2-13e9-4e0c-a1f9-b02230a3d34d",
        "colab": {
          "base_uri": "https://localhost:8080/",
          "height": 269
        }
      },
      "outputs": [
        {
          "output_type": "display_data",
          "data": {
            "text/plain": [
              "<Figure size 432x288 with 1 Axes>"
            ],
            "image/png": "[encoded data removed]"
          },
          "metadata": {
            "needs_background": "light"
          }
        }
      ],
      "source": [
        "plt.plot(year, christian)\n",
        "plt.plot(year, unaffiliated)\n",
        "\n",
        "plt.ylim([0, 100]);"
      ]
    },
    {
      "cell_type": "markdown",
      "metadata": {
        "id": "iKKdz83Y9tTO"
      },
      "source": [
        "That's better, but this graph is missing some of the most important elements: labels for the axes and a title.  "
      ]
    },
    {
      "cell_type": "markdown",
      "metadata": {
        "id": "w4y0ZC5T9tTO"
      },
      "source": [
        "## Decorating the Axes\n",
        "\n",
        "To label the axes and add a title, we'll use Pyplot functions `xlabel`, `ylabel`, and `title`.  All of them take strings as arguments."
      ]
    },
    {
      "cell_type": "code",
      "execution_count": 33,
      "metadata": {
        "id": "ufOvf32U9tTO",
        "outputId": "424122b5-5ee4-4429-f5b7-9184cbbcedc8",
        "colab": {
          "base_uri": "https://localhost:8080/",
          "height": 295
        }
      },
      "outputs": [
        {
          "output_type": "display_data",
          "data": {
            "text/plain": [
              "<Figure size 432x288 with 1 Axes>"
            ],
            "image/png": "[encoded data removed]"
          },
          "metadata": {
            "needs_background": "light"
          }
        }
      ],
      "source": [
        "plt.plot(year, christian)\n",
        "plt.plot(year, unaffiliated)\n",
        "\n",
        "plt.ylim([0, 100])\n",
        "plt.xlabel('Year')\n",
        "plt.ylabel('% of adults')\n",
        "plt.title('Religious affiliation of U.S adults');"
      ]
    },
    {
      "cell_type": "markdown",
      "metadata": {
        "id": "3_KUMyum9tTP"
      },
      "source": [
        "Now let's add another important element, a legend that indicates which line is which.\n",
        "To do that, we add a label to each line, using the keyword argument `label`.\n",
        "Then we call `plt.legend` to create the legend."
      ]
    },
    {
      "cell_type": "code",
      "execution_count": 34,
      "metadata": {
        "id": "BspsNt769tTP",
        "outputId": "a22fd84e-1e91-4cac-8be4-36ce661287b3",
        "colab": {
          "base_uri": "https://localhost:8080/",
          "height": 295
        }
      },
      "outputs": [
        {
          "output_type": "display_data",
          "data": {
            "text/plain": [
              "<Figure size 432x288 with 1 Axes>"
            ],
            "image/png": "[encoded data removed]"
          },
          "metadata": {
            "needs_background": "light"
          }
        }
      ],
      "source": [
        "plt.plot(year, christian, label='Christian')\n",
        "plt.plot(year, unaffiliated, label='Unaffiliated')\n",
        "\n",
        "plt.ylim([0, 100])\n",
        "plt.xlabel('Year')\n",
        "plt.ylabel('% of adults')\n",
        "plt.title('Religious affiliation of U.S adults')\n",
        "plt.legend();"
      ]
    },
    {
      "cell_type": "markdown",
      "metadata": {
        "id": "mCZbxQ409tTP"
      },
      "source": [
        "**Exercise:** The orginal figure plots lines between the data points, but it also plots \"markers\" showing the location of each data point.  It is generally good practice to include markers, especially if data are not available for every year.\n",
        "\n",
        "Modify the previous example to include a keyword argument `marker` with the string value `'o'`, which indicates that you want to plot circles as markers."
      ]
    },
    {
      "cell_type": "code",
      "execution_count": 40,
      "metadata": {
        "id": "sY2e9X1q9tTP",
        "outputId": "c4991954-e48b-430d-b225-93571be9864b",
        "colab": {
          "base_uri": "https://localhost:8080/",
          "height": 295
        }
      },
      "outputs": [
        {
          "output_type": "display_data",
          "data": {
            "text/plain": [
              "<Figure size 432x288 with 1 Axes>"
            ],
            "image/png": "[encoded data removed]"
          },
          "metadata": {
            "needs_background": "light"
          }
        }
      ],
      "source": [
        "plt.plot(year, christian, label='Christian', color='#D08080', marker='o')\n",
        "plt.plot(year, unaffiliated, label='Unaffiliated', color='#808080', marker='o')\n",
        "\n",
        "plt.ylim([0, 100])\n",
        "plt.xlabel('Year')\n",
        "plt.ylabel('% of adults')\n",
        "plt.title('Religious affiliation of U.S adults')\n",
        "plt.legend();"
      ]
    },
    {
      "cell_type": "markdown",
      "metadata": {
        "id": "v2_CsNPj9tTP"
      },
      "source": [
        "**Exercise:** In the original figure, the line labelled `'Christian'` is red and the line labeled `'Unaffiliated'` is grey.\n",
        "\n",
        "Find the online documentation of `plt.plot` and figure out how to use keyword arguments to specify colors.  Choose colors to (roughly) match the original figure.\n",
        "\n",
        "The `legend` function takes a keyword argument that speficies the location of the legend.  Read the documentation of this function and move the legend to the center left of the figure."
      ]
    },
    {
      "cell_type": "code",
      "execution_count": 41,
      "metadata": {
        "id": "EdL9zQVF9tTP",
        "outputId": "edb24945-86c9-473d-fdae-dd3b91595899",
        "colab": {
          "base_uri": "https://localhost:8080/",
          "height": 295
        }
      },
      "outputs": [
        {
          "output_type": "display_data",
          "data": {
            "text/plain": [
              "<Figure size 432x288 with 1 Axes>"
            ],
            "image/png": "[encoded data removed]"
          },
          "metadata": {
            "needs_background": "light"
          }
        }
      ],
      "source": [
        "plt.plot(year, christian, label='Christian', color='#D08080', marker='o')\n",
        "plt.plot(year, unaffiliated, label='Unaffiliated', color='#808080', marker='o')\n",
        "\n",
        "plt.ylim([0, 100])\n",
        "plt.xlabel('Year')\n",
        "plt.ylabel('% of adults')\n",
        "plt.title('Religious affiliation of U.S adults')\n",
        "plt.legend(loc='center left');"
      ]
    },
    {
      "cell_type": "markdown",
      "metadata": {
        "id": "PceTwZ1p9tTP"
      },
      "source": [
        "## Sandwiches\n",
        "\n",
        "In a previous chapter we used data from an article in *The Economist* comparing sandwich prices in Boston and London: \"Why Americans pay more for lunch than Britons do\" at <https://www.economist.com/finance-and-economics/2019/09/07/why-americans-pay-more-for-lunch-than-britons-do>.\n",
        "\n",
        "The article includes this graph showing prices of several sandwiches in the two cities:\n",
        "\n",
        "<img src=\"https://github.com/AllenDowney/ElementsOfDataScience/raw/master/figs/20190907_FNC941.png\"  width=\"400\">\n",
        "\n",
        "As an exercise, let's see if we can replicate this figure.\n",
        "Here's the data from the article again: the names of the sandwiches and the price list for each city."
      ]
    },
    {
      "cell_type": "code",
      "execution_count": 42,
      "metadata": {
        "id": "Pnf9GhSX9tTP"
      },
      "outputs": [],
      "source": [
        "name_list = [\n",
        "    'Lobster roll',\n",
        "    'Chicken caesar',\n",
        "    'Bang bang chicken',\n",
        "    'Ham and cheese',\n",
        "    'Tuna and cucumber',\n",
        "    'Egg'\n",
        "]\n",
        "\n",
        "boston_price_list = [9.99, 7.99, 7.49, 7, 6.29, 4.99]\n",
        "london_price_list = [7.5, 5, 4.4, 5, 3.75, 2.25]"
      ]
    },
    {
      "cell_type": "markdown",
      "metadata": {
        "id": "3jUVyxST9tTP"
      },
      "source": [
        "In the previous section we plotted percentages on the `y` axis versus time on the `x` axis.\n",
        "Now we want to plot the sandwich names on the `y` axis and the prices on the `x` axis.\n",
        "Here's how:"
      ]
    },
    {
      "cell_type": "code",
      "execution_count": 43,
      "metadata": {
        "id": "1fmHKUnT9tTP",
        "outputId": "30ffece9-b504-4447-f7a4-b180dc059500",
        "colab": {
          "base_uri": "https://localhost:8080/",
          "height": 279
        }
      },
      "outputs": [
        {
          "output_type": "display_data",
          "data": {
            "text/plain": [
              "<Figure size 432x288 with 1 Axes>"
            ],
            "image/png": "[encoded data removed]"
          },
          "metadata": {
            "needs_background": "light"
          }
        }
      ],
      "source": [
        "plt.plot(boston_price_list, name_list)\n",
        "plt.xlabel('Price in USD');"
      ]
    },
    {
      "cell_type": "markdown",
      "metadata": {
        "id": "JpWV2hkY9tTQ"
      },
      "source": [
        "`name_list` is a list of strings; Pyplot orders them from top to bottom, equally spaced.\n",
        "\n",
        "By default Pyplot connects the points with lines, but in this example the lines don't make sense because the sandwich names are **categorical**, not numerical.  You can't interpolate between an egg sandwich and a tuna sandwich.\n",
        "\n",
        "We can turn on markers and turn off lines with keyword arguments."
      ]
    },
    {
      "cell_type": "code",
      "execution_count": 44,
      "metadata": {
        "id": "PaaoLp8Z9tTQ",
        "outputId": "ad655d43-1f60-452a-e817-339f180c1b0c",
        "colab": {
          "base_uri": "https://localhost:8080/",
          "height": 279
        }
      },
      "outputs": [
        {
          "output_type": "display_data",
          "data": {
            "text/plain": [
              "<Figure size 432x288 with 1 Axes>"
            ],
            "image/png": "[encoded data removed]"
          },
          "metadata": {
            "needs_background": "light"
          }
        }
      ],
      "source": [
        "plt.plot(boston_price_list, name_list, \n",
        "         marker='o', linestyle='')\n",
        "plt.xlabel('Price in USD');"
      ]
    },
    {
      "cell_type": "markdown",
      "metadata": {
        "id": "8XuE1Fo79tTQ"
      },
      "source": [
        "Or we can do the same thing more concisely by providing a **format string** as a positional argument.  You can read the documentation of `plt.plot` to learn more about format strings."
      ]
    },
    {
      "cell_type": "code",
      "execution_count": 47,
      "metadata": {
        "id": "fnN5egBY9tTQ",
        "outputId": "631be8db-a430-4121-d821-d6e5efd16d33",
        "colab": {
          "base_uri": "https://localhost:8080/",
          "height": 295
        }
      },
      "outputs": [
        {
          "output_type": "display_data",
          "data": {
            "text/plain": [
              "<Figure size 432x288 with 1 Axes>"
            ],
            "image/png": "[encoded data removed]"
          },
          "metadata": {
            "needs_background": "light"
          }
        }
      ],
      "source": [
        "plt.plot(boston_price_list, name_list, 'o')\n",
        "plt.plot(london_price_list, name_list, 's')\n",
        "\n",
        "plt.xlabel('Price in USD')\n",
        "plt.title('Pret a Manger prices in Boston and London');"
      ]
    },
    {
      "cell_type": "markdown",
      "metadata": {
        "id": "BeevPL1A9tTQ"
      },
      "source": [
        "I added a title at the same time.\n",
        "\n",
        "Now, to approximate the colors in the original figure, we can use the strings `'C3'` and `'C0'`, which specify colors from the default color sequence.  You can read the documentation to learn more about specifying colors in Pyplot: <https://matplotlib.org/3.1.1/tutorials/colors/colors.html>."
      ]
    },
    {
      "cell_type": "code",
      "execution_count": 48,
      "metadata": {
        "id": "Y1_H5Lle9tTQ",
        "outputId": "316ae032-6e27-4a6b-8897-1b55914b8b9a",
        "colab": {
          "base_uri": "https://localhost:8080/",
          "height": 295
        }
      },
      "outputs": [
        {
          "output_type": "display_data",
          "data": {
            "text/plain": [
              "<Figure size 432x288 with 1 Axes>"
            ],
            "image/png": "[encoded data removed]"
          },
          "metadata": {
            "needs_background": "light"
          }
        }
      ],
      "source": [
        "plt.plot(boston_price_list, name_list, 'o', color='C3')\n",
        "plt.plot(london_price_list, name_list, 's', color='C0')\n",
        "\n",
        "plt.xlabel('Price in USD')\n",
        "plt.title('Pret a Manger prices in Boston and London');"
      ]
    },
    {
      "cell_type": "markdown",
      "metadata": {
        "id": "e4uyDH2j9tTQ"
      },
      "source": [
        "To connect the dots with lines, we'll use `plt.hlines`, which draws horizontal lines.  It takes three arguments: a sequence of values on the `y` axis, which are the sandwich names in this example, and two sequences of values on the `x` axis, which are the London prices and Boston prices."
      ]
    },
    {
      "cell_type": "code",
      "execution_count": 49,
      "metadata": {
        "id": "jbpMNCPn9tTQ",
        "outputId": "be1d8116-f5f6-419c-a5d7-b04fb38560ca",
        "colab": {
          "base_uri": "https://localhost:8080/",
          "height": 295
        }
      },
      "outputs": [
        {
          "output_type": "display_data",
          "data": {
            "text/plain": [
              "<Figure size 432x288 with 1 Axes>"
            ],
            "image/png": "[encoded data removed]"
          },
          "metadata": {
            "needs_background": "light"
          }
        }
      ],
      "source": [
        "plt.plot(boston_price_list, name_list, 'o', color='C3')\n",
        "plt.plot(london_price_list, name_list, 's', color='C0')\n",
        "\n",
        "plt.hlines(name_list, london_price_list, boston_price_list)\n",
        "\n",
        "plt.xlabel('Price in USD')\n",
        "plt.title('Pret a Manger prices in Boston and London');"
      ]
    },
    {
      "cell_type": "markdown",
      "metadata": {
        "id": "SBpIPqvD9tTQ"
      },
      "source": [
        "**Exercise:** To finish off this example, add a legend that identifies the London and Boston prices.  Remember that you have to add a `label` keyword each time you call `plt.plot`, and then call `plt.legend`.\n",
        "\n",
        "Notice that the sandwiches in our figure are in the opposite order of the sandwiches in the original figure.  There is a Pyplot function that inverts the `y` axis; see if you can find it and use it to reverse the order of the sandwich list."
      ]
    },
    {
      "cell_type": "code",
      "execution_count": 51,
      "metadata": {
        "id": "qezJjWjc9tTQ",
        "outputId": "a72a6dee-78bb-4e39-96a2-213ab5e05bc8",
        "colab": {
          "base_uri": "https://localhost:8080/",
          "height": 295
        }
      },
      "outputs": [
        {
          "output_type": "display_data",
          "data": {
            "text/plain": [
              "<Figure size 432x288 with 1 Axes>"
            ],
            "image/png": "[encoded data removed]"
          },
          "metadata": {
            "needs_background": "light"
          }
        }
      ],
      "source": [
        "plt.plot(boston_price_list, name_list, 'o', color='C3', label='Boston prices in USD')\n",
        "plt.plot(london_price_list, name_list, 's', color='C0', label='London prices in USD')\n",
        "\n",
        "plt.hlines(name_list, london_price_list, boston_price_list)\n",
        "\n",
        "plt.xlabel('Price in USD')\n",
        "plt.title('Pret a Manger prices in Boston and London')\n",
        "plt.gca().invert_yaxis()\n",
        "plt.legend();"
      ]
    },
    {
      "cell_type": "markdown",
      "metadata": {
        "id": "hPk-8aoh9tTQ"
      },
      "source": [
        "## Zipf's Law\n",
        "\n",
        "In the previous chapter we downloaded *War and Peace* from Project Gutenberg and counted the number of lines and words.\n",
        "Then we used a dictionary to count the number of unique words and the number of times each one appears.\n",
        "Now we'll use those results to generate a \"Zipf plot\", which shows the frequency of the words on the `y` axis, ordered from the most common word to the least."
      ]
    },
    {
      "cell_type": "markdown",
      "metadata": {
        "tags": [],
        "id": "FEgZGDw-9tTQ"
      },
      "source": [
        "First, let's download the book again.  \n",
        "When you run the following cell, it checks to see whether you already have a file named `2600-0.txt`, which is the name of the file that contains the text of *War and Peace*.\n",
        "If not, it copies the file from Project Gutenberg to your computer.  "
      ]
    },
    {
      "cell_type": "code",
      "execution_count": 52,
      "metadata": {
        "tags": [],
        "id": "3VTAu92l9tTR",
        "outputId": "c6c88f8d-f6e7-433a-9a81-3732fd1b402e",
        "colab": {
          "base_uri": "https://localhost:8080/"
        }
      },
      "outputs": [
        {
          "output_type": "stream",
          "name": "stdout",
          "text": [
            "Downloaded 2600-0.txt\n"
          ]
        }
      ],
      "source": [
        "from os.path import basename, exists\n",
        "\n",
        "def download(url):\n",
        "    filename = basename(url)\n",
        "    if not exists(filename):\n",
        "        from urllib.request import urlretrieve\n",
        "        local, _ = urlretrieve(url, filename)\n",
        "        print('Downloaded ' + local)\n",
        "    \n",
        "download('https://www.gutenberg.org/files/2600/2600-0.txt')"
      ]
    },
    {
      "cell_type": "markdown",
      "metadata": {
        "id": "7wvO2L4j9tTR"
      },
      "source": [
        "In the previous chapter, we looped through the book and made a string that contains all punctuation characters.\n",
        "Here are the results, which we will need again."
      ]
    },
    {
      "cell_type": "code",
      "execution_count": 53,
      "metadata": {
        "id": "WgeXOCYC9tTR"
      },
      "outputs": [],
      "source": [
        "all_punctuation = ',.-:[#]*/“’—‘!?”;()%@'"
      ]
    },
    {
      "cell_type": "markdown",
      "metadata": {
        "id": "VZVpQ2Nn9tTR"
      },
      "source": [
        "And here's a solution to one of the previous exercises.  It loops through the book and makes a dictionary that maps from each word to the number of times it appears."
      ]
    },
    {
      "cell_type": "code",
      "execution_count": 54,
      "metadata": {
        "id": "s_XDVe0M9tTR"
      },
      "outputs": [],
      "source": [
        "first_line = \"CHAPTER I\\n\"\n",
        "last_line = (\"End of the Project Gutenberg EBook of \" +\n",
        "             \"War and Peace, by Leo Tolstoy\\n\")\n",
        "\n",
        "fp = open('2600-0.txt')\n",
        "for line in fp:\n",
        "    if line == first_line:\n",
        "        break\n",
        "\n",
        "unique_words = {}\n",
        "for line in fp:\n",
        "    if line == last_line:\n",
        "        break\n",
        "        \n",
        "    for word in line.split():\n",
        "        word = word.lower()\n",
        "        word = word.strip(all_punctuation)\n",
        "        if word in unique_words:\n",
        "            unique_words[word] += 1\n",
        "        else:\n",
        "            unique_words[word] = 1"
      ]
    },
    {
      "cell_type": "markdown",
      "metadata": {
        "id": "oO102zTT9tTR"
      },
      "source": [
        "## Frequencies and Ranks\n",
        "\n",
        "In this section we'll test Zipf's law, which states that\n",
        "\n",
        "> given some corpus of natural language utterances, the frequency of any word is inversely proportional to its rank in the frequency table. Thus the most frequent word will occur approximately twice as often as the second most frequent word, three times as often as the third most frequent word, etc.\n",
        "\n",
        "See <https://en.wikipedia.org/wiki/Zipfs_law>.\n",
        "To see if this law holds for the words in *War and Peace*, we'll make a plot that shows:\n",
        "\n",
        "* The frequency of each word on the `y` axis, and\n",
        "\n",
        "* The rank of each word on the `x` axis, where the rank of the most frequent word is 1, the rank of the second most common word is 2, etc."
      ]
    },
    {
      "cell_type": "markdown",
      "metadata": {
        "id": "VRP6crC39tTR"
      },
      "source": [
        "In `unique_words`, the keys are words and the values are their frequencies.  We can use the `values` function to get the values from the dictionary.  The result has the type `dict_values`: "
      ]
    },
    {
      "cell_type": "code",
      "execution_count": 55,
      "metadata": {
        "id": "dAidFcOp9tTR",
        "outputId": "a6506626-8aae-4df8-b5b0-b179622092b2",
        "colab": {
          "base_uri": "https://localhost:8080/"
        }
      },
      "outputs": [
        {
          "output_type": "execute_result",
          "data": {
            "text/plain": [
              "dict_values"
            ]
          },
          "metadata": {},
          "execution_count": 55
        }
      ],
      "source": [
        "freqs = unique_words.values()\n",
        "type(freqs)"
      ]
    },
    {
      "cell_type": "markdown",
      "metadata": {
        "id": "zmtNtSls9tTR"
      },
      "source": [
        "Before we plot them, we have to sort them, but the `sort` function doesn't work with `dict_values`."
      ]
    },
    {
      "cell_type": "markdown",
      "metadata": {
        "tags": [],
        "id": "1tHS_lxS9tTS"
      },
      "source": [
        "Try this to see what happens:\n",
        "\n",
        "```\n",
        "freqs.sort()\n",
        "```"
      ]
    },
    {
      "cell_type": "code",
      "execution_count": 56,
      "metadata": {
        "tags": [],
        "id": "58DxL9Yx9tTS",
        "outputId": "c6cf3210-d2d5-4343-da07-6a603e9032fa",
        "colab": {
          "base_uri": "https://localhost:8080/",
          "height": 166
        }
      },
      "outputs": [
        {
          "output_type": "error",
          "ename": "AttributeError",
          "evalue": "ignored",
          "traceback": [
            "\u001b[0;31m---------------------------------------------------------------------------\u001b[0m",
            "\u001b[0;31mAttributeError\u001b[0m                            Traceback (most recent call last)",
            "\u001b[0;32m<ipython-input-56-356f65ca4196>\u001b[0m in \u001b[0;36m<module>\u001b[0;34m()\u001b[0m\n\u001b[0;32m----> 1\u001b[0;31m \u001b[0mfreqs\u001b[0m\u001b[0;34m.\u001b[0m\u001b[0msort\u001b[0m\u001b[0;34m(\u001b[0m\u001b[0;34m)\u001b[0m\u001b[0;34m\u001b[0m\u001b[0;34m\u001b[0m\u001b[0m\n\u001b[0m",
            "\u001b[0;31mAttributeError\u001b[0m: 'dict_values' object has no attribute 'sort'"
          ]
        }
      ],
      "source": [
        "freqs.sort()"
      ]
    },
    {
      "cell_type": "markdown",
      "metadata": {
        "id": "xlPD7bSP9tTS"
      },
      "source": [
        "We can use `list` to make a list of frequencies:"
      ]
    },
    {
      "cell_type": "code",
      "execution_count": 57,
      "metadata": {
        "id": "qe00QlHr9tTS",
        "outputId": "e715082a-32d6-4e71-c846-a539b0df7698",
        "colab": {
          "base_uri": "https://localhost:8080/"
        }
      },
      "outputs": [
        {
          "output_type": "execute_result",
          "data": {
            "text/plain": [
              "list"
            ]
          },
          "metadata": {},
          "execution_count": 57
        }
      ],
      "source": [
        "freqs = list(unique_words.values())\n",
        "type(freqs)"
      ]
    },
    {
      "cell_type": "markdown",
      "metadata": {
        "id": "PwGLYr5F9tTS"
      },
      "source": [
        "And now we can use `sort`.  By default it sorts in ascending order, but we can pass a keyword argument to reverse the order."
      ]
    },
    {
      "cell_type": "code",
      "execution_count": 58,
      "metadata": {
        "id": "sa2GO46-9tTS"
      },
      "outputs": [],
      "source": [
        "freqs.sort(reverse=True)"
      ]
    },
    {
      "cell_type": "markdown",
      "metadata": {
        "id": "Qfx-iKoo9tTS"
      },
      "source": [
        "Now, for the ranks, we need a sequence that counts from 1 to `n`, where `n` is the number of elements in `freqs`.  We can use the `range` function, which returns a value with type `range`.\n",
        "\n",
        "As a small example, here's the range from 1 to 5."
      ]
    },
    {
      "cell_type": "code",
      "execution_count": 59,
      "metadata": {
        "id": "k4-yWRmI9tTS",
        "outputId": "c2978250-6fa4-4431-a218-76f0de859f1a",
        "colab": {
          "base_uri": "https://localhost:8080/"
        }
      },
      "outputs": [
        {
          "output_type": "execute_result",
          "data": {
            "text/plain": [
              "range(1, 5)"
            ]
          },
          "metadata": {},
          "execution_count": 59
        }
      ],
      "source": [
        "range(1, 5)"
      ]
    },
    {
      "cell_type": "markdown",
      "metadata": {
        "id": "jyezewy09tTS"
      },
      "source": [
        "However, there's a catch.  If we use the range to make a list, we see that \"the range from 1 to 5\" includes 1, but it doesn't include 5."
      ]
    },
    {
      "cell_type": "code",
      "execution_count": 60,
      "metadata": {
        "id": "qCyTTuEe9tTS",
        "outputId": "ae1020db-45ac-4e16-c9d4-a62e1350afeb",
        "colab": {
          "base_uri": "https://localhost:8080/"
        }
      },
      "outputs": [
        {
          "output_type": "execute_result",
          "data": {
            "text/plain": [
              "[1, 2, 3, 4]"
            ]
          },
          "metadata": {},
          "execution_count": 60
        }
      ],
      "source": [
        "list(range(1, 5))"
      ]
    },
    {
      "cell_type": "markdown",
      "metadata": {
        "id": "7UVkZ_Ug9tTS"
      },
      "source": [
        "That might seem strange, but it is often more convenient to use `range` when it is defined this way, rather than what might seem like the more natural way (see <https://www.cs.utexas.edu/users/EWD/transcriptions/EWD08xx/EWD831.html>).\n",
        "Anyway, we can get what we want by increasing the second argument by one:"
      ]
    },
    {
      "cell_type": "code",
      "execution_count": 61,
      "metadata": {
        "id": "Zc70AxI-9tTS",
        "outputId": "2137c7c2-133d-4524-93e8-82dcd88b9fb5",
        "colab": {
          "base_uri": "https://localhost:8080/"
        }
      },
      "outputs": [
        {
          "output_type": "execute_result",
          "data": {
            "text/plain": [
              "[1, 2, 3, 4, 5]"
            ]
          },
          "metadata": {},
          "execution_count": 61
        }
      ],
      "source": [
        "list(range(1, 6))"
      ]
    },
    {
      "cell_type": "markdown",
      "metadata": {
        "id": "FnZ_igGs9tTS"
      },
      "source": [
        "So, finally, we can make a range that represents the ranks from `1` to `n`:"
      ]
    },
    {
      "cell_type": "code",
      "execution_count": 62,
      "metadata": {
        "id": "FnKqVHp69tTS",
        "outputId": "28efd550-3914-4b5a-87dd-30423189492a",
        "colab": {
          "base_uri": "https://localhost:8080/"
        }
      },
      "outputs": [
        {
          "output_type": "execute_result",
          "data": {
            "text/plain": [
              "range(1, 20677)"
            ]
          },
          "metadata": {},
          "execution_count": 62
        }
      ],
      "source": [
        "n = len(freqs)\n",
        "ranks = range(1, n+1)\n",
        "ranks"
      ]
    },
    {
      "cell_type": "markdown",
      "metadata": {
        "id": "23Z4qLkz9tTS"
      },
      "source": [
        "And now we can plot the frequencies versus the ranks:"
      ]
    },
    {
      "cell_type": "code",
      "execution_count": 63,
      "metadata": {
        "id": "s4S5mxJT9tTS",
        "outputId": "06fb72a5-f021-4e75-a868-5038ae6e599d",
        "colab": {
          "base_uri": "https://localhost:8080/",
          "height": 295
        }
      },
      "outputs": [
        {
          "output_type": "display_data",
          "data": {
            "text/plain": [
              "<Figure size 432x288 with 1 Axes>"
            ],
            "image/png": "[encoded data removed]"
          },
          "metadata": {
            "needs_background": "light"
          }
        }
      ],
      "source": [
        "plt.plot(ranks, freqs)\n",
        "\n",
        "plt.xlabel('Rank')\n",
        "plt.ylabel('Frequency')\n",
        "plt.title(\"War and Peace and Zipf's law\");"
      ]
    },
    {
      "cell_type": "markdown",
      "metadata": {
        "id": "uyb_VV6k9tTT"
      },
      "source": [
        "## Logarithmic scales\n",
        "\n",
        "The few most common words are very common, but the great majority of words are rare.  So that's consistent with Zipf's law, but Zipf's law is more specific.  It claims that the frequencies should be inversely proportional to the ranks.  If that's true, we can write:\n",
        "\n",
        "$f = k / r$\n",
        "\n",
        "where $r$ is the rank of a word, $f$ is its frequency, and $k$ is an unknown constant of proportionality.  If we take the log of both sides, we get this:\n",
        "\n",
        "$\\log f = \\log k - \\log r$\n",
        "\n",
        "This equation implies that if we plot $f$ versus $r$ on a log-log scale, we expect to see a straight line with intercept at $\\log k$ and slope -1.\n",
        "\n",
        "We can use `plt.xscale` to plot the `x` axis on a log scale."
      ]
    },
    {
      "cell_type": "code",
      "execution_count": 64,
      "metadata": {
        "id": "ru6T0c4C9tTT",
        "outputId": "5cda17ed-6695-4e33-9c6b-0dc1622de9c3",
        "colab": {
          "base_uri": "https://localhost:8080/",
          "height": 299
        }
      },
      "outputs": [
        {
          "output_type": "display_data",
          "data": {
            "text/plain": [
              "<Figure size 432x288 with 1 Axes>"
            ],
            "image/png": "[encoded data removed]"
          },
          "metadata": {
            "needs_background": "light"
          }
        }
      ],
      "source": [
        "plt.plot(ranks, freqs)\n",
        "\n",
        "plt.xlabel('Rank')\n",
        "plt.ylabel('Frequency')\n",
        "plt.title(\"War and Peace and Zipf's law\")\n",
        "plt.xscale('log')"
      ]
    },
    {
      "cell_type": "markdown",
      "metadata": {
        "id": "wbH70ycx9tTT"
      },
      "source": [
        "And `plt.yscale` to plot the `y` axis on a log scale."
      ]
    },
    {
      "cell_type": "code",
      "execution_count": 65,
      "metadata": {
        "id": "pHvaXRY09tTT",
        "outputId": "607996e4-1768-4b1d-b4bd-f12aa8f7b3d5",
        "colab": {
          "base_uri": "https://localhost:8080/",
          "height": 299
        }
      },
      "outputs": [
        {
          "output_type": "display_data",
          "data": {
            "text/plain": [
              "<Figure size 432x288 with 1 Axes>"
            ],
            "image/png": "[encoded data removed]"
          },
          "metadata": {
            "needs_background": "light"
          }
        }
      ],
      "source": [
        "plt.plot(ranks, freqs)\n",
        "\n",
        "plt.xlabel('Rank')\n",
        "plt.ylabel('Frequency')\n",
        "plt.title(\"War and Peace and Zipf's law\")\n",
        "plt.xscale('log')\n",
        "plt.yscale('log');"
      ]
    },
    {
      "cell_type": "markdown",
      "metadata": {
        "id": "mIOCKpD_9tTT"
      },
      "source": [
        "The result is not quite a straight line, but it is close.  We can get a sense of the slope by connecting the end points with a line.\n",
        "I'll select the first and last elements from `xs`."
      ]
    },
    {
      "cell_type": "code",
      "execution_count": 66,
      "metadata": {
        "id": "QMs_Ojwu9tTT",
        "outputId": "98aad66c-52e9-40fe-934a-6bd322a1d6cd",
        "colab": {
          "base_uri": "https://localhost:8080/"
        }
      },
      "outputs": [
        {
          "output_type": "execute_result",
          "data": {
            "text/plain": [
              "(1, 20676)"
            ]
          },
          "metadata": {},
          "execution_count": 66
        }
      ],
      "source": [
        "xs = ranks[0], ranks[-1]\n",
        "xs"
      ]
    },
    {
      "cell_type": "markdown",
      "metadata": {
        "id": "jBl_hUdx9tTT"
      },
      "source": [
        "And the first and last elements from `ys`."
      ]
    },
    {
      "cell_type": "code",
      "execution_count": 67,
      "metadata": {
        "id": "rUlMSoiC9tTT",
        "outputId": "e8967ff7-a69d-444b-b956-bf858c8462b1",
        "colab": {
          "base_uri": "https://localhost:8080/"
        }
      },
      "outputs": [
        {
          "output_type": "execute_result",
          "data": {
            "text/plain": [
              "(34564, 1)"
            ]
          },
          "metadata": {},
          "execution_count": 67
        }
      ],
      "source": [
        "ys = freqs[0], freqs[-1]\n",
        "ys"
      ]
    },
    {
      "cell_type": "markdown",
      "metadata": {
        "id": "X3U4J_TZ9tTT"
      },
      "source": [
        "And plot a line between them."
      ]
    },
    {
      "cell_type": "code",
      "execution_count": 68,
      "metadata": {
        "id": "4lFdrKyn9tTT",
        "outputId": "3a71fb71-586f-4ee3-ebc6-1ade43730904",
        "colab": {
          "base_uri": "https://localhost:8080/",
          "height": 299
        }
      },
      "outputs": [
        {
          "output_type": "display_data",
          "data": {
            "text/plain": [
              "<Figure size 432x288 with 1 Axes>"
            ],
            "image/png": "[encoded data removed]"
          },
          "metadata": {
            "needs_background": "light"
          }
        }
      ],
      "source": [
        "plt.plot(xs, ys, color='gray')\n",
        "plt.plot(ranks, freqs)\n",
        "\n",
        "plt.xlabel('Rank')\n",
        "plt.ylabel('Frequency')\n",
        "plt.title(\"War and Peace and Zipf's law\")\n",
        "plt.xscale('log')\n",
        "plt.yscale('log')"
      ]
    },
    {
      "cell_type": "markdown",
      "metadata": {
        "id": "iS8cNi9f9tTT"
      },
      "source": [
        "The slope of this line is the \"rise over run\", that is, the difference on the `y` axis divided by the difference on the `x` axis.\n",
        "\n",
        "We can compute the rise using `np.log10` to compute the log base 10 of the first and last values:"
      ]
    },
    {
      "cell_type": "code",
      "execution_count": 69,
      "metadata": {
        "id": "muyObNnG9tTT",
        "outputId": "a45374ac-fe4b-430e-8b42-fb8c3bccbfe9",
        "colab": {
          "base_uri": "https://localhost:8080/"
        }
      },
      "outputs": [
        {
          "output_type": "execute_result",
          "data": {
            "text/plain": [
              "array([4.538624, 0.      ])"
            ]
          },
          "metadata": {},
          "execution_count": 69
        }
      ],
      "source": [
        "np.log10(ys)"
      ]
    },
    {
      "cell_type": "markdown",
      "metadata": {
        "id": "LJ3-IMhe9tTT"
      },
      "source": [
        "Then we can use `np.diff` to compute the difference between the elements:"
      ]
    },
    {
      "cell_type": "code",
      "execution_count": 70,
      "metadata": {
        "id": "oMmYVF0F9tTT",
        "outputId": "bd169de4-2f6f-403b-bb12-44e054ae3fe7",
        "colab": {
          "base_uri": "https://localhost:8080/"
        }
      },
      "outputs": [
        {
          "output_type": "execute_result",
          "data": {
            "text/plain": [
              "array([-4.538624])"
            ]
          },
          "metadata": {},
          "execution_count": 70
        }
      ],
      "source": [
        "rise = np.diff(np.log10(ys))\n",
        "rise"
      ]
    },
    {
      "cell_type": "markdown",
      "metadata": {
        "id": "7WKcwWm39tTT"
      },
      "source": [
        "**Exercise:** Use `log10` and `diff` to compute the run, that is, the difference on the `x` axis.  Then divide the rise by the run to get the slope of the grey line.\n",
        "Is it close to -1, as Zipf's law predicts?"
      ]
    },
    {
      "cell_type": "code",
      "execution_count": 71,
      "metadata": {
        "id": "cxOvU30v9tTT",
        "outputId": "824a0171-7bb4-43e5-fd70-e2f2140aabf1",
        "colab": {
          "base_uri": "https://localhost:8080/"
        }
      },
      "outputs": [
        {
          "output_type": "execute_result",
          "data": {
            "text/plain": [
              "array([4.31546652])"
            ]
          },
          "metadata": {},
          "execution_count": 71
        }
      ],
      "source": [
        "run = np.diff(np.log10(xs))\n",
        "run\n"
      ]
    },
    {
      "cell_type": "code",
      "execution_count": 72,
      "metadata": {
        "id": "5vRR3Wu99tTU",
        "outputId": "33f309ab-bb8b-45d2-9099-9829e7439c43",
        "colab": {
          "base_uri": "https://localhost:8080/"
        }
      },
      "outputs": [
        {
          "output_type": "execute_result",
          "data": {
            "text/plain": [
              "array([-1.05171109])"
            ]
          },
          "metadata": {},
          "execution_count": 72
        }
      ],
      "source": [
        "slope = rise / run\n",
        "slope"
      ]
    },
    {
      "cell_type": "markdown",
      "metadata": {
        "id": "F4_Z64BJ9tTU"
      },
      "source": [
        "## Summary"
      ]
    },
    {
      "cell_type": "markdown",
      "metadata": {
        "tags": [],
        "id": "GWFQ7iUu9tTU"
      },
      "source": [
        "*Elements of Data Science*\n",
        "\n",
        "Copyright 2021 [Allen B. Downey](https://allendowney.com)\n",
        "\n",
        "License: [Creative Commons Attribution-NonCommercial-ShareAlike 4.0 International](https://creativecommons.org/licenses/by-nc-sa/4.0/)"
      ]
    }
  ],
  "metadata": {
    "celltoolbar": "Tags",
    "kernelspec": {
      "display_name": "Python 3",
      "language": "python",
      "name": "python3"
    },
    "language_info": {
      "codemirror_mode": {
        "name": "ipython",
        "version": 3
      },
      "file_extension": ".py",
      "mimetype": "text/x-python",
      "name": "python",
      "nbconvert_exporter": "python",
      "pygments_lexer": "ipython3",
      "version": "3.7.7"
    },
    "colab": {
      "name": "06_plotting.ipynb",
      "provenance": []
    }
  },
  "nbformat": 4,
  "nbformat_minor": 0
}