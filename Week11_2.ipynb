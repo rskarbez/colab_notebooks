{
  "nbformat": 4,
  "nbformat_minor": 0,
  "metadata": {
    "colab": {
      "provenance": [],
      "authorship_tag": "ABX9TyMVQ6NU/Y4imWbhHZ2rOYxS",
      "include_colab_link": true
    },
    "kernelspec": {
      "name": "python3",
      "display_name": "Python 3"
    },
    "language_info": {
      "name": "python"
    }
  },
  "cells": [
    {
      "cell_type": "markdown",
      "metadata": {
        "id": "view-in-github",
        "colab_type": "text"
      },
      "source": [
        "<a href=\"https://colab.research.google.com/github/rskarbez/colab_notebooks/blob/main/Week11_2.ipynb\" target=\"_parent\"><img src=\"https://colab.research.google.com/assets/colab-badge.svg\" alt=\"Open In Colab\"/></a>"
      ]
    },
    {
      "cell_type": "code",
      "execution_count": 2,
      "metadata": {
        "id": "zTN0v1hOS4J_"
      },
      "outputs": [],
      "source": [
        "def reverse_list(inlist):\n",
        "  return inlist[::-1]"
      ]
    },
    {
      "cell_type": "code",
      "source": [
        "l = list(range(10))\n",
        "print(l)\n",
        "print(reverse_list(l))"
      ],
      "metadata": {
        "colab": {
          "base_uri": "https://localhost:8080/"
        },
        "id": "zeP1dh4hTJjv",
        "outputId": "c1255c35-8934-4c81-ceb3-2ad34de25070"
      },
      "execution_count": 3,
      "outputs": [
        {
          "output_type": "stream",
          "name": "stdout",
          "text": [
            "[0, 1, 2, 3, 4, 5, 6, 7, 8, 9]\n",
            "[9, 8, 7, 6, 5, 4, 3, 2, 1, 0]\n"
          ]
        }
      ]
    },
    {
      "cell_type": "code",
      "source": [
        "lines = []\n",
        "with (open('aoc5_sample.txt')) as f:\n",
        "  for line in f:\n",
        "    lines.append(line)\n",
        "\n",
        "print(lines)\n",
        "print(len(lines))"
      ],
      "metadata": {
        "colab": {
          "base_uri": "https://localhost:8080/"
        },
        "id": "_yJT-5wJT2Ks",
        "outputId": "d48c2d7f-b6e0-4be0-d423-bffdcf737c1d"
      },
      "execution_count": 4,
      "outputs": [
        {
          "output_type": "stream",
          "name": "stdout",
          "text": [
            "['    [D]\\n', '[N] [C]\\n', '[Z] [M] [P]\\n', ' 1   2   3\\n', '\\n', 'move 1 from 2 to 1\\n', 'move 3 from 1 to 3\\n', 'move 2 from 2 to 1\\n', 'move 1 from 1 to 2\\n']\n",
            "9\n"
          ]
        }
      ]
    },
    {
      "cell_type": "code",
      "source": [
        "for line in lines:\n",
        "  print(line)"
      ],
      "metadata": {
        "colab": {
          "base_uri": "https://localhost:8080/"
        },
        "id": "NBe0UNFEUG19",
        "outputId": "5d9b1d8f-0861-44a5-e639-be6f75911953"
      },
      "execution_count": 5,
      "outputs": [
        {
          "output_type": "stream",
          "name": "stdout",
          "text": [
            "    [D]\n",
            "\n",
            "[N] [C]\n",
            "\n",
            "[Z] [M] [P]\n",
            "\n",
            " 1   2   3\n",
            "\n",
            "\n",
            "\n",
            "move 1 from 2 to 1\n",
            "\n",
            "move 3 from 1 to 3\n",
            "\n",
            "move 2 from 2 to 1\n",
            "\n",
            "move 1 from 1 to 2\n",
            "\n"
          ]
        }
      ]
    },
    {
      "cell_type": "code",
      "source": [
        "for line in reverse_list(lines[0:4]):\n",
        "  print(line)"
      ],
      "metadata": {
        "colab": {
          "base_uri": "https://localhost:8080/"
        },
        "id": "Rn3kzZvMUUVZ",
        "outputId": "1a926491-4483-4a0d-b679-d96b7f20b4fc"
      },
      "execution_count": 11,
      "outputs": [
        {
          "output_type": "stream",
          "name": "stdout",
          "text": [
            " 1   2   3\n",
            "\n",
            "[Z] [M] [P]\n",
            "\n",
            "[N] [C]\n",
            "\n",
            "    [D]\n",
            "\n"
          ]
        }
      ]
    },
    {
      "cell_type": "code",
      "source": [
        "list_of_lists = [['D', 2, 3], ['N', 1, 2], ['C', 2, 2], ['Z', 1, 1], ['M', 2, 1], ['P', 3, 1]]\n",
        "for l in list_of_lists:\n",
        "  print(l)"
      ],
      "metadata": {
        "colab": {
          "base_uri": "https://localhost:8080/"
        },
        "id": "BV8COZP4VRKX",
        "outputId": "388a4dcc-7051-4a3e-a711-e47492d0dbb3"
      },
      "execution_count": 12,
      "outputs": [
        {
          "output_type": "stream",
          "name": "stdout",
          "text": [
            "['D', 2, 3]\n",
            "['N', 1, 2]\n",
            "['C', 2, 2]\n",
            "['Z', 1, 1]\n",
            "['M', 2, 1]\n",
            "['P', 3, 1]\n"
          ]
        }
      ]
    },
    {
      "cell_type": "code",
      "source": [
        "def same_second_element(lists, column):\n",
        "  temp = []\n",
        "  for l in lists:\n",
        "    if (l[1] == column):\n",
        "      temp.append(l[0])\n",
        "  return ''.join(temp)"
      ],
      "metadata": {
        "id": "wuyW8_FCVhgZ"
      },
      "execution_count": 15,
      "outputs": []
    },
    {
      "cell_type": "code",
      "source": [
        "print(same_second_element(list_of_lists, 2))"
      ],
      "metadata": {
        "colab": {
          "base_uri": "https://localhost:8080/"
        },
        "id": "8UekwS0gV50l",
        "outputId": "c48daf78-6772-4965-e58a-5376d3580709"
      },
      "execution_count": 16,
      "outputs": [
        {
          "output_type": "stream",
          "name": "stdout",
          "text": [
            "DCM\n"
          ]
        }
      ]
    },
    {
      "cell_type": "code",
      "source": [
        "def transpose(lol):\n",
        "  columns = len(lol[0])\n",
        "  rows = len(lol)\n",
        "  return_lol = [[0 for i in range(rows)] for j in range(columns)]\n",
        "  for i, l in enumerate(lol):\n",
        "    for j, item in enumerate(l):\n",
        "      return_lol[j][i] = l[j]\n",
        "  return return_lol"
      ],
      "metadata": {
        "id": "yEB0-YTlXAzq"
      },
      "execution_count": 31,
      "outputs": []
    },
    {
      "cell_type": "code",
      "source": [
        "print(transpose(list_of_lists))"
      ],
      "metadata": {
        "colab": {
          "base_uri": "https://localhost:8080/"
        },
        "id": "GwHc0uACYymd",
        "outputId": "47351133-a75b-4673-f0be-4f0972d46631"
      },
      "execution_count": 32,
      "outputs": [
        {
          "output_type": "stream",
          "name": "stdout",
          "text": [
            "[['D', 'N', 'C', 'Z', 'M', 'P'], [2, 1, 2, 1, 2, 3], [3, 2, 2, 1, 1, 1]]\n"
          ]
        }
      ]
    },
    {
      "cell_type": "code",
      "source": [
        "a = [i for i in range(10)]\n",
        "print(a)"
      ],
      "metadata": {
        "colab": {
          "base_uri": "https://localhost:8080/"
        },
        "id": "nLgbLCQFeQJP",
        "outputId": "4cf871b6-8211-4bb5-c792-d7551414f230"
      },
      "execution_count": 33,
      "outputs": [
        {
          "output_type": "stream",
          "name": "stdout",
          "text": [
            "[0, 1, 2, 3, 4, 5, 6, 7, 8, 9]\n"
          ]
        }
      ]
    },
    {
      "cell_type": "code",
      "source": [
        "a[3]"
      ],
      "metadata": {
        "colab": {
          "base_uri": "https://localhost:8080/"
        },
        "id": "8phKai6KecCS",
        "outputId": "6a294896-39e4-46f9-9092-b0f7dc8335a1"
      },
      "execution_count": 34,
      "outputs": [
        {
          "output_type": "execute_result",
          "data": {
            "text/plain": [
              "3"
            ]
          },
          "metadata": {},
          "execution_count": 34
        }
      ]
    },
    {
      "cell_type": "code",
      "source": [
        "a[2:6]"
      ],
      "metadata": {
        "colab": {
          "base_uri": "https://localhost:8080/"
        },
        "id": "hNtxRhWZehk0",
        "outputId": "e47bc7e3-39f7-49b4-95cd-fee80242682c"
      },
      "execution_count": 35,
      "outputs": [
        {
          "output_type": "execute_result",
          "data": {
            "text/plain": [
              "[2, 3, 4, 5]"
            ]
          },
          "metadata": {},
          "execution_count": 35
        }
      ]
    },
    {
      "cell_type": "code",
      "source": [
        "for i in range(10):\n",
        "  print(a[i::-1])"
      ],
      "metadata": {
        "colab": {
          "base_uri": "https://localhost:8080/"
        },
        "id": "fzCuMe2ne14U",
        "outputId": "11afb77c-ec45-4350-c6c5-9be4dcef66de"
      },
      "execution_count": 42,
      "outputs": [
        {
          "output_type": "stream",
          "name": "stdout",
          "text": [
            "[0]\n",
            "[1, 0]\n",
            "[2, 1, 0]\n",
            "[3, 2, 1, 0]\n",
            "[4, 3, 2, 1, 0]\n",
            "[5, 4, 3, 2, 1, 0]\n",
            "[6, 5, 4, 3, 2, 1, 0]\n",
            "[7, 6, 5, 4, 3, 2, 1, 0]\n",
            "[8, 7, 6, 5, 4, 3, 2, 1, 0]\n",
            "[9, 8, 7, 6, 5, 4, 3, 2, 1, 0]\n"
          ]
        }
      ]
    },
    {
      "cell_type": "code",
      "source": [
        "type(42)"
      ],
      "metadata": {
        "colab": {
          "base_uri": "https://localhost:8080/"
        },
        "id": "itinGzbkhPLX",
        "outputId": "c3ad2def-c7f5-49df-d665-b102f989be9e"
      },
      "execution_count": 43,
      "outputs": [
        {
          "output_type": "execute_result",
          "data": {
            "text/plain": [
              "int"
            ]
          },
          "metadata": {},
          "execution_count": 43
        }
      ]
    },
    {
      "cell_type": "code",
      "source": [
        "type(reverse_list)"
      ],
      "metadata": {
        "colab": {
          "base_uri": "https://localhost:8080/"
        },
        "id": "6ZpVitEfhZP2",
        "outputId": "662992ea-44bb-4cd6-ce21-2402b457b595"
      },
      "execution_count": 44,
      "outputs": [
        {
          "output_type": "execute_result",
          "data": {
            "text/plain": [
              "function"
            ]
          },
          "metadata": {},
          "execution_count": 44
        }
      ]
    },
    {
      "cell_type": "code",
      "source": [
        "def wrap_func(func):\n",
        "  print('happening before I call func()')\n",
        "  func()\n",
        "  func()\n",
        "  print('happening after I call func()')"
      ],
      "metadata": {
        "id": "aiAGIE7khkye"
      },
      "execution_count": 48,
      "outputs": []
    },
    {
      "cell_type": "code",
      "source": [
        "def hello():\n",
        "  print('Hello, world!')"
      ],
      "metadata": {
        "id": "w4oLDd7ihxFe"
      },
      "execution_count": 46,
      "outputs": []
    },
    {
      "cell_type": "code",
      "source": [
        "wrap_func(hello)"
      ],
      "metadata": {
        "colab": {
          "base_uri": "https://localhost:8080/"
        },
        "id": "swOekMTAh3MJ",
        "outputId": "9504244e-0fe8-4f09-bc22-3db274ab6f0d"
      },
      "execution_count": 49,
      "outputs": [
        {
          "output_type": "stream",
          "name": "stdout",
          "text": [
            "happening before I call func()\n",
            "Hello, world!\n",
            "Hello, world!\n",
            "happening after I call func()\n"
          ]
        }
      ]
    },
    {
      "cell_type": "code",
      "source": [
        "def my_decorator(func):\n",
        "    def wrapper():\n",
        "        print(\"Something is happening before the function is called.\")\n",
        "        func()\n",
        "        print(\"Something is happening after the function is called.\")\n",
        "    return wrapper\n",
        "\n",
        "@my_decorator\n",
        "def say_whee():\n",
        "    print(\"Whee!\")\n",
        "\n",
        "#say_whee = my_decorator(say_whee)"
      ],
      "metadata": {
        "id": "AT43dwuHkyIg"
      },
      "execution_count": 61,
      "outputs": []
    },
    {
      "cell_type": "code",
      "source": [
        "say_whee()"
      ],
      "metadata": {
        "colab": {
          "base_uri": "https://localhost:8080/"
        },
        "id": "8Kqcc5_9lT9K",
        "outputId": "5873eff7-ae84-4239-fd5a-b14d8f1f2980"
      },
      "execution_count": 62,
      "outputs": [
        {
          "output_type": "stream",
          "name": "stdout",
          "text": [
            "Something is happening before the function is called.\n",
            "Whee!\n",
            "Something is happening after the function is called.\n"
          ]
        }
      ]
    },
    {
      "cell_type": "code",
      "source": [
        "def time_func(func):\n",
        "  import time\n",
        "  total_time = 0\n",
        "  for i in range(10):\n",
        "    start = time.perf_counter()\n",
        "    func()\n",
        "    end = time.perf_counter()\n",
        "    elapsed_time = end - start\n",
        "    total_time += elapsed_time\n",
        "  print('Average run time: {}'.format(total_time / 10))"
      ],
      "metadata": {
        "id": "0ALKcuGJiL8n"
      },
      "execution_count": 53,
      "outputs": []
    },
    {
      "cell_type": "code",
      "source": [
        "time_func(hello)"
      ],
      "metadata": {
        "colab": {
          "base_uri": "https://localhost:8080/"
        },
        "id": "FkAafRyHizuo",
        "outputId": "1a48a890-588a-4a8f-8423-ff04fd1b3600"
      },
      "execution_count": 57,
      "outputs": [
        {
          "output_type": "stream",
          "name": "stdout",
          "text": [
            "Hello, world!\n",
            "Hello, world!\n",
            "Hello, world!\n",
            "Hello, world!\n",
            "Hello, world!\n",
            "Hello, world!\n",
            "Hello, world!\n",
            "Hello, world!\n",
            "Hello, world!\n",
            "Hello, world!\n",
            "Average run time: 8.942029980971711e-05\n"
          ]
        }
      ]
    },
    {
      "cell_type": "code",
      "source": [
        "help(print)"
      ],
      "metadata": {
        "colab": {
          "base_uri": "https://localhost:8080/"
        },
        "id": "Vleh606IjMw5",
        "outputId": "b3744d79-06a0-426f-d502-7e55d3b5b708"
      },
      "execution_count": 55,
      "outputs": [
        {
          "output_type": "stream",
          "name": "stdout",
          "text": [
            "Help on built-in function print in module builtins:\n",
            "\n",
            "print(...)\n",
            "    print(value, ..., sep=' ', end='\\n', file=sys.stdout, flush=False)\n",
            "    \n",
            "    Prints the values to a stream, or to sys.stdout by default.\n",
            "    Optional keyword arguments:\n",
            "    file:  a file-like object (stream); defaults to the current sys.stdout.\n",
            "    sep:   string inserted between values, default a space.\n",
            "    end:   string appended after the last value, default a newline.\n",
            "    flush: whether to forcibly flush the stream.\n",
            "\n"
          ]
        }
      ]
    },
    {
      "cell_type": "code",
      "source": [
        "help(enumerate)"
      ],
      "metadata": {
        "colab": {
          "base_uri": "https://localhost:8080/"
        },
        "id": "Wk1IBOjFXlW4",
        "outputId": "ff837fcf-9ac3-40dd-f4ee-fe9734ec3504"
      },
      "execution_count": 17,
      "outputs": [
        {
          "output_type": "stream",
          "name": "stdout",
          "text": [
            "Help on class enumerate in module builtins:\n",
            "\n",
            "class enumerate(object)\n",
            " |  enumerate(iterable, start=0)\n",
            " |  \n",
            " |  Return an enumerate object.\n",
            " |  \n",
            " |    iterable\n",
            " |      an object supporting iteration\n",
            " |  \n",
            " |  The enumerate object yields pairs containing a count (from start, which\n",
            " |  defaults to zero) and a value yielded by the iterable argument.\n",
            " |  \n",
            " |  enumerate is useful for obtaining an indexed list:\n",
            " |      (0, seq[0]), (1, seq[1]), (2, seq[2]), ...\n",
            " |  \n",
            " |  Methods defined here:\n",
            " |  \n",
            " |  __getattribute__(self, name, /)\n",
            " |      Return getattr(self, name).\n",
            " |  \n",
            " |  __iter__(self, /)\n",
            " |      Implement iter(self).\n",
            " |  \n",
            " |  __next__(self, /)\n",
            " |      Implement next(self).\n",
            " |  \n",
            " |  __reduce__(...)\n",
            " |      Return state information for pickling.\n",
            " |  \n",
            " |  ----------------------------------------------------------------------\n",
            " |  Static methods defined here:\n",
            " |  \n",
            " |  __new__(*args, **kwargs) from builtins.type\n",
            " |      Create and return a new object.  See help(type) for accurate signature.\n",
            "\n"
          ]
        }
      ]
    }
  ]
}