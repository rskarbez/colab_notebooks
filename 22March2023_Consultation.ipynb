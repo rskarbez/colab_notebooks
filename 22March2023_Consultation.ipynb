{
  "nbformat": 4,
  "nbformat_minor": 0,
  "metadata": {
    "colab": {
      "provenance": [],
      "authorship_tag": "ABX9TyPmG9BVZVkug4uqwCnS+WOL",
      "include_colab_link": true
    },
    "kernelspec": {
      "name": "python3",
      "display_name": "Python 3"
    },
    "language_info": {
      "name": "python"
    },
    "gpuClass": "standard"
  },
  "cells": [
    {
      "cell_type": "markdown",
      "metadata": {
        "id": "view-in-github",
        "colab_type": "text"
      },
      "source": [
        "<a href=\"https://colab.research.google.com/github/rskarbez/colab_notebooks/blob/main/22March2023_Consultation.ipynb\" target=\"_parent\"><img src=\"https://colab.research.google.com/assets/colab-badge.svg\" alt=\"Open In Colab\"/></a>"
      ]
    },
    {
      "cell_type": "code",
      "execution_count": 2,
      "metadata": {
        "colab": {
          "base_uri": "https://localhost:8080/"
        },
        "id": "Pl97HKmp4pIv",
        "outputId": "955170f5-da31-455c-fc0a-e8cffbd3259d"
      },
      "outputs": [
        {
          "output_type": "stream",
          "name": "stdout",
          "text": [
            "[1, 2, 3, 4, 5]\n",
            "[1, 2, 3, 4, 5]\n"
          ]
        }
      ],
      "source": [
        "list_1 = [1, 2, 3, 4, 5]\n",
        "list_2 = list(range(1, 6))\n",
        "print(list_1)\n",
        "print(list_2)"
      ]
    },
    {
      "cell_type": "code",
      "source": [
        "list_3 = ['this is a string', 42, 3.14, (1, 2, 3)]"
      ],
      "metadata": {
        "id": "ePr4CBgH8A30"
      },
      "execution_count": 3,
      "outputs": []
    },
    {
      "cell_type": "code",
      "source": [
        "for item in list_3:\n",
        "  print(item)\n",
        "print(list_3)"
      ],
      "metadata": {
        "colab": {
          "base_uri": "https://localhost:8080/"
        },
        "id": "vkoTH7m18JHm",
        "outputId": "942d3c45-f771-4d67-da6e-5cc074e62bc8"
      },
      "execution_count": 4,
      "outputs": [
        {
          "output_type": "stream",
          "name": "stdout",
          "text": [
            "this is a string\n",
            "42\n",
            "3.14\n",
            "(1, 2, 3)\n",
            "['this is a string', 42, 3.14, (1, 2, 3)]\n"
          ]
        }
      ]
    },
    {
      "cell_type": "code",
      "source": [
        "def print_list_elements(in_list):\n",
        "  for item in in_list:\n",
        "    print(item)"
      ],
      "metadata": {
        "id": "fy-EBbWL80kC"
      },
      "execution_count": 5,
      "outputs": []
    },
    {
      "cell_type": "code",
      "source": [
        "print_list_elements(list_1)"
      ],
      "metadata": {
        "colab": {
          "base_uri": "https://localhost:8080/"
        },
        "id": "4XC1yBbt8_4T",
        "outputId": "10b866e1-9498-4abd-fc91-275db1adb6fd"
      },
      "execution_count": 6,
      "outputs": [
        {
          "output_type": "stream",
          "name": "stdout",
          "text": [
            "1\n",
            "2\n",
            "3\n",
            "4\n",
            "5\n"
          ]
        }
      ]
    },
    {
      "cell_type": "code",
      "source": [
        "print_list_elements(list_3)"
      ],
      "metadata": {
        "colab": {
          "base_uri": "https://localhost:8080/"
        },
        "id": "aLviabMw9DfB",
        "outputId": "3b005bc8-b889-4120-fb30-8e81e5ab5fd0"
      },
      "execution_count": 7,
      "outputs": [
        {
          "output_type": "stream",
          "name": "stdout",
          "text": [
            "this is a string\n",
            "42\n",
            "3.14\n",
            "(1, 2, 3)\n"
          ]
        }
      ]
    },
    {
      "cell_type": "code",
      "source": [
        "len(list_1)"
      ],
      "metadata": {
        "colab": {
          "base_uri": "https://localhost:8080/"
        },
        "id": "fycL_dln9PKw",
        "outputId": "40489834-c519-40a4-a94a-d455d134e021"
      },
      "execution_count": 8,
      "outputs": [
        {
          "output_type": "execute_result",
          "data": {
            "text/plain": [
              "5"
            ]
          },
          "metadata": {},
          "execution_count": 8
        }
      ]
    },
    {
      "cell_type": "code",
      "source": [
        "help(len)"
      ],
      "metadata": {
        "colab": {
          "base_uri": "https://localhost:8080/"
        },
        "id": "PbYDc9bM9SrO",
        "outputId": "1a0b44e4-d3d4-4791-e4dc-bb43e3c7d72d"
      },
      "execution_count": 10,
      "outputs": [
        {
          "output_type": "stream",
          "name": "stdout",
          "text": [
            "Help on built-in function len in module builtins:\n",
            "\n",
            "len(obj, /)\n",
            "    Return the number of items in a container.\n",
            "\n"
          ]
        }
      ]
    },
    {
      "cell_type": "code",
      "source": [
        "for i in range(5):\n",
        "  print(i)"
      ],
      "metadata": {
        "colab": {
          "base_uri": "https://localhost:8080/"
        },
        "id": "XXye1Rv79kfX",
        "outputId": "254d81c3-3d1d-44ee-8d09-fb66cff3430d"
      },
      "execution_count": 11,
      "outputs": [
        {
          "output_type": "stream",
          "name": "stdout",
          "text": [
            "0\n",
            "1\n",
            "2\n",
            "3\n",
            "4\n"
          ]
        }
      ]
    },
    {
      "cell_type": "code",
      "source": [
        "for i in range(len(list_1)):\n",
        "  print(i)"
      ],
      "metadata": {
        "colab": {
          "base_uri": "https://localhost:8080/"
        },
        "id": "KuteN6iW9p2W",
        "outputId": "6408ca69-d655-42a2-c36d-bfc0485266aa"
      },
      "execution_count": 12,
      "outputs": [
        {
          "output_type": "stream",
          "name": "stdout",
          "text": [
            "0\n",
            "1\n",
            "2\n",
            "3\n",
            "4\n"
          ]
        }
      ]
    },
    {
      "cell_type": "code",
      "source": [
        "for i in range(len(list_3)):\n",
        "  print(i, ' : ', list_3[i])"
      ],
      "metadata": {
        "colab": {
          "base_uri": "https://localhost:8080/"
        },
        "id": "NsG4nHbC90NC",
        "outputId": "fe2d8fa7-1897-4712-e461-331bb8799694"
      },
      "execution_count": 13,
      "outputs": [
        {
          "output_type": "stream",
          "name": "stdout",
          "text": [
            "0  :  this is a string\n",
            "1  :  42\n",
            "2  :  3.14\n",
            "3  :  (1, 2, 3)\n"
          ]
        }
      ]
    },
    {
      "cell_type": "code",
      "source": [
        "for i in range(list_3):\n",
        "  print(i)"
      ],
      "metadata": {
        "colab": {
          "base_uri": "https://localhost:8080/",
          "height": 186
        },
        "id": "TRKv8jxa-sRp",
        "outputId": "721789c2-09df-44c1-de09-ee2a258d559e"
      },
      "execution_count": 16,
      "outputs": [
        {
          "output_type": "error",
          "ename": "TypeError",
          "evalue": "ignored",
          "traceback": [
            "\u001b[0;31m---------------------------------------------------------------------------\u001b[0m",
            "\u001b[0;31mTypeError\u001b[0m                                 Traceback (most recent call last)",
            "\u001b[0;32m<ipython-input-16-1fe45d4b62a3>\u001b[0m in \u001b[0;36m<module>\u001b[0;34m\u001b[0m\n\u001b[0;32m----> 1\u001b[0;31m \u001b[0;32mfor\u001b[0m \u001b[0mi\u001b[0m \u001b[0;32min\u001b[0m \u001b[0mrange\u001b[0m\u001b[0;34m(\u001b[0m\u001b[0mlist_3\u001b[0m\u001b[0;34m)\u001b[0m\u001b[0;34m:\u001b[0m\u001b[0;34m\u001b[0m\u001b[0;34m\u001b[0m\u001b[0m\n\u001b[0m\u001b[1;32m      2\u001b[0m   \u001b[0mprint\u001b[0m\u001b[0;34m(\u001b[0m\u001b[0mi\u001b[0m\u001b[0;34m)\u001b[0m\u001b[0;34m\u001b[0m\u001b[0;34m\u001b[0m\u001b[0m\n",
            "\u001b[0;31mTypeError\u001b[0m: 'list' object cannot be interpreted as an integer"
          ]
        }
      ]
    },
    {
      "cell_type": "code",
      "source": [
        "for (index, x) in enumerate(list_3):\n",
        "  print(index, ' : ', x)"
      ],
      "metadata": {
        "colab": {
          "base_uri": "https://localhost:8080/"
        },
        "id": "KwwD8bLJ-HFc",
        "outputId": "73c8bb40-cbf6-46b1-8867-68151f54a063"
      },
      "execution_count": 15,
      "outputs": [
        {
          "output_type": "stream",
          "name": "stdout",
          "text": [
            "0  :  this is a string\n",
            "1  :  42\n",
            "2  :  3.14\n",
            "3  :  (1, 2, 3)\n"
          ]
        }
      ]
    },
    {
      "cell_type": "code",
      "source": [
        "width = 5\n",
        "for num in range(16):\n",
        "  for base in 'dxob':\n",
        "    print('{0:{width}{base}}'.format(num, base=base, width=width), end = ' ')\n",
        "  print()"
      ],
      "metadata": {
        "colab": {
          "base_uri": "https://localhost:8080/"
        },
        "id": "93Bqfh6P_ShY",
        "outputId": "26ce2333-75c9-458d-944f-f6e85e6af7fd"
      },
      "execution_count": 17,
      "outputs": [
        {
          "output_type": "stream",
          "name": "stdout",
          "text": [
            "    0     0     0     0 \n",
            "    1     1     1     1 \n",
            "    2     2     2    10 \n",
            "    3     3     3    11 \n",
            "    4     4     4   100 \n",
            "    5     5     5   101 \n",
            "    6     6     6   110 \n",
            "    7     7     7   111 \n",
            "    8     8    10  1000 \n",
            "    9     9    11  1001 \n",
            "   10     a    12  1010 \n",
            "   11     b    13  1011 \n",
            "   12     c    14  1100 \n",
            "   13     d    15  1101 \n",
            "   14     e    16  1110 \n",
            "   15     f    17  1111 \n"
          ]
        }
      ]
    },
    {
      "cell_type": "code",
      "source": [
        "for i in range(5):\n",
        "  for j in 'abcde':\n",
        "    print(i, j, end = '')\n",
        "  print('Done with inner loop')\n",
        "print('Done with outer loop')"
      ],
      "metadata": {
        "colab": {
          "base_uri": "https://localhost:8080/"
        },
        "id": "cXmd1rA9_4nx",
        "outputId": "704d3cfd-77e5-4d1a-db60-9f8d32d9d85a"
      },
      "execution_count": 21,
      "outputs": [
        {
          "output_type": "stream",
          "name": "stdout",
          "text": [
            "0 a0 b0 c0 d0 eDone with inner loop\n",
            "1 a1 b1 c1 d1 eDone with inner loop\n",
            "2 a2 b2 c2 d2 eDone with inner loop\n",
            "3 a3 b3 c3 d3 eDone with inner loop\n",
            "4 a4 b4 c4 d4 eDone with inner loop\n",
            "Done with outer loop\n"
          ]
        }
      ]
    },
    {
      "cell_type": "code",
      "source": [
        "for i in range(10):\n",
        "  for j in range(i):\n",
        "    print(j, end=' ')\n",
        "  print('Done with inner loop')\n",
        "print('Done with outer loop)')"
      ],
      "metadata": {
        "colab": {
          "base_uri": "https://localhost:8080/"
        },
        "id": "lAin0zvCAvnW",
        "outputId": "e57cdf9f-425c-49c2-a244-8e506c633537"
      },
      "execution_count": 22,
      "outputs": [
        {
          "output_type": "stream",
          "name": "stdout",
          "text": [
            "Done with inner loop\n",
            "0 Done with inner loop\n",
            "0 1 Done with inner loop\n",
            "0 1 2 Done with inner loop\n",
            "0 1 2 3 Done with inner loop\n",
            "0 1 2 3 4 Done with inner loop\n",
            "0 1 2 3 4 5 Done with inner loop\n",
            "0 1 2 3 4 5 6 Done with inner loop\n",
            "0 1 2 3 4 5 6 7 Done with inner loop\n",
            "0 1 2 3 4 5 6 7 8 Done with inner loop\n",
            "Done with outer loop)\n"
          ]
        }
      ]
    },
    {
      "cell_type": "code",
      "source": [
        "help(map)"
      ],
      "metadata": {
        "colab": {
          "base_uri": "https://localhost:8080/"
        },
        "id": "PmJ2dMLOCwXu",
        "outputId": "2a8b2e3c-102c-4979-8b52-09fb82579cad"
      },
      "execution_count": 23,
      "outputs": [
        {
          "output_type": "stream",
          "name": "stdout",
          "text": [
            "Help on class map in module builtins:\n",
            "\n",
            "class map(object)\n",
            " |  map(func, *iterables) --> map object\n",
            " |  \n",
            " |  Make an iterator that computes the function using arguments from\n",
            " |  each of the iterables.  Stops when the shortest iterable is exhausted.\n",
            " |  \n",
            " |  Methods defined here:\n",
            " |  \n",
            " |  __getattribute__(self, name, /)\n",
            " |      Return getattr(self, name).\n",
            " |  \n",
            " |  __iter__(self, /)\n",
            " |      Implement iter(self).\n",
            " |  \n",
            " |  __next__(self, /)\n",
            " |      Implement next(self).\n",
            " |  \n",
            " |  __reduce__(...)\n",
            " |      Return state information for pickling.\n",
            " |  \n",
            " |  ----------------------------------------------------------------------\n",
            " |  Static methods defined here:\n",
            " |  \n",
            " |  __new__(*args, **kwargs) from builtins.type\n",
            " |      Create and return a new object.  See help(type) for accurate signature.\n",
            "\n"
          ]
        }
      ]
    },
    {
      "cell_type": "code",
      "source": [
        "def factorial(n):\n",
        "  if n < 2:\n",
        "    return 1\n",
        "  return n * factorial(n-1)"
      ],
      "metadata": {
        "id": "WIRc_L-dDEsA"
      },
      "execution_count": 24,
      "outputs": []
    },
    {
      "cell_type": "code",
      "source": [
        "print(factorial(3))"
      ],
      "metadata": {
        "colab": {
          "base_uri": "https://localhost:8080/"
        },
        "id": "-GS_SG84DTvn",
        "outputId": "dd3055ef-cd5d-4a7e-aa8b-0c5f33822b66"
      },
      "execution_count": 25,
      "outputs": [
        {
          "output_type": "stream",
          "name": "stdout",
          "text": [
            "6\n"
          ]
        }
      ]
    },
    {
      "cell_type": "code",
      "source": [
        "print(factorial(5))"
      ],
      "metadata": {
        "colab": {
          "base_uri": "https://localhost:8080/"
        },
        "id": "p4Xxvh-8DX-5",
        "outputId": "04d63486-ba85-4ad2-970c-09ea7b519544"
      },
      "execution_count": 26,
      "outputs": [
        {
          "output_type": "stream",
          "name": "stdout",
          "text": [
            "120\n"
          ]
        }
      ]
    },
    {
      "cell_type": "code",
      "source": [
        "%%timeit\n",
        "fac_list_1 = []\n",
        "for i in list_1:\n",
        "  fac_list_1.append(factorial(i))\n",
        "#print(fac_list_1)"
      ],
      "metadata": {
        "colab": {
          "base_uri": "https://localhost:8080/"
        },
        "id": "Bjc3hmX7DhTl",
        "outputId": "5725b869-31de-482d-852e-91388105d5fb"
      },
      "execution_count": 34,
      "outputs": [
        {
          "output_type": "stream",
          "name": "stdout",
          "text": [
            "2.14 µs ± 77.4 ns per loop (mean ± std. dev. of 7 runs, 100000 loops each)\n"
          ]
        }
      ]
    },
    {
      "cell_type": "code",
      "source": [
        "%%timeit\n",
        "fac_list_2 = [factorial(n) for n in list_1]\n",
        "#print(fac_list_2)"
      ],
      "metadata": {
        "colab": {
          "base_uri": "https://localhost:8080/"
        },
        "id": "ciktwiZxDwYB",
        "outputId": "0ba69f80-31c6-465a-d3d1-a37048546971"
      },
      "execution_count": 35,
      "outputs": [
        {
          "output_type": "stream",
          "name": "stdout",
          "text": [
            "2.27 µs ± 372 ns per loop (mean ± std. dev. of 7 runs, 1000000 loops each)\n"
          ]
        }
      ]
    },
    {
      "cell_type": "code",
      "source": [
        "%%timeit\n",
        "fac_list_3 = map(factorial, list_1)\n",
        "#print(fac_list_3)"
      ],
      "metadata": {
        "colab": {
          "base_uri": "https://localhost:8080/"
        },
        "id": "X2VGfaxyD8fG",
        "outputId": "c9893464-2a85-4fb0-e6d4-2a69d6b84fb8"
      },
      "execution_count": 37,
      "outputs": [
        {
          "output_type": "stream",
          "name": "stdout",
          "text": [
            "203 ns ± 51.7 ns per loop (mean ± std. dev. of 7 runs, 10000000 loops each)\n"
          ]
        }
      ]
    },
    {
      "cell_type": "code",
      "source": [
        "list_inf = [i for i in range(100000000)]"
      ],
      "metadata": {
        "id": "mOcFDruuF2DP"
      },
      "execution_count": 38,
      "outputs": []
    },
    {
      "cell_type": "code",
      "source": [
        "len(list_inf)"
      ],
      "metadata": {
        "colab": {
          "base_uri": "https://localhost:8080/"
        },
        "id": "RMCxjjxtF_Q7",
        "outputId": "6372c9b6-9d69-4d10-b0e5-f222a72c8453"
      },
      "execution_count": 39,
      "outputs": [
        {
          "output_type": "execute_result",
          "data": {
            "text/plain": [
              "100000000"
            ]
          },
          "metadata": {},
          "execution_count": 39
        }
      ]
    },
    {
      "cell_type": "code",
      "source": [
        "range_inf = range(100000000)"
      ],
      "metadata": {
        "id": "yXGXq1TCGFcO"
      },
      "execution_count": 40,
      "outputs": []
    }
  ]
}