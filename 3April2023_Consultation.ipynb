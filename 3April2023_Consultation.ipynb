{
  "nbformat": 4,
  "nbformat_minor": 0,
  "metadata": {
    "colab": {
      "provenance": [],
      "authorship_tag": "ABX9TyN2DLeOcL8rKoRpoQXYVfM9",
      "include_colab_link": true
    },
    "kernelspec": {
      "name": "python3",
      "display_name": "Python 3"
    },
    "language_info": {
      "name": "python"
    }
  },
  "cells": [
    {
      "cell_type": "markdown",
      "metadata": {
        "id": "view-in-github",
        "colab_type": "text"
      },
      "source": [
        "<a href=\"https://colab.research.google.com/github/rskarbez/colab_notebooks/blob/main/3April2023_Consultation.ipynb\" target=\"_parent\"><img src=\"https://colab.research.google.com/assets/colab-badge.svg\" alt=\"Open In Colab\"/></a>"
      ]
    },
    {
      "cell_type": "code",
      "execution_count": 43,
      "metadata": {
        "id": "Ek8oNc3N-B-_"
      },
      "outputs": [],
      "source": [
        "\"\"\"\n",
        "\n",
        "This program is part of an exercise in\n",
        "Think Python: An Introduction to Software Design\n",
        "Allen B. Downey\n",
        "\n",
        "WARNING: this program contains a NASTY bug.  I put\n",
        "it there on purpose as a debugging exercise, but\n",
        "you DO NOT want to emulate this example!\n",
        "\n",
        "\"\"\"\n",
        "\n",
        "dummy_value = 12\n",
        "\n",
        "class Kangaroo():\n",
        "    \"\"\"a Kangaroo is a marsupial\"\"\"\n",
        "    \n",
        "    def __init__(self, contents=[]):\n",
        "        \"\"\"initialize the pouch contents; the default value is\n",
        "        an empty list\"\"\"\n",
        "        print(contents)\n",
        "        self.pouch_contents = contents\n",
        "\n",
        "    def __str__(self):\n",
        "        \"\"\"return a string representaion of this Kangaroo and\n",
        "        the contents of the pouch, with one item per line\"\"\"\n",
        "        t = [ object.__str__(self) + ' with pouch contents:' ]\n",
        "        for obj in self.pouch_contents:\n",
        "            s = '    ' + object.__str__(obj)\n",
        "            t.append(s)\n",
        "        return '\\n'.join(t)\n",
        "\n",
        "    def put_in_pouch(self, item):\n",
        "        \"\"\"add a new item to the pouch contents\"\"\"\n",
        "        self.pouch_contents.append(item)\n",
        "\n",
        "    def dummy_method(self, value=dummy_value):\n",
        "      print(value)"
      ]
    },
    {
      "cell_type": "code",
      "source": [
        "kanga = Kangaroo()"
      ],
      "metadata": {
        "colab": {
          "base_uri": "https://localhost:8080/"
        },
        "id": "flz9O2on-UZL",
        "outputId": "91de1dd9-6062-497d-b615-c8b835c28010"
      },
      "execution_count": 36,
      "outputs": [
        {
          "output_type": "stream",
          "name": "stdout",
          "text": [
            "[]\n"
          ]
        }
      ]
    },
    {
      "cell_type": "code",
      "source": [
        "print(dummy_value)"
      ],
      "metadata": {
        "colab": {
          "base_uri": "https://localhost:8080/"
        },
        "id": "8K6RnH8ZCZ0r",
        "outputId": "4663f3e5-bc1e-4885-88c0-a4422b3b0f14"
      },
      "execution_count": 12,
      "outputs": [
        {
          "output_type": "stream",
          "name": "stdout",
          "text": [
            "12\n"
          ]
        }
      ]
    },
    {
      "cell_type": "code",
      "source": [
        "kanga.dummy_method()"
      ],
      "metadata": {
        "colab": {
          "base_uri": "https://localhost:8080/"
        },
        "id": "DtpR8dgMCd6y",
        "outputId": "a3dffb63-f94e-4022-d37a-5de1a2192f19"
      },
      "execution_count": 16,
      "outputs": [
        {
          "output_type": "stream",
          "name": "stdout",
          "text": [
            "12\n"
          ]
        }
      ]
    },
    {
      "cell_type": "code",
      "source": [
        "dummy_value = 1.618"
      ],
      "metadata": {
        "id": "RUyKg8XrC36u"
      },
      "execution_count": 17,
      "outputs": []
    },
    {
      "cell_type": "code",
      "source": [
        "print(dummy_value)"
      ],
      "metadata": {
        "colab": {
          "base_uri": "https://localhost:8080/"
        },
        "id": "euVv70ANC2f6",
        "outputId": "bffb2083-2560-4c62-fad1-d3cd5a9a4729"
      },
      "execution_count": 18,
      "outputs": [
        {
          "output_type": "stream",
          "name": "stdout",
          "text": [
            "1.618\n"
          ]
        }
      ]
    },
    {
      "cell_type": "code",
      "source": [
        "kanga.dummy_method()"
      ],
      "metadata": {
        "colab": {
          "base_uri": "https://localhost:8080/"
        },
        "id": "DGaU_CW-C9KZ",
        "outputId": "a272bafd-e20f-42e4-9c93-2f26dc12a47a"
      },
      "execution_count": 19,
      "outputs": [
        {
          "output_type": "stream",
          "name": "stdout",
          "text": [
            "12\n"
          ]
        }
      ]
    },
    {
      "cell_type": "code",
      "source": [
        "roo = Kangaroo()"
      ],
      "metadata": {
        "colab": {
          "base_uri": "https://localhost:8080/"
        },
        "id": "S7rQQbeTDk1M",
        "outputId": "2a3daee6-9292-4b33-c930-779091ee519b"
      },
      "execution_count": 37,
      "outputs": [
        {
          "output_type": "stream",
          "name": "stdout",
          "text": [
            "[]\n"
          ]
        }
      ]
    },
    {
      "cell_type": "code",
      "source": [
        "roo.dummy_method()"
      ],
      "metadata": {
        "colab": {
          "base_uri": "https://localhost:8080/"
        },
        "id": "YKxY1f4IDp3A",
        "outputId": "c4e8d4a4-d5ec-40d6-d0bd-5df4c442d26e"
      },
      "execution_count": 21,
      "outputs": [
        {
          "output_type": "stream",
          "name": "stdout",
          "text": [
            "12\n"
          ]
        }
      ]
    },
    {
      "cell_type": "code",
      "source": [
        "print(roo)"
      ],
      "metadata": {
        "colab": {
          "base_uri": "https://localhost:8080/"
        },
        "id": "DyHwJ7L8EIV5",
        "outputId": "6f63ec96-1df5-4a08-e85b-537755ecbb5e"
      },
      "execution_count": 23,
      "outputs": [
        {
          "output_type": "stream",
          "name": "stdout",
          "text": [
            "<__main__.Kangaroo object at 0x7f6667715220> with pouch contents:\n"
          ]
        }
      ]
    },
    {
      "cell_type": "code",
      "source": [
        "class Dog(object):\n",
        "  species = 'canis familiaris'\n",
        "\n",
        "  def __init__(self, name=None):\n",
        "    if name == None:\n",
        "      name = 'Fred'\n",
        "    self.name = name\n",
        "\n",
        "  def speak(self):\n",
        "    print('Woof.')"
      ],
      "metadata": {
        "id": "vRa-IGbzEZu6"
      },
      "execution_count": 51,
      "outputs": []
    },
    {
      "cell_type": "code",
      "source": [
        "fido = Dog('Fido')"
      ],
      "metadata": {
        "id": "xB-BNmCVEhQf"
      },
      "execution_count": 52,
      "outputs": []
    },
    {
      "cell_type": "code",
      "source": [
        "class Puppy(Dog):\n",
        "  def __init__(self, name=None, breed=None):\n",
        "    super().__init__(name)\n",
        "    if breed == None:\n",
        "      breed = 'mutt'\n",
        "\n",
        "  def speak(self):\n",
        "    print('Yip.')\n",
        "\n",
        "  def grow_up(self):\n",
        "    super().speak()"
      ],
      "metadata": {
        "id": "D7YixaLCHFko"
      },
      "execution_count": 57,
      "outputs": []
    },
    {
      "cell_type": "code",
      "source": [
        "spot = Puppy()\n",
        "spot.speak()"
      ],
      "metadata": {
        "colab": {
          "base_uri": "https://localhost:8080/"
        },
        "id": "gf1HvZCGHLUQ",
        "outputId": "e043d229-eb41-4eaa-c9e8-877c16195ffc"
      },
      "execution_count": 54,
      "outputs": [
        {
          "output_type": "stream",
          "name": "stdout",
          "text": [
            "Yip.\n"
          ]
        }
      ]
    },
    {
      "cell_type": "code",
      "source": [
        "spot.grow_up()"
      ],
      "metadata": {
        "colab": {
          "base_uri": "https://localhost:8080/"
        },
        "id": "uir8TN-SHWiA",
        "outputId": "9f33e1f5-ca55-4050-f384-86101664f43d"
      },
      "execution_count": 55,
      "outputs": [
        {
          "output_type": "stream",
          "name": "stdout",
          "text": [
            "Woof.\n"
          ]
        }
      ]
    },
    {
      "cell_type": "code",
      "source": [],
      "metadata": {
        "id": "RIoBdBiAHPIl"
      },
      "execution_count": null,
      "outputs": []
    },
    {
      "cell_type": "code",
      "source": [
        "print(fido)"
      ],
      "metadata": {
        "colab": {
          "base_uri": "https://localhost:8080/"
        },
        "id": "SDZxcVHXEjaJ",
        "outputId": "9d4a80ef-3a74-4a62-87a5-aa40a2e0b95d"
      },
      "execution_count": 26,
      "outputs": [
        {
          "output_type": "stream",
          "name": "stdout",
          "text": [
            "<__main__.Dog object at 0x7f66650bc0a0>\n"
          ]
        }
      ]
    },
    {
      "cell_type": "code",
      "source": [
        "kanga.put_in_pouch('keys')\n",
        "kanga.put_in_pouch('wallet')\n",
        "kanga.put_in_pouch(roo)\n",
        "kanga.put_in_pouch(fido)"
      ],
      "metadata": {
        "id": "WPfLLArfFHkc"
      },
      "execution_count": 38,
      "outputs": []
    },
    {
      "cell_type": "code",
      "source": [
        "print(kanga)"
      ],
      "metadata": {
        "colab": {
          "base_uri": "https://localhost:8080/",
          "height": 287
        },
        "id": "j85XzOMKFRh3",
        "outputId": "6424a7eb-8eb7-48a7-d059-066e420fb634"
      },
      "execution_count": 39,
      "outputs": [
        {
          "output_type": "error",
          "ename": "TypeError",
          "evalue": "ignored",
          "traceback": [
            "\u001b[0;31m---------------------------------------------------------------------------\u001b[0m",
            "\u001b[0;31mTypeError\u001b[0m                                 Traceback (most recent call last)",
            "\u001b[0;32m<ipython-input-39-00f74a49bcd0>\u001b[0m in \u001b[0;36m<cell line: 1>\u001b[0;34m()\u001b[0m\n\u001b[0;32m----> 1\u001b[0;31m \u001b[0mprint\u001b[0m\u001b[0;34m(\u001b[0m\u001b[0mkanga\u001b[0m\u001b[0;34m)\u001b[0m\u001b[0;34m\u001b[0m\u001b[0;34m\u001b[0m\u001b[0m\n\u001b[0m",
            "\u001b[0;32m<ipython-input-35-de1c14ee7286>\u001b[0m in \u001b[0;36m__str__\u001b[0;34m(self)\u001b[0m\n\u001b[1;32m     25\u001b[0m         \"\"\"return a string representaion of this Kangaroo and\n\u001b[1;32m     26\u001b[0m         the contents of the pouch, with one item per line\"\"\"\n\u001b[0;32m---> 27\u001b[0;31m         \u001b[0mt\u001b[0m \u001b[0;34m=\u001b[0m \u001b[0;34m[\u001b[0m \u001b[0msuper\u001b[0m\u001b[0;34m(\u001b[0m\u001b[0;34m)\u001b[0m\u001b[0;34m.\u001b[0m\u001b[0m__str__\u001b[0m\u001b[0;34m(\u001b[0m\u001b[0mself\u001b[0m\u001b[0;34m)\u001b[0m \u001b[0;34m+\u001b[0m \u001b[0;34m' with pouch contents:'\u001b[0m \u001b[0;34m]\u001b[0m\u001b[0;34m\u001b[0m\u001b[0;34m\u001b[0m\u001b[0m\n\u001b[0m\u001b[1;32m     28\u001b[0m         \u001b[0;32mfor\u001b[0m \u001b[0mobj\u001b[0m \u001b[0;32min\u001b[0m \u001b[0mself\u001b[0m\u001b[0;34m.\u001b[0m\u001b[0mpouch_contents\u001b[0m\u001b[0;34m:\u001b[0m\u001b[0;34m\u001b[0m\u001b[0;34m\u001b[0m\u001b[0m\n\u001b[1;32m     29\u001b[0m             \u001b[0ms\u001b[0m \u001b[0;34m=\u001b[0m \u001b[0;34m'    '\u001b[0m \u001b[0;34m+\u001b[0m \u001b[0mobject\u001b[0m\u001b[0;34m.\u001b[0m\u001b[0m__str__\u001b[0m\u001b[0;34m(\u001b[0m\u001b[0mobj\u001b[0m\u001b[0;34m)\u001b[0m\u001b[0;34m\u001b[0m\u001b[0;34m\u001b[0m\u001b[0m\n",
            "\u001b[0;31mTypeError\u001b[0m: expected 0 arguments, got 1"
          ]
        }
      ]
    },
    {
      "cell_type": "code",
      "source": [
        "isinstance(str, object)"
      ],
      "metadata": {
        "colab": {
          "base_uri": "https://localhost:8080/"
        },
        "id": "O6e9EKznFodc",
        "outputId": "a94a976e-4b8c-4b92-e723-2a66a8d3f102"
      },
      "execution_count": 30,
      "outputs": [
        {
          "output_type": "execute_result",
          "data": {
            "text/plain": [
              "True"
            ]
          },
          "metadata": {},
          "execution_count": 30
        }
      ]
    },
    {
      "cell_type": "code",
      "source": [
        "print(str('test test'))"
      ],
      "metadata": {
        "colab": {
          "base_uri": "https://localhost:8080/"
        },
        "id": "6CbfK07gGF1Z",
        "outputId": "888861c5-e453-4bbd-d939-07d1d31d01d9"
      },
      "execution_count": 32,
      "outputs": [
        {
          "output_type": "stream",
          "name": "stdout",
          "text": [
            "test test\n"
          ]
        }
      ]
    },
    {
      "cell_type": "code",
      "source": [
        "print(str(fido))"
      ],
      "metadata": {
        "colab": {
          "base_uri": "https://localhost:8080/"
        },
        "id": "dO4i7f6KGJPA",
        "outputId": "7bf2cee9-879b-4515-b108-246fa49aefef"
      },
      "execution_count": 33,
      "outputs": [
        {
          "output_type": "stream",
          "name": "stdout",
          "text": [
            "<__main__.Dog object at 0x7f66650bc0a0>\n"
          ]
        }
      ]
    }
  ]
}