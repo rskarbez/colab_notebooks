{
  "cells": [
    {
      "cell_type": "markdown",
      "metadata": {
        "id": "f8mUOx5topL0"
      },
      "source": [
        "# Times and Places"
      ]
    },
    {
      "cell_type": "markdown",
      "metadata": {
        "tags": [],
        "id": "rkcU_iPeopL8"
      },
      "source": [
        "[Run this notebook on Colab](https://colab.research.google.com/github/AllenDowney/ElementsOfDataScience/blob/master/02_times.ipynb) or  \n",
        "[Run this notebook on Sagemaker Studio Lab](https://studiolab.sagemaker.aws/import/github/AllenDowney/ElementsOfDataScience/blob/master/02_times.ipynb) or  \n",
        "[Download this notebook](https://github.com/AllenDowney/ElementsOfDataScience/raw/master/02_times.ipynb)."
      ]
    },
    {
      "cell_type": "markdown",
      "metadata": {
        "id": "uJ4m7txuopL9"
      },
      "source": [
        "In the previous chapter, you learned about variables and two kinds of values: integers and floating-point numbers.\n",
        "\n",
        "In this chapter, you'll see some additional types:\n",
        "\n",
        "* Strings, which represent text.\n",
        "\n",
        "* Time stamps, which represent dates and times.\n",
        "\n",
        "* And several ways to represent and display geographical locations.\n",
        "\n",
        "Not every data science project uses all of these types, but many projects use at least one."
      ]
    },
    {
      "cell_type": "markdown",
      "metadata": {
        "id": "GvB4R4KxopL-"
      },
      "source": [
        "## Strings\n",
        "\n",
        "A **string** is a sequence of letters, numbers, and punctuation marks.\n",
        "In Python you can create a string by typing letters between single or double quotation marks."
      ]
    },
    {
      "cell_type": "code",
      "execution_count": 3,
      "metadata": {
        "id": "-OjSEvORopL_",
        "outputId": "a28af963-9a3d-41b8-a87e-e2cd37e46d69",
        "colab": {
          "base_uri": "https://localhost:8080/",
          "height": 35
        }
      },
      "outputs": [
        {
          "output_type": "execute_result",
          "data": {
            "text/plain": [
              "'Elements'"
            ],
            "application/vnd.google.colaboratory.intrinsic+json": {
              "type": "string"
            }
          },
          "metadata": {},
          "execution_count": 3
        }
      ],
      "source": [
        "'Elements'"
      ]
    },
    {
      "cell_type": "code",
      "execution_count": 2,
      "metadata": {
        "id": "S1c-XZ04opMB",
        "outputId": "38a39389-6826-4557-e242-9fcb64b9fd72",
        "colab": {
          "base_uri": "https://localhost:8080/",
          "height": 35
        }
      },
      "outputs": [
        {
          "output_type": "execute_result",
          "data": {
            "text/plain": [
              "'of'"
            ],
            "application/vnd.google.colaboratory.intrinsic+json": {
              "type": "string"
            }
          },
          "metadata": {},
          "execution_count": 2
        }
      ],
      "source": [
        "\"of\""
      ]
    },
    {
      "cell_type": "markdown",
      "metadata": {
        "id": "-otpvZpXopMC"
      },
      "source": [
        "And you can assign string values to variables."
      ]
    },
    {
      "cell_type": "code",
      "execution_count": 4,
      "metadata": {
        "id": "ZgHugRLYopME"
      },
      "outputs": [],
      "source": [
        "first = 'Data'"
      ]
    },
    {
      "cell_type": "code",
      "execution_count": 5,
      "metadata": {
        "id": "TAbiDLpVopMF"
      },
      "outputs": [],
      "source": [
        "last = \"Science\""
      ]
    },
    {
      "cell_type": "markdown",
      "metadata": {
        "id": "Eevr3OJ9opMJ"
      },
      "source": [
        "Some arithmetic operators work with strings, but they might no do what you expect.  For example, the `+` operator \"concatenates\" two strings; that is, it creates a new string that contains the first string followed by the second string:"
      ]
    },
    {
      "cell_type": "code",
      "execution_count": 6,
      "metadata": {
        "id": "qrJmw2-iopML",
        "outputId": "b89ce2ad-8abe-467a-8f12-9fe134a73ddb",
        "colab": {
          "base_uri": "https://localhost:8080/",
          "height": 35
        }
      },
      "outputs": [
        {
          "output_type": "execute_result",
          "data": {
            "text/plain": [
              "'DataScience'"
            ],
            "application/vnd.google.colaboratory.intrinsic+json": {
              "type": "string"
            }
          },
          "metadata": {},
          "execution_count": 6
        }
      ],
      "source": [
        "first + last"
      ]
    },
    {
      "cell_type": "markdown",
      "metadata": {
        "id": "tddk9X7CopML"
      },
      "source": [
        "If you want to put a space between the words, you can use a string that contains a space:"
      ]
    },
    {
      "cell_type": "code",
      "execution_count": 7,
      "metadata": {
        "id": "EDLeiAl1opMM",
        "outputId": "eb23a29b-79ed-49df-cae9-5217ef0fbf2c",
        "colab": {
          "base_uri": "https://localhost:8080/",
          "height": 35
        }
      },
      "outputs": [
        {
          "output_type": "execute_result",
          "data": {
            "text/plain": [
              "'Data Science'"
            ],
            "application/vnd.google.colaboratory.intrinsic+json": {
              "type": "string"
            }
          },
          "metadata": {},
          "execution_count": 7
        }
      ],
      "source": [
        "first + ' ' + last"
      ]
    },
    {
      "cell_type": "markdown",
      "metadata": {
        "id": "iYm3z5BQopMM"
      },
      "source": [
        "Strings are used to store text data like names, addresses, titles, etc.\n",
        "\n",
        "When you read data from a file, you might see values that look like numbers, but they are actually strings, like this:"
      ]
    },
    {
      "cell_type": "code",
      "execution_count": 8,
      "metadata": {
        "id": "z4YFGc8UopMN"
      },
      "outputs": [],
      "source": [
        "not_actually_a_number = '123'"
      ]
    },
    {
      "cell_type": "markdown",
      "metadata": {
        "id": "ndbmp5V7opMN"
      },
      "source": [
        "If you try to do math with these strings, you *might* get an error.\n",
        "For example, the following expression causes a `TypeError` with the message \"can only concatenate `str` (not `int`) to `str`\".\n",
        "\n",
        "```\n",
        "not_actually_a_number + 1\n",
        "```\n",
        "\n",
        "But you don't always get an error; instead, you might get a surprising result.  For example:"
      ]
    },
    {
      "cell_type": "code",
      "execution_count": 9,
      "metadata": {
        "id": "xKflGORropMO",
        "outputId": "8e651b2e-47c2-46d6-8945-acacc6ff6992",
        "colab": {
          "base_uri": "https://localhost:8080/",
          "height": 35
        }
      },
      "outputs": [
        {
          "output_type": "execute_result",
          "data": {
            "text/plain": [
              "'123123123'"
            ],
            "application/vnd.google.colaboratory.intrinsic+json": {
              "type": "string"
            }
          },
          "metadata": {},
          "execution_count": 9
        }
      ],
      "source": [
        "not_actually_a_number * 3"
      ]
    },
    {
      "cell_type": "markdown",
      "metadata": {
        "id": "4-Q_BiNZopMQ"
      },
      "source": [
        "If you multiply a string by an integer, Python repeats the string the given number of times.\n",
        "\n",
        "If you have a string that contains only digits, you can convert it to an integer using the `int` function:"
      ]
    },
    {
      "cell_type": "code",
      "execution_count": 10,
      "metadata": {
        "id": "R2fq-HsyopMR",
        "outputId": "dfcb8301-1c4f-4113-da06-9243df780232",
        "colab": {
          "base_uri": "https://localhost:8080/"
        }
      },
      "outputs": [
        {
          "output_type": "execute_result",
          "data": {
            "text/plain": [
              "123"
            ]
          },
          "metadata": {},
          "execution_count": 10
        }
      ],
      "source": [
        "int('123')"
      ]
    },
    {
      "cell_type": "markdown",
      "metadata": {
        "id": "qYNA8pbyopMR"
      },
      "source": [
        "Or you can convert it to a floating-point number using `float`:"
      ]
    },
    {
      "cell_type": "code",
      "execution_count": 11,
      "metadata": {
        "id": "KlAP3995opMR",
        "outputId": "24dcb69e-d6ad-4ca2-8333-73a7c733d6be",
        "colab": {
          "base_uri": "https://localhost:8080/"
        }
      },
      "outputs": [
        {
          "output_type": "execute_result",
          "data": {
            "text/plain": [
              "123.0"
            ]
          },
          "metadata": {},
          "execution_count": 11
        }
      ],
      "source": [
        "float('123')"
      ]
    },
    {
      "cell_type": "markdown",
      "metadata": {
        "id": "REqzHopmopMS"
      },
      "source": [
        "But if the string contains a decimal point, you can't convert it to an `int`."
      ]
    },
    {
      "cell_type": "markdown",
      "metadata": {
        "tags": [],
        "id": "wNpLriuvopMS"
      },
      "source": [
        "Try this example to see what happens.\n",
        "\n",
        "```\n",
        "int('12.3')\n",
        "```"
      ]
    },
    {
      "cell_type": "code",
      "execution_count": 12,
      "metadata": {
        "tags": [],
        "id": "0OE3nCq_opMT",
        "outputId": "addcf7e0-af2a-4377-9870-4f9d0ce784b0",
        "colab": {
          "base_uri": "https://localhost:8080/",
          "height": 166
        }
      },
      "outputs": [
        {
          "output_type": "error",
          "ename": "ValueError",
          "evalue": "ignored",
          "traceback": [
            "\u001b[0;31m---------------------------------------------------------------------------\u001b[0m",
            "\u001b[0;31mValueError\u001b[0m                                Traceback (most recent call last)",
            "\u001b[0;32m<ipython-input-12-8c6d9d2b222e>\u001b[0m in \u001b[0;36m<module>\u001b[0;34m()\u001b[0m\n\u001b[0;32m----> 1\u001b[0;31m \u001b[0mint\u001b[0m\u001b[0;34m(\u001b[0m\u001b[0;34m'12.3'\u001b[0m\u001b[0;34m)\u001b[0m\u001b[0;34m\u001b[0m\u001b[0;34m\u001b[0m\u001b[0m\n\u001b[0m",
            "\u001b[0;31mValueError\u001b[0m: invalid literal for int() with base 10: '12.3'"
          ]
        }
      ],
      "source": [
        "int('12.3')"
      ]
    },
    {
      "cell_type": "markdown",
      "metadata": {
        "id": "sQBUtgxwopMU"
      },
      "source": [
        "Going in the other direction, you can convert any type of value to a string using `str`:"
      ]
    },
    {
      "cell_type": "code",
      "execution_count": 13,
      "metadata": {
        "id": "LwxbV4AbopMU",
        "outputId": "5d41a350-68a7-443f-f021-135b16446116",
        "colab": {
          "base_uri": "https://localhost:8080/",
          "height": 35
        }
      },
      "outputs": [
        {
          "output_type": "execute_result",
          "data": {
            "text/plain": [
              "'123'"
            ],
            "application/vnd.google.colaboratory.intrinsic+json": {
              "type": "string"
            }
          },
          "metadata": {},
          "execution_count": 13
        }
      ],
      "source": [
        "str(123)"
      ]
    },
    {
      "cell_type": "code",
      "execution_count": 14,
      "metadata": {
        "id": "TAjJozhxopMU",
        "outputId": "302334fb-f265-4a1b-9f24-4e0ba8d9ee1c",
        "colab": {
          "base_uri": "https://localhost:8080/",
          "height": 35
        }
      },
      "outputs": [
        {
          "output_type": "execute_result",
          "data": {
            "text/plain": [
              "'12.3'"
            ],
            "application/vnd.google.colaboratory.intrinsic+json": {
              "type": "string"
            }
          },
          "metadata": {},
          "execution_count": 14
        }
      ],
      "source": [
        "str(12.3)"
      ]
    },
    {
      "cell_type": "markdown",
      "metadata": {
        "id": "QdQq-wL4opMU"
      },
      "source": [
        "**Exercise**: When personal names are stored in a database, they are often stored in three variables: a given name, a family name, and sometimes a middle name.  For example, a list of great rock drummers might include:"
      ]
    },
    {
      "cell_type": "code",
      "execution_count": 15,
      "metadata": {
        "id": "2ndh5uHLopMU"
      },
      "outputs": [],
      "source": [
        "given = 'Neil'\n",
        "middle = 'Ellwood'\n",
        "family = 'Peart'"
      ]
    },
    {
      "cell_type": "markdown",
      "metadata": {
        "id": "fXYV_FnOopMV"
      },
      "source": [
        "But names are often displayed different ways in different contexts.  For example, the first time you mention someone in an article, you might give all three names, like \"Neil Ellwood Peart\".  But in the index of a book, you might put the family name first, like \"Peart, Neil Ellwood\".\n",
        "\n",
        "Write Python expressions that use the variables `given`, `middle`, and `family` to display Neil Peart's name in these two formats. "
      ]
    },
    {
      "cell_type": "code",
      "execution_count": 17,
      "metadata": {
        "id": "JJZJOT4EopMV",
        "outputId": "e52e3565-7576-43e3-e875-ee03c818fcae",
        "colab": {
          "base_uri": "https://localhost:8080/",
          "height": 35
        }
      },
      "outputs": [
        {
          "output_type": "execute_result",
          "data": {
            "text/plain": [
              "'Neil Ellwood Peart'"
            ],
            "application/vnd.google.colaboratory.intrinsic+json": {
              "type": "string"
            }
          },
          "metadata": {},
          "execution_count": 17
        }
      ],
      "source": [
        "given + ' ' + middle + ' ' + family"
      ]
    },
    {
      "cell_type": "code",
      "execution_count": 18,
      "metadata": {
        "id": "whpsjHwsopMV",
        "outputId": "17ad8560-fee5-4ed9-b96a-32ac22df7887",
        "colab": {
          "base_uri": "https://localhost:8080/",
          "height": 35
        }
      },
      "outputs": [
        {
          "output_type": "execute_result",
          "data": {
            "text/plain": [
              "'Peart, Neil Ellwood'"
            ],
            "application/vnd.google.colaboratory.intrinsic+json": {
              "type": "string"
            }
          },
          "metadata": {},
          "execution_count": 18
        }
      ],
      "source": [
        "'{}, {} {}'.format(family, given, middle)"
      ]
    },
    {
      "cell_type": "markdown",
      "metadata": {
        "id": "Xm3dvWT7opMV"
      },
      "source": [
        "## Dates and Times\n",
        "\n",
        "If you read data from a file, you might also find that dates and times are represented with strings."
      ]
    },
    {
      "cell_type": "code",
      "execution_count": 19,
      "metadata": {
        "id": "3eJtzBZTopMV"
      },
      "outputs": [],
      "source": [
        "not_really_a_date = 'June 4, 1989'"
      ]
    },
    {
      "cell_type": "markdown",
      "metadata": {
        "id": "2MFj3GnMopMV"
      },
      "source": [
        "To confirm that this value is a string, we can use the `type` function, which takes a value and reports its type."
      ]
    },
    {
      "cell_type": "code",
      "execution_count": 20,
      "metadata": {
        "id": "0Ou0SwikopMW",
        "outputId": "9414b2f1-992e-4503-e545-4ce780d77127",
        "colab": {
          "base_uri": "https://localhost:8080/"
        }
      },
      "outputs": [
        {
          "output_type": "execute_result",
          "data": {
            "text/plain": [
              "str"
            ]
          },
          "metadata": {},
          "execution_count": 20
        }
      ],
      "source": [
        "type(not_really_a_date)"
      ]
    },
    {
      "cell_type": "markdown",
      "metadata": {
        "id": "thPB-2oBopMW"
      },
      "source": [
        "`str` indicates that the value of `not_really_a_date` is a string.\n",
        "\n",
        "We get the same result with `not_really_a_time`, below:"
      ]
    },
    {
      "cell_type": "code",
      "execution_count": 21,
      "metadata": {
        "id": "-PuhpZ11opMW",
        "outputId": "df787694-5b6a-45d1-fd21-0101f45b0322",
        "colab": {
          "base_uri": "https://localhost:8080/"
        }
      },
      "outputs": [
        {
          "output_type": "execute_result",
          "data": {
            "text/plain": [
              "str"
            ]
          },
          "metadata": {},
          "execution_count": 21
        }
      ],
      "source": [
        "not_really_a_time = '6:30:00'\n",
        "type(not_really_a_time)"
      ]
    },
    {
      "cell_type": "markdown",
      "metadata": {
        "id": "4p0YxCVpopMW"
      },
      "source": [
        "Strings that represent dates and times a readable for people, but they are not useful for computation.\n",
        "\n",
        "Fortunately, Python provides libraries for working with date and time data; the one we'll use is called Pandas.\n",
        "As always, we have to import a library before we use it; it is conventional to import Pandas with the abbreviated name `pd`:"
      ]
    },
    {
      "cell_type": "code",
      "execution_count": 22,
      "metadata": {
        "id": "LAfP-pyaopMW"
      },
      "outputs": [],
      "source": [
        "import pandas as pd"
      ]
    },
    {
      "cell_type": "markdown",
      "metadata": {
        "id": "E8XoNMMXopMW"
      },
      "source": [
        "Pandas provides a type called `Timestamp`, which represents a date and time.\n",
        "\n",
        "It also provides a function called `Timestamp`, which we can use to convert a string to a `Timestamp`:"
      ]
    },
    {
      "cell_type": "code",
      "execution_count": 23,
      "metadata": {
        "id": "NAvFgui6opMW",
        "outputId": "636cb6fd-71d5-40ea-fa42-345eec7228a2",
        "colab": {
          "base_uri": "https://localhost:8080/"
        }
      },
      "outputs": [
        {
          "output_type": "execute_result",
          "data": {
            "text/plain": [
              "Timestamp('2022-08-03 06:30:00')"
            ]
          },
          "metadata": {},
          "execution_count": 23
        }
      ],
      "source": [
        "pd.Timestamp('6:30:00')"
      ]
    },
    {
      "cell_type": "markdown",
      "metadata": {
        "id": "nVUkZyhnopMW"
      },
      "source": [
        "Or we can do the same thing using the variable defined above."
      ]
    },
    {
      "cell_type": "code",
      "execution_count": 24,
      "metadata": {
        "id": "PCnGzLQyopMW",
        "outputId": "1f40ce94-5ec5-4338-d6a8-c1ae7268d1f5",
        "colab": {
          "base_uri": "https://localhost:8080/"
        }
      },
      "outputs": [
        {
          "output_type": "execute_result",
          "data": {
            "text/plain": [
              "Timestamp('2022-08-03 06:30:00')"
            ]
          },
          "metadata": {},
          "execution_count": 24
        }
      ],
      "source": [
        "pd.Timestamp(not_really_a_time)"
      ]
    },
    {
      "cell_type": "markdown",
      "metadata": {
        "id": "IbagMQdSopMX"
      },
      "source": [
        "In this example, the string specifies a time but no date, so Pandas fills in today's date.\n",
        "\n",
        "A `Timestamp` is a value, so you can assign it to a variable."
      ]
    },
    {
      "cell_type": "code",
      "execution_count": 25,
      "metadata": {
        "id": "6XbGLM4bopMX",
        "outputId": "1d154089-0113-4921-e629-17c27b0ea1ba",
        "colab": {
          "base_uri": "https://localhost:8080/"
        }
      },
      "outputs": [
        {
          "output_type": "execute_result",
          "data": {
            "text/plain": [
              "Timestamp('1989-06-04 00:00:00')"
            ]
          },
          "metadata": {},
          "execution_count": 25
        }
      ],
      "source": [
        "date_of_birth = pd.Timestamp('June 4, 1989')\n",
        "date_of_birth"
      ]
    },
    {
      "cell_type": "markdown",
      "metadata": {
        "id": "IGAl_pe5opMX"
      },
      "source": [
        "If the string specifies a date but no time, Pandas fills in midnight as the default time.\n",
        "\n",
        "If you assign the `Timestamp` to a variable, you can use the variable name to get the year, month, and day, like this:"
      ]
    },
    {
      "cell_type": "code",
      "execution_count": 26,
      "metadata": {
        "id": "wGicOqtmopMX",
        "outputId": "27dc7350-4651-4a19-8c4b-597a1dac0c94",
        "colab": {
          "base_uri": "https://localhost:8080/"
        }
      },
      "outputs": [
        {
          "output_type": "execute_result",
          "data": {
            "text/plain": [
              "(1989, 6, 4)"
            ]
          },
          "metadata": {},
          "execution_count": 26
        }
      ],
      "source": [
        "date_of_birth.year, date_of_birth.month, date_of_birth.day"
      ]
    },
    {
      "cell_type": "markdown",
      "metadata": {
        "id": "V1uQHHRWopMY"
      },
      "source": [
        "You can also get the name of the month and the day of the week."
      ]
    },
    {
      "cell_type": "code",
      "execution_count": 27,
      "metadata": {
        "id": "pucwLxz0opMY",
        "outputId": "b96adf69-913b-4997-f7d0-c8a804731019",
        "colab": {
          "base_uri": "https://localhost:8080/"
        }
      },
      "outputs": [
        {
          "output_type": "execute_result",
          "data": {
            "text/plain": [
              "('Sunday', 'June')"
            ]
          },
          "metadata": {},
          "execution_count": 27
        }
      ],
      "source": [
        "date_of_birth.day_name(), date_of_birth.month_name()"
      ]
    },
    {
      "cell_type": "markdown",
      "metadata": {
        "id": "lnjib9wtopMY"
      },
      "source": [
        "`Timestamp` provides a function called `now` that returns the current date and time."
      ]
    },
    {
      "cell_type": "code",
      "execution_count": 28,
      "metadata": {
        "id": "8MsHHkW7opMY",
        "outputId": "485688c6-923b-4e58-fb58-e88900089f2f",
        "colab": {
          "base_uri": "https://localhost:8080/"
        }
      },
      "outputs": [
        {
          "output_type": "execute_result",
          "data": {
            "text/plain": [
              "Timestamp('2022-08-03 09:28:22.233868')"
            ]
          },
          "metadata": {},
          "execution_count": 28
        }
      ],
      "source": [
        "now = pd.Timestamp.now()\n",
        "now"
      ]
    },
    {
      "cell_type": "markdown",
      "metadata": {
        "id": "_qWh_XexopMZ"
      },
      "source": [
        "**Exercise:** Use the value of `now` to display the name of the current month and day of the week."
      ]
    },
    {
      "cell_type": "code",
      "execution_count": 29,
      "metadata": {
        "id": "-UuVx8F0opMZ",
        "outputId": "dfb3ce41-e493-4430-e9e1-fed5a4a9c818",
        "colab": {
          "base_uri": "https://localhost:8080/"
        }
      },
      "outputs": [
        {
          "output_type": "execute_result",
          "data": {
            "text/plain": [
              "('August', 'Wednesday')"
            ]
          },
          "metadata": {},
          "execution_count": 29
        }
      ],
      "source": [
        "now.month_name(), now.day_name()"
      ]
    },
    {
      "cell_type": "markdown",
      "metadata": {
        "id": "2DjeOWCnopMZ"
      },
      "source": [
        "## Timedelta\n",
        "\n",
        "`Timestamp` values support some arithmetic operations.\n",
        "For example, you can compute the difference between two `Timestamp` objects:"
      ]
    },
    {
      "cell_type": "code",
      "execution_count": 30,
      "metadata": {
        "id": "rGTw-DUpopMZ",
        "outputId": "08e8c956-3cf1-4952-b240-05d294e03d90",
        "colab": {
          "base_uri": "https://localhost:8080/"
        }
      },
      "outputs": [
        {
          "output_type": "execute_result",
          "data": {
            "text/plain": [
              "Timedelta('12113 days 09:28:22.233868')"
            ]
          },
          "metadata": {},
          "execution_count": 30
        }
      ],
      "source": [
        "age = now - date_of_birth\n",
        "age"
      ]
    },
    {
      "cell_type": "markdown",
      "metadata": {
        "id": "AmwLFr7bopMa"
      },
      "source": [
        "The result is a `Timedelta` that represents the current age of someone born on `date_of_birth`.\n",
        "The `Timedelta` contains `components` that store the number of days, hours, etc. between the two `Timestamp` values."
      ]
    },
    {
      "cell_type": "code",
      "execution_count": 31,
      "metadata": {
        "id": "i0ZjrM7ropMb",
        "outputId": "8c4b88b8-dd78-4164-f637-ae474c234941",
        "colab": {
          "base_uri": "https://localhost:8080/"
        }
      },
      "outputs": [
        {
          "output_type": "execute_result",
          "data": {
            "text/plain": [
              "Components(days=12113, hours=9, minutes=28, seconds=22, milliseconds=233, microseconds=868, nanoseconds=0)"
            ]
          },
          "metadata": {},
          "execution_count": 31
        }
      ],
      "source": [
        "age.components"
      ]
    },
    {
      "cell_type": "markdown",
      "metadata": {
        "id": "iHrkNs4kopMb"
      },
      "source": [
        "You can get one of the components like this:"
      ]
    },
    {
      "cell_type": "code",
      "execution_count": 32,
      "metadata": {
        "id": "q2or405bopMc",
        "outputId": "56290543-ec04-46d3-f92a-989fcca1b5e2",
        "colab": {
          "base_uri": "https://localhost:8080/"
        }
      },
      "outputs": [
        {
          "output_type": "execute_result",
          "data": {
            "text/plain": [
              "12113"
            ]
          },
          "metadata": {},
          "execution_count": 32
        }
      ],
      "source": [
        "age.days"
      ]
    },
    {
      "cell_type": "markdown",
      "metadata": {
        "id": "KJ8ZZ4jpopMc"
      },
      "source": [
        "The biggest component of `Timedelta` is days, not years, because days are well defined and years are problematic.\n",
        "\n",
        "Most years are 365 days, but some are 366.  The average calendar year is 365.24 days, which is a very good approximation of a solar year, but it is not exact (see <https://pumas.jpl.nasa.gov/files/04_21_97_1.pdf>).\n",
        "\n",
        "One way to compute age in years is to divide age in days by 365.24:"
      ]
    },
    {
      "cell_type": "code",
      "execution_count": 33,
      "metadata": {
        "id": "1SwtcJPqopMc",
        "outputId": "65e5c280-e32e-484f-f8f8-5ade0bb7fda2",
        "colab": {
          "base_uri": "https://localhost:8080/"
        }
      },
      "outputs": [
        {
          "output_type": "execute_result",
          "data": {
            "text/plain": [
              "33.16449457890702"
            ]
          },
          "metadata": {},
          "execution_count": 33
        }
      ],
      "source": [
        "age.days / 365.24"
      ]
    },
    {
      "cell_type": "markdown",
      "metadata": {
        "id": "BI7QxkwUopMe"
      },
      "source": [
        "But people usually report their ages in integer years.  We can use the Numpy `floor` function to round down:"
      ]
    },
    {
      "cell_type": "code",
      "execution_count": 34,
      "metadata": {
        "id": "nYGn1MPWopMe",
        "outputId": "4b189c93-11fd-47da-e87c-20770e4e8c06",
        "colab": {
          "base_uri": "https://localhost:8080/"
        }
      },
      "outputs": [
        {
          "output_type": "execute_result",
          "data": {
            "text/plain": [
              "33.0"
            ]
          },
          "metadata": {},
          "execution_count": 34
        }
      ],
      "source": [
        "import numpy as np\n",
        "\n",
        "np.floor(age.days / 365.24)"
      ]
    },
    {
      "cell_type": "markdown",
      "metadata": {
        "id": "gy-eVeNEopMe"
      },
      "source": [
        "Or the `ceil` function (which stands for \"ceiling\") to round up:"
      ]
    },
    {
      "cell_type": "code",
      "execution_count": 35,
      "metadata": {
        "id": "pJvwUMvIopMf",
        "outputId": "53018a19-dadf-4436-997d-0c2b2e082419",
        "colab": {
          "base_uri": "https://localhost:8080/"
        }
      },
      "outputs": [
        {
          "output_type": "execute_result",
          "data": {
            "text/plain": [
              "34.0"
            ]
          },
          "metadata": {},
          "execution_count": 35
        }
      ],
      "source": [
        "np.ceil(age.days / 365.24)"
      ]
    },
    {
      "cell_type": "markdown",
      "metadata": {
        "id": "tRN4Jx98opMf"
      },
      "source": [
        "We can also compare `Timestamp` values to see which comes first.\n",
        "For example, let's see if a person with a given birthdate has already had a birthday this year.\n",
        "Here's a new `Timestamp` with the year from `now` and the month and day from `date_of_birth`."
      ]
    },
    {
      "cell_type": "code",
      "execution_count": 36,
      "metadata": {
        "id": "J0BhJmmeopMf",
        "outputId": "a00a7083-7c01-48c0-d0ab-650218be5ce4",
        "colab": {
          "base_uri": "https://localhost:8080/"
        }
      },
      "outputs": [
        {
          "output_type": "execute_result",
          "data": {
            "text/plain": [
              "Timestamp('2022-06-04 00:00:00')"
            ]
          },
          "metadata": {},
          "execution_count": 36
        }
      ],
      "source": [
        "bday_this_year = pd.Timestamp(now.year, \n",
        "                              date_of_birth.month, \n",
        "                              date_of_birth.day)\n",
        "bday_this_year"
      ]
    },
    {
      "cell_type": "markdown",
      "metadata": {
        "id": "RTKQR3iXopMf"
      },
      "source": [
        "The result represents the person's birthday this year.  Now we can use the `>` operator to check whether `now` is later than the birthday:"
      ]
    },
    {
      "cell_type": "code",
      "execution_count": 37,
      "metadata": {
        "id": "BRT7ipXZopMf",
        "outputId": "98862eac-2cc0-4d42-9397-6f46e4f26148",
        "colab": {
          "base_uri": "https://localhost:8080/"
        }
      },
      "outputs": [
        {
          "output_type": "execute_result",
          "data": {
            "text/plain": [
              "True"
            ]
          },
          "metadata": {},
          "execution_count": 37
        }
      ],
      "source": [
        "now > bday_this_year"
      ]
    },
    {
      "cell_type": "markdown",
      "metadata": {
        "id": "FeFIp3jVopMf"
      },
      "source": [
        "The result is either `True` or `False`.\n",
        "These values belong to a type called `bool`, short for \"Boolean algebra\", which is a branch of algebra where all values are either true or false. "
      ]
    },
    {
      "cell_type": "code",
      "execution_count": 38,
      "metadata": {
        "id": "p9upe_WLopMf",
        "outputId": "17b568c6-71c1-4c81-d08d-75cb46ce286a",
        "colab": {
          "base_uri": "https://localhost:8080/"
        }
      },
      "outputs": [
        {
          "output_type": "execute_result",
          "data": {
            "text/plain": [
              "bool"
            ]
          },
          "metadata": {},
          "execution_count": 38
        }
      ],
      "source": [
        "type(True)"
      ]
    },
    {
      "cell_type": "code",
      "execution_count": 39,
      "metadata": {
        "id": "RrprXXo-opMg",
        "outputId": "b1a2ed38-154e-404b-e4db-133a42fdc3e7",
        "colab": {
          "base_uri": "https://localhost:8080/"
        }
      },
      "outputs": [
        {
          "output_type": "execute_result",
          "data": {
            "text/plain": [
              "bool"
            ]
          },
          "metadata": {},
          "execution_count": 39
        }
      ],
      "source": [
        "type(False)"
      ]
    },
    {
      "cell_type": "markdown",
      "metadata": {
        "id": "1a9dXiSTopMg"
      },
      "source": [
        "**Exercise:** Any two people with different birthdays have a \"Double Day\" when one is twice as old as the other.\n",
        "Suppose you are given two `Timestamp` values, `d1` and `d2`, that represent birthdays for two people.  Use `Timestamp` arithmetic to compute their double day.\n",
        "With the following dates, the result should be December 19, 2009."
      ]
    },
    {
      "cell_type": "code",
      "execution_count": 41,
      "metadata": {
        "id": "BfBcyzNHopMg"
      },
      "outputs": [],
      "source": [
        "d1 = pd.Timestamp('2003-07-12')\n",
        "d2 = pd.Timestamp('2006-09-30')"
      ]
    },
    {
      "cell_type": "code",
      "execution_count": 47,
      "metadata": {
        "id": "5F-Om22YopMh",
        "outputId": "c401c1f5-2df9-4e83-f8ae-05c9d92181e5",
        "colab": {
          "base_uri": "https://localhost:8080/"
        }
      },
      "outputs": [
        {
          "output_type": "stream",
          "name": "stdout",
          "text": [
            "1176 days 00:00:00\n",
            "2009-12-19 00:00:00\n"
          ]
        }
      ],
      "source": [
        "# day such that number of days between\n",
        "# d1 and d2, times 2, equals d1 + num days between\n",
        "days_between = d2 - d1\n",
        "print(days_between)\n",
        "double_day = d1 + 2*days_between\n",
        "print(double_day)"
      ]
    },
    {
      "cell_type": "markdown",
      "metadata": {
        "id": "KlVLvLumopMh"
      },
      "source": [
        "## Location\n",
        "\n",
        "There are many ways to represent geographical locations, but the most common, at least for global data, is latitude and longitude.\n",
        "\n",
        "When stored as strings, latitude and longitude are expressed in degrees with compass directions N, S, E, and W.  For example, this string represents the location of Boston, MA, USA:"
      ]
    },
    {
      "cell_type": "code",
      "execution_count": 48,
      "metadata": {
        "id": "mozXRktVopMh"
      },
      "outputs": [],
      "source": [
        "lat_lon_string = '42.3601° N, 71.0589° W'"
      ]
    },
    {
      "cell_type": "markdown",
      "metadata": {
        "id": "xYXstqcNopMh"
      },
      "source": [
        "When we compute with location information, we use floating-point numbers, with \n",
        "\n",
        "* Positive latitude for the northern hemisphere, negative latitude for the southern hemisphere, and \n",
        "\n",
        "* Positive longitude for the eastern hemisphere and negative longitude for the western hemisphere.\n",
        "\n",
        "Of course, the choice of the origin and the orientation of positive and negative are arbitrary choices that were made for historical reasons.  We might not be able to change conventions like these, but we should be aware that they are conventions.\n",
        "\n",
        "Here's how we might represent the location of Boston with two variables."
      ]
    },
    {
      "cell_type": "code",
      "execution_count": 49,
      "metadata": {
        "id": "IsCYUTBQopMh"
      },
      "outputs": [],
      "source": [
        "lat = 42.3601\n",
        "lon = -71.0589"
      ]
    },
    {
      "cell_type": "markdown",
      "metadata": {
        "id": "ny4z_WX8opMh"
      },
      "source": [
        "It is also possible to combine two numbers into a composite value and assign it to a single variable:"
      ]
    },
    {
      "cell_type": "code",
      "execution_count": 50,
      "metadata": {
        "id": "zkQ5BrTOopMh",
        "outputId": "b44af110-223e-42d3-a639-654002eb7636",
        "colab": {
          "base_uri": "https://localhost:8080/"
        }
      },
      "outputs": [
        {
          "output_type": "execute_result",
          "data": {
            "text/plain": [
              "(42.3601, -71.0589)"
            ]
          },
          "metadata": {},
          "execution_count": 50
        }
      ],
      "source": [
        "boston = lat, lon\n",
        "boston"
      ]
    },
    {
      "cell_type": "markdown",
      "metadata": {
        "id": "r7MfcKcCopMi"
      },
      "source": [
        "The type of this variable is `tuple`, which is a mathematical term for a value that contains a sequence of elements.  Math people pronounce it \"tuh' ple\", but computational people usually say \"too' ple\".  Take your pick."
      ]
    },
    {
      "cell_type": "code",
      "execution_count": 51,
      "metadata": {
        "id": "soTJvTKOopMi",
        "outputId": "bd04a334-731e-48c2-aa56-a9bba9fb4d61",
        "colab": {
          "base_uri": "https://localhost:8080/"
        }
      },
      "outputs": [
        {
          "output_type": "execute_result",
          "data": {
            "text/plain": [
              "tuple"
            ]
          },
          "metadata": {},
          "execution_count": 51
        }
      ],
      "source": [
        "type(boston)"
      ]
    },
    {
      "cell_type": "markdown",
      "metadata": {
        "id": "BbIXVtAxopMi"
      },
      "source": [
        "If you have a tuple with two elements, you can assign them to two variables, like this:"
      ]
    },
    {
      "cell_type": "code",
      "execution_count": 52,
      "metadata": {
        "id": "vTGuREDbopMi",
        "outputId": "d05f1c98-e295-4488-cb6f-03e149a6561b",
        "colab": {
          "base_uri": "https://localhost:8080/"
        }
      },
      "outputs": [
        {
          "output_type": "execute_result",
          "data": {
            "text/plain": [
              "42.3601"
            ]
          },
          "metadata": {},
          "execution_count": 52
        }
      ],
      "source": [
        "y, x = boston\n",
        "y"
      ]
    },
    {
      "cell_type": "code",
      "execution_count": 53,
      "metadata": {
        "id": "s-3s9ei2opMj",
        "outputId": "59e6a948-402f-4be8-88a3-e7459b1e8c94",
        "colab": {
          "base_uri": "https://localhost:8080/"
        }
      },
      "outputs": [
        {
          "output_type": "execute_result",
          "data": {
            "text/plain": [
              "-71.0589"
            ]
          },
          "metadata": {},
          "execution_count": 53
        }
      ],
      "source": [
        "x"
      ]
    },
    {
      "cell_type": "markdown",
      "metadata": {
        "id": "nxaDm_82opMj"
      },
      "source": [
        "Notice that I assigned latitude to `y` and longitude to `x`, because a `y` coordinate usually goes up and down like latitude, and an `x` coordinate usually goes side-to-side like longitude."
      ]
    },
    {
      "cell_type": "markdown",
      "metadata": {
        "id": "OoROceFdopMj"
      },
      "source": [
        "**Exercise:** Find the latitude and longitude of the place you were born or someplace you think of as your \"home town\".  [You can use this web page to look it up](https://www.latlong.net/).\n",
        "Make a tuple of floating-point numbers that represents that location."
      ]
    },
    {
      "cell_type": "code",
      "execution_count": 54,
      "metadata": {
        "id": "mqzmWFj7opMj",
        "outputId": "b50b0789-a3a4-417d-ea25-38b720cca24a",
        "colab": {
          "base_uri": "https://localhost:8080/"
        }
      },
      "outputs": [
        {
          "output_type": "stream",
          "name": "stdout",
          "text": [
            "(-37.815338, 144.963226)\n"
          ]
        }
      ],
      "source": [
        "melb_lat = -37.815338\n",
        "melb_long = 144.963226\n",
        "melb = melb_lat, melb_long\n",
        "print(melb)"
      ]
    },
    {
      "cell_type": "markdown",
      "metadata": {
        "id": "WH4bBc-popMj"
      },
      "source": [
        "## Distance\n",
        "\n",
        "If you are given two tuples that represent locations, you can compute the approximate distance between them, along the surface of the globe, using the haversine function.\n",
        "If you are curious about it, [you can read an explanation in this article](https://janakiev.com/blog/gps-points-distance-python/).\n",
        "To estimate a haversine distance, we have to compute the haversine function, which is defined:\n",
        "\n",
        "$\\mathrm{haversine}(\\theta)=\\sin^2(\\theta/2)$\n",
        "\n",
        "Where $\\theta$ is an angle in radians.\n",
        "We can compute this function in Python like this:"
      ]
    },
    {
      "cell_type": "code",
      "execution_count": 55,
      "metadata": {
        "id": "HV7wR9QMopMj",
        "outputId": "ed1d24d6-6857-4be5-8307-ec5061e7c99f",
        "colab": {
          "base_uri": "https://localhost:8080/"
        }
      },
      "outputs": [
        {
          "output_type": "execute_result",
          "data": {
            "text/plain": [
              "0.22984884706593015"
            ]
          },
          "metadata": {},
          "execution_count": 55
        }
      ],
      "source": [
        "import numpy as np\n",
        "\n",
        "θ = 1\n",
        "np.sin(θ/2)**2"
      ]
    },
    {
      "cell_type": "markdown",
      "metadata": {
        "id": "lVaj19r_opMj"
      },
      "source": [
        "You can use Greek letters in variable names, but there is currently no way to type them in Jupyter/Colab, so I usually copy them from a web page and paste them in.\n",
        "\n",
        "To avoid the inconvenience, it is more common to write out letter names, like this:"
      ]
    },
    {
      "cell_type": "code",
      "execution_count": 56,
      "metadata": {
        "id": "i3_MG8kNopMj",
        "outputId": "be323351-9f78-485b-e457-1d8a05916591",
        "colab": {
          "base_uri": "https://localhost:8080/"
        }
      },
      "outputs": [
        {
          "output_type": "execute_result",
          "data": {
            "text/plain": [
              "0.22984884706593015"
            ]
          },
          "metadata": {},
          "execution_count": 56
        }
      ],
      "source": [
        "theta = 1\n",
        "np.sin(theta/2)**2"
      ]
    },
    {
      "cell_type": "markdown",
      "metadata": {
        "id": "ub1UBYy5opMj"
      },
      "source": [
        "Remember that the operator for exponentiation is `**`.  \n",
        "In some other languages it's `^`, which is also an operator in Python, but it performs another operation altogether."
      ]
    },
    {
      "cell_type": "markdown",
      "metadata": {
        "tags": [],
        "id": "IkLv2OLiopMj"
      },
      "source": [
        "**Exercise:** Try out the previous expression, replacing `**` with `^`, and see what error message you get.  Remember this message in case you see it in the future!"
      ]
    },
    {
      "cell_type": "code",
      "execution_count": null,
      "metadata": {
        "id": "aeZacvsMopMk"
      },
      "outputs": [],
      "source": [
        "# Solution goes here"
      ]
    },
    {
      "cell_type": "markdown",
      "metadata": {
        "id": "gM_Qx8-mopMk"
      },
      "source": [
        "## Defining Functions\n",
        "\n",
        "At this point you don't have to know how to define a new function.  But you will see function definitions, so I want to explain the basics now.\n",
        "\n",
        "If we are planning to use an expression like `np.sin(theta/2)**2` more than a few times, we can define a new function that computes it, like this:"
      ]
    },
    {
      "cell_type": "code",
      "execution_count": 57,
      "metadata": {
        "id": "agy30L-dopMk"
      },
      "outputs": [],
      "source": [
        "def haversine(theta):\n",
        "    \"\"\"Compute the haversine function of theta.\"\"\"\n",
        "    return np.sin(theta/2)**2"
      ]
    },
    {
      "cell_type": "markdown",
      "metadata": {
        "id": "_iVBch5zopMk"
      },
      "source": [
        "On the first line, `def` indicates that we are defining a function.\n",
        "\n",
        "The second line is a \"triple-quoted string\", which describes what the function does, but it has no effect when the program runs.\n",
        "\n",
        "On the third line, `return` indicates the result of the function.\n",
        "\n",
        "When you run the previous cell, it creates a new variable called `haversine`.  You can display its value like this:"
      ]
    },
    {
      "cell_type": "code",
      "execution_count": 58,
      "metadata": {
        "id": "aBY8QifPopMk",
        "outputId": "04f86b17-f509-45d2-9f52-75224839f00d",
        "colab": {
          "base_uri": "https://localhost:8080/"
        }
      },
      "outputs": [
        {
          "output_type": "execute_result",
          "data": {
            "text/plain": [
              "<function __main__.haversine>"
            ]
          },
          "metadata": {},
          "execution_count": 58
        }
      ],
      "source": [
        "haversine"
      ]
    },
    {
      "cell_type": "markdown",
      "metadata": {
        "id": "f_JQnv28opMk"
      },
      "source": [
        "And you can display its type like this:"
      ]
    },
    {
      "cell_type": "code",
      "execution_count": 59,
      "metadata": {
        "id": "Gr-H6FN6opMk",
        "outputId": "259836ed-5195-4408-9418-95b94559fb55",
        "colab": {
          "base_uri": "https://localhost:8080/"
        }
      },
      "outputs": [
        {
          "output_type": "execute_result",
          "data": {
            "text/plain": [
              "function"
            ]
          },
          "metadata": {},
          "execution_count": 59
        }
      ],
      "source": [
        "type(haversine)"
      ]
    },
    {
      "cell_type": "markdown",
      "metadata": {
        "id": "vpvSUCMTopMk"
      },
      "source": [
        "So `haversine` is a variable that refers to a function.\n",
        "To run the function and compute a result, we have to \"call\" the function and provide a value for `theta`:"
      ]
    },
    {
      "cell_type": "code",
      "execution_count": 60,
      "metadata": {
        "id": "8XDASyF-opMk",
        "outputId": "a103998d-8f76-4fca-9d94-508860a6452f",
        "colab": {
          "base_uri": "https://localhost:8080/"
        }
      },
      "outputs": [
        {
          "output_type": "execute_result",
          "data": {
            "text/plain": [
              "0.22984884706593015"
            ]
          },
          "metadata": {},
          "execution_count": 60
        }
      ],
      "source": [
        "haversine(1)"
      ]
    },
    {
      "cell_type": "markdown",
      "metadata": {
        "id": "ih-O8LvVopMk"
      },
      "source": [
        "When you define a function, you create a new variable.  But the function doesn't actually run until you call it."
      ]
    },
    {
      "cell_type": "markdown",
      "metadata": {
        "id": "0VAN0_geopMk"
      },
      "source": [
        "## Haversine Distance\n",
        "\n",
        "Now we can use `haversine` as part of a function that computes haversine distances.\n",
        "I won't explain this function in as much detail, but if you read through it, you might get a sense of how it works."
      ]
    },
    {
      "cell_type": "code",
      "execution_count": 61,
      "metadata": {
        "id": "tciGQMnSopMl"
      },
      "outputs": [],
      "source": [
        "def haversine_distance(coord1, coord2):\n",
        "    \"\"\"Haversine distance between two locations.\n",
        "    \n",
        "    coord1: lat-lon as tuple of float \n",
        "    coord2: lat-lon as tuple of float\n",
        "    \n",
        "    returns: distance in km\n",
        "    \"\"\"\n",
        "    R = 6372.8  # Earth radius in km\n",
        "    lat1, lon1 = coord1\n",
        "    lat2, lon2 = coord2\n",
        "    \n",
        "    phi1, phi2 = np.radians(lat1), np.radians(lat2) \n",
        "    dphi       = np.radians(lat2 - lat1)\n",
        "    dlambda    = np.radians(lon2 - lon1)\n",
        "    \n",
        "    a = haversine(dphi) + np.cos(phi1)*np.cos(phi2)*haversine(dlambda)\n",
        "    \n",
        "    distance = 2*R*np.arctan2(np.sqrt(a), np.sqrt(1 - a))\n",
        "    \n",
        "    return distance"
      ]
    },
    {
      "cell_type": "markdown",
      "metadata": {
        "id": "jQUkkCI2opMs"
      },
      "source": [
        "When we call this function, we provide two tuples, each representing a latitude and a longitude.\n",
        "We already have a tuple that represents the location of Boston.\n",
        "Now here's a tuple that represents the location of London, England, UK:"
      ]
    },
    {
      "cell_type": "code",
      "execution_count": 62,
      "metadata": {
        "id": "tc5gjW8EopMt"
      },
      "outputs": [],
      "source": [
        "london = 51.5074, -0.1278"
      ]
    },
    {
      "cell_type": "markdown",
      "metadata": {
        "id": "tLMEQgpBopMt"
      },
      "source": [
        "And here's the haversine distance between Boston and London."
      ]
    },
    {
      "cell_type": "code",
      "execution_count": 63,
      "metadata": {
        "id": "h4CLWpncopMt",
        "outputId": "8c193816-73e4-49a5-f740-504291eb5fcb",
        "colab": {
          "base_uri": "https://localhost:8080/"
        }
      },
      "outputs": [
        {
          "output_type": "execute_result",
          "data": {
            "text/plain": [
              "5265.656325981015"
            ]
          },
          "metadata": {},
          "execution_count": 63
        }
      ],
      "source": [
        "haversine_distance(boston, london)"
      ]
    },
    {
      "cell_type": "markdown",
      "metadata": {
        "id": "66x0ygxSopMt"
      },
      "source": [
        "The actual geographic distance is slightly different because Earth is not a perfect sphere.  But the error of this estimate is less than 1%."
      ]
    },
    {
      "cell_type": "markdown",
      "metadata": {
        "id": "iM8qIJalopMt"
      },
      "source": [
        "**Exercise:** Use `haversine_distance` to compute the distance between Boston and your home town from the previous exercise.\n",
        "\n",
        "If possible, use an online map to check the result."
      ]
    },
    {
      "cell_type": "code",
      "execution_count": 64,
      "metadata": {
        "id": "r0O7lHKQopMu",
        "outputId": "8edffad4-e06d-4249-a2b4-fdbf5e5855f5",
        "colab": {
          "base_uri": "https://localhost:8080/"
        }
      },
      "outputs": [
        {
          "output_type": "execute_result",
          "data": {
            "text/plain": [
              "16937.639726684567"
            ]
          },
          "metadata": {},
          "execution_count": 64
        }
      ],
      "source": [
        "haversine_distance(boston, melb)"
      ]
    },
    {
      "cell_type": "markdown",
      "metadata": {
        "id": "gzc9g8mYopMu"
      },
      "source": [
        "## Geopandas\n",
        "\n",
        "Python provides libraries for working with geographical data.  One of the most popular is Geopandas, which is based on another library called Shapely. \n",
        "Shapely provides `Point` and `LineString` values, which we'll use to represent geographic locations and lines between them."
      ]
    },
    {
      "cell_type": "code",
      "execution_count": 65,
      "metadata": {
        "id": "8SnKQfg9opMu"
      },
      "outputs": [],
      "source": [
        "from shapely.geometry import Point, LineString"
      ]
    },
    {
      "cell_type": "markdown",
      "metadata": {
        "id": "s0FO-vaNopMu"
      },
      "source": [
        "We can use the tuples we defined in the previous section to create Shapely `Point` values, but we have to reverse the order of the coordinates, providing them in $x$-$y$ order rather than `lat`-`lon` order, because that's the order the `Point` function expects."
      ]
    },
    {
      "cell_type": "code",
      "execution_count": 66,
      "metadata": {
        "id": "FKIpy00SopMu"
      },
      "outputs": [],
      "source": [
        "lat, lon = boston\n",
        "p1 = Point(lon, lat)"
      ]
    },
    {
      "cell_type": "code",
      "execution_count": 67,
      "metadata": {
        "id": "jBVzjY3HopMu"
      },
      "outputs": [],
      "source": [
        "lat, lon = london\n",
        "p2 = Point(lon, lat)"
      ]
    },
    {
      "cell_type": "code",
      "source": [
        "lat, lon = melb\n",
        "p3 = Point(lon, lat)"
      ],
      "metadata": {
        "id": "EUmvYbptHioW"
      },
      "execution_count": 78,
      "outputs": []
    },
    {
      "cell_type": "markdown",
      "metadata": {
        "tags": [],
        "id": "Ok5PXGZZopMu"
      },
      "source": [
        "If we display a `Point` value, we get a graphical representation, but not a very useful one."
      ]
    },
    {
      "cell_type": "code",
      "execution_count": 68,
      "metadata": {
        "tags": [],
        "id": "G0PHFtPaopMu",
        "outputId": "492f8a1a-8d2d-4e08-a2b5-74807f6c13fc",
        "colab": {
          "base_uri": "https://localhost:8080/",
          "height": 121
        }
      },
      "outputs": [
        {
          "output_type": "execute_result",
          "data": {
            "text/plain": [
              "<shapely.geometry.point.Point at 0x7fadde7c5b50>"
            ],
            "image/svg+xml": "<svg xmlns=\"http://www.w3.org/2000/svg\" xmlns:xlink=\"http://www.w3.org/1999/xlink\" width=\"100.0\" height=\"100.0\" viewBox=\"-72.0589 41.3601 2.0 2.0\" preserveAspectRatio=\"xMinYMin meet\"><g transform=\"matrix(1,0,0,-1,0,84.7202)\"><circle cx=\"-71.0589\" cy=\"42.3601\" r=\"0.06\" stroke=\"#555555\" stroke-width=\"0.02\" fill=\"#66cc99\" opacity=\"0.6\" /></g></svg>"
          },
          "metadata": {},
          "execution_count": 68
        }
      ],
      "source": [
        "p1"
      ]
    },
    {
      "cell_type": "markdown",
      "metadata": {
        "id": "u5UaPdU7opMu"
      },
      "source": [
        "We can use the points we just defined to create a `LineString`:"
      ]
    },
    {
      "cell_type": "code",
      "execution_count": 79,
      "metadata": {
        "id": "DMwlQQlfopMu"
      },
      "outputs": [],
      "source": [
        "line = LineString([p2, p3])"
      ]
    },
    {
      "cell_type": "markdown",
      "metadata": {
        "tags": [],
        "id": "LOVm47aWopMv"
      },
      "source": [
        "If we display the result, we get another not very useful graphical representation."
      ]
    },
    {
      "cell_type": "code",
      "execution_count": 80,
      "metadata": {
        "tags": [],
        "id": "XaZOV1m5opMv",
        "outputId": "51220a8e-55fa-4ce9-d5a7-66598daf5a7a",
        "colab": {
          "base_uri": "https://localhost:8080/",
          "height": 122
        }
      },
      "outputs": [
        {
          "output_type": "execute_result",
          "data": {
            "text/plain": [
              "<shapely.geometry.linestring.LineString at 0x7fadd4aebad0>"
            ],
            "image/svg+xml": "<svg xmlns=\"http://www.w3.org/2000/svg\" xmlns:xlink=\"http://www.w3.org/1999/xlink\" width=\"156.69830808\" height=\"100.93002007999999\" viewBox=\"-5.93144104 -43.61897904 156.69830808 100.93002007999999\" preserveAspectRatio=\"xMinYMin meet\"><g transform=\"matrix(1,0,0,-1,0,13.692062)\"><polyline fill=\"none\" stroke=\"#66cc99\" stroke-width=\"2.0\" points=\"-0.1278,51.5074 144.963226,-37.815338\" opacity=\"0.8\" /></g></svg>"
          },
          "metadata": {},
          "execution_count": 80
        }
      ],
      "source": [
        "line"
      ]
    },
    {
      "cell_type": "markdown",
      "metadata": {
        "tags": [],
        "id": "3N5wGAYjopMv"
      },
      "source": [
        "If you are running this notebook on Colab, the following cell will install Geopandas, which should only take a few seconds.  It uses features we have not seen yet; you might be able to read it and guess how it works, but you don't have to."
      ]
    },
    {
      "cell_type": "code",
      "execution_count": 71,
      "metadata": {
        "tags": [],
        "id": "6ArpzBNVopMv",
        "outputId": "520ccb88-5c3d-4b48-cb33-6f44c6d3b239",
        "colab": {
          "base_uri": "https://localhost:8080/"
        }
      },
      "outputs": [
        {
          "output_type": "stream",
          "name": "stdout",
          "text": [
            "Looking in indexes: https://pypi.org/simple, https://us-python.pkg.dev/colab-wheels/public/simple/\n",
            "Collecting geopandas\n",
            "  Downloading geopandas-0.10.2-py2.py3-none-any.whl (1.0 MB)\n",
            "\u001b[K     |████████████████████████████████| 1.0 MB 5.2 MB/s \n",
            "\u001b[?25hRequirement already satisfied: pandas>=0.25.0 in /usr/local/lib/python3.7/dist-packages (from geopandas) (1.3.5)\n",
            "Collecting fiona>=1.8\n",
            "  Downloading Fiona-1.8.21-cp37-cp37m-manylinux2014_x86_64.whl (16.7 MB)\n",
            "\u001b[K     |████████████████████████████████| 16.7 MB 421 kB/s \n",
            "\u001b[?25hCollecting pyproj>=2.2.0\n",
            "  Downloading pyproj-3.2.1-cp37-cp37m-manylinux2010_x86_64.whl (6.3 MB)\n",
            "\u001b[K     |████████████████████████████████| 6.3 MB 45.9 MB/s \n",
            "\u001b[?25hRequirement already satisfied: shapely>=1.6 in /usr/local/lib/python3.7/dist-packages (from geopandas) (1.8.2)\n",
            "Requirement already satisfied: six>=1.7 in /usr/local/lib/python3.7/dist-packages (from fiona>=1.8->geopandas) (1.15.0)\n",
            "Collecting cligj>=0.5\n",
            "  Downloading cligj-0.7.2-py3-none-any.whl (7.1 kB)\n",
            "Requirement already satisfied: certifi in /usr/local/lib/python3.7/dist-packages (from fiona>=1.8->geopandas) (2022.6.15)\n",
            "Collecting munch\n",
            "  Downloading munch-2.5.0-py2.py3-none-any.whl (10 kB)\n",
            "Requirement already satisfied: attrs>=17 in /usr/local/lib/python3.7/dist-packages (from fiona>=1.8->geopandas) (22.1.0)\n",
            "Requirement already satisfied: setuptools in /usr/local/lib/python3.7/dist-packages (from fiona>=1.8->geopandas) (57.4.0)\n",
            "Requirement already satisfied: click>=4.0 in /usr/local/lib/python3.7/dist-packages (from fiona>=1.8->geopandas) (7.1.2)\n",
            "Collecting click-plugins>=1.0\n",
            "  Downloading click_plugins-1.1.1-py2.py3-none-any.whl (7.5 kB)\n",
            "Requirement already satisfied: numpy>=1.17.3 in /usr/local/lib/python3.7/dist-packages (from pandas>=0.25.0->geopandas) (1.21.6)\n",
            "Requirement already satisfied: pytz>=2017.3 in /usr/local/lib/python3.7/dist-packages (from pandas>=0.25.0->geopandas) (2022.1)\n",
            "Requirement already satisfied: python-dateutil>=2.7.3 in /usr/local/lib/python3.7/dist-packages (from pandas>=0.25.0->geopandas) (2.8.2)\n",
            "Installing collected packages: munch, cligj, click-plugins, pyproj, fiona, geopandas\n",
            "Successfully installed click-plugins-1.1.1 cligj-0.7.2 fiona-1.8.21 geopandas-0.10.2 munch-2.5.0 pyproj-3.2.1\n"
          ]
        }
      ],
      "source": [
        "import sys\n",
        "IN_COLAB = 'google.colab' in sys.modules\n",
        "\n",
        "if IN_COLAB:\n",
        "    !pip install geopandas"
      ]
    },
    {
      "cell_type": "markdown",
      "metadata": {
        "id": "zATcdDfYopMv"
      },
      "source": [
        "Now we can use Geopandas to show these points and lines on a map.\n",
        "The following code loads a map of the world and plots it."
      ]
    },
    {
      "cell_type": "code",
      "execution_count": 82,
      "metadata": {
        "id": "gfh8VgaNopMv",
        "outputId": "934ae739-e7ca-4322-c2c6-33e7e0160f21",
        "colab": {
          "base_uri": "https://localhost:8080/",
          "height": 210
        }
      },
      "outputs": [
        {
          "output_type": "display_data",
          "data": {
            "text/plain": [
              "<Figure size 432x288 with 1 Axes>"
            ],
            "image/png": "[encoded data removed]"
          },
          "metadata": {
            "needs_background": "light"
          }
        }
      ],
      "source": [
        "import geopandas as gpd\n",
        "\n",
        "path = gpd.datasets.get_path('naturalearth_lowres')\n",
        "world = gpd.read_file(path)\n",
        "world.plot(color='white', edgecolor='gray');"
      ]
    },
    {
      "cell_type": "markdown",
      "metadata": {
        "id": "NRnybfffopMv"
      },
      "source": [
        "By default, Geopandas uses an equirectangular projection, which provides a misleading picture of relative land areas (see <https://en.wikipedia.org/wiki/Equirectangular_projection>).\n",
        "You can't make a map without making visualization decisions.\n",
        "\n",
        "Now let's put dots on the map for Boston and London.  We have to put the `Point` values and the `LineString` into a `GeoSeries`."
      ]
    },
    {
      "cell_type": "code",
      "execution_count": 83,
      "metadata": {
        "id": "X9B5sB_popMw"
      },
      "outputs": [],
      "source": [
        "t = [p2, p3, line]\n",
        "series = gpd.GeoSeries(t)"
      ]
    },
    {
      "cell_type": "markdown",
      "metadata": {
        "id": "3WQQz-ebopMw"
      },
      "source": [
        "Here's a first attempt to plot the maps and the lines together:"
      ]
    },
    {
      "cell_type": "code",
      "execution_count": 84,
      "metadata": {
        "id": "VMIMNF8XopMw",
        "outputId": "47d9ba99-432a-49b2-8866-41a165579dfa",
        "colab": {
          "base_uri": "https://localhost:8080/",
          "height": 447
        }
      },
      "outputs": [
        {
          "output_type": "display_data",
          "data": {
            "text/plain": [
              "<Figure size 432x288 with 1 Axes>"
            ],
            "image/png": "[encoded data removed]"
          },
          "metadata": {
            "needs_background": "light"
          }
        },
        {
          "output_type": "display_data",
          "data": {
            "text/plain": [
              "<Figure size 432x288 with 1 Axes>"
            ],
            "image/png": "[encoded data removed]"
          },
          "metadata": {
            "needs_background": "light"
          }
        }
      ],
      "source": [
        "# plot the map\n",
        "world.plot(color='white', edgecolor='gray')\n",
        "\n",
        "# plot Boston, London, and the line\n",
        "series.plot();"
      ]
    },
    {
      "cell_type": "markdown",
      "metadata": {
        "id": "EHiGwG2ropMx"
      },
      "source": [
        "The two plots are on different axes, which is not what we want in this case.\n",
        "\n",
        "To get the points and the map on the same axes, we have to use a function from Matplotlib, which is a visualization library we will use extensively.  We'll import it like this."
      ]
    },
    {
      "cell_type": "code",
      "execution_count": 75,
      "metadata": {
        "id": "61gBbdh0opMx"
      },
      "outputs": [],
      "source": [
        "import matplotlib.pyplot as plt"
      ]
    },
    {
      "cell_type": "markdown",
      "metadata": {
        "id": "AXF-uMRtopMx"
      },
      "source": [
        "The function is `gca`, which stands for \"get current axes\".  We can use the result to tell `plot` to put the points and lines on the current axes, rather than create a new one."
      ]
    },
    {
      "cell_type": "code",
      "execution_count": 85,
      "metadata": {
        "id": "O5RErohBopMx",
        "outputId": "edd966b7-fa77-429a-de2a-8a569b603603",
        "colab": {
          "base_uri": "https://localhost:8080/",
          "height": 209
        }
      },
      "outputs": [
        {
          "output_type": "display_data",
          "data": {
            "text/plain": [
              "<Figure size 432x288 with 1 Axes>"
            ],
            "image/png": "[encoded data removed]"
          },
          "metadata": {
            "needs_background": "light"
          }
        }
      ],
      "source": [
        "ax = plt.gca()\n",
        "world.plot(color='white', edgecolor='gray', ax=ax)\n",
        "series.plot(ax=ax);"
      ]
    },
    {
      "cell_type": "markdown",
      "metadata": {
        "tags": [],
        "id": "SVTipff9opMz"
      },
      "source": [
        "Finally, `plt` provides a function called `figure` we can use to set the figure size."
      ]
    },
    {
      "cell_type": "code",
      "execution_count": 77,
      "metadata": {
        "tags": [],
        "id": "KJOb1nf5opMz",
        "outputId": "eaee50e8-e383-4ddc-fe8c-461e9205b99d",
        "colab": {
          "base_uri": "https://localhost:8080/",
          "height": 371
        }
      },
      "outputs": [
        {
          "output_type": "display_data",
          "data": {
            "text/plain": [
              "<Figure size 864x864 with 1 Axes>"
            ],
            "image/png": "[encoded data removed]"
          },
          "metadata": {
            "needs_background": "light"
          }
        }
      ],
      "source": [
        "plt.figure(figsize=(12, 12))\n",
        "ax = plt.gca()\n",
        "\n",
        "# plot the map\n",
        "world.plot(color='white', edgecolor='gray', ax=ax)\n",
        "\n",
        "# plot Boston, London, and the line\n",
        "series.plot(ax=ax);"
      ]
    },
    {
      "cell_type": "markdown",
      "metadata": {
        "id": "p6FQOFSGopM0"
      },
      "source": [
        "There are a few features in this example I have not explained completely, but hopefully you get the idea."
      ]
    },
    {
      "cell_type": "markdown",
      "metadata": {
        "id": "7Rt9Ay5KopM0"
      },
      "source": [
        "**Exercise:** Modify the code in this section to plot a point that shows the home town you chose in a previous exercise and a line from there to Boston."
      ]
    },
    {
      "cell_type": "markdown",
      "metadata": {
        "tags": [],
        "id": "xGr06sJ-opM0"
      },
      "source": [
        "Then go to [this online survey](https://forms.gle/2LDcqxJmcWY3Q3X47) and answer the questions there."
      ]
    },
    {
      "cell_type": "markdown",
      "metadata": {
        "id": "kcbsGk_bopM0"
      },
      "source": [
        "## Summary\n",
        "\n",
        "This chapter presents three new data types: strings to represent letters and words, `Timestamp` objects to represent dates and times, and tuples to represent latitude, longitude pairs.\n",
        "\n",
        "It also introduces Geopandas, a library for working with location data.\n",
        "\n",
        "In the next chapter we'll see two ways to represent a collection of data, a Python list and a Numpy array."
      ]
    },
    {
      "cell_type": "markdown",
      "metadata": {
        "tags": [],
        "id": "QXXkxCWJopM0"
      },
      "source": [
        "*Elements of Data Science*\n",
        "\n",
        "Copyright 2021 [Allen B. Downey](https://allendowney.com)\n",
        "\n",
        "License: [Creative Commons Attribution-NonCommercial-ShareAlike 4.0 International](https://creativecommons.org/licenses/by-nc-sa/4.0/)"
      ]
    }
  ],
  "metadata": {
    "celltoolbar": "Tags",
    "kernelspec": {
      "display_name": "Python 3",
      "language": "python",
      "name": "python3"
    },
    "language_info": {
      "codemirror_mode": {
        "name": "ipython",
        "version": 3
      },
      "file_extension": ".py",
      "mimetype": "text/x-python",
      "name": "python",
      "nbconvert_exporter": "python",
      "pygments_lexer": "ipython3",
      "version": "3.7.7"
    },
    "colab": {
      "name": "02_times.ipynb",
      "provenance": []
    }
  },
  "nbformat": 4,
  "nbformat_minor": 0
}