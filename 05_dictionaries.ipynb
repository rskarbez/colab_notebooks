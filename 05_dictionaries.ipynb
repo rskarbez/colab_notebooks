{
  "cells": [
    {
      "cell_type": "markdown",
      "metadata": {
        "id": "vYiDKIgr2LEl"
      },
      "source": [
        "# Dictionaries"
      ]
    },
    {
      "cell_type": "markdown",
      "metadata": {
        "tags": [],
        "id": "jEPosB4Q2LEp"
      },
      "source": [
        "[Click here to run this notebook on Colab](https://colab.research.google.com/github/AllenDowney/ElementsOfDataScience/blob/master/05_dictionaries.ipynb) or\n",
        "[click here to download it](https://github.com/AllenDowney/ElementsOfDataScience/raw/master/05_dictionaries.ipynb)."
      ]
    },
    {
      "cell_type": "markdown",
      "metadata": {
        "id": "o6Tj5m9j2LEq"
      },
      "source": [
        "In the previous chapter we used a `for` loop to read a file and count the words.  In this chapter, you'll learn about a new type called a **dictionary**, and we'll use it to count the number of unique words and the number of times each one appears.\n",
        "\n",
        "Along the way, you will also see how to use an index to select an element from a sequence (tuple, list, or array).  And you will learn a little about Unicode, which is used to represent letters, numbers, and punctuation for almost every language in the world."
      ]
    },
    {
      "cell_type": "markdown",
      "metadata": {
        "id": "cEz4PhtB2LEr"
      },
      "source": [
        "## Indexing\n",
        "\n",
        "Suppose you have a variable named `t` that refers to a list or tuple.\n",
        "You can select an element using the bracket operator, `[]`.\n",
        "For example, here's a tuple of strings:"
      ]
    },
    {
      "cell_type": "code",
      "execution_count": 1,
      "metadata": {
        "id": "scog3T-H2LEs"
      },
      "outputs": [],
      "source": [
        "t = 'zero', 'one', 'two'"
      ]
    },
    {
      "cell_type": "markdown",
      "metadata": {
        "id": "03btOvAG2LEu"
      },
      "source": [
        "To select the first element, we put `0` in brackets:"
      ]
    },
    {
      "cell_type": "code",
      "execution_count": 2,
      "metadata": {
        "id": "-oZZYDlH2LEu",
        "outputId": "e4236d4c-07d6-490a-cecd-eeaf7a29d9f6",
        "colab": {
          "base_uri": "https://localhost:8080/",
          "height": 35
        }
      },
      "outputs": [
        {
          "output_type": "execute_result",
          "data": {
            "text/plain": [
              "'zero'"
            ],
            "application/vnd.google.colaboratory.intrinsic+json": {
              "type": "string"
            }
          },
          "metadata": {},
          "execution_count": 2
        }
      ],
      "source": [
        "t[0]"
      ]
    },
    {
      "cell_type": "markdown",
      "metadata": {
        "id": "zwc9BoCW2LEv"
      },
      "source": [
        "To select the second element, we put `1` in brackets:"
      ]
    },
    {
      "cell_type": "code",
      "execution_count": 3,
      "metadata": {
        "id": "Eyvze5qv2LEv",
        "outputId": "5b264692-3408-4ab3-c998-a3079316ec8e",
        "colab": {
          "base_uri": "https://localhost:8080/",
          "height": 35
        }
      },
      "outputs": [
        {
          "output_type": "execute_result",
          "data": {
            "text/plain": [
              "'one'"
            ],
            "application/vnd.google.colaboratory.intrinsic+json": {
              "type": "string"
            }
          },
          "metadata": {},
          "execution_count": 3
        }
      ],
      "source": [
        "t[1]"
      ]
    },
    {
      "cell_type": "markdown",
      "metadata": {
        "id": "SD2lGyAY2LEw"
      },
      "source": [
        "\n",
        "To select the third element, we put `2` in brackets:"
      ]
    },
    {
      "cell_type": "code",
      "execution_count": 4,
      "metadata": {
        "id": "8o4H2u-42LEx",
        "outputId": "1dac5685-90fd-4d02-95b9-0a324f87aff4",
        "colab": {
          "base_uri": "https://localhost:8080/",
          "height": 35
        }
      },
      "outputs": [
        {
          "output_type": "execute_result",
          "data": {
            "text/plain": [
              "'two'"
            ],
            "application/vnd.google.colaboratory.intrinsic+json": {
              "type": "string"
            }
          },
          "metadata": {},
          "execution_count": 4
        }
      ],
      "source": [
        "t[2]"
      ]
    },
    {
      "cell_type": "markdown",
      "metadata": {
        "id": "FygJyrPt2LEx"
      },
      "source": [
        "The number in brackets is called an **index** because it indicates which element we want.\n",
        "Tuples and lists use zero-based numbering; that is, the index of the first element is 0.  Some other programming languages use one-based numbering.  There are pros and cons of both systems (see <https://en.wikipedia.org/wiki/Zero-based_numbering>).\n",
        "\n",
        "The index in brackets can also be a variable:"
      ]
    },
    {
      "cell_type": "code",
      "execution_count": 5,
      "metadata": {
        "id": "1vTnixiJ2LEy",
        "outputId": "f90ce583-4ef1-4cf9-a463-b0034e733a49",
        "colab": {
          "base_uri": "https://localhost:8080/",
          "height": 35
        }
      },
      "outputs": [
        {
          "output_type": "execute_result",
          "data": {
            "text/plain": [
              "'one'"
            ],
            "application/vnd.google.colaboratory.intrinsic+json": {
              "type": "string"
            }
          },
          "metadata": {},
          "execution_count": 5
        }
      ],
      "source": [
        "i = 1\n",
        "t[i]"
      ]
    },
    {
      "cell_type": "markdown",
      "metadata": {
        "id": "P28ZJTeU2LEy"
      },
      "source": [
        "Or an expression with variables, values, and operators:"
      ]
    },
    {
      "cell_type": "code",
      "execution_count": 6,
      "metadata": {
        "id": "xPylRDa02LEy",
        "outputId": "7ef7f05c-56c7-4940-a335-963254168849",
        "colab": {
          "base_uri": "https://localhost:8080/",
          "height": 35
        }
      },
      "outputs": [
        {
          "output_type": "execute_result",
          "data": {
            "text/plain": [
              "'two'"
            ],
            "application/vnd.google.colaboratory.intrinsic+json": {
              "type": "string"
            }
          },
          "metadata": {},
          "execution_count": 6
        }
      ],
      "source": [
        "t[i+1]"
      ]
    },
    {
      "cell_type": "markdown",
      "metadata": {
        "id": "Qpw-sSoJ2LEz"
      },
      "source": [
        "But if the index goes past the end of the list or tuple, you get an error."
      ]
    },
    {
      "cell_type": "markdown",
      "metadata": {
        "tags": [],
        "id": "CI8VLzs82LEz"
      },
      "source": [
        "Run this line of code in the next cell to see what happens.\n",
        "\n",
        "```\n",
        "t[3]\n",
        "```"
      ]
    },
    {
      "cell_type": "code",
      "execution_count": 7,
      "metadata": {
        "tags": [],
        "id": "bacAIG2r2LEz",
        "outputId": "c5eefe0e-8f29-43d2-cc73-40c529108f70",
        "colab": {
          "base_uri": "https://localhost:8080/",
          "height": 166
        }
      },
      "outputs": [
        {
          "output_type": "error",
          "ename": "IndexError",
          "evalue": "ignored",
          "traceback": [
            "\u001b[0;31m---------------------------------------------------------------------------\u001b[0m",
            "\u001b[0;31mIndexError\u001b[0m                                Traceback (most recent call last)",
            "\u001b[0;32m<ipython-input-7-ffabd0b4a246>\u001b[0m in \u001b[0;36m<module>\u001b[0;34m()\u001b[0m\n\u001b[0;32m----> 1\u001b[0;31m \u001b[0mt\u001b[0m\u001b[0;34m[\u001b[0m\u001b[0;36m3\u001b[0m\u001b[0;34m]\u001b[0m\u001b[0;34m\u001b[0m\u001b[0;34m\u001b[0m\u001b[0m\n\u001b[0m",
            "\u001b[0;31mIndexError\u001b[0m: tuple index out of range"
          ]
        }
      ],
      "source": [
        "t[3]"
      ]
    },
    {
      "cell_type": "markdown",
      "metadata": {
        "id": "M40aJh2z2LEz"
      },
      "source": [
        "Also, the index has to be an integer; if it is any other type, you get an error."
      ]
    },
    {
      "cell_type": "markdown",
      "metadata": {
        "tags": [],
        "id": "kBqC_sSX2LEz"
      },
      "source": [
        "Run these lines of code in the next cell to see what happens.\n",
        "\n",
        "```\n",
        "t[1.5]\n",
        "t['1']\n",
        "```"
      ]
    },
    {
      "cell_type": "code",
      "execution_count": 9,
      "metadata": {
        "tags": [],
        "id": "MmL75aU32LE0",
        "outputId": "01941222-e7da-43e0-cb14-85ce1df46893",
        "colab": {
          "base_uri": "https://localhost:8080/",
          "height": 166
        }
      },
      "outputs": [
        {
          "output_type": "error",
          "ename": "TypeError",
          "evalue": "ignored",
          "traceback": [
            "\u001b[0;31m---------------------------------------------------------------------------\u001b[0m",
            "\u001b[0;31mTypeError\u001b[0m                                 Traceback (most recent call last)",
            "\u001b[0;32m<ipython-input-9-476ffea63421>\u001b[0m in \u001b[0;36m<module>\u001b[0;34m()\u001b[0m\n\u001b[0;32m----> 1\u001b[0;31m \u001b[0mt\u001b[0m\u001b[0;34m[\u001b[0m\u001b[0;34m'1'\u001b[0m\u001b[0;34m]\u001b[0m\u001b[0;34m\u001b[0m\u001b[0;34m\u001b[0m\u001b[0m\n\u001b[0m",
            "\u001b[0;31mTypeError\u001b[0m: tuple indices must be integers or slices, not str"
          ]
        }
      ],
      "source": [
        "t['1']"
      ]
    },
    {
      "cell_type": "markdown",
      "metadata": {
        "id": "2Uv91RMd2LE0"
      },
      "source": [
        "**Exercise:** You can use negative integers as indices.  Try using `-1` and `-2` as indices, and see if you can figure out what they do. "
      ]
    },
    {
      "cell_type": "code",
      "execution_count": null,
      "metadata": {
        "id": "TC-bmuPU2LE0"
      },
      "outputs": [],
      "source": [
        "# Solution goes here"
      ]
    },
    {
      "cell_type": "code",
      "execution_count": null,
      "metadata": {
        "id": "1tYgeftz2LE0"
      },
      "outputs": [],
      "source": [
        "# Solution goes here"
      ]
    },
    {
      "cell_type": "markdown",
      "metadata": {
        "id": "ZhJYS6vp2LE1"
      },
      "source": [
        "## Dictionaries\n",
        "\n",
        "A dictionary is similar to a tuple or list, but in a dictionary, the index can be almost any type, not just an integer.\n",
        "We can create an empty dictionary like this:"
      ]
    },
    {
      "cell_type": "code",
      "execution_count": 10,
      "metadata": {
        "id": "rTyvIRyI2LE1"
      },
      "outputs": [],
      "source": [
        "d = {}"
      ]
    },
    {
      "cell_type": "markdown",
      "metadata": {
        "id": "KGtmzAaf2LE2"
      },
      "source": [
        "Then we can add elements like this:"
      ]
    },
    {
      "cell_type": "code",
      "execution_count": 11,
      "metadata": {
        "id": "Ny_X61382LE2"
      },
      "outputs": [],
      "source": [
        "d['one'] = 1\n",
        "d['two'] = 2"
      ]
    },
    {
      "cell_type": "markdown",
      "metadata": {
        "id": "1Ad6fo7f2LE2"
      },
      "source": [
        "In this example, the indices are the strings, `'one'` and `'two'`\n",
        "If you display the dictionary, it shows each index and the corresponding value. "
      ]
    },
    {
      "cell_type": "code",
      "execution_count": 12,
      "metadata": {
        "id": "Fq5Xzux52LE3",
        "outputId": "e0d015ce-742d-4a55-ac03-6b48e6614de3",
        "colab": {
          "base_uri": "https://localhost:8080/"
        }
      },
      "outputs": [
        {
          "output_type": "execute_result",
          "data": {
            "text/plain": [
              "{'one': 1, 'two': 2}"
            ]
          },
          "metadata": {},
          "execution_count": 12
        }
      ],
      "source": [
        "d"
      ]
    },
    {
      "cell_type": "markdown",
      "metadata": {
        "id": "RX-tWgru2LE3"
      },
      "source": [
        "Instead of creating an empty dictionary and then adding elements, you can create a dictionary and specify the elements at the same time:"
      ]
    },
    {
      "cell_type": "code",
      "execution_count": 13,
      "metadata": {
        "id": "1CA6Pgri2LE3",
        "outputId": "6458f695-5362-4a21-dfaa-9c8b73b08242",
        "colab": {
          "base_uri": "https://localhost:8080/"
        }
      },
      "outputs": [
        {
          "output_type": "execute_result",
          "data": {
            "text/plain": [
              "{'one': 1, 'three': 3, 'two': 2}"
            ]
          },
          "metadata": {},
          "execution_count": 13
        }
      ],
      "source": [
        "d = {'one': 1, 'two': 2, 'three': 3}\n",
        "d"
      ]
    },
    {
      "cell_type": "markdown",
      "metadata": {
        "id": "kwqUgbrD2LE3"
      },
      "source": [
        "When we are talking about dictionaries, an index is usually called a **key**.  In this example, the keys are strings and the corresponding values are integers.\n",
        "\n",
        "A dictionary is also called a **map**, because it represents correspondence or \"mapping\", between keys and values.  So we might say that this dictionary maps from English number names to the corresponding integers.\n",
        "\n",
        "You can use the bracket operator to select an element from a dictionary, like this:"
      ]
    },
    {
      "cell_type": "code",
      "execution_count": 14,
      "metadata": {
        "id": "4aCVlcZm2LE4",
        "outputId": "ec5e1d0e-5345-4bb2-ab0a-6775c7aff6ae",
        "colab": {
          "base_uri": "https://localhost:8080/"
        }
      },
      "outputs": [
        {
          "output_type": "execute_result",
          "data": {
            "text/plain": [
              "2"
            ]
          },
          "metadata": {},
          "execution_count": 14
        }
      ],
      "source": [
        "d['two']"
      ]
    },
    {
      "cell_type": "markdown",
      "metadata": {
        "id": "m-pRhTe72LE4"
      },
      "source": [
        "But don't forget the quotation marks.\n",
        "Without them, Python looks for a variable named `two` and doesn't find one."
      ]
    },
    {
      "cell_type": "markdown",
      "metadata": {
        "tags": [],
        "id": "i2HRBXr42LE5"
      },
      "source": [
        "Try running the following line to see what happens.\n",
        "\n",
        "```\n",
        "d[two]\n",
        "```"
      ]
    },
    {
      "cell_type": "code",
      "execution_count": null,
      "metadata": {
        "tags": [],
        "id": "6c9LAjHP2LE5"
      },
      "outputs": [],
      "source": [
        ""
      ]
    },
    {
      "cell_type": "markdown",
      "metadata": {
        "id": "0VM8btGA2LE6"
      },
      "source": [
        "To check whether a particular key is in a dictionary, you can use the special word `in`:"
      ]
    },
    {
      "cell_type": "code",
      "execution_count": 15,
      "metadata": {
        "id": "s9OAeiR62LE6",
        "outputId": "6b036ad6-67cd-4b34-84c0-2a2b29930397",
        "colab": {
          "base_uri": "https://localhost:8080/"
        }
      },
      "outputs": [
        {
          "output_type": "execute_result",
          "data": {
            "text/plain": [
              "True"
            ]
          },
          "metadata": {},
          "execution_count": 15
        }
      ],
      "source": [
        "'one' in d"
      ]
    },
    {
      "cell_type": "code",
      "execution_count": 16,
      "metadata": {
        "id": "-oGulXGS2LE7",
        "outputId": "fb857e98-a156-43b1-9dd9-f5d4be3fd377",
        "colab": {
          "base_uri": "https://localhost:8080/"
        }
      },
      "outputs": [
        {
          "output_type": "execute_result",
          "data": {
            "text/plain": [
              "False"
            ]
          },
          "metadata": {},
          "execution_count": 16
        }
      ],
      "source": [
        "'zero' in d"
      ]
    },
    {
      "cell_type": "markdown",
      "metadata": {
        "id": "aj1b3Aoi2LE7"
      },
      "source": [
        "The word `in` is actually an operator in Python, so you can't use it as a variable name."
      ]
    },
    {
      "cell_type": "markdown",
      "metadata": {
        "tags": [],
        "id": "FJbyIX6V2LE8"
      },
      "source": [
        "Try this to see what happens:\n",
        "\n",
        "```\n",
        "in = 5\n",
        "```"
      ]
    },
    {
      "cell_type": "code",
      "execution_count": 17,
      "metadata": {
        "tags": [],
        "id": "jJTMH3za2LE9",
        "outputId": "4fc4bb31-ab63-48de-c568-24ca64e26718",
        "colab": {
          "base_uri": "https://localhost:8080/",
          "height": 131
        }
      },
      "outputs": [
        {
          "output_type": "error",
          "ename": "SyntaxError",
          "evalue": "ignored",
          "traceback": [
            "\u001b[0;36m  File \u001b[0;32m\"<ipython-input-17-0e0c90d245a5>\"\u001b[0;36m, line \u001b[0;32m1\u001b[0m\n\u001b[0;31m    in = 5\u001b[0m\n\u001b[0m     ^\u001b[0m\n\u001b[0;31mSyntaxError\u001b[0m\u001b[0;31m:\u001b[0m invalid syntax\n"
          ]
        }
      ],
      "source": [
        "in = 5"
      ]
    },
    {
      "cell_type": "markdown",
      "metadata": {
        "id": "mgQqr0UG2LE9"
      },
      "source": [
        "If a key is already in a dictionary, adding it again has no effect:"
      ]
    },
    {
      "cell_type": "code",
      "execution_count": 18,
      "metadata": {
        "id": "l-h2RY7f2LE9",
        "outputId": "2cc99d11-0172-4479-a1ff-46eef91a1bab",
        "colab": {
          "base_uri": "https://localhost:8080/"
        }
      },
      "outputs": [
        {
          "output_type": "execute_result",
          "data": {
            "text/plain": [
              "{'one': 1, 'three': 3, 'two': 2}"
            ]
          },
          "metadata": {},
          "execution_count": 18
        }
      ],
      "source": [
        "d"
      ]
    },
    {
      "cell_type": "code",
      "execution_count": 19,
      "metadata": {
        "id": "Kmn1H6dG2LE9",
        "outputId": "898bd147-a3f8-4d6b-8469-c5dabbb0808a",
        "colab": {
          "base_uri": "https://localhost:8080/"
        }
      },
      "outputs": [
        {
          "output_type": "execute_result",
          "data": {
            "text/plain": [
              "{'one': 1, 'three': 3, 'two': 2}"
            ]
          },
          "metadata": {},
          "execution_count": 19
        }
      ],
      "source": [
        "d['one'] = 1\n",
        "d"
      ]
    },
    {
      "cell_type": "markdown",
      "metadata": {
        "id": "CEY_rsde2LE-"
      },
      "source": [
        "But you can change the value associated with a key:"
      ]
    },
    {
      "cell_type": "code",
      "execution_count": 20,
      "metadata": {
        "id": "zWa2lHCu2LFA",
        "outputId": "42d3c6c2-7e8d-4594-dcde-e57a484cba4e",
        "colab": {
          "base_uri": "https://localhost:8080/"
        }
      },
      "outputs": [
        {
          "output_type": "execute_result",
          "data": {
            "text/plain": [
              "{'one': 100, 'three': 3, 'two': 2}"
            ]
          },
          "metadata": {},
          "execution_count": 20
        }
      ],
      "source": [
        "d['one'] = 100\n",
        "d"
      ]
    },
    {
      "cell_type": "markdown",
      "metadata": {
        "id": "yOsY9WGj2LFB"
      },
      "source": [
        "You can loop through the keys in a dictionary like this:"
      ]
    },
    {
      "cell_type": "code",
      "execution_count": 21,
      "metadata": {
        "id": "kWtcqOWs2LFD",
        "outputId": "3b24b9a6-e391-4f6e-9a6f-012388d96b34",
        "colab": {
          "base_uri": "https://localhost:8080/"
        }
      },
      "outputs": [
        {
          "output_type": "stream",
          "name": "stdout",
          "text": [
            "one\n",
            "two\n",
            "three\n"
          ]
        }
      ],
      "source": [
        "for key in d:\n",
        "    print(key)"
      ]
    },
    {
      "cell_type": "markdown",
      "metadata": {
        "id": "lBuD6Q6c2LFD"
      },
      "source": [
        "If you want the keys and the values, one way to get them is to loop through the keys and look up the values:"
      ]
    },
    {
      "cell_type": "code",
      "execution_count": 22,
      "metadata": {
        "id": "rxub6_we2LFD",
        "outputId": "5004264d-d5ec-495c-b839-728b430ace6a",
        "colab": {
          "base_uri": "https://localhost:8080/"
        }
      },
      "outputs": [
        {
          "output_type": "stream",
          "name": "stdout",
          "text": [
            "one 100\n",
            "two 2\n",
            "three 3\n"
          ]
        }
      ],
      "source": [
        "for key in d:\n",
        "    print(key, d[key])"
      ]
    },
    {
      "cell_type": "markdown",
      "metadata": {
        "id": "aWpK9u0t2LFE"
      },
      "source": [
        "Or you can loop through both at the same time, like this:"
      ]
    },
    {
      "cell_type": "code",
      "execution_count": 23,
      "metadata": {
        "id": "LJ-qVQjK2LFE",
        "outputId": "5a5032a3-1b64-4ca8-a7f7-f4847bac1369",
        "colab": {
          "base_uri": "https://localhost:8080/"
        }
      },
      "outputs": [
        {
          "output_type": "stream",
          "name": "stdout",
          "text": [
            "one 100\n",
            "two 2\n",
            "three 3\n"
          ]
        }
      ],
      "source": [
        "for key, value in d.items():\n",
        "    print(key, value)"
      ]
    },
    {
      "cell_type": "markdown",
      "metadata": {
        "id": "CtZJ29Ts2LFE"
      },
      "source": [
        "The `items` method loops through the key-value pairs in the dictionary; each time through the loop, they are assigned to `key` and `value`."
      ]
    },
    {
      "cell_type": "markdown",
      "metadata": {
        "id": "8pfMfWMw2LFF"
      },
      "source": [
        "**Exercise:** Make a dictionary with the numbers `1`, `2`, and `3` as keys and strings as values.  The strings should be the numbers \"one\", \"two\", and \"three\" in any language you know.\n",
        "\n",
        "Write a loop that prints just the values from the dictionary."
      ]
    },
    {
      "cell_type": "code",
      "execution_count": null,
      "metadata": {
        "id": "siNQTURq2LFF"
      },
      "outputs": [],
      "source": [
        "# Solution goes here"
      ]
    },
    {
      "cell_type": "code",
      "execution_count": null,
      "metadata": {
        "id": "BE-Ljt7F2LFF"
      },
      "outputs": [],
      "source": [
        "# Solution goes here"
      ]
    },
    {
      "cell_type": "code",
      "execution_count": null,
      "metadata": {
        "id": "Qd4BNDPL2LFF"
      },
      "outputs": [],
      "source": [
        "# Solution goes here"
      ]
    },
    {
      "cell_type": "markdown",
      "metadata": {
        "id": "LHzDmZeC2LFG"
      },
      "source": [
        "## Unique Words\n",
        "\n",
        "In the previous chapter we downloaded *War and Peace* from Project Gutenberg and counted the number of lines and words.\n",
        "Now that we have dictionaries, we can also count the number of unique words and the number of times each one appears."
      ]
    },
    {
      "cell_type": "markdown",
      "metadata": {
        "tags": [],
        "id": "hBDlhcrx2LFH"
      },
      "source": [
        "First, let's download the book again.  \n",
        "When you run the following cell, it checks to see whether you already have a file named `2600-0.txt`, which is the name of the file that contains the text of *War and Peace*.\n",
        "If not, it copies the file from Project Gutenberg to your computer.  "
      ]
    },
    {
      "cell_type": "code",
      "execution_count": 24,
      "metadata": {
        "tags": [],
        "id": "Y_l5pSWV2LFH",
        "outputId": "7c576dba-1947-4336-8fc3-e6c9ecb65a37",
        "colab": {
          "base_uri": "https://localhost:8080/"
        }
      },
      "outputs": [
        {
          "output_type": "stream",
          "name": "stdout",
          "text": [
            "Downloaded 2600-0.txt\n"
          ]
        }
      ],
      "source": [
        "from os.path import basename, exists\n",
        "\n",
        "def download(url):\n",
        "    filename = basename(url)\n",
        "    if not exists(filename):\n",
        "        from urllib.request import urlretrieve\n",
        "        local, _ = urlretrieve(url, filename)\n",
        "        print('Downloaded ' + local)\n",
        "    \n",
        "download('https://www.gutenberg.org/files/2600/2600-0.txt')"
      ]
    },
    {
      "cell_type": "markdown",
      "metadata": {
        "id": "lms_F3I62LFH"
      },
      "source": [
        "As we did in the previous chapter, we can read the text of *War and Peace* and count the number of words."
      ]
    },
    {
      "cell_type": "code",
      "execution_count": 25,
      "metadata": {
        "id": "FweAJD1r2LFI",
        "outputId": "1b24a9f0-978a-4c48-ec28-a9f150e9e4b1",
        "colab": {
          "base_uri": "https://localhost:8080/"
        }
      },
      "outputs": [
        {
          "output_type": "execute_result",
          "data": {
            "text/plain": [
              "566334"
            ]
          },
          "metadata": {},
          "execution_count": 25
        }
      ],
      "source": [
        "fp = open('2600-0.txt')\n",
        "count = 0\n",
        "for line in fp:\n",
        "    count += len(line.split())\n",
        "    \n",
        "count"
      ]
    },
    {
      "cell_type": "markdown",
      "metadata": {
        "id": "NcHwTPoY2LFI"
      },
      "source": [
        "To count the number of unique words, I'll loop through the words in each line and add them as keys in a dictionary:"
      ]
    },
    {
      "cell_type": "code",
      "execution_count": 26,
      "metadata": {
        "id": "7-jtSCka2LFI"
      },
      "outputs": [],
      "source": [
        "fp = open('2600-0.txt')\n",
        "unique_words = {}\n",
        "for line in fp:\n",
        "    for word in line.split():\n",
        "        unique_words[word] = 1"
      ]
    },
    {
      "cell_type": "markdown",
      "metadata": {
        "id": "Qn7QQLPp2LFI"
      },
      "source": [
        "This is the first example we've seen with one loop inside another.\n",
        "\n",
        "* The outer loop runs through the lines in the file.\n",
        "\n",
        "* The inner loops runs through the words in each line.\n",
        "\n",
        "Each time through the inner loop, we add a word as a key in the dictionary, with the value 1.  If the same word appears more than once, it gets added to the dictionary again, which has no effect.  So the dictionary contains only one copy of each unique word in the file.\n",
        "\n",
        "At the end of the loop, we can display the first 10 keys:"
      ]
    },
    {
      "cell_type": "code",
      "execution_count": 27,
      "metadata": {
        "id": "Wlb3c_uS2LFJ",
        "outputId": "e8f25801-2ab0-48dd-898f-1abbe4730296",
        "colab": {
          "base_uri": "https://localhost:8080/"
        }
      },
      "outputs": [
        {
          "output_type": "stream",
          "name": "stdout",
          "text": [
            "﻿The\n",
            "Project\n",
            "Gutenberg\n",
            "eBook\n",
            "of\n",
            "War\n",
            "and\n",
            "Peace,\n",
            "by\n",
            "Leo\n"
          ]
        }
      ],
      "source": [
        "i = 0\n",
        "for key in unique_words:\n",
        "    print(key)\n",
        "    i += 1\n",
        "    if i == 10:\n",
        "        break"
      ]
    },
    {
      "cell_type": "markdown",
      "metadata": {
        "id": "TWUvBoxR2LFK"
      },
      "source": [
        "The dictionary contains all the words in the file, in order of first appearance.\n",
        "But each word only appears once, so the number of keys is the number of unique words:"
      ]
    },
    {
      "cell_type": "code",
      "execution_count": 28,
      "metadata": {
        "id": "arTy2FQP2LFK",
        "outputId": "898d10df-7013-4fb1-c8e2-db4bb8c6e249",
        "colab": {
          "base_uri": "https://localhost:8080/"
        }
      },
      "outputs": [
        {
          "output_type": "execute_result",
          "data": {
            "text/plain": [
              "41971"
            ]
          },
          "metadata": {},
          "execution_count": 28
        }
      ],
      "source": [
        "len(unique_words)"
      ]
    },
    {
      "cell_type": "markdown",
      "metadata": {
        "id": "6xf0K0vR2LFK"
      },
      "source": [
        "It looks like there are about 42,000 different words in the book, which is substantially less than the total number of words, about 560,000. \n",
        "But that's not quite right, because we have not taken into account capitalization and punctuation."
      ]
    },
    {
      "cell_type": "markdown",
      "metadata": {
        "id": "yWo3kajL2LFK"
      },
      "source": [
        "**Exercise:** Before we deal with that problem, let's practice with **nested loops**, that is, one loop inside another.\n",
        "Suppose you have a list of words, like this:"
      ]
    },
    {
      "cell_type": "code",
      "execution_count": 30,
      "metadata": {
        "id": "Q-TCroiW2LFK"
      },
      "outputs": [],
      "source": [
        "line = ['War', 'and', 'Peace']"
      ]
    },
    {
      "cell_type": "markdown",
      "metadata": {
        "id": "RcTyNckx2LFL"
      },
      "source": [
        "Write a nested loop that iterates through each word in the list, and each letter in each word, and prints the letters on separate lines."
      ]
    },
    {
      "cell_type": "code",
      "execution_count": 31,
      "metadata": {
        "id": "VyjZiNMH2LFL",
        "outputId": "c39c59f2-7247-4312-fd63-3a539196a268",
        "colab": {
          "base_uri": "https://localhost:8080/"
        }
      },
      "outputs": [
        {
          "output_type": "stream",
          "name": "stdout",
          "text": [
            "W\n",
            "a\n",
            "r\n",
            "a\n",
            "n\n",
            "d\n",
            "P\n",
            "e\n",
            "a\n",
            "c\n",
            "e\n"
          ]
        }
      ],
      "source": [
        "for word in line:\n",
        "  for letter in word:\n",
        "    print(letter)"
      ]
    },
    {
      "cell_type": "markdown",
      "metadata": {
        "id": "nz1leN-G2LFL"
      },
      "source": [
        "## Capitalization\n",
        "\n",
        "When we count unique words, we probably want to treat `The` and `the` as the same word.  We can do that by converting all words to lower case, using the `lower` function:"
      ]
    },
    {
      "cell_type": "code",
      "execution_count": 32,
      "metadata": {
        "id": "Wi04yVv12LFM",
        "outputId": "26e43bb7-24a3-4b8b-f1b2-65cec2140427",
        "colab": {
          "base_uri": "https://localhost:8080/",
          "height": 35
        }
      },
      "outputs": [
        {
          "output_type": "execute_result",
          "data": {
            "text/plain": [
              "'the'"
            ],
            "application/vnd.google.colaboratory.intrinsic+json": {
              "type": "string"
            }
          },
          "metadata": {},
          "execution_count": 32
        }
      ],
      "source": [
        "word = 'The'\n",
        "word.lower()"
      ]
    },
    {
      "cell_type": "markdown",
      "metadata": {
        "id": "_UY8ZsPP2LFM"
      },
      "source": [
        "`lower` creates a new string; it does not modify the original string.  "
      ]
    },
    {
      "cell_type": "code",
      "execution_count": 33,
      "metadata": {
        "id": "mhmkAnVh2LFM",
        "outputId": "57f95361-e2bf-4500-c34f-59d15433ffba",
        "colab": {
          "base_uri": "https://localhost:8080/",
          "height": 35
        }
      },
      "outputs": [
        {
          "output_type": "execute_result",
          "data": {
            "text/plain": [
              "'The'"
            ],
            "application/vnd.google.colaboratory.intrinsic+json": {
              "type": "string"
            }
          },
          "metadata": {},
          "execution_count": 33
        }
      ],
      "source": [
        "word"
      ]
    },
    {
      "cell_type": "markdown",
      "metadata": {
        "id": "vC8cnuMQ2LFM"
      },
      "source": [
        "However, you can assign the new string back to the existing variable, like this:"
      ]
    },
    {
      "cell_type": "code",
      "execution_count": 34,
      "metadata": {
        "id": "m7UktCj12LFN"
      },
      "outputs": [],
      "source": [
        "word = word.lower()"
      ]
    },
    {
      "cell_type": "markdown",
      "metadata": {
        "id": "WXzRt6wB2LFN"
      },
      "source": [
        "Now if we can display the new value of `word`, we get the lowercase version:"
      ]
    },
    {
      "cell_type": "code",
      "execution_count": 35,
      "metadata": {
        "id": "ylopQ4DB2LFN",
        "outputId": "3c7144f2-942e-4c12-cf39-7fd9ce6c94df",
        "colab": {
          "base_uri": "https://localhost:8080/",
          "height": 35
        }
      },
      "outputs": [
        {
          "output_type": "execute_result",
          "data": {
            "text/plain": [
              "'the'"
            ],
            "application/vnd.google.colaboratory.intrinsic+json": {
              "type": "string"
            }
          },
          "metadata": {},
          "execution_count": 35
        }
      ],
      "source": [
        "word"
      ]
    },
    {
      "cell_type": "markdown",
      "metadata": {
        "id": "fDarEgD22LFO"
      },
      "source": [
        "**Exercise:** Modify the previous loop so it makes a lowercase version of each word before adding it to the dictionary.  How many unique words are there, if we ignore the difference between uppercase and lowercase?"
      ]
    },
    {
      "cell_type": "code",
      "execution_count": 37,
      "metadata": {
        "id": "qQCo5c5t2LFO",
        "outputId": "75736337-d749-4894-b61c-1468e5b182fb",
        "colab": {
          "base_uri": "https://localhost:8080/"
        }
      },
      "outputs": [
        {
          "output_type": "stream",
          "name": "stdout",
          "text": [
            "40114\n"
          ]
        }
      ],
      "source": [
        "fp = open('2600-0.txt')\n",
        "unique_words = {}\n",
        "for line in fp:\n",
        "    for word in line.split():\n",
        "        unique_words[word.lower()] = 1\n",
        "print(len(unique_words))\n"
      ]
    },
    {
      "cell_type": "markdown",
      "metadata": {
        "id": "WmpIhwXl2LFP"
      },
      "source": [
        "## Punctuation\n",
        "\n",
        "To remove punctuation from the words, we can use `strip`, which removes specified characters from the beginning and end of a string.  Here's an example:"
      ]
    },
    {
      "cell_type": "code",
      "execution_count": 38,
      "metadata": {
        "id": "7UXr3J2m2LFP",
        "outputId": "689e3a54-a429-4eb6-ff1e-1a0fa60413aa",
        "colab": {
          "base_uri": "https://localhost:8080/",
          "height": 35
        }
      },
      "outputs": [
        {
          "output_type": "execute_result",
          "data": {
            "text/plain": [
              "'racadabr'"
            ],
            "application/vnd.google.colaboratory.intrinsic+json": {
              "type": "string"
            }
          },
          "metadata": {},
          "execution_count": 38
        }
      ],
      "source": [
        "word = 'abracadabra'\n",
        "word.strip('ab')"
      ]
    },
    {
      "cell_type": "markdown",
      "metadata": {
        "id": "1BLdWFgv2LFP"
      },
      "source": [
        "In this example, `strip` removes all instances of `a` and `b` from the beginning and end of the word, but not from the middle.\n",
        "But note that it makes a new word; it doesn't modify the original:"
      ]
    },
    {
      "cell_type": "code",
      "execution_count": 39,
      "metadata": {
        "id": "Qe6IbauC2LFQ",
        "outputId": "0390389e-ce2d-466f-f978-cb27be0a88e7",
        "colab": {
          "base_uri": "https://localhost:8080/",
          "height": 35
        }
      },
      "outputs": [
        {
          "output_type": "execute_result",
          "data": {
            "text/plain": [
              "'abracadabra'"
            ],
            "application/vnd.google.colaboratory.intrinsic+json": {
              "type": "string"
            }
          },
          "metadata": {},
          "execution_count": 39
        }
      ],
      "source": [
        "word"
      ]
    },
    {
      "cell_type": "markdown",
      "metadata": {
        "id": "JwLWwTko2LFQ"
      },
      "source": [
        "To remove punctuation, we can use the `string` library, which provides a variable named `punctuation`."
      ]
    },
    {
      "cell_type": "code",
      "execution_count": 40,
      "metadata": {
        "id": "jDT5HMQc2LFQ",
        "outputId": "fb98b578-4842-4e77-bda4-6f1c010116d8",
        "colab": {
          "base_uri": "https://localhost:8080/",
          "height": 35
        }
      },
      "outputs": [
        {
          "output_type": "execute_result",
          "data": {
            "text/plain": [
              "'!\"#$%&\\'()*+,-./:;<=>?@[\\\\]^_`{|}~'"
            ],
            "application/vnd.google.colaboratory.intrinsic+json": {
              "type": "string"
            }
          },
          "metadata": {},
          "execution_count": 40
        }
      ],
      "source": [
        "import string\n",
        "\n",
        "string.punctuation"
      ]
    },
    {
      "cell_type": "markdown",
      "metadata": {
        "id": "8dJVZn2D2LFQ"
      },
      "source": [
        "`string.punctuation` contains the most common punctuation marks, but as we'll see, not all of them.\n",
        "Nevertheless, we can use it to handle most cases.  Here's an example:"
      ]
    },
    {
      "cell_type": "code",
      "execution_count": 41,
      "metadata": {
        "id": "iCRUP8y72LFQ",
        "outputId": "f629000c-246b-4250-82bf-330c179cbad7",
        "colab": {
          "base_uri": "https://localhost:8080/"
        }
      },
      "outputs": [
        {
          "output_type": "stream",
          "name": "stdout",
          "text": [
            "It's\n",
            "not\n",
            "given\n",
            "to\n",
            "people\n",
            "to\n",
            "judge\n",
            "what's\n",
            "right\n",
            "or\n",
            "wrong\n"
          ]
        }
      ],
      "source": [
        "line = \"It's not given to people to judge what's right or wrong.\"\n",
        "\n",
        "for word in line.split():\n",
        "    word = word.strip(string.punctuation)\n",
        "    print(word)"
      ]
    },
    {
      "cell_type": "markdown",
      "metadata": {
        "id": "KfjJ2G4R2LFQ"
      },
      "source": [
        "`strip` removes the period at the end of `wrong`, but not the apostrophes in `It's`, `don't` and `what's`.\n",
        "So that's good, but we have one more problem to solve.\n",
        "Here's another line from the book."
      ]
    },
    {
      "cell_type": "code",
      "execution_count": 42,
      "metadata": {
        "id": "DUxyO2Gl2LFQ"
      },
      "outputs": [],
      "source": [
        "line = 'anyone, and so you don’t deserve to have them.”'"
      ]
    },
    {
      "cell_type": "markdown",
      "metadata": {
        "id": "_VuesHzn2LFR"
      },
      "source": [
        "Here's what happens when we try to remove the punctuation."
      ]
    },
    {
      "cell_type": "code",
      "execution_count": 43,
      "metadata": {
        "id": "FFDeMydj2LFS",
        "outputId": "2b5183d9-4d1c-41f7-ac77-b097873381d8",
        "colab": {
          "base_uri": "https://localhost:8080/"
        }
      },
      "outputs": [
        {
          "output_type": "stream",
          "name": "stdout",
          "text": [
            "anyone\n",
            "and\n",
            "so\n",
            "you\n",
            "don’t\n",
            "deserve\n",
            "to\n",
            "have\n",
            "them.”\n"
          ]
        }
      ],
      "source": [
        "for word in line.split():\n",
        "    word = word.strip(string.punctuation)\n",
        "    print(word)"
      ]
    },
    {
      "cell_type": "markdown",
      "metadata": {
        "id": "TEgkn0a52LFS"
      },
      "source": [
        "It removes the comma after `anyone`, but not the period and quotation mark after `them`.\n",
        "The problem is that this kind of quotation mark is not in `string.punctuation`.  \n",
        "\n",
        "To fix this problem, we'll use the following loop, which\n",
        "\n",
        "1. Reads the file and builds a dictionary that contains all punctuation marks that appear in the book, then\n",
        "\n",
        "2. It uses the `join` function to concatenate the keys of the dictionary in a single string.\n",
        "\n",
        "You don't have to understand everything about how it works, but you should read it and see how much you can figure out.  You can read the documentation of the `unicodedata` library here at <https://docs.python.org/3/library/unicodedata.html>."
      ]
    },
    {
      "cell_type": "code",
      "execution_count": 44,
      "metadata": {
        "id": "kcAHU-fF2LFS",
        "outputId": "bdcb1c84-ec77-454f-a037-24de4151dd69",
        "colab": {
          "base_uri": "https://localhost:8080/"
        }
      },
      "outputs": [
        {
          "output_type": "stream",
          "name": "stdout",
          "text": [
            ",.-:[#]*/“’—‘!?”;()\"%'\n"
          ]
        }
      ],
      "source": [
        "import unicodedata\n",
        "\n",
        "fp = open('2600-0.txt')\n",
        "punc_marks = {}\n",
        "for line in fp:\n",
        "    for x in line:\n",
        "        category = unicodedata.category(x)\n",
        "        if category[0] == 'P':\n",
        "            punc_marks[x] = 1\n",
        "        \n",
        "all_punctuation = ''.join(punc_marks)\n",
        "print(all_punctuation)"
      ]
    },
    {
      "cell_type": "markdown",
      "metadata": {
        "id": "oxxNb5hA2LFS"
      },
      "source": [
        "**Exercise:** Modify the word-counting loop from the previous section to convert words to lower case *and* strip punctuation before adding them to the dictionary.  Now how many unique words are there?\n",
        "\n",
        "Optional: You might want to skip over the front matter and start with the text of Chapter 1, and skip over the license at the end, as we did in the previous chapter."
      ]
    },
    {
      "cell_type": "code",
      "execution_count": 45,
      "metadata": {
        "id": "2CSIylG82LFT",
        "outputId": "33c83529-36d6-445e-bbd3-f7ca4b3b4029",
        "colab": {
          "base_uri": "https://localhost:8080/"
        }
      },
      "outputs": [
        {
          "output_type": "stream",
          "name": "stdout",
          "text": [
            "20679\n"
          ]
        }
      ],
      "source": [
        "fp = open('2600-0.txt')\n",
        "unique_words = {}\n",
        "for line in fp:\n",
        "    for word in line.split():\n",
        "        unique_words[word.strip(all_punctuation).lower()] = 1\n",
        "print(len(unique_words))"
      ]
    },
    {
      "cell_type": "markdown",
      "metadata": {
        "id": "6tx1i8Ag2LFT"
      },
      "source": [
        "## Word Frequencies\n",
        "\n",
        "In the previous section we counted the number of unique words, but we might also want to know how often each word appears.  Then we can find the most common and least common words in the book.\n",
        "To count the frequency of each word, we'll make a dictionary that maps from each word to the number of times it appears.\n",
        "\n",
        "Here's an example that loops through a string and counts the number of times each letter appears."
      ]
    },
    {
      "cell_type": "code",
      "execution_count": null,
      "metadata": {
        "id": "cwlk0Ivx2LFU"
      },
      "outputs": [],
      "source": [
        "word = 'Mississippi'\n",
        "\n",
        "letter_counts = {}\n",
        "for x in word:\n",
        "    if x in letter_counts:\n",
        "        letter_counts[x] += 1\n",
        "    else:\n",
        "        letter_counts[x] = 1\n",
        "        \n",
        "letter_counts"
      ]
    },
    {
      "cell_type": "markdown",
      "metadata": {
        "id": "tHZHWgP12LFU"
      },
      "source": [
        "The `if` statement here uses a feature we have not seen before, an `else` clause.\n",
        "Here's how it works.\n",
        "\n",
        "1. First, it checks whether the letter, `x`, is already a key in the dictionary, `letter_counts`.\n",
        "\n",
        "2. If so, it runs the first statement, `letter_counts[x] += 1`, which increments the value associated with the letter.\n",
        "\n",
        "3. Otherwise, it runs the second statement, `letter_counts[x] = 1`, which adds `x` as a new key, with the value `1` indicating that we have seen the new letter once.\n",
        "\n",
        "The result is a dictionary that maps from each letter to the number of times it appears.\n",
        "\n",
        "To get the most common letters, we can use a `Counter`, which is similar to a dictionary.  To use it, we have to import a library called `collections`: "
      ]
    },
    {
      "cell_type": "code",
      "execution_count": null,
      "metadata": {
        "id": "NJ2JN89y2LFV"
      },
      "outputs": [],
      "source": [
        "import collections"
      ]
    },
    {
      "cell_type": "markdown",
      "metadata": {
        "id": "VcKjJIzI2LFV"
      },
      "source": [
        "Then we use `collections.Counter` to convert the dictionary to a `Counter`:"
      ]
    },
    {
      "cell_type": "code",
      "execution_count": null,
      "metadata": {
        "id": "mAhW8nbe2LFV"
      },
      "outputs": [],
      "source": [
        "counter = collections.Counter(letter_counts)\n",
        "type(counter)"
      ]
    },
    {
      "cell_type": "markdown",
      "metadata": {
        "id": "3jQknjzN2LFW"
      },
      "source": [
        "`Counter` provides a function called `most_common` we can use to get the most common characters:"
      ]
    },
    {
      "cell_type": "code",
      "execution_count": null,
      "metadata": {
        "id": "V8lQdXhh2LFW"
      },
      "outputs": [],
      "source": [
        "counter.most_common(3)"
      ]
    },
    {
      "cell_type": "markdown",
      "metadata": {
        "id": "TDj49IWi2LFW"
      },
      "source": [
        "The result is a list of tuples, where each tuple contains a character and an integer."
      ]
    },
    {
      "cell_type": "markdown",
      "metadata": {
        "id": "UIjTsQnR2LFW"
      },
      "source": [
        "**Exercise:** Modify the loop from the previous exercise to count the frequency of the words in *War and Peace*; then print the 20 most common words and the number of times each one appears."
      ]
    },
    {
      "cell_type": "code",
      "execution_count": null,
      "metadata": {
        "id": "Ecxk-UKH2LFX"
      },
      "outputs": [],
      "source": [
        "# Solution goes here"
      ]
    },
    {
      "cell_type": "markdown",
      "metadata": {
        "id": "Q8duIVlY2LFX"
      },
      "source": [
        "**Exercise:** You can run `most_common` with no value in parentheses, like this:\n",
        "\n",
        "```\n",
        "word_freq_pairs = counter.most_common()\n",
        "```\n",
        "\n",
        "The result is a list of tuples, with one tuple for every unique word in the book.  Assign the result to a variable so it doesn't get displayed.  Then answer the following questions:\n",
        "\n",
        "1. How many times does the #1 ranked word appear (that is, the first element of the list)?\n",
        "\n",
        "2. How many times does the #10 ranked word appear?\n",
        "\n",
        "3. How many times does the #100 ranked word appear?\n",
        "\n",
        "4. How many times does the #1000 ranked word appear?\n",
        "\n",
        "5. How many times does the #10000 ranked word appear?\n",
        "\n",
        "Do you see a pattern in the results?  We will explore this pattern more in the next chapter."
      ]
    },
    {
      "cell_type": "code",
      "execution_count": null,
      "metadata": {
        "id": "pkSoS0AB2LFY"
      },
      "outputs": [],
      "source": [
        "# Solution goes here"
      ]
    },
    {
      "cell_type": "code",
      "execution_count": null,
      "metadata": {
        "id": "n3jYSPYU2LFY"
      },
      "outputs": [],
      "source": [
        "# Solution goes here"
      ]
    },
    {
      "cell_type": "code",
      "execution_count": null,
      "metadata": {
        "id": "EiQ7seka2LFY"
      },
      "outputs": [],
      "source": [
        "# Solution goes here"
      ]
    },
    {
      "cell_type": "code",
      "execution_count": null,
      "metadata": {
        "id": "QVQ0f-T62LFZ"
      },
      "outputs": [],
      "source": [
        "# Solution goes here"
      ]
    },
    {
      "cell_type": "code",
      "execution_count": null,
      "metadata": {
        "id": "juk1GCpa2LFZ"
      },
      "outputs": [],
      "source": [
        "# Solution goes here"
      ]
    },
    {
      "cell_type": "markdown",
      "metadata": {
        "id": "k37yyOcL2LFZ"
      },
      "source": [
        "**Exercise:** Write a loop that counts how many words appear 200 times.  What are they?  How many words appear 100 times, 50 times, and 20 times?\n",
        "\n",
        "**Optional:** If you know how to define a function, write a function that takes a `Counter` and a frequency as arguments, prints all words with that frequency, and returns the number of words with that frequency."
      ]
    },
    {
      "cell_type": "code",
      "execution_count": null,
      "metadata": {
        "id": "jaUWvKWu2LFZ"
      },
      "outputs": [],
      "source": [
        "# Solution goes here"
      ]
    },
    {
      "cell_type": "code",
      "execution_count": null,
      "metadata": {
        "id": "8O7vyRsH2LFa"
      },
      "outputs": [],
      "source": [
        "# Solution goes here"
      ]
    },
    {
      "cell_type": "code",
      "execution_count": null,
      "metadata": {
        "id": "T8wj_hmX2LFa"
      },
      "outputs": [],
      "source": [
        "# Solution goes here"
      ]
    },
    {
      "cell_type": "code",
      "execution_count": null,
      "metadata": {
        "id": "bA5224Vw2LFa"
      },
      "outputs": [],
      "source": [
        "# Solution goes here"
      ]
    },
    {
      "cell_type": "code",
      "execution_count": null,
      "metadata": {
        "id": "MF0oI2qw2LFa"
      },
      "outputs": [],
      "source": [
        "# Solution goes here"
      ]
    },
    {
      "cell_type": "markdown",
      "metadata": {
        "id": "l6ZmKrKB2LFa"
      },
      "source": [
        "## Summary"
      ]
    },
    {
      "cell_type": "markdown",
      "metadata": {
        "tags": [],
        "id": "4WCRsHDv2LFb"
      },
      "source": [
        "*Elements of Data Science*\n",
        "\n",
        "Copyright 2021 [Allen B. Downey](https://allendowney.com)\n",
        "\n",
        "License: [Creative Commons Attribution-NonCommercial-ShareAlike 4.0 International](https://creativecommons.org/licenses/by-nc-sa/4.0/)"
      ]
    }
  ],
  "metadata": {
    "celltoolbar": "Tags",
    "kernelspec": {
      "display_name": "Python 3",
      "language": "python",
      "name": "python3"
    },
    "language_info": {
      "codemirror_mode": {
        "name": "ipython",
        "version": 3
      },
      "file_extension": ".py",
      "mimetype": "text/x-python",
      "name": "python",
      "nbconvert_exporter": "python",
      "pygments_lexer": "ipython3",
      "version": "3.7.7"
    },
    "colab": {
      "name": "05_dictionaries.ipynb",
      "provenance": []
    }
  },
  "nbformat": 4,
  "nbformat_minor": 0
}