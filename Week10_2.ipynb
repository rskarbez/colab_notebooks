{
  "nbformat": 4,
  "nbformat_minor": 0,
  "metadata": {
    "colab": {
      "provenance": [],
      "authorship_tag": "ABX9TyN7xOfOUt+7evUr0zViUAfW",
      "include_colab_link": true
    },
    "kernelspec": {
      "name": "python3",
      "display_name": "Python 3"
    },
    "language_info": {
      "name": "python"
    }
  },
  "cells": [
    {
      "cell_type": "markdown",
      "metadata": {
        "id": "view-in-github",
        "colab_type": "text"
      },
      "source": [
        "<a href=\"https://colab.research.google.com/github/rskarbez/colab_notebooks/blob/main/Week10_2.ipynb\" target=\"_parent\"><img src=\"https://colab.research.google.com/assets/colab-badge.svg\" alt=\"Open In Colab\"/></a>"
      ]
    },
    {
      "cell_type": "code",
      "source": [
        "import turtle"
      ],
      "metadata": {
        "id": "JSRQl5N6LDWW"
      },
      "execution_count": null,
      "outputs": []
    },
    {
      "cell_type": "code",
      "execution_count": 1,
      "metadata": {
        "colab": {
          "base_uri": "https://localhost:8080/",
          "height": 235
        },
        "id": "-5bKqyrkIATt",
        "outputId": "e0d7d3d8-ee5a-4456-9a91-0502274b0e3f"
      },
      "outputs": [
        {
          "output_type": "error",
          "ename": "NameError",
          "evalue": "ignored",
          "traceback": [
            "\u001b[0;31m---------------------------------------------------------------------------\u001b[0m",
            "\u001b[0;31mNameError\u001b[0m                                 Traceback (most recent call last)",
            "\u001b[0;32m<ipython-input-1-d2cacfce00b3>\u001b[0m in \u001b[0;36m<module>\u001b[0;34m\u001b[0m\n\u001b[1;32m      6\u001b[0m \u001b[0;34m\u001b[0m\u001b[0m\n\u001b[1;32m      7\u001b[0m     \u001b[0mangle_degree\u001b[0m \u001b[0;34m=\u001b[0m \u001b[0;36m360\u001b[0m \u001b[0;34m//\u001b[0m \u001b[0msides\u001b[0m\u001b[0;34m\u001b[0m\u001b[0;34m\u001b[0m\u001b[0m\n\u001b[0;32m----> 8\u001b[0;31m     \u001b[0mtimmy_the_turtle\u001b[0m\u001b[0;34m.\u001b[0m\u001b[0mcolor\u001b[0m\u001b[0;34m(\u001b[0m\u001b[0mrandom\u001b[0m\u001b[0;34m.\u001b[0m\u001b[0mchoice\u001b[0m\u001b[0;34m(\u001b[0m\u001b[0mcolours_list\u001b[0m\u001b[0;34m)\u001b[0m\u001b[0;34m)\u001b[0m\u001b[0;34m\u001b[0m\u001b[0;34m\u001b[0m\u001b[0m\n\u001b[0m\u001b[1;32m      9\u001b[0m     \u001b[0;32mfor\u001b[0m \u001b[0mi\u001b[0m \u001b[0;32min\u001b[0m \u001b[0mrange\u001b[0m\u001b[0;34m(\u001b[0m\u001b[0msides\u001b[0m\u001b[0;34m)\u001b[0m\u001b[0;34m:\u001b[0m\u001b[0;34m\u001b[0m\u001b[0;34m\u001b[0m\u001b[0m\n\u001b[1;32m     10\u001b[0m         \u001b[0mtimmy_the_turtle\u001b[0m\u001b[0;34m.\u001b[0m\u001b[0mforward\u001b[0m\u001b[0;34m(\u001b[0m\u001b[0;36m120\u001b[0m\u001b[0;34m)\u001b[0m\u001b[0;34m\u001b[0m\u001b[0;34m\u001b[0m\u001b[0m\n",
            "\u001b[0;31mNameError\u001b[0m: name 'timmy_the_turtle' is not defined"
          ]
        }
      ],
      "source": [
        "def draw_shape(t, sides):\n",
        "  angle_degree = 360 // sides\n",
        "  for i in range(sides):\n",
        "    t.forward(120)\n",
        "    t.right(angle_degree)\n",
        "\n",
        "sides = 3\n",
        "\n",
        "while sides < 10:\n",
        "    timmy_the_turtle.color(random.choice(colours_list))\n",
        "    draw_shape(timmy_the_turtle, sides)\n",
        "    #for i in range(sides):\n",
        "    #    timmy_the_turtle.forward(120)\n",
        "    #    timmy_the_turtle.right(angle_degree)\n",
        "    sides += 1"
      ]
    },
    {
      "cell_type": "code",
      "source": [
        "def is_year_leap(year):\n",
        "    if year > 1582:\n",
        "        if year % 4 == 0:\n",
        "            if year % 100 == 0 and year % 400 == 0:\n",
        "                return True\n",
        "            elif year % 100 != 0:\n",
        "                return True\n",
        "            elif year % 400 != 0:\n",
        "                return False\n",
        "        else:\n",
        "            return False\n",
        "    if year < 1582:\n",
        "      return None\n",
        "\n",
        "def days_in_month(year, month):\n",
        "    month_list = [1, 3, 5, 7, 8, 10, 12]\n",
        "    if month == 2:\n",
        "      if is_year_leap(year) == True:\n",
        "        return 29\n",
        "      else:\n",
        "        return 28\n",
        "    elif month in month_list:\n",
        "      return 31\n",
        "    else:\n",
        "      return 30\n",
        "\n",
        "def day_of_year(year, month, day):\n",
        "  days = 0\n",
        "  for m in range(month - 1):\n",
        "    days += days_in_month(year, m)\n",
        "  days += day\n",
        "  return days"
      ],
      "metadata": {
        "id": "JBgFWxt8LgPC"
      },
      "execution_count": 6,
      "outputs": []
    },
    {
      "cell_type": "code",
      "source": [
        "number_of_days_before_month_normal = [0]\n",
        "for m in range(11):\n",
        "  number_of_days_before_month_normal.append(number_of_days_before_month_normal[m] + days_in_month(2022, m))\n",
        "\n",
        "number_of_days_before_month_leap = [i for i in number_of_days_before_month_normal]\n",
        "for i in range(2, len(number_of_days_before_month_leap)):\n",
        "  number_of_days_before_month_leap[i] += 1\n",
        "\n",
        "print(number_of_days_before_month_normal)\n",
        "print(number_of_days_before_month_leap)\n",
        "\n",
        "def day_of_year_2(year, month, day):\n",
        "  ret_val = 0\n",
        "  if is_year_leap(year):\n",
        "    ret_val = number_of_days_before_month_leap[month-1]\n",
        "  else:\n",
        "    ret_val = number_of_days_before_month_normal[month-1]\n",
        "  return ret_val + day\n",
        "\n",
        "print(day_of_year(2000, 12, 31))\n",
        "print(day_of_year_2(2000, 12, 31))"
      ],
      "metadata": {
        "colab": {
          "base_uri": "https://localhost:8080/"
        },
        "id": "4oCq7-7sTWAL",
        "outputId": "cb96cf68-c44e-4156-dcbb-f8ca80effbf0"
      },
      "execution_count": 21,
      "outputs": [
        {
          "output_type": "stream",
          "name": "stdout",
          "text": [
            "[0, 30, 61, 89, 120, 150, 181, 211, 242, 273, 303, 334]\n",
            "[0, 30, 62, 90, 121, 151, 182, 212, 243, 274, 304, 335]\n",
            "366\n",
            "366\n"
          ]
        }
      ]
    },
    {
      "cell_type": "code",
      "source": [
        "print(day_of_year(2000, 12, 31))"
      ],
      "metadata": {
        "colab": {
          "base_uri": "https://localhost:8080/"
        },
        "id": "kKagw97TJcE0",
        "outputId": "17097ced-9d0e-4146-92b7-11680dcbd276"
      },
      "execution_count": 7,
      "outputs": [
        {
          "output_type": "stream",
          "name": "stdout",
          "text": [
            "366\n"
          ]
        }
      ]
    },
    {
      "cell_type": "code",
      "source": [
        "print(day_of_year(2000, 1, 12))"
      ],
      "metadata": {
        "colab": {
          "base_uri": "https://localhost:8080/"
        },
        "id": "Vqp26xatS8kR",
        "outputId": "d8fc1679-a235-43ef-97e9-3826fb6ba688"
      },
      "execution_count": 8,
      "outputs": [
        {
          "output_type": "stream",
          "name": "stdout",
          "text": [
            "12\n"
          ]
        }
      ]
    },
    {
      "cell_type": "code",
      "source": [
        "print(day_of_year(2022, 11, 30))"
      ],
      "metadata": {
        "colab": {
          "base_uri": "https://localhost:8080/"
        },
        "id": "QzuZOlOGTC9L",
        "outputId": "3328e91d-9320-4d86-faf4-d7867ad71d96"
      },
      "execution_count": 9,
      "outputs": [
        {
          "output_type": "stream",
          "name": "stdout",
          "text": [
            "333\n"
          ]
        }
      ]
    },
    {
      "cell_type": "code",
      "source": [
        "# Players\n",
        "# Cards\n",
        "# Decks (52-card)\n",
        "# Sets\n",
        "\n",
        "from enum import Enum\n",
        "from enum import auto"
      ],
      "metadata": {
        "id": "73tlrHXvfucr"
      },
      "execution_count": 25,
      "outputs": []
    },
    {
      "cell_type": "code",
      "source": [
        "# Enumeration of suits\n",
        "class Suit(Enum):\n",
        "  \"\"\"enumeration of the suits in a standard 52-card deck of playing cards\"\"\"\n",
        "  # TODO: Jokers, \"NONE\"\n",
        "  #NONE = 0\n",
        "  CLUBS = auto()\n",
        "  DIAMONDS = auto()\n",
        "  HEARTS = auto()\n",
        "  SPADES = auto()\n",
        "  #JOKERS = auto()"
      ],
      "metadata": {
        "id": "itk4bD8Tf2bt"
      },
      "execution_count": 45,
      "outputs": []
    },
    {
      "cell_type": "code",
      "source": [
        "class Rank(Enum):\n",
        "  \"\"\"enumeration of the ranks in a standard 52-card deck of playing cards\"\"\"\n",
        "  # TODO: Jokers, \"NONE\"\n",
        "  #NONE = 0\n",
        "  TWO = 2\n",
        "  THREE = 3\n",
        "  FOUR = 4\n",
        "  FIVE = 5\n",
        "  SIX = 6\n",
        "  SEVEN = 7\n",
        "  EIGHT = 8\n",
        "  NINE = 9\n",
        "  TEN = 10\n",
        "  JACK = 11\n",
        "  QUEEN = 12\n",
        "  KING = 13\n",
        "  ACE = 14\n",
        "  #JOKER = 100"
      ],
      "metadata": {
        "id": "F27cpcK6gCsv"
      },
      "execution_count": 46,
      "outputs": []
    },
    {
      "cell_type": "code",
      "source": [
        "print(type(Rank))\n",
        "print(type(Rank.JACK))\n",
        "print(type(Rank.JACK.value))"
      ],
      "metadata": {
        "colab": {
          "base_uri": "https://localhost:8080/"
        },
        "id": "jAzbFcT2gI1w",
        "outputId": "c8e943b2-b59c-4783-909d-ef94795e709f"
      },
      "execution_count": 28,
      "outputs": [
        {
          "output_type": "stream",
          "name": "stdout",
          "text": [
            "<class 'enum.EnumMeta'>\n",
            "<enum 'Rank'>\n",
            "<class 'int'>\n"
          ]
        }
      ]
    },
    {
      "cell_type": "code",
      "source": [
        "class Card:\n",
        "  \"\"\"Represents a single playing card.\n",
        "     Each card has a Suit and a Rank.\n",
        "     Cards are unique within a Deck.\n",
        "     A Deck is composed of Cards.\"\"\"\n",
        "  def __init__(self, suit, rank):\n",
        "    if self.validate(suit, rank):\n",
        "      self.suit = suit\n",
        "      self.rank = rank\n",
        "    else:\n",
        "      print('Attempt to create an invalid card: {} of {}'.format(rank, suit))\n",
        "      return None\n",
        "      #self.suit = Suit.NONE\n",
        "      #self.rank = Rank.NONE\n",
        "\n",
        "  def __str__(self):\n",
        "    return '{} of {}'.format(self.rank, self.suit)\n",
        "\n",
        "  def __eq__(self, other):\n",
        "    \"\"\"Gets called when Card == something\"\"\"\n",
        "    return self.rank == other.rank\n",
        "\n",
        "  def __lt__(self, other):\n",
        "    \"\"\"Gets called when Card < something\"\"\"\n",
        "    return self.rank.value < other.rank.value\n",
        "\n",
        "  def __gt__(self, other):\n",
        "    \"\"\"Gets called when Card > something\"\"\"\n",
        "    return self.rank.value > other.rank.value\n",
        "\n",
        "  def validate(self, suit, rank):\n",
        "    # Does not validate correctly if invalid member of enum\n",
        "    if not isinstance(suit, Suit):\n",
        "      return False\n",
        "      \n",
        "    if not isinstance(rank, Rank):\n",
        "      return False\n",
        "\n",
        "    return True\n",
        "\n",
        "  # Deal / Assign to Player\n",
        "  # Randomize within deck - Insert?"
      ],
      "metadata": {
        "id": "-GHWbej1bAIn"
      },
      "execution_count": 47,
      "outputs": []
    },
    {
      "cell_type": "code",
      "source": [
        "c1 = Card(Suit.SPADES, Rank.ACE)\n",
        "print(c1)\n",
        "c2 = Card(Suit.HEARTS, Rank.EIGHT)\n",
        "print(c2)\n",
        "c3 = Card('Diamonds', 4)\n",
        "print(c3)"
      ],
      "metadata": {
        "colab": {
          "base_uri": "https://localhost:8080/"
        },
        "id": "2Xvs2x99jOSg",
        "outputId": "2b7fbeaa-be50-40ba-b260-da75f81eb15e"
      },
      "execution_count": 35,
      "outputs": [
        {
          "output_type": "stream",
          "name": "stdout",
          "text": [
            "Rank.ACE of Suit.SPADES\n",
            "Rank.EIGHT of Suit.HEARTS\n",
            "Attempt to create an invalid card: Diamonds of 4\n",
            "Rank.NONE of Suit.NONE\n"
          ]
        }
      ]
    },
    {
      "cell_type": "code",
      "source": [
        "print(c1 < c2)\n",
        "print(c1 > c2)"
      ],
      "metadata": {
        "colab": {
          "base_uri": "https://localhost:8080/"
        },
        "id": "V-CK5ACElkqQ",
        "outputId": "11af07a9-124c-4ea5-f7a9-95101cc6f363"
      },
      "execution_count": 37,
      "outputs": [
        {
          "output_type": "stream",
          "name": "stdout",
          "text": [
            "False\n",
            "True\n"
          ]
        }
      ]
    },
    {
      "cell_type": "code",
      "source": [
        "print(c1 == Card(Suit.DIAMONDS, Rank.ACE))"
      ],
      "metadata": {
        "colab": {
          "base_uri": "https://localhost:8080/"
        },
        "id": "XNEn9Wb0lvMl",
        "outputId": "52e2d3bb-c607-4640-d331-7e6d4128d9cf"
      },
      "execution_count": 38,
      "outputs": [
        {
          "output_type": "stream",
          "name": "stdout",
          "text": [
            "True\n"
          ]
        }
      ]
    },
    {
      "cell_type": "code",
      "source": [
        "print(Suit(0))"
      ],
      "metadata": {
        "colab": {
          "base_uri": "https://localhost:8080/"
        },
        "id": "08eP4cyjmTQi",
        "outputId": "d356e5ad-b374-4291-99c6-68b04a393596"
      },
      "execution_count": 39,
      "outputs": [
        {
          "output_type": "stream",
          "name": "stdout",
          "text": [
            "Suit.NONE\n"
          ]
        }
      ]
    },
    {
      "cell_type": "code",
      "source": [
        "class Deck:\n",
        "  \"\"\"Represents a deck of 52 Cards.\n",
        "     Each card has a Suit and a Rank.\n",
        "     Cards are unique within a Deck.\n",
        "     A Deck is composed of Cards.\"\"\"\n",
        "  def __init__(self):\n",
        "    self.cards = [Card(suit, rank) for suit in Suit for rank in Rank]\n",
        "\n",
        "  def __str__(self):\n",
        "    return 'Deck of {} cards, {} cards left in the deck'.format(len(self.cards), len(self.cards))\n",
        "\n",
        "  def shuffle(self):\n",
        "    \"\"\"Randomize the order of Cards in the Deck\"\"\"\n",
        "    from random import shuffle\n",
        "    shuffle(self.cards)\n",
        "\n",
        "  def draw_one(self):\n",
        "    if len(self.cards) > 0:\n",
        "      return self.cards.pop()\n",
        "    else:\n",
        "      print('EMPTY DECK')\n",
        "      return None\n",
        "\n",
        "  # How many cards are left in the deck?\n",
        "  # size attribute?\n",
        "\n"
      ],
      "metadata": {
        "id": "y8zzHd4imC2-"
      },
      "execution_count": 50,
      "outputs": []
    },
    {
      "cell_type": "code",
      "source": [
        "class Player:\n",
        "  \"\"\"One Player of a Card game\"\"\"\n",
        "  def __init__(self):\n",
        "    self.pile = []\n",
        "\n",
        "  def flip(self):\n",
        "    if len(self.pile) == 0:\n",
        "      print('I LOSE')\n",
        "    else:\n",
        "      return self.pile.pop()\n",
        "    #try:\n",
        "    #  return self.pile.pop()\n",
        "    #except IndexError:\n",
        "    #  # Figure out what this means in terms of game state\n",
        "    #  print('I LOSE')\n",
        "    \n",
        "  \n",
        "  # How do cards go from deck to player\n",
        "  # How to indicate to system that the Player has lost"
      ],
      "metadata": {
        "id": "7uuGP39Xp8lY"
      },
      "execution_count": null,
      "outputs": []
    },
    {
      "cell_type": "code",
      "source": [
        "class SnapGame:\n",
        "  \"\"\"A two player game of Snap.\"\"\"\n",
        "  def __init__(self):\n",
        "    self.deck = Deck()\n",
        "    self.player1 = Player()\n",
        "    self.player2 = Player()\n",
        "\n",
        "  def __str__(self):\n",
        "    print('Player 1 has {} cards, Player 2 has {} cards.'.format(len(self.player1.pile), len(self.player2.pile)))\n",
        "\n",
        "  def shuffle_up_and_deal(self):\n",
        "    self.deck = Deck()\n",
        "    self.deck.shuffle()\n",
        "    i = 0\n",
        "    while (i <= 52):\n",
        "      self.player1.pile.append(self.deck.draw_one())\n",
        "      self.player2.pile.append(self.deck.draw_one())\n",
        "      i += 2\n",
        "\n"
      ],
      "metadata": {
        "id": "Jr4_0SIvsuqT"
      },
      "execution_count": 56,
      "outputs": []
    },
    {
      "cell_type": "code",
      "source": [
        "deck = Deck()\n",
        "for c in deck.cards:\n",
        "  print(c)\n",
        "print(deck)\n",
        "\n",
        "deck.shuffle()\n",
        "for c in deck.cards:\n",
        "  print(c)\n",
        "print(deck)"
      ],
      "metadata": {
        "colab": {
          "base_uri": "https://localhost:8080/"
        },
        "id": "AYghTjAKnJgk",
        "outputId": "305819b2-6f0f-421e-c52c-b60dc22765ca"
      },
      "execution_count": 51,
      "outputs": [
        {
          "output_type": "stream",
          "name": "stdout",
          "text": [
            "Rank.TWO of Suit.CLUBS\n",
            "Rank.THREE of Suit.CLUBS\n",
            "Rank.FOUR of Suit.CLUBS\n",
            "Rank.FIVE of Suit.CLUBS\n",
            "Rank.SIX of Suit.CLUBS\n",
            "Rank.SEVEN of Suit.CLUBS\n",
            "Rank.EIGHT of Suit.CLUBS\n",
            "Rank.NINE of Suit.CLUBS\n",
            "Rank.TEN of Suit.CLUBS\n",
            "Rank.JACK of Suit.CLUBS\n",
            "Rank.QUEEN of Suit.CLUBS\n",
            "Rank.KING of Suit.CLUBS\n",
            "Rank.ACE of Suit.CLUBS\n",
            "Rank.TWO of Suit.DIAMONDS\n",
            "Rank.THREE of Suit.DIAMONDS\n",
            "Rank.FOUR of Suit.DIAMONDS\n",
            "Rank.FIVE of Suit.DIAMONDS\n",
            "Rank.SIX of Suit.DIAMONDS\n",
            "Rank.SEVEN of Suit.DIAMONDS\n",
            "Rank.EIGHT of Suit.DIAMONDS\n",
            "Rank.NINE of Suit.DIAMONDS\n",
            "Rank.TEN of Suit.DIAMONDS\n",
            "Rank.JACK of Suit.DIAMONDS\n",
            "Rank.QUEEN of Suit.DIAMONDS\n",
            "Rank.KING of Suit.DIAMONDS\n",
            "Rank.ACE of Suit.DIAMONDS\n",
            "Rank.TWO of Suit.HEARTS\n",
            "Rank.THREE of Suit.HEARTS\n",
            "Rank.FOUR of Suit.HEARTS\n",
            "Rank.FIVE of Suit.HEARTS\n",
            "Rank.SIX of Suit.HEARTS\n",
            "Rank.SEVEN of Suit.HEARTS\n",
            "Rank.EIGHT of Suit.HEARTS\n",
            "Rank.NINE of Suit.HEARTS\n",
            "Rank.TEN of Suit.HEARTS\n",
            "Rank.JACK of Suit.HEARTS\n",
            "Rank.QUEEN of Suit.HEARTS\n",
            "Rank.KING of Suit.HEARTS\n",
            "Rank.ACE of Suit.HEARTS\n",
            "Rank.TWO of Suit.SPADES\n",
            "Rank.THREE of Suit.SPADES\n",
            "Rank.FOUR of Suit.SPADES\n",
            "Rank.FIVE of Suit.SPADES\n",
            "Rank.SIX of Suit.SPADES\n",
            "Rank.SEVEN of Suit.SPADES\n",
            "Rank.EIGHT of Suit.SPADES\n",
            "Rank.NINE of Suit.SPADES\n",
            "Rank.TEN of Suit.SPADES\n",
            "Rank.JACK of Suit.SPADES\n",
            "Rank.QUEEN of Suit.SPADES\n",
            "Rank.KING of Suit.SPADES\n",
            "Rank.ACE of Suit.SPADES\n",
            "Deck of 52 cards, 52 cards left in the deck\n",
            "Rank.EIGHT of Suit.SPADES\n",
            "Rank.FIVE of Suit.SPADES\n",
            "Rank.THREE of Suit.SPADES\n",
            "Rank.KING of Suit.CLUBS\n",
            "Rank.SIX of Suit.CLUBS\n",
            "Rank.TWO of Suit.CLUBS\n",
            "Rank.SIX of Suit.DIAMONDS\n",
            "Rank.EIGHT of Suit.DIAMONDS\n",
            "Rank.NINE of Suit.SPADES\n",
            "Rank.THREE of Suit.DIAMONDS\n",
            "Rank.JACK of Suit.CLUBS\n",
            "Rank.KING of Suit.DIAMONDS\n",
            "Rank.TEN of Suit.DIAMONDS\n",
            "Rank.THREE of Suit.CLUBS\n",
            "Rank.ACE of Suit.DIAMONDS\n",
            "Rank.QUEEN of Suit.HEARTS\n",
            "Rank.QUEEN of Suit.SPADES\n",
            "Rank.SEVEN of Suit.HEARTS\n",
            "Rank.TEN of Suit.SPADES\n",
            "Rank.FOUR of Suit.HEARTS\n",
            "Rank.KING of Suit.SPADES\n",
            "Rank.ACE of Suit.SPADES\n",
            "Rank.EIGHT of Suit.CLUBS\n",
            "Rank.FOUR of Suit.SPADES\n",
            "Rank.ACE of Suit.CLUBS\n",
            "Rank.FIVE of Suit.HEARTS\n",
            "Rank.SIX of Suit.HEARTS\n",
            "Rank.SIX of Suit.SPADES\n",
            "Rank.EIGHT of Suit.HEARTS\n",
            "Rank.THREE of Suit.HEARTS\n",
            "Rank.SEVEN of Suit.SPADES\n",
            "Rank.QUEEN of Suit.DIAMONDS\n",
            "Rank.NINE of Suit.HEARTS\n",
            "Rank.TEN of Suit.HEARTS\n",
            "Rank.QUEEN of Suit.CLUBS\n",
            "Rank.JACK of Suit.DIAMONDS\n",
            "Rank.KING of Suit.HEARTS\n",
            "Rank.SEVEN of Suit.DIAMONDS\n",
            "Rank.FIVE of Suit.DIAMONDS\n",
            "Rank.TWO of Suit.HEARTS\n",
            "Rank.FOUR of Suit.DIAMONDS\n",
            "Rank.TWO of Suit.SPADES\n",
            "Rank.NINE of Suit.CLUBS\n",
            "Rank.ACE of Suit.HEARTS\n",
            "Rank.TEN of Suit.CLUBS\n",
            "Rank.NINE of Suit.DIAMONDS\n",
            "Rank.JACK of Suit.SPADES\n",
            "Rank.FIVE of Suit.CLUBS\n",
            "Rank.JACK of Suit.HEARTS\n",
            "Rank.SEVEN of Suit.CLUBS\n",
            "Rank.FOUR of Suit.CLUBS\n",
            "Rank.TWO of Suit.DIAMONDS\n",
            "Deck of 52 cards, 52 cards left in the deck\n"
          ]
        }
      ]
    },
    {
      "cell_type": "code",
      "source": [
        "empty_list = []\n",
        "empty_list.pop()"
      ],
      "metadata": {
        "colab": {
          "base_uri": "https://localhost:8080/",
          "height": 183
        },
        "id": "xsoMMXPYrOCB",
        "outputId": "9ac0dbd1-1bdc-4098-a425-33757f4cbe8b"
      },
      "execution_count": 52,
      "outputs": [
        {
          "output_type": "error",
          "ename": "IndexError",
          "evalue": "ignored",
          "traceback": [
            "\u001b[0;31m---------------------------------------------------------------------------\u001b[0m",
            "\u001b[0;31mIndexError\u001b[0m                                Traceback (most recent call last)",
            "\u001b[0;32m<ipython-input-52-8864d8085e81>\u001b[0m in \u001b[0;36m<module>\u001b[0;34m\u001b[0m\n\u001b[1;32m      1\u001b[0m \u001b[0mempty_list\u001b[0m \u001b[0;34m=\u001b[0m \u001b[0;34m[\u001b[0m\u001b[0;34m]\u001b[0m\u001b[0;34m\u001b[0m\u001b[0;34m\u001b[0m\u001b[0m\n\u001b[0;32m----> 2\u001b[0;31m \u001b[0mempty_list\u001b[0m\u001b[0;34m.\u001b[0m\u001b[0mpop\u001b[0m\u001b[0;34m(\u001b[0m\u001b[0;34m)\u001b[0m\u001b[0;34m\u001b[0m\u001b[0;34m\u001b[0m\u001b[0m\n\u001b[0m",
            "\u001b[0;31mIndexError\u001b[0m: pop from empty list"
          ]
        }
      ]
    },
    {
      "cell_type": "code",
      "source": [
        "dir(int)"
      ],
      "metadata": {
        "colab": {
          "base_uri": "https://localhost:8080/"
        },
        "id": "A77nJFEzdDIP",
        "outputId": "cff77eb9-8a1b-4178-97c6-97faa0139592"
      },
      "execution_count": 29,
      "outputs": [
        {
          "output_type": "execute_result",
          "data": {
            "text/plain": [
              "['__abs__',\n",
              " '__add__',\n",
              " '__and__',\n",
              " '__bool__',\n",
              " '__ceil__',\n",
              " '__class__',\n",
              " '__delattr__',\n",
              " '__dir__',\n",
              " '__divmod__',\n",
              " '__doc__',\n",
              " '__eq__',\n",
              " '__float__',\n",
              " '__floor__',\n",
              " '__floordiv__',\n",
              " '__format__',\n",
              " '__ge__',\n",
              " '__getattribute__',\n",
              " '__getnewargs__',\n",
              " '__gt__',\n",
              " '__hash__',\n",
              " '__index__',\n",
              " '__init__',\n",
              " '__init_subclass__',\n",
              " '__int__',\n",
              " '__invert__',\n",
              " '__le__',\n",
              " '__lshift__',\n",
              " '__lt__',\n",
              " '__mod__',\n",
              " '__mul__',\n",
              " '__ne__',\n",
              " '__neg__',\n",
              " '__new__',\n",
              " '__or__',\n",
              " '__pos__',\n",
              " '__pow__',\n",
              " '__radd__',\n",
              " '__rand__',\n",
              " '__rdivmod__',\n",
              " '__reduce__',\n",
              " '__reduce_ex__',\n",
              " '__repr__',\n",
              " '__rfloordiv__',\n",
              " '__rlshift__',\n",
              " '__rmod__',\n",
              " '__rmul__',\n",
              " '__ror__',\n",
              " '__round__',\n",
              " '__rpow__',\n",
              " '__rrshift__',\n",
              " '__rshift__',\n",
              " '__rsub__',\n",
              " '__rtruediv__',\n",
              " '__rxor__',\n",
              " '__setattr__',\n",
              " '__sizeof__',\n",
              " '__str__',\n",
              " '__sub__',\n",
              " '__subclasshook__',\n",
              " '__truediv__',\n",
              " '__trunc__',\n",
              " '__xor__',\n",
              " 'bit_length',\n",
              " 'conjugate',\n",
              " 'denominator',\n",
              " 'from_bytes',\n",
              " 'imag',\n",
              " 'numerator',\n",
              " 'real',\n",
              " 'to_bytes']"
            ]
          },
          "metadata": {},
          "execution_count": 29
        }
      ]
    },
    {
      "cell_type": "code",
      "source": [
        "help(Enum)"
      ],
      "metadata": {
        "colab": {
          "base_uri": "https://localhost:8080/"
        },
        "id": "iev-VS5eifzZ",
        "outputId": "a5fafd76-bf7c-40a2-f3ec-9cc584287553"
      },
      "execution_count": 36,
      "outputs": [
        {
          "output_type": "stream",
          "name": "stdout",
          "text": [
            "Help on class Enum in module enum:\n",
            "\n",
            "class Enum(builtins.object)\n",
            " |  Enum(value, names=None, *, module=None, qualname=None, type=None, start=1)\n",
            " |  \n",
            " |  Generic enumeration.\n",
            " |  \n",
            " |  Derive from this class to define new enumerations.\n",
            " |  \n",
            " |  Data descriptors defined here:\n",
            " |  \n",
            " |  name\n",
            " |      The name of the Enum member.\n",
            " |  \n",
            " |  value\n",
            " |      The value of the Enum member.\n",
            " |  \n",
            " |  ----------------------------------------------------------------------\n",
            " |  Data descriptors inherited from EnumMeta:\n",
            " |  \n",
            " |  __members__\n",
            " |      Returns a mapping of member name->value.\n",
            " |      \n",
            " |      This mapping lists all enum members, including aliases. Note that this\n",
            " |      is a read-only view of the internal mapping.\n",
            "\n"
          ]
        }
      ]
    }
  ]
}